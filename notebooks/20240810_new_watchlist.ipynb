{
 "cells": [
  {
   "cell_type": "code",
   "execution_count": null,
   "metadata": {},
   "outputs": [],
   "source": [
    "import datetime\n",
    "from pathlib import Path\n",
    "\n",
    "import yfinance as yf\n",
    "import polars as pl\n",
    "from tqdm import tqdm\n",
    "from plotly.subplots import make_subplots\n",
    "import plotly.graph_objects as go\n",
    "\n",
    "import stock\n",
    "from stock.kabutan import read_data_csv, read_financial_csv, get_code_list"
   ]
  },
  {
   "cell_type": "code",
   "execution_count": null,
   "metadata": {},
   "outputs": [],
   "source": [
    "# watchlistの新しい定義を考える\n",
    "# 週足で判定してみる？\n",
    "\n",
    "def calc_for_watch_list(\n",
    "    code: str,\n",
    "    start_date: datetime.date | None = None,\n",
    "    end_date: datetime.date = datetime.date.today(),\n",
    "):\n",
    "    df = read_data_csv(code, start_date=start_date, end_date=end_date, weekly=True)\n",
    "    # 過去10週の値動きの大きさを計算\n",
    "    window_size = 10\n",
    "    avg_key = \"avg{}\".format(window_size)\n",
    "    stddev_key = \"stddev{}\".format(window_size)\n",
    "    df = df.with_columns(\n",
    "        pl.col(\"close\").rolling_mean(window_size=window_size).alias(avg_key),\n",
    "        pl.col(\"close\").rolling_std(window_size=window_size).alias(stddev_key),\n",
    "    )\n",
    "\n",
    "    # ギャップアップしている\n",
    "    df = df.with_columns(\n",
    "        (pl.col(\"close\") > pl.col(avg_key) + pl.col(stddev_key)).alias(\"breakpoint\")\n",
    "    )\n",
    "\n",
    "    # 直近の安値が安すぎない & 値幅が狭すぎない\n",
    "    window_size = 10\n",
    "    df = df.with_columns(\n",
    "        (pl.col(\"close\").rolling_min(window_size=window_size)).alias(\"min_close\")\n",
    "    ).with_columns(\n",
    "        (\n",
    "            (pl.col(\"min_close\") > pl.col(\"close\") * 0.7)\n",
    "            & (pl.col(\"min_close\") < pl.col(\"close\") * 0.95)\n",
    "        ).alias(\"price_range\")\n",
    "    )\n",
    "\n",
    "    # 高値が多すぎない\n",
    "    df = df.with_columns(\n",
    "        pl.col(\"close\")\n",
    "        .rolling_map(\n",
    "            function=lambda d: sum(d > d[-1]),\n",
    "            window_size=30,\n",
    "        )\n",
    "        .alias(\"high_count\")\n",
    "    )\n",
    "\n",
    "    # 出来高が増加（急増）\n",
    "    window_size = 10\n",
    "    df = df.with_columns(\n",
    "        pl.col(\"volume\").rolling_max(window_size=window_size).shift().alias(\"max_volume\")\n",
    "    )\n",
    "    df = df.with_columns(\n",
    "        (\n",
    "            (pl.col(\"volume\") > pl.col(\"max_volume\") * 2)\n",
    "            & (pl.col(\"volume\") * pl.col(\"close\") > 20000 * 100)\n",
    "            & (pl.col(\"volume\").rolling_max(window_size=30).shift() * 0.9 < pl.col(\"volume\"))\n",
    "        ).alias(\"volume_increase\")\n",
    "    )\n",
    "\n",
    "    # watch listの条件判定\n",
    "    df = df.with_columns(\n",
    "        (\n",
    "            pl.col(\"breakpoint\")\n",
    "            & pl.col(\"price_range\")\n",
    "            & pl.col(\"volume_increase\")\n",
    "            & (pl.col(\"high_count\") < 7)\n",
    "            & ((pl.col(\"close\") >= pl.col(\"open\")) | (pl.col(\"volume\") > pl.col(\"max_volume\") * 20))\n",
    "        ).alias(\"watch_list\")\n",
    "    )\n",
    "\n",
    "    # 直前にwatch list候補になっている場合はwatch listから除く\n",
    "    df = df.with_columns(\n",
    "        (\n",
    "            (pl.col(\"watch_list\").cast(int).rolling_max(window_size=5).shift() == 0)\n",
    "            & pl.col(\"watch_list\")\n",
    "        ).alias(\"watch_list\")\n",
    "    )\n",
    "    # 決算発表前後の日はwatch_listから除く\n",
    "    return df\n"
   ]
  },
  {
   "cell_type": "code",
   "execution_count": null,
   "metadata": {},
   "outputs": [],
   "source": [
    "code_list = get_code_list()\n",
    "\n",
    "stacked_df = []\n",
    "for code in tqdm(code_list):\n",
    "    df = calc_for_watch_list(code)\n",
    "    stacked_df.append(df.filter(pl.col(\"watch_list\")).with_columns(pl.lit(code).alias(\"code\")))\n",
    "\n",
    "stacked_df = pl.concat(stacked_df)"
   ]
  },
  {
   "cell_type": "code",
   "execution_count": null,
   "metadata": {},
   "outputs": [],
   "source": [
    "len(stacked_df)"
   ]
  },
  {
   "cell_type": "code",
   "execution_count": null,
   "metadata": {},
   "outputs": [],
   "source": [
    "codes = sorted(stacked_df[\"code\"].unique().to_list())\n",
    "stacked_df"
   ]
  },
  {
   "cell_type": "code",
   "execution_count": null,
   "metadata": {},
   "outputs": [],
   "source": [
    "idx = 50\n",
    "print(\"code = {}, date = {}\".format(stacked_df[\"code\"][idx], stacked_df[\"date\"][idx]))\n",
    "stock.visualize.plot_chart_from_code(\n",
    "    stacked_df[\"code\"][idx], \n",
    "    start_date=stacked_df[\"date\"][idx] - datetime.timedelta(days=365), \n",
    "    end_date=stacked_df[\"date\"][idx] + datetime.timedelta(days=365), \n",
    "    weekly=True,\n",
    "    before_days=365\n",
    ").show()"
   ]
  },
  {
   "cell_type": "code",
   "execution_count": null,
   "metadata": {},
   "outputs": [],
   "source": [
    "idx = 7\n",
    "code = codes[idx]\n",
    "fdf = stock.kabutan.read_financial_csv(code)\n",
    "qfdf = fdf.filter(pl.col(\"duration\") == 3).sort(pl.col(\"annoounce_date\")).with_columns(\n",
    "    (pl.col(\"eps\") / pl.col(\"eps\").shift(4) - 1.0).alias(\"growing_rate\")\n",
    ").filter(pl.col(\"growing_rate\").is_not_null())"
   ]
  },
  {
   "cell_type": "code",
   "execution_count": null,
   "metadata": {},
   "outputs": [],
   "source": [
    "fig = make_subplots(\n",
    "    rows=2, cols=1, shared_xaxes=True, vertical_spacing=0.0, row_heights=[0.7, 0.3], \n",
    "    specs=[[{\"secondary_y\": True}], [{\"secondary_y\": False}]]\n",
    ")\n",
    "fig.add_trace(\n",
    "    go.Scatter(x=qfdf[\"annoounce_date\"], y=qfdf[\"growing_rate\"], mode=\"lines\"), \n",
    "    row=1, col=1, secondary_y=True\n",
    ")\n",
    "df = stock.kabutan.read_data_csv(\n",
    "    code, \n",
    "    start_date=qfdf[\"annoounce_date\"][0] - datetime.timedelta(days=365),\n",
    "    end_date=qfdf[\"annoounce_date\"][-1] + datetime.timedelta(days=365),\n",
    "    weekly=True,\n",
    ")\n",
    "fig = stock.visualize.plot_chart(df, fig=fig)\n",
    "fig.show()"
   ]
  },
  {
   "cell_type": "code",
   "execution_count": null,
   "metadata": {},
   "outputs": [],
   "source": []
  },
  {
   "cell_type": "code",
   "execution_count": null,
   "metadata": {},
   "outputs": [],
   "source": [
    "ticker = yf.Ticker(\"AAPL\")\n",
    "res = ticker.history(interval=\"1d\", period=\"max\").reset_index()"
   ]
  },
  {
   "cell_type": "code",
   "execution_count": null,
   "metadata": {},
   "outputs": [],
   "source": [
    "len(res)"
   ]
  },
  {
   "cell_type": "code",
   "execution_count": null,
   "metadata": {},
   "outputs": [],
   "source": [
    "df = pl.DataFrame(\n",
    "    {\n",
    "        \"date\": res[\"Date\"].to_list(),\n",
    "        \"open\": res[\"Open\"],\n",
    "        \"high\": res[\"High\"],\n",
    "        \"low\": res[\"Low\"],\n",
    "        \"close\": res[\"Close\"],\n",
    "        \"volume\": res[\"Volume\"],\n",
    "        \"dividends\": res[\"Dividends\"],\n",
    "        \"stock_splits\": res[\"Stock Splits\"],\n",
    "    }\n",
    ").with_columns(\n",
    "    pl.col(\"date\").cast(pl.Date)\n",
    ")"
   ]
  },
  {
   "cell_type": "code",
   "execution_count": null,
   "metadata": {},
   "outputs": [],
   "source": []
  }
 ],
 "metadata": {
  "kernelspec": {
   "display_name": ".venv",
   "language": "python",
   "name": "python3"
  },
  "language_info": {
   "codemirror_mode": {
    "name": "ipython",
    "version": 3
   },
   "file_extension": ".py",
   "mimetype": "text/x-python",
   "name": "python",
   "nbconvert_exporter": "python",
   "pygments_lexer": "ipython3",
   "version": "3.12.3"
  }
 },
 "nbformat": 4,
 "nbformat_minor": 2
}
