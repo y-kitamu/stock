{
 "cells": [
  {
   "cell_type": "code",
   "execution_count": null,
   "metadata": {},
   "outputs": [],
   "source": [
    "import datetime\n",
    "\n",
    "import polars as pl\n",
    "import plotly.graph_objects as go\n",
    "from plotly.subplots import make_subplots\n",
    "from tqdm import tqdm\n",
    "import matplotlib.pyplot as plt\n",
    "import numpy as np\n",
    "\n",
    "import stock\n",
    "from stock.kabutan import read_data_csv, read_financial_csv\n",
    "from stock.algorithm.market import is_limit_high"
   ]
  },
  {
   "cell_type": "code",
   "execution_count": null,
   "metadata": {},
   "outputs": [],
   "source": [
    "def calc_for_watch_list(code, start_date=None, end_date=datetime.date.today()):\n",
    "    df = read_data_csv(code, start_date=start_date, end_date=end_date)\n",
    "    # 過去10日の値動きの大きさを計算\n",
    "    window_size = 10\n",
    "    avg_key = \"avg{}\".format(window_size)\n",
    "    stddev_key = \"stddev{}\".format(window_size)\n",
    "    df = df.with_columns(\n",
    "        pl.col(\"close\").rolling_mean(window_size=window_size).alias(avg_key),\n",
    "        pl.col(\"close\").rolling_std(window_size=window_size).alias(stddev_key),\n",
    "    )\n",
    "\n",
    "    # ギャップアップしている\n",
    "    df = df.with_columns(\n",
    "        (pl.col(\"close\") > pl.col(avg_key) + pl.col(stddev_key)).alias(\"breakpoint\")\n",
    "    )\n",
    "\n",
    "    # 直近の安値が安すぎない & 値幅が狭すぎない\n",
    "    window_size = 10\n",
    "    df = df.with_columns(\n",
    "        (pl.col(\"close\").rolling_min(window_size=window_size)).alias(\"min_close\")\n",
    "    ).with_columns(\n",
    "        ((pl.col(\"min_close\") > pl.col(\"close\") * 0.7) & (pl.col(\"min_close\") < pl.col(\"close\") * 0.95)).alias(\"price_range\")\n",
    "    )\n",
    "\n",
    "    # 出来高が増加（急増）\n",
    "    df = df.with_columns(\n",
    "        pl.col(\"volume\").rolling_max(window_size=window_size).shift().alias(\"max_volume\")\n",
    "    )\n",
    "    df = df.with_columns((\n",
    "        (pl.col(\"volume\") > pl.col(\"max_volume\") * 2) & \n",
    "        (pl.col(\"volume\").rolling_max(window_size=30).shift() * 0.9 < pl.col(\"volume\"))\n",
    "    ).alias(\"volume_increase\"))\n",
    "\n",
    "    # watch listの条件判定\n",
    "    df = df.with_columns(\n",
    "        (\n",
    "            (pl.col(\"breakpoint\") & pl.col(\"price_range\") & pl.col(\"volume_increase\"))\n",
    "            & ((pl.col(\"close\") >= pl.col(\"open\")) | (pl.col(\"volume\") > pl.col(\"max_volume\") * 20))\n",
    "        ).alias(\"watch_list\")\n",
    "    )\n",
    "\n",
    "    # 決算発表前後の日はwatch_listから除く\n",
    "    fdf = (\n",
    "        read_financial_csv(code)\n",
    "        .filter(pl.col(\"annoounce_date\") <= end_date)\n",
    "        .sort(pl.col(\"annoounce_date\"))\n",
    "    )\n",
    "    for announce_date in fdf[\"annoounce_date\"]:\n",
    "        df = df.with_columns(\n",
    "            (\n",
    "                pl.col(\"watch_list\")\n",
    "                & (\n",
    "                    ~pl.col(\"date\").is_between(\n",
    "                        announce_date - datetime.timedelta(7), announce_date + datetime.timedelta(7)\n",
    "                    )\n",
    "                )\n",
    "            ).alias(\"watch_list\")\n",
    "        )\n",
    "    return df\n"
   ]
  },
  {
   "cell_type": "code",
   "execution_count": null,
   "metadata": {},
   "outputs": [],
   "source": [
    "stacked = []\n",
    "codes = stock.kabutan.get_code_list()\n",
    "for code in tqdm(codes):\n",
    "    capt = stock.kabutan.data.calc_estimated_capitalization(code)\n",
    "    if capt > 100000000000: # 時価総額1000億円以上の場合はスキップ\n",
    "        continue\n",
    "    \n",
    "    df = calc_for_watch_list(code)\n",
    "    stacked.append(df.filter(pl.col(\"watch_list\")).with_columns(pl.lit(code).alias(\"code\")).select(pl.col(\"code\"), pl.col(\"date\")))\n",
    "stacked_df = pl.concat(stacked)"
   ]
  },
  {
   "cell_type": "code",
   "execution_count": null,
   "metadata": {},
   "outputs": [],
   "source": [
    "len(stacked_df)"
   ]
  },
  {
   "cell_type": "code",
   "execution_count": null,
   "metadata": {},
   "outputs": [],
   "source": [
    "def plot_chart(df :pl.DataFrame, normalize=False, before_days=-1):\n",
    "    df = df.sort(\"date\")\n",
    "    fig = make_subplots(\n",
    "        rows=2, cols=1, shared_xaxes=True, vertical_spacing=0.0, row_heights=[0.7, 0.3]\n",
    "    )\n",
    "    if before_days == len(df):\n",
    "        base = df[\"close\"][before_days - 1] if normalize else 1\n",
    "    else:\n",
    "        base = df[\"open\"][before_days] if normalize else 1\n",
    "\n",
    "    fig.add_trace(\n",
    "        go.Candlestick(\n",
    "            x=df[\"date\"],\n",
    "            open=df[\"open\"] / base,\n",
    "            high=df[\"high\"] / base,\n",
    "            low=df[\"low\"] / base,\n",
    "            close=df[\"close\"] / base,\n",
    "            name=\"candle\",\n",
    "        ),\n",
    "        row=1,\n",
    "        col=1,\n",
    "    )\n",
    "    \n",
    "    if before_days > 0 and len(df) > before_days: # 売り買いポイント\n",
    "        fig.add_trace(\n",
    "            go.Scatter(\n",
    "                x=df[before_days][\"date\"],\n",
    "                y=df[before_days][\"open\"] / base,\n",
    "                mode=\"markers\",\n",
    "                name=\"buy\",\n",
    "                marker=dict(size=10, color=\"blue\"),\n",
    "            ),\n",
    "            row=1,\n",
    "            col=1,\n",
    "        )\n",
    "    # 売買高\n",
    "    fig.add_trace(go.Bar(x=df[\"date\"], y=df[\"volume\"], name=\"volume\"), row=2, col=1)\n",
    "    # グラフの設定\n",
    "    fig.update_layout(\n",
    "        xaxis_rangeslider_visible=False,\n",
    "        #xaxis2_rangeslider_visible=False,\n",
    "        margin=go.layout.Margin(l=5, r=5, t=5, b=5, autoexpand=True),\n",
    "    )\n",
    "    fig.update_layout(hovermode=\"x unified\")\n",
    "    #fig.update_traces(xaxis=\"x2\")\n",
    "    fig.update_xaxes(rangebreaks=[dict(bounds=[\"sat\", \"mon\"])])  # 土日を除外\n",
    "    if  normalize:\n",
    "        fig.update_layout(\n",
    "            yaxis_range=[0.7, 1.5]\n",
    "        )\n",
    "    return fig"
   ]
  },
  {
   "cell_type": "code",
   "execution_count": null,
   "metadata": {},
   "outputs": [],
   "source": [
    "def plot(code, date, prev_days=30, after_days=20, normalize=False):\n",
    "    df = stock.kabutan.read_data_csv(code)\n",
    "    prev_df = df.filter(pl.col(\"date\") <= date)\n",
    "    after_df = df.filter(pl.col(\"date\") > date)\n",
    "    target_df = pl.concat([prev_df[-prev_days:], after_df[:after_days]])\n",
    "    days = prev_days + after_days\n",
    "    if len(df) < days: \n",
    "        return\n",
    "    return plot_chart(target_df, before_days=prev_days, normalize=normalize)"
   ]
  },
  {
   "cell_type": "code",
   "execution_count": null,
   "metadata": {},
   "outputs": [],
   "source": [
    "df = stock.kabutan.read_data_csv(\"6254\", start_date=datetime.date(2024, 1, 1), end_date=datetime.date(2024, 1, 31))\n",
    "plot_chart(df).show()"
   ]
  },
  {
   "cell_type": "code",
   "execution_count": null,
   "metadata": {},
   "outputs": [],
   "source": [
    "idx = 49\n",
    "plot(stacked_df[\"code\"][idx], stacked_df[\"date\"][idx], normalize=True, after_days=0).show()\n",
    "plot(stacked_df[\"code\"][idx], stacked_df[\"date\"][idx], normalize=True).show()"
   ]
  },
  {
   "cell_type": "code",
   "execution_count": null,
   "metadata": {},
   "outputs": [],
   "source": []
  },
  {
   "cell_type": "code",
   "execution_count": null,
   "metadata": {},
   "outputs": [],
   "source": [
    "class CustomStopCondition(stock.simulation.simulate.BaseCondition):\n",
    "\n",
    "    max_loss_rate: float = 0.1  # 買値からの最大損失率\n",
    "    trailling_stop_rate: float = 0.2  # ここまで値下がりしたら売る\n",
    "    sell_rate: float = 0.5  # ここまで値上がりしたら半分売る\n",
    "    max_days: int = 7  # 最大保持日数\n",
    "    total_max_days: int = 7 * 4  # 最大保持日数\n",
    "    buying_price: float = -1\n",
    "    loss_cut_price: float = -1\n",
    "    profit_fixed_price: float = -1\n",
    "    buy_date: datetime.date = datetime.date.today()\n",
    "    reach_target_price: bool = False\n",
    "    target_selling_price: float = -1\n",
    "\n",
    "    def reset_results(self):\n",
    "        self.buying_price = -1\n",
    "        self.loss_cut_price = -1\n",
    "        self.profit_fixed_price = -1\n",
    "        self.buy_date = datetime.date.today()\n",
    "        self.reach_target_price = False\n",
    "        self.target_selling_price = -1\n",
    "\n",
    "    def set_start(self, df: pl.DataFrame, start_date: datetime.date) -> float:\n",
    "        self.reset_results()\n",
    "        #df = df.filter(pl.col(\"date\") >= start_date).sort(pl.col(\"date\"))\n",
    "        if len(df) <= 30:\n",
    "            return - 1\n",
    "            \n",
    "        if df[\"date\"][0] - start_date > datetime.timedelta(days=10):\n",
    "            return -1\n",
    "\n",
    "        if is_limit_high(df[\"close\"][0], df[\"open\"][1]):\n",
    "            return -1\n",
    "\n",
    "        self.buying_price = df[\"open\"][1]\n",
    "        self.loss_cut_price = self.buying_price * (1 - self.max_loss_rate)\n",
    "        self.profit_fixed_price = self.buying_price * (1 + self.sell_rate)\n",
    "        self.buy_date = df[\"date\"][1]\n",
    "        return self.buying_price\n",
    "\n",
    "    def run_simulation(self, df: pl.DataFrame, index: int) -> float:\n",
    "        \"\"\" \"\"\"\n",
    "        #print(df[\"date\"][index])\n",
    "        # 最大保持日数を超えた場合は売る\n",
    "        if df[\"date\"][index] - self.buy_date > datetime.timedelta(days=self.total_max_days):\n",
    "            if self.reach_target_price:\n",
    "                return (self.target_selling_price + min(self.loss_cut_price, df[\"open\"][index])) * 0.5\n",
    "            return df[\"open\"][index]\n",
    "\n",
    "        # 値上がりも値下がりもせず、一定期間過ぎた場合は売る\n",
    "        if not self.reach_target_price and df[\"date\"][index] - self.buy_date > datetime.timedelta(\n",
    "            days=self.max_days\n",
    "        ):\n",
    "            return df[\"open\"][index]\n",
    "\n",
    "        # 最大損失率を超えた場合は売る\n",
    "        if df[\"low\"][index] < self.loss_cut_price:\n",
    "            if self.reach_target_price:\n",
    "                return (self.target_selling_price + min(self.loss_cut_price, df[\"open\"][index])) * 0.5\n",
    "            return min(self.loss_cut_price, df[\"open\"][index])\n",
    "\n",
    "        # ここまで値上がりしたら半分売る\n",
    "        if df[\"high\"][index] > self.profit_fixed_price:\n",
    "            self.reach_target_price = True\n",
    "            self.target_selling_price = max(self.profit_fixed_price, df[\"open\"][index])\n",
    "\n",
    "        # 十分値上がりしたらtrailling stop lossを適用\n",
    "        if self.reach_target_price:\n",
    "            self.loss_cut_price = max(\n",
    "                self.loss_cut_price, df[\"high\"][index] * (1 - self.trailling_stop_rate)\n",
    "            )\n",
    "\n",
    "        return -1.0"
   ]
  },
  {
   "cell_type": "code",
   "execution_count": null,
   "metadata": {},
   "outputs": [],
   "source": [
    "conds = CustomStopCondition(\n",
    "        max_loss_rate=0.08,\n",
    "        trailling_stop_rate=0.2,\n",
    "        sell_rate=0.4,\n",
    "        max_days=14,\n",
    "        total_max_days=28\n",
    "    )\n",
    "stock.simulation.simulate.run(\"1380\", datetime.date(2020, 4, 24), conds)"
   ]
  },
  {
   "cell_type": "code",
   "execution_count": null,
   "metadata": {},
   "outputs": [],
   "source": []
  },
  {
   "cell_type": "code",
   "execution_count": null,
   "metadata": {},
   "outputs": [],
   "source": [
    "all_results = []\n",
    "for idx in tqdm(range(len(stacked_df))):\n",
    "    conds = CustomStopCondition(\n",
    "        max_loss_rate=0.08,\n",
    "        trailling_stop_rate=0.2,\n",
    "        sell_rate=0.4,\n",
    "        max_days=14,\n",
    "        total_max_days=28\n",
    "    )\n",
    "    result = stock.simulation.simulate.run(stacked_df[\"code\"][idx], stacked_df[\"date\"][idx], conds).dict()\n",
    "    if result[\"profit\"] > 10:\n",
    "        break\n",
    "    result[\"code\"] = stacked_df[\"code\"][idx]\n",
    "    all_results.append(result)"
   ]
  },
  {
   "cell_type": "code",
   "execution_count": null,
   "metadata": {},
   "outputs": [],
   "source": [
    "results = [res for res in all_results if res[\"buying_price\"] > 0]"
   ]
  },
  {
   "cell_type": "code",
   "execution_count": null,
   "metadata": {},
   "outputs": [],
   "source": [
    "profits = [res[\"profit\"] for res in results if res[\"profit\"] < 1.0]\n",
    "print(\"Average profit : {}\".format(sum(profits) / len(profits)))"
   ]
  },
  {
   "cell_type": "code",
   "execution_count": null,
   "metadata": {},
   "outputs": [],
   "source": [
    "profits_per_year = {}\n",
    "for res in results:\n",
    "    year = res[\"buying_date\"].year\n",
    "    if year not in profits_per_year.keys():\n",
    "        profits_per_year[year] = []\n",
    "    if res[\"profit\"] < 1.0:\n",
    "        profits_per_year[year].append(res[\"profit\"])\n",
    "\n",
    "for year in sorted(profits_per_year.keys()):\n",
    "    print(\"Year {} : Average profit : {}\".format(year, sum(profits_per_year[year]) / len(profits_per_year[year])))"
   ]
  },
  {
   "cell_type": "code",
   "execution_count": null,
   "metadata": {},
   "outputs": [],
   "source": [
    "sum(np.array(profits) > 0), sum(np.array(profits) < 0)"
   ]
  },
  {
   "cell_type": "code",
   "execution_count": null,
   "metadata": {},
   "outputs": [],
   "source": [
    "plt.hist(profits, bins=20)"
   ]
  },
  {
   "cell_type": "code",
   "execution_count": null,
   "metadata": {},
   "outputs": [],
   "source": [
    "super_neg = [res for res in results if res[\"profit\"] < -0.1]"
   ]
  },
  {
   "cell_type": "code",
   "execution_count": null,
   "metadata": {},
   "outputs": [],
   "source": [
    "super_neg[0]"
   ]
  },
  {
   "cell_type": "code",
   "execution_count": null,
   "metadata": {},
   "outputs": [],
   "source": [
    "plot(super_neg[0][\"code\"], super_neg[0][\"buying_date\"]).show()"
   ]
  },
  {
   "cell_type": "code",
   "execution_count": null,
   "metadata": {},
   "outputs": [],
   "source": []
  }
 ],
 "metadata": {
  "kernelspec": {
   "display_name": ".venv",
   "language": "python",
   "name": "python3"
  },
  "language_info": {
   "codemirror_mode": {
    "name": "ipython",
    "version": 3
   },
   "file_extension": ".py",
   "mimetype": "text/x-python",
   "name": "python",
   "nbconvert_exporter": "python",
   "pygments_lexer": "ipython3",
   "version": "3.10.12"
  }
 },
 "nbformat": 4,
 "nbformat_minor": 2
}
