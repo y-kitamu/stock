{
 "cells": [
  {
   "cell_type": "markdown",
   "id": "0",
   "metadata": {},
   "source": [
    "# Zipファイルのアップロード"
   ]
  },
  {
   "cell_type": "code",
   "execution_count": null,
   "id": "1",
   "metadata": {},
   "outputs": [],
   "source": [
    "from pathlib import Path\n",
    "import stock\n",
    "\n",
    "# target_dir = stock.PROJECT_ROOT / \"data\"\n",
    "# zip_file = stock.PROJECT_ROOT / \"stock_data.zip\"\n",
    "# stock.zip.zip_directry(zip_file, target_dir)\n",
    "# stock.gdr.delete_file(zip_file.name)\n",
    "# stock.gdr.upload(zip_file)\n",
    "stock.gdr.get_quota()"
   ]
  },
  {
   "cell_type": "code",
   "execution_count": null,
   "id": "2",
   "metadata": {},
   "outputs": [],
   "source": [
    "ids = stock.gdr.delete_file_by_name(\"stock_data.zip\", dry_run=True)"
   ]
  },
  {
   "cell_type": "code",
   "execution_count": null,
   "id": "3",
   "metadata": {},
   "outputs": [],
   "source": [
    "ids"
   ]
  },
  {
   "cell_type": "code",
   "execution_count": null,
   "id": "4",
   "metadata": {},
   "outputs": [],
   "source": [
    "ids = [i for i in ids if not i == \"1A28Uu4Zt1em8A0C7zhQ3cKVy2yOc2JwN\"]\n",
    "stock.gdr.delete_all(ids)"
   ]
  },
  {
   "cell_type": "code",
   "execution_count": null,
   "id": "5",
   "metadata": {},
   "outputs": [],
   "source": [
    "ss = service.spreadsheets()"
   ]
  },
  {
   "cell_type": "code",
   "execution_count": null,
   "id": "6",
   "metadata": {},
   "outputs": [],
   "source": [
    "v = ss.values()"
   ]
  },
  {
   "cell_type": "code",
   "execution_count": null,
   "id": "7",
   "metadata": {},
   "outputs": [],
   "source": [
    "v.ValueInputOptions"
   ]
  },
  {
   "cell_type": "code",
   "execution_count": null,
   "id": "8",
   "metadata": {},
   "outputs": [],
   "source": [
    "from typing import Any, List\n",
    "\n",
    "from stock.gdr import get_service\n",
    "\n",
    "sid = \"1SRi3cDXctknMSMB1TrEctq4vVeqC4C3ZLEkmY-A1CII\"\n",
    "SCOPES = ['https://www.googleapis.com/auth/spreadsheets']\n",
    "\n",
    "service = get_service(scopes=SCOPES, api_name=\"sheets\", api_ver=\"v4\")\n",
    "vals = [\"foo\"]\n",
    "body = {'values': [vals]}\n",
    "service.spreadsheets().values().append(spreadsheetId=sid, range=\"A1:A2\", body=body, valueInputOption=\"USER_ENTERED\").execute()\n"
   ]
  },
  {
   "cell_type": "code",
   "execution_count": null,
   "id": "9",
   "metadata": {},
   "outputs": [],
   "source": [
    "from datetime import datetime\n",
    "import stock\n",
    "stock.gdr.spreadsheet.update_row_to_ss([datetime.today().strftime(\"%Y/%m/%d-%H:%M:%S\")])"
   ]
  },
  {
   "cell_type": "code",
   "execution_count": null,
   "id": "10",
   "metadata": {},
   "outputs": [],
   "source": [
    "datetime.today().strftime(\"%Y/%m/%d-%H:%M:%S\")"
   ]
  },
  {
   "cell_type": "code",
   "execution_count": null,
   "id": "11",
   "metadata": {},
   "outputs": [],
   "source": []
  }
 ],
 "metadata": {
  "kernelspec": {
   "display_name": "Python 3 (ipykernel)",
   "language": "python",
   "name": "python3"
  },
  "language_info": {
   "codemirror_mode": {
    "name": "ipython",
    "version": 3
   },
   "file_extension": ".py",
   "mimetype": "text/x-python",
   "name": "python",
   "nbconvert_exporter": "python",
   "pygments_lexer": "ipython3",
   "version": "3.9.5"
  }
 },
 "nbformat": 4,
 "nbformat_minor": 5
}
