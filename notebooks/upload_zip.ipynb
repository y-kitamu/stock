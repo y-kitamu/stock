{
 "cells": [
  {
   "cell_type": "markdown",
   "id": "e5727615-618a-4b3f-9460-59c1d1143768",
   "metadata": {},
   "source": [
    "# Zipファイルのアップロード"
   ]
  },
  {
   "cell_type": "code",
   "execution_count": 1,
   "id": "8e69d179-6fa6-45f9-869f-bf6bb09d4d04",
   "metadata": {},
   "outputs": [
    {
     "name": "stdout",
     "output_type": "stream",
     "text": [
      "[2021-12-05 05:10:06 INFO module __init__ at line 38] Set new `StreamHandler` instance to the logger.\n",
      "[2021-12-05 05:10:08 INFO module __init__ at line 57] Storage Quota : \n",
      "[2021-12-05 05:10:08 INFO module __init__ at line 58]   limit = 15.00 GB\n",
      "[2021-12-05 05:10:08 INFO module __init__ at line 59]   usage = 8.06 GB\n",
      "[2021-12-05 05:10:08 INFO module __init__ at line 60]     usage in drive = 8446887.20 KB\n",
      "[2021-12-05 05:10:08 INFO module __init__ at line 61]     usage in trash = 0.00 KB\n"
     ]
    },
    {
     "data": {
      "text/plain": [
       "(16106127360, 8649612492)"
      ]
     },
     "execution_count": 1,
     "metadata": {},
     "output_type": "execute_result"
    }
   ],
   "source": [
    "from pathlib import Path\n",
    "import stock\n",
    "\n",
    "# target_dir = stock.PROJECT_ROOT / \"data\"\n",
    "# zip_file = stock.PROJECT_ROOT / \"stock_data.zip\"\n",
    "# stock.zip.zip_directry(zip_file, target_dir)\n",
    "# stock.gdr.delete_file(zip_file.name)\n",
    "# stock.gdr.upload(zip_file)\n",
    "stock.gdr.get_quota()"
   ]
  },
  {
   "cell_type": "code",
   "execution_count": 2,
   "id": "192109d5-a3c7-45d5-98ec-294ed34212e0",
   "metadata": {},
   "outputs": [
    {
     "name": "stdout",
     "output_type": "stream",
     "text": [
      "[2021-12-05 05:10:35 INFO module __init__ at line 133] Delete file of filename = stock_data.zip from Google Drive\n"
     ]
    }
   ],
   "source": [
    "ids = stock.gdr.delete_file_by_name(\"stock_data.zip\", dry_run=True)"
   ]
  },
  {
   "cell_type": "code",
   "execution_count": 3,
   "id": "31168f77-83cc-4e4e-a90a-50e5dd8f30e9",
   "metadata": {},
   "outputs": [
    {
     "data": {
      "text/plain": [
       "['1xt3CBJploU3Bx4cj38P8Ijy5qjmCW_V6',\n",
       " '1ZwD5oSUDprnr2N8n6a_US6Mca71kch1N',\n",
       " '1eGk_kB6F0wzadbEBdw3356q0WAU4va40',\n",
       " '1lA2mi0kqFX1K4S_xn3kK6M6KwSSi1Ahv',\n",
       " '18Cuys835HCQ676f6mi1b1pAkRdedOPNN',\n",
       " '1hZkcWEIvFQyYCzDQnJKW6iPj9X0_0SqT',\n",
       " '1A28Uu4Zt1em8A0C7zhQ3cKVy2yOc2JwN',\n",
       " '1NcuScugTwoD2trXHJmIHlNfitJ2M9i0n',\n",
       " '1Sz-2iUVnYuAI5zEhrhoMALlWTiiEp4Rq',\n",
       " '1qOBRtORF9u-Y5wIfT2zKoDuLd3GFWldi',\n",
       " '1uoQ24WCTwwuGGqgIjreFbdPUjKc1evvC']"
      ]
     },
     "execution_count": 3,
     "metadata": {},
     "output_type": "execute_result"
    }
   ],
   "source": [
    "ids"
   ]
  },
  {
   "cell_type": "code",
   "execution_count": 5,
   "id": "45156171-ade2-4741-9d2d-ba3680356499",
   "metadata": {},
   "outputs": [
    {
     "name": "stdout",
     "output_type": "stream",
     "text": [
      "[2021-12-05 05:12:35 INFO module __init__ at line 159] delete 17 files\n",
      "[2021-12-05 05:12:35 INFO module __init__ at line 163] Finish delete files. Number of deleted files : 10\n"
     ]
    },
    {
     "data": {
      "text/plain": [
       "['1xt3CBJploU3Bx4cj38P8Ijy5qjmCW_V6',\n",
       " '1ZwD5oSUDprnr2N8n6a_US6Mca71kch1N',\n",
       " '1eGk_kB6F0wzadbEBdw3356q0WAU4va40',\n",
       " '1lA2mi0kqFX1K4S_xn3kK6M6KwSSi1Ahv',\n",
       " '18Cuys835HCQ676f6mi1b1pAkRdedOPNN',\n",
       " '1hZkcWEIvFQyYCzDQnJKW6iPj9X0_0SqT',\n",
       " '1NcuScugTwoD2trXHJmIHlNfitJ2M9i0n',\n",
       " '1Sz-2iUVnYuAI5zEhrhoMALlWTiiEp4Rq',\n",
       " '1qOBRtORF9u-Y5wIfT2zKoDuLd3GFWldi',\n",
       " '1uoQ24WCTwwuGGqgIjreFbdPUjKc1evvC']"
      ]
     },
     "execution_count": 5,
     "metadata": {},
     "output_type": "execute_result"
    }
   ],
   "source": [
    "ids = [i for i in ids if not i == \"1A28Uu4Zt1em8A0C7zhQ3cKVy2yOc2JwN\"]\n",
    "stock.gdr.delete_all(ids)"
   ]
  },
  {
   "cell_type": "code",
   "execution_count": 4,
   "id": "aa251309-4bf8-4db6-bf4f-420ec9661384",
   "metadata": {},
   "outputs": [],
   "source": [
    "ss = service.spreadsheets()"
   ]
  },
  {
   "cell_type": "code",
   "execution_count": 6,
   "id": "e93ebf7b-0232-4f99-ae1b-d6da8a7a15e6",
   "metadata": {},
   "outputs": [],
   "source": [
    "v = ss.values()"
   ]
  },
  {
   "cell_type": "code",
   "execution_count": 8,
   "id": "8fddfee6-8f9b-4ea2-b56b-1b2ce35ff5ef",
   "metadata": {},
   "outputs": [
    {
     "ename": "AttributeError",
     "evalue": "'Resource' object has no attribute 'ValueInputOptions'",
     "output_type": "error",
     "traceback": [
      "\u001b[0;31m---------------------------------------------------------------------------\u001b[0m",
      "\u001b[0;31mAttributeError\u001b[0m                            Traceback (most recent call last)",
      "\u001b[0;32m/tmp/ipykernel_589/4267318861.py\u001b[0m in \u001b[0;36m<module>\u001b[0;34m\u001b[0m\n\u001b[0;32m----> 1\u001b[0;31m \u001b[0mv\u001b[0m\u001b[0;34m.\u001b[0m\u001b[0mValueInputOptions\u001b[0m\u001b[0;34m\u001b[0m\u001b[0;34m\u001b[0m\u001b[0m\n\u001b[0m",
      "\u001b[0;31mAttributeError\u001b[0m: 'Resource' object has no attribute 'ValueInputOptions'"
     ]
    }
   ],
   "source": [
    "v.ValueInputOptions"
   ]
  },
  {
   "cell_type": "code",
   "execution_count": 15,
   "id": "1d805246-5e6d-40dd-9c59-a599a2ee0748",
   "metadata": {},
   "outputs": [
    {
     "data": {
      "text/plain": [
       "{'spreadsheetId': '1SRi3cDXctknMSMB1TrEctq4vVeqC4C3ZLEkmY-A1CII',\n",
       " 'tableRange': \"'シート1'!A1:A2\",\n",
       " 'updates': {'spreadsheetId': '1SRi3cDXctknMSMB1TrEctq4vVeqC4C3ZLEkmY-A1CII',\n",
       "  'updatedRange': \"'シート1'!A3\",\n",
       "  'updatedRows': 1,\n",
       "  'updatedColumns': 1,\n",
       "  'updatedCells': 1}}"
      ]
     },
     "execution_count": 15,
     "metadata": {},
     "output_type": "execute_result"
    }
   ],
   "source": [
    "from typing import Any, List\n",
    "\n",
    "from stock.gdr import get_service\n",
    "\n",
    "sid = \"1SRi3cDXctknMSMB1TrEctq4vVeqC4C3ZLEkmY-A1CII\"\n",
    "SCOPES = ['https://www.googleapis.com/auth/spreadsheets']\n",
    "\n",
    "service = get_service(scopes=SCOPES, api_name=\"sheets\", api_ver=\"v4\")\n",
    "vals = [\"foo\"]\n",
    "body = {'values': [vals]}\n",
    "service.spreadsheets().values().append(spreadsheetId=sid, range=\"A1:A2\", body=body, valueInputOption=\"USER_ENTERED\").execute()\n"
   ]
  },
  {
   "cell_type": "code",
   "execution_count": 5,
   "id": "a22a2d9c-7904-4559-989e-bf11b485ff45",
   "metadata": {},
   "outputs": [],
   "source": [
    "from datetime import datetime\n",
    "import stock\n",
    "stock.gdr.spreadsheet.update_row_to_ss([datetime.today().strftime(\"%Y/%m/%d-%H:%M:%S\")])"
   ]
  },
  {
   "cell_type": "code",
   "execution_count": 4,
   "id": "9056db42-3fce-426d-92ec-068a03f5dc7f",
   "metadata": {},
   "outputs": [
    {
     "data": {
      "text/plain": [
       "'2021/12/05-05:58:27'"
      ]
     },
     "execution_count": 4,
     "metadata": {},
     "output_type": "execute_result"
    }
   ],
   "source": [
    "datetime.today().strftime(\"%Y/%m/%d-%H:%M:%S\")"
   ]
  },
  {
   "cell_type": "code",
   "execution_count": null,
   "id": "d8486164-2bbf-4b6f-9103-ecd2f439a5dc",
   "metadata": {},
   "outputs": [],
   "source": []
  }
 ],
 "metadata": {
  "kernelspec": {
   "display_name": "Python 3 (ipykernel)",
   "language": "python",
   "name": "python3"
  },
  "language_info": {
   "codemirror_mode": {
    "name": "ipython",
    "version": 3
   },
   "file_extension": ".py",
   "mimetype": "text/x-python",
   "name": "python",
   "nbconvert_exporter": "python",
   "pygments_lexer": "ipython3",
   "version": "3.9.5"
  }
 },
 "nbformat": 4,
 "nbformat_minor": 5
}
