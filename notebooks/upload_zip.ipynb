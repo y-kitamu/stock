{
 "cells": [
  {
   "cell_type": "markdown",
   "id": "e5727615-618a-4b3f-9460-59c1d1143768",
   "metadata": {},
   "source": [
    "# Zipファイルのアップロード"
   ]
  },
  {
   "cell_type": "code",
   "execution_count": null,
   "id": "8e69d179-6fa6-45f9-869f-bf6bb09d4d04",
   "metadata": {},
   "outputs": [],
   "source": [
    "from pathlib import Path\n",
    "import stock\n",
    "\n",
    "# target_dir = stock.PROJECT_ROOT / \"data\"\n",
    "# zip_file = stock.PROJECT_ROOT / \"stock_data.zip\"\n",
    "# stock.zip.zip_directry(zip_file, target_dir)\n",
    "# stock.gdr.delete_file(zip_file.name)\n",
    "# stock.gdr.upload(zip_file)\n",
    "stock.gdr.get_quota()"
   ]
  },
  {
   "cell_type": "code",
   "execution_count": null,
   "id": "192109d5-a3c7-45d5-98ec-294ed34212e0",
   "metadata": {},
   "outputs": [],
   "source": [
    "ids = stock.gdr.delete_file_by_name(\"stock_data.zip\", dry_run=True)"
   ]
  },
  {
   "cell_type": "code",
   "execution_count": null,
   "id": "31168f77-83cc-4e4e-a90a-50e5dd8f30e9",
   "metadata": {},
   "outputs": [],
   "source": [
    "ids"
   ]
  },
  {
   "cell_type": "code",
   "execution_count": null,
   "id": "45156171-ade2-4741-9d2d-ba3680356499",
   "metadata": {},
   "outputs": [],
   "source": [
    "ids = [i for i in ids if not i == \"1A28Uu4Zt1em8A0C7zhQ3cKVy2yOc2JwN\"]\n",
    "stock.gdr.delete_all(ids)"
   ]
  },
  {
   "cell_type": "code",
   "execution_count": null,
   "id": "aa251309-4bf8-4db6-bf4f-420ec9661384",
   "metadata": {},
   "outputs": [],
   "source": [
    "ss = service.spreadsheets()"
   ]
  },
  {
   "cell_type": "code",
   "execution_count": null,
   "id": "e93ebf7b-0232-4f99-ae1b-d6da8a7a15e6",
   "metadata": {},
   "outputs": [],
   "source": [
    "v = ss.values()"
   ]
  },
  {
   "cell_type": "code",
   "execution_count": null,
   "id": "8fddfee6-8f9b-4ea2-b56b-1b2ce35ff5ef",
   "metadata": {},
   "outputs": [],
   "source": [
    "v.ValueInputOptions"
   ]
  },
  {
   "cell_type": "code",
   "execution_count": null,
   "id": "1d805246-5e6d-40dd-9c59-a599a2ee0748",
   "metadata": {},
   "outputs": [],
   "source": [
    "from typing import Any, List\n",
    "\n",
    "from stock.gdr import get_service\n",
    "\n",
    "sid = \"1SRi3cDXctknMSMB1TrEctq4vVeqC4C3ZLEkmY-A1CII\"\n",
    "SCOPES = ['https://www.googleapis.com/auth/spreadsheets']\n",
    "\n",
    "service = get_service(scopes=SCOPES, api_name=\"sheets\", api_ver=\"v4\")\n",
    "vals = [\"foo\"]\n",
    "body = {'values': [vals]}\n",
    "service.spreadsheets().values().append(spreadsheetId=sid, range=\"A1:A2\", body=body, valueInputOption=\"USER_ENTERED\").execute()\n"
   ]
  },
  {
   "cell_type": "code",
   "execution_count": null,
   "id": "a22a2d9c-7904-4559-989e-bf11b485ff45",
   "metadata": {},
   "outputs": [],
   "source": [
    "from datetime import datetime\n",
    "import stock\n",
    "stock.gdr.spreadsheet.update_row_to_ss([datetime.today().strftime(\"%Y/%m/%d-%H:%M:%S\")])"
   ]
  },
  {
   "cell_type": "code",
   "execution_count": null,
   "id": "9056db42-3fce-426d-92ec-068a03f5dc7f",
   "metadata": {},
   "outputs": [],
   "source": [
    "datetime.today().strftime(\"%Y/%m/%d-%H:%M:%S\")"
   ]
  },
  {
   "cell_type": "code",
   "execution_count": null,
   "id": "d8486164-2bbf-4b6f-9103-ecd2f439a5dc",
   "metadata": {},
   "outputs": [],
   "source": []
  }
 ],
 "metadata": {
  "kernelspec": {
   "display_name": "Python 3 (ipykernel)",
   "language": "python",
   "name": "python3"
  },
  "language_info": {
   "codemirror_mode": {
    "name": "ipython",
    "version": 3
   },
   "file_extension": ".py",
   "mimetype": "text/x-python",
   "name": "python",
   "nbconvert_exporter": "python",
   "pygments_lexer": "ipython3",
   "version": "3.9.5"
  }
 },
 "nbformat": 4,
 "nbformat_minor": 5
}
