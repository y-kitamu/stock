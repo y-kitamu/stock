{
 "cells": [
  {
   "cell_type": "code",
   "execution_count": null,
   "metadata": {},
   "outputs": [],
   "source": [
    "from pathlib import Path\n",
    "\n",
    "import polars as pl\n",
    "import matplotlib.pyplot as plt"
   ]
  },
  {
   "cell_type": "code",
   "execution_count": null,
   "metadata": {},
   "outputs": [],
   "source": [
    "csv_path = Path(r\"/home/kitamura/work/stock_rust/result_simple.csv\")\n",
    "simple_df = pl.read_csv(csv_path)"
   ]
  },
  {
   "cell_type": "code",
   "execution_count": null,
   "metadata": {},
   "outputs": [],
   "source": [
    "csv_path = Path(r\"/home/kitamura/work/stock_rust/result_precise.csv\")\n",
    "precise_df = pl.read_csv(csv_path)"
   ]
  },
  {
   "cell_type": "code",
   "execution_count": null,
   "metadata": {},
   "outputs": [],
   "source": [
    "pl.Config.set_tbl_rows(100)"
   ]
  },
  {
   "cell_type": "code",
   "execution_count": null,
   "metadata": {},
   "outputs": [],
   "source": [
    "simple_df"
   ]
  },
  {
   "cell_type": "code",
   "execution_count": null,
   "metadata": {},
   "outputs": [],
   "source": [
    "simple_df.select(\n",
    "    \"datetime\", \"high\", \"low\", \"close\", \"high_target_price\", \"low_target_price\", \"high_target_hit\", \"low_target_hit\", \"contrarian_long_profit\", \"follower_short_profit\", \"contrarian_long_cumsum\", \"follower_short_cumsum\"\n",
    ")"
   ]
  },
  {
   "cell_type": "code",
   "execution_count": null,
   "metadata": {},
   "outputs": [],
   "source": [
    "precise_df.select(   \n",
    "     \"datetime\", \"high\", \"low\", \"close\", \"high_target_price\", \"low_target_price\", \"precise_high_hit\", \"precise_low_hit\", \"contrarian_long_profit\", \"follower_short_profit\"\n",
    "     )"
   ]
  },
  {
   "cell_type": "code",
   "execution_count": null,
   "metadata": {},
   "outputs": [],
   "source": [
    "plt.plot(df[\"contrarian_short_profit\"].cum_sum(), label=\"contrarian short\")\n",
    "plt.plot(df[\"contrarian_long_profit\"].cum_sum(), label=\"contrarian long\")\n",
    "plt.plot(df[\"follower_short_profit\"].cum_sum(), label=\"follower short\")\n",
    "plt.plot(df[\"follower_long_profit\"].cum_sum(), label=\"follower_long\")\n",
    "plt.plot(df[\"close\"] / df[\"close\"][0] - 1.0, label=\"close\")\n",
    "plt.legend()"
   ]
  },
  {
   "cell_type": "code",
   "execution_count": null,
   "metadata": {},
   "outputs": [],
   "source": [
    "plt.plot(df[\"contrarian_short_profit\"].cum_sum(), label=\"contrarian short\")\n",
    "plt.plot(df[\"contrarian_long_profit\"].cum_sum(), label=\"contrarian long\")\n",
    "plt.plot(df[\"follower_short_profit\"].cum_sum(), label=\"follower short\")\n",
    "plt.plot(df[\"follower_long_profit\"].cum_sum(), label=\"follower_long\")\n",
    "plt.plot(df[\"close\"] / df[\"close\"][0] - 1.0, label=\"close\")\n",
    "plt.legend()"
   ]
  },
  {
   "cell_type": "code",
   "execution_count": null,
   "metadata": {},
   "outputs": [],
   "source": []
  }
 ],
 "metadata": {
  "kernelspec": {
   "display_name": "Python 3",
   "language": "python",
   "name": "python3"
  },
  "language_info": {
   "codemirror_mode": {
    "name": "ipython",
    "version": 3
   },
   "file_extension": ".py",
   "mimetype": "text/x-python",
   "name": "python",
   "nbconvert_exporter": "python",
   "pygments_lexer": "ipython3",
   "version": "3.13.0"
  }
 },
 "nbformat": 4,
 "nbformat_minor": 2
}
