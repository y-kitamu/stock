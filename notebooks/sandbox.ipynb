{
 "cells": [
  {
   "cell_type": "code",
   "execution_count": null,
   "metadata": {},
   "outputs": [],
   "source": [
    "from pathlib import Path\n",
    "import datetime\n",
    "\n",
    "import matplotlib.pyplot as plt\n",
    "import polars as pl\n",
    "\n",
    "import data_fetcher"
   ]
  },
  {
   "cell_type": "code",
   "execution_count": null,
   "metadata": {},
   "outputs": [],
   "source": [
    "start = datetime.datetime(2024, 12, 3)\n",
    "end = datetime.datetime(2024, 12, 5)"
   ]
  },
  {
   "cell_type": "code",
   "execution_count": null,
   "metadata": {},
   "outputs": [],
   "source": [
    "fx_fetcher = data_fetcher.histdata.HistDataFetcher()\n",
    "fx_df = fx_fetcher.fetch_ticker(\"usdjpy\", start_date=start - datetime.timedelta(seconds=10), end_date=end + datetime.timedelta(seconds=10))\n",
    "\n",
    "bin_fetcher = data_fetcher.binance.BinanceFetcher()\n",
    "bin_df = bin_fetcher.fetch_ticker(\"BTCUSDT\", start_date=start, end_date=end)"
   ]
  },
  {
   "cell_type": "code",
   "execution_count": null,
   "metadata": {},
   "outputs": [],
   "source": [
    "gmo_fetcher = data_fetcher.gmo.GMOFethcer()\n",
    "gmo_df = gmo_fetcher.fetch_ticker(\"BTC_JPY\", start_date=start, end_date=end)"
   ]
  },
  {
   "cell_type": "code",
   "execution_count": null,
   "metadata": {},
   "outputs": [],
   "source": [
    "res = fx_df[\"datetime\"].search_sorted(bin_df[\"datetime\"])\n",
    "bid, ask = fx_df[\"bid\"][res], fx_df[\"ask\"][res]"
   ]
  },
  {
   "cell_type": "code",
   "execution_count": null,
   "metadata": {},
   "outputs": [],
   "source": [
    "bin_df = bin_df.with_columns(\n",
    "    bid.alias(\"usdjpy_bid\"),\n",
    "    ask.alias(\"usdjpy_ask\"),\n",
    ").with_columns(\n",
    "    (pl.col(\"price\") * pl.col(\"usdjpy_bid\")).alias(\"price_jpy_bid\"),\n",
    "    (pl.col(\"price\") * pl.col(\"usdjpy_ask\")).alias(\"price_jpy_ask\"),\n",
    ")"
   ]
  },
  {
   "cell_type": "code",
   "execution_count": null,
   "metadata": {},
   "outputs": [],
   "source": [
    "bin_df"
   ]
  },
  {
   "cell_type": "code",
   "execution_count": null,
   "metadata": {},
   "outputs": [],
   "source": [
    "st = start + datetime.timedelta(minutes=0)\n",
    "et = st + datetime.timedelta(minutes=1)\n",
    "\n",
    "bdf = bin_df.filter(pl.col(\"datetime\").is_between(st, et))\n",
    "gdf = gmo_df.filter(pl.col(\"datetime\").is_between(st, et))\n",
    "\n",
    "#plt.plot(bdf[\"datetime\"], bdf[\"price_jpy_bid\"] / bdf[\"price_jpy_bid\"][0], label=\"bid\")\n",
    "# plt.plot(bdf[\"datetime\"], bdf[\"price\"] / bdf[\"price\"][0], label=\"bin\")\n",
    "plt.plot(bdf[\"datetime\"], bdf[\"price_jpy_ask\"] / bdf[\"price_jpy_ask\"][0], label=\"ask\")\n",
    "plt.plot(gdf[\"datetime\"], gdf[\"price\"] / gdf[\"price\"][0], label=\"gmo\")\n",
    "plt.legend()\n",
    "plt.grid()"
   ]
  },
  {
   "cell_type": "code",
   "execution_count": null,
   "metadata": {},
   "outputs": [],
   "source": [
    "gmo_df"
   ]
  },
  {
   "cell_type": "code",
   "execution_count": null,
   "metadata": {},
   "outputs": [],
   "source": []
  }
 ],
 "metadata": {
  "kernelspec": {
   "display_name": "Python 3",
   "language": "python",
   "name": "python3"
  },
  "language_info": {
   "codemirror_mode": {
    "name": "ipython",
    "version": 3
   },
   "file_extension": ".py",
   "mimetype": "text/x-python",
   "name": "python",
   "nbconvert_exporter": "python",
   "pygments_lexer": "ipython3",
   "version": "3.12.3"
  }
 },
 "nbformat": 4,
 "nbformat_minor": 2
}
