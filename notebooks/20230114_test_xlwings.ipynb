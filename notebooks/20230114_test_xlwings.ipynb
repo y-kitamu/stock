{
 "cells": [
  {
   "attachments": {},
   "cell_type": "markdown",
   "metadata": {},
   "source": [
    "# xlwingsの動作検証\n",
    "-> excel中心は難しそう。python中心で考えたほうが良いのでは？"
   ]
  },
  {
   "cell_type": "code",
   "execution_count": 4,
   "metadata": {},
   "outputs": [],
   "source": [
    "from pathlib import Path\n",
    "\n",
    "import xlwings as xw"
   ]
  },
  {
   "cell_type": "code",
   "execution_count": 3,
   "metadata": {},
   "outputs": [],
   "source": [
    "target_file = Path(\"./tmp/test_xlwings.xlsx\")\n",
    "target_file.parent.mkdir(exist_ok=True, parents=True)"
   ]
  },
  {
   "cell_type": "code",
   "execution_count": 10,
   "metadata": {},
   "outputs": [],
   "source": [
    "# target_file.unlink()\n",
    "wb = xw.Book()\n",
    "wb.sheets[0].range(\"A1\").value = \"Hello World!\"\n",
    "wb.save(target_file)\n",
    "wb.close()"
   ]
  },
  {
   "cell_type": "code",
   "execution_count": 11,
   "metadata": {},
   "outputs": [],
   "source": [
    "target_file = Path(r\"C:\\Users\\kitamura\\work\\stock\\excel\\x20230107_test_xlwings.xlsm\")\n",
    "wb = xw.Book(target_file)\n",
    "wb.sheets[0].range(\"A2\").value = \"Fooooo!\"\n",
    "wb.save()\n",
    "wb.close()"
   ]
  },
  {
   "cell_type": "code",
   "execution_count": null,
   "metadata": {},
   "outputs": [],
   "source": []
  }
 ],
 "metadata": {
  "kernelspec": {
   "display_name": "Python 3.11.1 ('stock-KAjeMbA1-py3.11')",
   "language": "python",
   "name": "python3"
  },
  "language_info": {
   "codemirror_mode": {
    "name": "ipython",
    "version": 3
   },
   "file_extension": ".py",
   "mimetype": "text/x-python",
   "name": "python",
   "nbconvert_exporter": "python",
   "pygments_lexer": "ipython3",
   "version": "3.11.1"
  },
  "orig_nbformat": 4,
  "vscode": {
   "interpreter": {
    "hash": "c2129137bca07ecf69a57b2bc4613c1be45a4ba2bd56b99ff1e3fe91ec2962bf"
   }
  }
 },
 "nbformat": 4,
 "nbformat_minor": 2
}
