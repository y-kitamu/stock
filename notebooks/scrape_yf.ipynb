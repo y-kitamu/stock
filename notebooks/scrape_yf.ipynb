{
 "cells": [
  {
   "cell_type": "code",
   "execution_count": null,
   "id": "0",
   "metadata": {
    "jupyter": {
     "outputs_hidden": true
    },
    "tags": []
   },
   "outputs": [],
   "source": [
    "import datetime\n",
    "\n",
    "from sqlalchemy import (Boolean, Column, Float, ForeignKey, Integer, String,\n",
    "                        select)\n",
    "\n",
    "import stock"
   ]
  },
  {
   "cell_type": "code",
   "execution_count": null,
   "id": "1",
   "metadata": {
    "jupyter": {
     "outputs_hidden": true
    },
    "tags": []
   },
   "outputs": [],
   "source": [
    "stock.adapter.store_statistics(\"DDOG\")"
   ]
  },
  {
   "cell_type": "code",
   "execution_count": null,
   "id": "2",
   "metadata": {
    "jupyter": {
     "outputs_hidden": true
    },
    "tags": []
   },
   "outputs": [],
   "source": [
    "stock.adapter.store_stock_time_series(\"DDOG\")"
   ]
  },
  {
   "cell_type": "code",
   "execution_count": null,
   "id": "3",
   "metadata": {},
   "outputs": [],
   "source": [
    "data = stock.scraping.yahoo_finance.get_stock_time_series(\"DDOG\")"
   ]
  },
  {
   "cell_type": "code",
   "execution_count": null,
   "id": "4",
   "metadata": {},
   "outputs": [],
   "source": []
  },
  {
   "cell_type": "code",
   "execution_count": null,
   "id": "5",
   "metadata": {
    "jupyter": {
     "outputs_hidden": true
    },
    "tags": []
   },
   "outputs": [],
   "source": [
    "database = stock.models.database.Database()\n",
    "database.create_all()\n",
    "stats = stock.scraping.yahoo_finance.get_statistics(\"DDOG\")"
   ]
  },
  {
   "cell_type": "code",
   "execution_count": null,
   "id": "6",
   "metadata": {
    "jupyter": {
     "outputs_hidden": true
    },
    "tags": []
   },
   "outputs": [],
   "source": [
    "stats[\"archive_date\"] = datetime.datetime.now()\n",
    "stats[\"company_code\"] = \"DDOG\"\n",
    "\n",
    "with database.context() as db:\n",
    "    company=stock.models.models.Company(code=\"DDOG\")\n",
    "    \n",
    "    db.add(company)\n",
    "    db.add(stock.models.models.Statistics(**stats))\n",
    "    db.commit()"
   ]
  },
  {
   "cell_type": "code",
   "execution_count": null,
   "id": "7",
   "metadata": {},
   "outputs": [],
   "source": [
    "with database.context() as db:\n",
    "    stmt = select(stock.models.models.Company)\n",
    "    obj = db.execute(stmt).one()[0]"
   ]
  },
  {
   "cell_type": "code",
   "execution_count": null,
   "id": "8",
   "metadata": {},
   "outputs": [],
   "source": [
    "obj[0].code"
   ]
  },
  {
   "cell_type": "code",
   "execution_count": null,
   "id": "9",
   "metadata": {},
   "outputs": [],
   "source": [
    "import json"
   ]
  },
  {
   "cell_type": "code",
   "execution_count": null,
   "id": "10",
   "metadata": {},
   "outputs": [],
   "source": [
    "url = \"https://query1.finance.yahoo.com/v8/finance/chart/DDOG?region=US&lang=en-US&includePrePost=true&interval=1m&range=1d\""
   ]
  },
  {
   "cell_type": "code",
   "execution_count": null,
   "id": "11",
   "metadata": {},
   "outputs": [],
   "source": [
    "ua = UserAgent()\n",
    "header = {\n",
    "    \"User-Agent\": ua.chrome\n",
    "}\n",
    "r = requests.get(url, headers=header)"
   ]
  },
  {
   "cell_type": "code",
   "execution_count": null,
   "id": "12",
   "metadata": {},
   "outputs": [],
   "source": [
    "data = json.loads(r.text)"
   ]
  },
  {
   "cell_type": "code",
   "execution_count": null,
   "id": "13",
   "metadata": {},
   "outputs": [],
   "source": [
    "chart = data[\"chart\"][\"result\"][0]"
   ]
  },
  {
   "cell_type": "code",
   "execution_count": null,
   "id": "14",
   "metadata": {},
   "outputs": [],
   "source": [
    "chart.keys()"
   ]
  },
  {
   "cell_type": "code",
   "execution_count": null,
   "id": "15",
   "metadata": {},
   "outputs": [],
   "source": [
    "timestamp = chart[\"timestamp\"]\n",
    "start = chart[\"indicators\"][\"quote\"][0][\"open\"]\n",
    "end = chart[\"indicators\"][\"quote\"][0][\"close\"]\n",
    "high = chart[\"indicators\"][\"quote\"][0][\"high\"]\n",
    "low = chart[\"indicators\"][\"quote\"][0][\"low\"]\n",
    "volume = chart[\"indicators\"][\"quote\"][0][\"volume\"]"
   ]
  },
  {
   "cell_type": "code",
   "execution_count": null,
   "id": "16",
   "metadata": {},
   "outputs": [],
   "source": [
    "import matplotlib.pyplot as plt\n",
    "\n",
    "plt.plot(timestamp, volume)"
   ]
  },
  {
   "cell_type": "code",
   "execution_count": null,
   "id": "17",
   "metadata": {},
   "outputs": [],
   "source": [
    "[idx for idx,val in enumerate(volume) if val is None]"
   ]
  },
  {
   "cell_type": "code",
   "execution_count": null,
   "id": "18",
   "metadata": {},
   "outputs": [],
   "source": [
    "volume[70:100]"
   ]
  },
  {
   "cell_type": "code",
   "execution_count": null,
   "id": "19",
   "metadata": {},
   "outputs": [],
   "source": []
  },
  {
   "cell_type": "code",
   "execution_count": null,
   "id": "20",
   "metadata": {},
   "outputs": [],
   "source": [
    "from fake_useragent import UserAgent\n",
    "import requests\n",
    "import re\n",
    "import json"
   ]
  },
  {
   "cell_type": "code",
   "execution_count": null,
   "id": "21",
   "metadata": {},
   "outputs": [],
   "source": [
    "import pandas as pd"
   ]
  },
  {
   "cell_type": "code",
   "execution_count": null,
   "id": "22",
   "metadata": {},
   "outputs": [],
   "source": [
    "url = \"https://finance.yahoo.com/quote/DDOG/key-statistics?p=DDOG\"\n",
    "ua = UserAgent()\n",
    "header = {\n",
    "    \"User-Agent\": ua.chrome\n",
    "}\n",
    "r = requests.get(url, headers=header)"
   ]
  },
  {
   "cell_type": "code",
   "execution_count": null,
   "id": "23",
   "metadata": {},
   "outputs": [],
   "source": [
    "r.status_code"
   ]
  },
  {
   "cell_type": "code",
   "execution_count": null,
   "id": "24",
   "metadata": {
    "tags": []
   },
   "outputs": [],
   "source": [
    "regex = re.compile(\"root\\.App\\.main = (\\{.*\\});\")\n",
    "\n",
    "json_txt = regex.search(r.text).group(1)"
   ]
  },
  {
   "cell_type": "code",
   "execution_count": null,
   "id": "25",
   "metadata": {},
   "outputs": [],
   "source": [
    "stat_dict = json.loads(json_txt)"
   ]
  },
  {
   "cell_type": "code",
   "execution_count": null,
   "id": "26",
   "metadata": {},
   "outputs": [],
   "source": [
    "quote_summary = stat_dict[\"context\"][\"dispatcher\"][\"stores\"][\"QuoteSummaryStore\"]"
   ]
  },
  {
   "cell_type": "code",
   "execution_count": null,
   "id": "27",
   "metadata": {},
   "outputs": [],
   "source": [
    "quote_summary[\"financialData\"].keys()"
   ]
  },
  {
   "cell_type": "code",
   "execution_count": null,
   "id": "28",
   "metadata": {},
   "outputs": [],
   "source": [
    "quote_summary[\"defaultKeyStatistics\"].keys()"
   ]
  },
  {
   "cell_type": "code",
   "execution_count": null,
   "id": "29",
   "metadata": {},
   "outputs": [],
   "source": [
    "stat_dict = {\n",
    "        **quote_summary[\"defaultKeyStatistics\"],\n",
    "        **quote_summary[\"financialData\"],\n",
    "    }\n"
   ]
  },
  {
   "cell_type": "code",
   "execution_count": null,
   "id": "30",
   "metadata": {},
   "outputs": [],
   "source": [
    "stat_dict"
   ]
  },
  {
   "cell_type": "code",
   "execution_count": null,
   "id": "31",
   "metadata": {},
   "outputs": [],
   "source": [
    "print(\"\"\"\n",
    "{}\n",
    "{}\n",
    "\"\"\".format(\n",
    "    \"\\n\".join(sorted(list(quote_summary[\"defaultKeyStatistics\"].keys()))),\n",
    "    \"\\n\".join(sorted(list(quote_summary[\"financialData\"].keys())))\n",
    "))"
   ]
  },
  {
   "cell_type": "code",
   "execution_count": null,
   "id": "32",
   "metadata": {},
   "outputs": [],
   "source": [
    "def get_statistics(code: str):\n",
    "    url = f\"https://finance.yahoo.com/quote/{code}/key-statistics\"\n",
    "    ua = UserAgent()\n",
    "    header = {\n",
    "        \"User-Agent\": ua.chrome\n",
    "    }\n",
    "    r = requests.get(url, headers=header)\n",
    "    if r.status_code != requests.codes.ok:\n",
    "        print(f\"Failed to fetch data from {url}. status_code = {r.status_code}\")\n",
    "        return\n",
    "    \n",
    "    dfs = pd.read_html(r.text, \"[^(<sup>.*</sup>)]\")\n",
    "    df = pd.concat(dfs)\n",
    "\n",
    "     "
   ]
  },
  {
   "cell_type": "code",
   "execution_count": null,
   "id": "33",
   "metadata": {},
   "outputs": [],
   "source": [
    "r.text[18960:18970]"
   ]
  },
  {
   "cell_type": "code",
   "execution_count": null,
   "id": "34",
   "metadata": {},
   "outputs": [],
   "source": [
    "res = re.findall(\"<table.*</table>\", r.text)"
   ]
  },
  {
   "cell_type": "code",
   "execution_count": null,
   "id": "35",
   "metadata": {},
   "outputs": [],
   "source": []
  },
  {
   "cell_type": "code",
   "execution_count": null,
   "id": "36",
   "metadata": {},
   "outputs": [],
   "source": [
    "import re\n",
    "\n",
    "tables = re.findall(\"<table.*</table>\", r.text)\n",
    "formatted = []\n",
    "for table in tables:\n",
    "    table = re.sub(\"<sup.*(?!</sup>).*</sup>\", \"\", table)\n",
    "    table = re.sub(r\"\\([^\\)]*\\)\", \"\", table)\n",
    "    formatted.append(table)\n"
   ]
  },
  {
   "cell_type": "code",
   "execution_count": null,
   "id": "37",
   "metadata": {},
   "outputs": [],
   "source": []
  },
  {
   "cell_type": "code",
   "execution_count": null,
   "id": "38",
   "metadata": {},
   "outputs": [],
   "source": [
    "table"
   ]
  },
  {
   "cell_type": "code",
   "execution_count": null,
   "id": "39",
   "metadata": {},
   "outputs": [],
   "source": [
    "pd.read_html(formatted[0])"
   ]
  },
  {
   "cell_type": "code",
   "execution_count": null,
   "id": "40",
   "metadata": {},
   "outputs": [],
   "source": [
    "formatte"
   ]
  },
  {
   "cell_type": "code",
   "execution_count": null,
   "id": "41",
   "metadata": {},
   "outputs": [],
   "source": [
    "regex = re.compile(\"[^0-9]*\")\n",
    "\n",
    "res = regex.search(\"foobasr123\")"
   ]
  },
  {
   "cell_type": "code",
   "execution_count": null,
   "id": "42",
   "metadata": {},
   "outputs": [],
   "source": [
    "res.group(0)"
   ]
  },
  {
   "cell_type": "code",
   "execution_count": null,
   "id": "43",
   "metadata": {},
   "outputs": [],
   "source": []
  }
 ],
 "metadata": {
  "kernelspec": {
   "display_name": "stock_dev",
   "language": "python",
   "name": "stock_dev"
  },
  "language_info": {
   "codemirror_mode": {
    "name": "ipython",
    "version": 3
   },
   "file_extension": ".py",
   "mimetype": "text/x-python",
   "name": "python",
   "nbconvert_exporter": "python",
   "pygments_lexer": "ipython3",
   "version": "3.9.5"
  }
 },
 "nbformat": 4,
 "nbformat_minor": 5
}
