{
 "cells": [
  {
   "cell_type": "code",
   "execution_count": null,
   "id": "20a84ba0-4820-444a-bf6a-f3e1787f5a25",
   "metadata": {
    "jupyter": {
     "outputs_hidden": true
    },
    "tags": []
   },
   "outputs": [],
   "source": [
    "import datetime\n",
    "\n",
    "from sqlalchemy import (Boolean, Column, Float, ForeignKey, Integer, String,\n",
    "                        select)\n",
    "\n",
    "import stock"
   ]
  },
  {
   "cell_type": "code",
   "execution_count": null,
   "id": "53800c93-cc94-4fc8-81a7-b4bd0d66c453",
   "metadata": {
    "jupyter": {
     "outputs_hidden": true
    },
    "tags": []
   },
   "outputs": [],
   "source": [
    "stock.adapter.store_statistics(\"DDOG\")"
   ]
  },
  {
   "cell_type": "code",
   "execution_count": null,
   "id": "83923a1c-43f3-4838-97c0-c87b2aeee7f6",
   "metadata": {
    "jupyter": {
     "outputs_hidden": true
    },
    "tags": []
   },
   "outputs": [],
   "source": [
    "stock.adapter.store_stock_time_series(\"DDOG\")"
   ]
  },
  {
   "cell_type": "code",
   "execution_count": null,
   "id": "ff339537-69d2-491a-bafc-65423e773cb6",
   "metadata": {},
   "outputs": [],
   "source": [
    "data = stock.scraping.yahoo_finance.get_stock_time_series(\"DDOG\")"
   ]
  },
  {
   "cell_type": "code",
   "execution_count": null,
   "id": "5e23e204-4d31-4395-afa9-ba77e38effdc",
   "metadata": {},
   "outputs": [],
   "source": []
  },
  {
   "cell_type": "code",
   "execution_count": null,
   "id": "5300721f-7193-4fcc-9e4e-9dde7785acad",
   "metadata": {
    "jupyter": {
     "outputs_hidden": true
    },
    "tags": []
   },
   "outputs": [],
   "source": [
    "database = stock.models.database.Database()\n",
    "database.create_all()\n",
    "stats = stock.scraping.yahoo_finance.get_statistics(\"DDOG\")"
   ]
  },
  {
   "cell_type": "code",
   "execution_count": null,
   "id": "a21b55f9-acb6-4f51-8684-1a4a7bb602ce",
   "metadata": {
    "jupyter": {
     "outputs_hidden": true
    },
    "tags": []
   },
   "outputs": [],
   "source": [
    "stats[\"archive_date\"] = datetime.datetime.now()\n",
    "stats[\"company_code\"] = \"DDOG\"\n",
    "\n",
    "with database.context() as db:\n",
    "    company=stock.models.models.Company(code=\"DDOG\")\n",
    "    \n",
    "    db.add(company)\n",
    "    db.add(stock.models.models.Statistics(**stats))\n",
    "    db.commit()"
   ]
  },
  {
   "cell_type": "code",
   "execution_count": null,
   "id": "88541615-64db-4bb6-adaa-c3681defee18",
   "metadata": {},
   "outputs": [],
   "source": [
    "with database.context() as db:\n",
    "    stmt = select(stock.models.models.Company)\n",
    "    obj = db.execute(stmt).one()[0]"
   ]
  },
  {
   "cell_type": "code",
   "execution_count": null,
   "id": "cff436f6-b2b1-479d-b2f4-b9ce3f8adc93",
   "metadata": {},
   "outputs": [],
   "source": [
    "obj[0].code"
   ]
  },
  {
   "cell_type": "code",
   "execution_count": null,
   "id": "513516e6-e6f3-4b57-9741-2edc6bf63ce8",
   "metadata": {},
   "outputs": [],
   "source": [
    "import json"
   ]
  },
  {
   "cell_type": "code",
   "execution_count": null,
   "id": "25221f04-aac5-4455-85b9-f27457e14814",
   "metadata": {},
   "outputs": [],
   "source": [
    "url = \"https://query1.finance.yahoo.com/v8/finance/chart/DDOG?region=US&lang=en-US&includePrePost=true&interval=1m&range=1d\""
   ]
  },
  {
   "cell_type": "code",
   "execution_count": null,
   "id": "98137f97-e66b-4ddd-84b9-30e50e7813ce",
   "metadata": {},
   "outputs": [],
   "source": [
    "ua = UserAgent()\n",
    "header = {\n",
    "    \"User-Agent\": ua.chrome\n",
    "}\n",
    "r = requests.get(url, headers=header)"
   ]
  },
  {
   "cell_type": "code",
   "execution_count": null,
   "id": "6a8510f0-376d-4a6f-b4c3-8f74bfe60963",
   "metadata": {},
   "outputs": [],
   "source": [
    "data = json.loads(r.text)"
   ]
  },
  {
   "cell_type": "code",
   "execution_count": null,
   "id": "a164797c-b7f2-4d6b-ad92-9ca78bccebad",
   "metadata": {},
   "outputs": [],
   "source": [
    "chart = data[\"chart\"][\"result\"][0]"
   ]
  },
  {
   "cell_type": "code",
   "execution_count": null,
   "id": "8df58b11-9e07-4a6a-97e5-5461c9127205",
   "metadata": {},
   "outputs": [],
   "source": [
    "chart.keys()"
   ]
  },
  {
   "cell_type": "code",
   "execution_count": null,
   "id": "9580196b-2361-42e8-9bcb-3d615249cd97",
   "metadata": {},
   "outputs": [],
   "source": [
    "timestamp = chart[\"timestamp\"]\n",
    "start = chart[\"indicators\"][\"quote\"][0][\"open\"]\n",
    "end = chart[\"indicators\"][\"quote\"][0][\"close\"]\n",
    "high = chart[\"indicators\"][\"quote\"][0][\"high\"]\n",
    "low = chart[\"indicators\"][\"quote\"][0][\"low\"]\n",
    "volume = chart[\"indicators\"][\"quote\"][0][\"volume\"]"
   ]
  },
  {
   "cell_type": "code",
   "execution_count": null,
   "id": "89a3a5fc-bfcb-4afe-87ca-f19216889a3e",
   "metadata": {},
   "outputs": [],
   "source": [
    "import matplotlib.pyplot as plt\n",
    "\n",
    "plt.plot(timestamp, volume)"
   ]
  },
  {
   "cell_type": "code",
   "execution_count": null,
   "id": "ec674378-64a5-469d-9576-2965bb31bbd1",
   "metadata": {},
   "outputs": [],
   "source": [
    "[idx for idx,val in enumerate(volume) if val is None]"
   ]
  },
  {
   "cell_type": "code",
   "execution_count": null,
   "id": "43069eb9-bc11-46d7-a12f-f3faa1ea4485",
   "metadata": {},
   "outputs": [],
   "source": [
    "volume[70:100]"
   ]
  },
  {
   "cell_type": "code",
   "execution_count": null,
   "id": "71a14566-3db9-4792-8549-1d67131757c7",
   "metadata": {},
   "outputs": [],
   "source": []
  },
  {
   "cell_type": "code",
   "execution_count": null,
   "id": "a027fdf3-e30b-4b6c-be24-e6bd41c69850",
   "metadata": {},
   "outputs": [],
   "source": [
    "from fake_useragent import UserAgent\n",
    "import requests\n",
    "import re\n",
    "import json"
   ]
  },
  {
   "cell_type": "code",
   "execution_count": null,
   "id": "1fe4e217-571b-4d6c-90fa-0ece3207b05d",
   "metadata": {},
   "outputs": [],
   "source": [
    "import pandas as pd"
   ]
  },
  {
   "cell_type": "code",
   "execution_count": null,
   "id": "e427c723-f261-4fd6-9230-6aa4feb614d3",
   "metadata": {},
   "outputs": [],
   "source": [
    "url = \"https://finance.yahoo.com/quote/DDOG/key-statistics?p=DDOG\"\n",
    "ua = UserAgent()\n",
    "header = {\n",
    "    \"User-Agent\": ua.chrome\n",
    "}\n",
    "r = requests.get(url, headers=header)"
   ]
  },
  {
   "cell_type": "code",
   "execution_count": null,
   "id": "5bddcd68-a744-475b-b73b-72d8df7060dc",
   "metadata": {},
   "outputs": [],
   "source": [
    "r.status_code"
   ]
  },
  {
   "cell_type": "code",
   "execution_count": null,
   "id": "a0f12cdc-e835-4b75-94b1-9618859af26a",
   "metadata": {
    "tags": []
   },
   "outputs": [],
   "source": [
    "regex = re.compile(\"root\\.App\\.main = (\\{.*\\});\")\n",
    "\n",
    "json_txt = regex.search(r.text).group(1)"
   ]
  },
  {
   "cell_type": "code",
   "execution_count": null,
   "id": "c6394f32-d9d8-476e-b421-ba00f8f68e18",
   "metadata": {},
   "outputs": [],
   "source": [
    "stat_dict = json.loads(json_txt)"
   ]
  },
  {
   "cell_type": "code",
   "execution_count": null,
   "id": "103b94c1-323b-4863-9b6d-c0e32ae79f01",
   "metadata": {},
   "outputs": [],
   "source": [
    "quote_summary = stat_dict[\"context\"][\"dispatcher\"][\"stores\"][\"QuoteSummaryStore\"]"
   ]
  },
  {
   "cell_type": "code",
   "execution_count": null,
   "id": "774eabc7-7f00-46a2-8ade-10f4230514ec",
   "metadata": {},
   "outputs": [],
   "source": [
    "quote_summary[\"financialData\"].keys()"
   ]
  },
  {
   "cell_type": "code",
   "execution_count": null,
   "id": "cd41deba-1125-4dbf-bc36-5fc97184925e",
   "metadata": {},
   "outputs": [],
   "source": [
    "quote_summary[\"defaultKeyStatistics\"].keys()"
   ]
  },
  {
   "cell_type": "code",
   "execution_count": null,
   "id": "9b5aeb0c-e3ac-4876-8863-8aae96c424d4",
   "metadata": {},
   "outputs": [],
   "source": [
    "stat_dict = {\n",
    "        **quote_summary[\"defaultKeyStatistics\"],\n",
    "        **quote_summary[\"financialData\"],\n",
    "    }\n"
   ]
  },
  {
   "cell_type": "code",
   "execution_count": null,
   "id": "843f16fe-2471-4d4c-8b8d-4f243b4d9bde",
   "metadata": {},
   "outputs": [],
   "source": [
    "stat_dict"
   ]
  },
  {
   "cell_type": "code",
   "execution_count": null,
   "id": "0b2f7758-ac54-43bf-8451-7faa7fadcebd",
   "metadata": {},
   "outputs": [],
   "source": [
    "print(\"\"\"\n",
    "{}\n",
    "{}\n",
    "\"\"\".format(\n",
    "    \"\\n\".join(sorted(list(quote_summary[\"defaultKeyStatistics\"].keys()))),\n",
    "    \"\\n\".join(sorted(list(quote_summary[\"financialData\"].keys())))\n",
    "))"
   ]
  },
  {
   "cell_type": "code",
   "execution_count": null,
   "id": "d93439f9-9ed7-4220-b05c-f1e7a453ab9d",
   "metadata": {},
   "outputs": [],
   "source": [
    "def get_statistics(code: str):\n",
    "    url = f\"https://finance.yahoo.com/quote/{code}/key-statistics\"\n",
    "    ua = UserAgent()\n",
    "    header = {\n",
    "        \"User-Agent\": ua.chrome\n",
    "    }\n",
    "    r = requests.get(url, headers=header)\n",
    "    if r.status_code != requests.codes.ok:\n",
    "        print(f\"Failed to fetch data from {url}. status_code = {r.status_code}\")\n",
    "        return\n",
    "    \n",
    "    dfs = pd.read_html(r.text, \"[^(<sup>.*</sup>)]\")\n",
    "    df = pd.concat(dfs)\n",
    "\n",
    "     "
   ]
  },
  {
   "cell_type": "code",
   "execution_count": null,
   "id": "71a293e8-9d27-4e5e-9ce0-d4936ab41e23",
   "metadata": {},
   "outputs": [],
   "source": [
    "r.text[18960:18970]"
   ]
  },
  {
   "cell_type": "code",
   "execution_count": null,
   "id": "56a288c0-f24d-407a-b109-d190a01797d3",
   "metadata": {},
   "outputs": [],
   "source": [
    "res = re.findall(\"<table.*</table>\", r.text)"
   ]
  },
  {
   "cell_type": "code",
   "execution_count": null,
   "id": "6ae55b83-860d-4ad8-9028-295d9cd60bfa",
   "metadata": {},
   "outputs": [],
   "source": []
  },
  {
   "cell_type": "code",
   "execution_count": null,
   "id": "7c073de4-7f1a-4606-9036-f2fd6b1d0a3c",
   "metadata": {},
   "outputs": [],
   "source": [
    "import re\n",
    "\n",
    "tables = re.findall(\"<table.*</table>\", r.text)\n",
    "formatted = []\n",
    "for table in tables:\n",
    "    table = re.sub(\"<sup.*(?!</sup>).*</sup>\", \"\", table)\n",
    "    table = re.sub(r\"\\([^\\)]*\\)\", \"\", table)\n",
    "    formatted.append(table)\n"
   ]
  },
  {
   "cell_type": "code",
   "execution_count": null,
   "id": "7b3cda85-c70b-48fb-9499-7e9f671f4add",
   "metadata": {},
   "outputs": [],
   "source": []
  },
  {
   "cell_type": "code",
   "execution_count": null,
   "id": "74fd906f-47fc-49a7-8fc5-638b0d8a128e",
   "metadata": {},
   "outputs": [],
   "source": [
    "table"
   ]
  },
  {
   "cell_type": "code",
   "execution_count": null,
   "id": "0b9fe3ec-992b-464b-b296-737484cc7980",
   "metadata": {},
   "outputs": [],
   "source": [
    "pd.read_html(formatted[0])"
   ]
  },
  {
   "cell_type": "code",
   "execution_count": null,
   "id": "5a161d2d-8e4a-4b6e-a5f1-de05866e10ca",
   "metadata": {},
   "outputs": [],
   "source": [
    "formatte"
   ]
  },
  {
   "cell_type": "code",
   "execution_count": null,
   "id": "b133d9d9-d58b-4ed4-b6d0-0fb9fac7e72d",
   "metadata": {},
   "outputs": [],
   "source": [
    "regex = re.compile(\"[^0-9]*\")\n",
    "\n",
    "res = regex.search(\"foobasr123\")"
   ]
  },
  {
   "cell_type": "code",
   "execution_count": null,
   "id": "bd6591f1-9386-4c12-8679-f05b87816e38",
   "metadata": {},
   "outputs": [],
   "source": [
    "res.group(0)"
   ]
  },
  {
   "cell_type": "code",
   "execution_count": null,
   "id": "6f52a545-8d8e-45b0-94c4-4fdf0c6a4bb0",
   "metadata": {},
   "outputs": [],
   "source": []
  }
 ],
 "metadata": {
  "kernelspec": {
   "display_name": "stock_dev",
   "language": "python",
   "name": "stock_dev"
  },
  "language_info": {
   "codemirror_mode": {
    "name": "ipython",
    "version": 3
   },
   "file_extension": ".py",
   "mimetype": "text/x-python",
   "name": "python",
   "nbconvert_exporter": "python",
   "pygments_lexer": "ipython3",
   "version": "3.9.5"
  }
 },
 "nbformat": 4,
 "nbformat_minor": 5
}
