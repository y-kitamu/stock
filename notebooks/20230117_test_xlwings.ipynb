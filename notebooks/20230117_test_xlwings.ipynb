{
 "cells": [
  {
   "attachments": {},
   "cell_type": "markdown",
   "metadata": {},
   "source": [
    "# xlwingsの動作検証\n",
    "- pythonでexcel書き込みで関数実行できるかチェック -> 動きそう、market speedのrssもうごきそう\n",
    "  -> これで行く\n",
    "\n",
    "これベースで自動売買システムを作る"
   ]
  },
  {
   "cell_type": "code",
   "execution_count": null,
   "metadata": {},
   "outputs": [],
   "source": [
    "from pathlib import Path\n",
    "import time\n",
    "\n",
    "import xlwings as xw"
   ]
  },
  {
   "cell_type": "code",
   "execution_count": null,
   "metadata": {},
   "outputs": [],
   "source": [
    "excel_path = Path(\"./tmp/test_xlwings.xlsx\")\n",
    "wb = xw.Book(excel_path)\n",
    "sheet = wb.sheets[0]"
   ]
  },
  {
   "cell_type": "code",
   "execution_count": null,
   "metadata": {},
   "outputs": [],
   "source": [
    "sheet.range(\"A2\").value = 2\n",
    "sheet.range(\"A3\").value = 3\n",
    "sheet.range(\"A4\").value = \"=A2 + A3\"\n",
    "sheet.range(\"A5\").value = \"=RssMarketHeader(1)\""
   ]
  },
  {
   "cell_type": "code",
   "execution_count": null,
   "metadata": {},
   "outputs": [],
   "source": [
    "unique_id = sheet.range(\"A4\").value\n",
    "trigger = 0\n",
    "sheet.range(\"A7\").value = \"=RssMarginOpenOrder()\""
   ]
  },
  {
   "cell_type": "code",
   "execution_count": null,
   "metadata": {},
   "outputs": [],
   "source": [
    "for i in range(10):\n",
    "    time.sleep(1)\n",
    "    print(sheet.range(\"A6\").value)"
   ]
  },
  {
   "cell_type": "code",
   "execution_count": null,
   "metadata": {},
   "outputs": [],
   "source": []
  }
 ],
 "metadata": {
  "kernelspec": {
   "display_name": "stock-KAjeMbA1-py3.11",
   "language": "python",
   "name": "python3"
  },
  "language_info": {
   "codemirror_mode": {
    "name": "ipython",
    "version": 3
   },
   "file_extension": ".py",
   "mimetype": "text/x-python",
   "name": "python",
   "nbconvert_exporter": "python",
   "pygments_lexer": "ipython3",
   "version": "3.11.1"
  },
  "vscode": {
   "interpreter": {
    "hash": "c2129137bca07ecf69a57b2bc4613c1be45a4ba2bd56b99ff1e3fe91ec2962bf"
   }
  }
 },
 "nbformat": 4,
 "nbformat_minor": 2
}
