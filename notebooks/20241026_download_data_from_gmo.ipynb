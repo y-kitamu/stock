{
 "cells": [
  {
   "cell_type": "code",
   "execution_count": null,
   "metadata": {},
   "outputs": [],
   "source": [
    "from pathlib import Path\n",
    "import datetime\n",
    "import json\n",
    "import io\n",
    "\n",
    "import polars as pl\n",
    "import requests\n",
    "from requests import Session\n",
    "from requests_cache import CacheMixin, SQLiteCache\n",
    "from requests_ratelimiter import LimiterMixin, MemoryQueueBucket\n",
    "from pyrate_limiter import Duration, Limiter, RequestRate\n",
    "from tqdm import tqdm\n",
    "\n",
    "import stock\n",
    "\n",
    "\n",
    "class CachedLimiterSession(CacheMixin, LimiterMixin, Session):\n",
    "    pass\n",
    "\n",
    "session = CachedLimiterSession(\n",
    "    limiter=Limiter(RequestRate(10, Duration.SECOND)),  # max 2 requests per 1 seconds\n",
    "    bucket_class=MemoryQueueBucket,\n",
    "    backend=SQLiteCache(\"gmo.cache\"),\n",
    ")"
   ]
  },
  {
   "cell_type": "code",
   "execution_count": null,
   "metadata": {},
   "outputs": [],
   "source": [
    "start_date = datetime.date(2018, 9, 5)\n",
    "end_date = datetime.date.today() - datetime.timedelta(days=1)\n",
    "\n",
    "ticker_list = [\n",
    "    \"BTC\",\n",
    "    \"ETH\",\n",
    "    \"BCH\",\n",
    "    \"LTC\",\n",
    "    \"XRP\",\n",
    "    \"XEM\",\n",
    "    \"XLM\",\n",
    "    \"BAT\",\n",
    "    \"XTZ\",\n",
    "    \"QTUM\",\n",
    "    \"ENJ\",\n",
    "    \"DOT\",\n",
    "    \"ATOM\",\n",
    "    \"MKR\",\n",
    "    \"DAI\",\n",
    "    \"XYM\",\n",
    "    \"MONA\",\n",
    "    \"FCR\",\n",
    "    \"ADA\",\n",
    "    \"LINK\",\n",
    "    \"DOGE\",\n",
    "    \"SOL\",\n",
    "    \"ASTR\",\n",
    "    \"BTC_JPY\",\n",
    "    \"ETH_JPY\",\n",
    "    \"BCH_JPY\",\n",
    "    \"LTC_JPY\",\n",
    "    \"XRP_JPY\",\n",
    "    \"DOT_JPY\",\n",
    "    \"ATOM_JPY\",\n",
    "    \"ADA_JPY\",\n",
    "    \"LINK_JPY\",\n",
    "    \"DOGE_JPY\",\n",
    "    \"SOL_JPY\",\n",
    "]\n",
    "base_url = \"https://api.coin.z.com/data/trades/{ticker}/{yyyy}/{mm:02d}/{yyyymmdd}_{ticker}.csv.gz\"\n",
    "output_root_dir = stock.PROJECT_ROOT / \"data\" / \"tick_data\""
   ]
  },
  {
   "cell_type": "code",
   "execution_count": null,
   "metadata": {},
   "outputs": [],
   "source": [
    "res = requests.get(base_url.format(ticker=\"BTC\", yyyy=2021, mm=1, yyyymmdd=20210101))"
   ]
  },
  {
   "cell_type": "code",
   "execution_count": null,
   "metadata": {},
   "outputs": [],
   "source": [
    "stream = io.BytesIO(res.content)"
   ]
  },
  {
   "cell_type": "code",
   "execution_count": null,
   "metadata": {},
   "outputs": [],
   "source": [
    "pl.read_csv(stream)"
   ]
  },
  {
   "cell_type": "code",
   "execution_count": null,
   "metadata": {},
   "outputs": [],
   "source": [
    "\n",
    "res.content"
   ]
  },
  {
   "cell_type": "code",
   "execution_count": null,
   "metadata": {},
   "outputs": [],
   "source": [
    "for ticker in ticker_list:\n",
    "    date = start_date\n",
    "    while date <= end_date:\n",
    "        url = base_url.format(ticker=ticker, yyyy=date.year, mm=date.month, yyyymmdd=date.strftime(\"%Y%m%d\"))\n",
    "        output_dir = output_root_dir / date.strftime(\"%Y%m%d\")\n",
    "        output_dir.mkdir(exist_ok=True)\n",
    "        output_path = output_dir / Path(url).name\n",
    "\n",
    "        response = session.get(url)\n",
    "        if response.status_code == 200:\n",
    "            with output_path.open(\"wb\") as f:\n",
    "                f.write(response.content)\n",
    "        else:\n",
    "            print(f\"Failed to download {url}\")\n",
    "        date += datetime.timedelta(days=1)"
   ]
  },
  {
   "cell_type": "code",
   "execution_count": null,
   "metadata": {},
   "outputs": [],
   "source": [
    "endPoint = 'https://api.coin.z.com/public'\n",
    "path     = '/v1/ticker'\n",
    "\n",
    "response = requests.get(endPoint + path)\n",
    "res =response.json()"
   ]
  },
  {
   "cell_type": "code",
   "execution_count": null,
   "metadata": {},
   "outputs": [],
   "source": [
    "fetcher = stock.io.gmo.gmo_fetcher.GMOFethcer()"
   ]
  },
  {
   "cell_type": "code",
   "execution_count": null,
   "metadata": {},
   "outputs": [],
   "source": [
    "fetcher.download_all()"
   ]
  },
  {
   "cell_type": "code",
   "execution_count": null,
   "metadata": {},
   "outputs": [],
   "source": [
    "for row in res[\"data\"]:\n",
    "    print(row[\"symbol\"])"
   ]
  }
 ],
 "metadata": {
  "kernelspec": {
   "display_name": ".venv",
   "language": "python",
   "name": "python3"
  },
  "language_info": {
   "codemirror_mode": {
    "name": "ipython",
    "version": 3
   },
   "file_extension": ".py",
   "mimetype": "text/x-python",
   "name": "python",
   "nbconvert_exporter": "python",
   "pygments_lexer": "ipython3",
   "version": "3.12.3"
  }
 },
 "nbformat": 4,
 "nbformat_minor": 2
}
