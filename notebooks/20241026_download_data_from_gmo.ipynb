{
 "cells": [
  {
   "cell_type": "code",
   "execution_count": null,
   "metadata": {},
   "outputs": [],
   "source": [
    "from pathlib import Path\n",
    "import datetime\n",
    "\n",
    "import requests\n",
    "from requests import Session\n",
    "from requests_cache import CacheMixin, SQLiteCache\n",
    "from requests_ratelimiter import LimiterMixin, MemoryQueueBucket\n",
    "from pyrate_limiter import Duration, Limiter, RequestRate\n",
    "from tqdm import tqdm\n",
    "\n",
    "import stock\n",
    "\n",
    "\n",
    "class CachedLimiterSession(CacheMixin, LimiterMixin, Session):\n",
    "    pass\n",
    "\n",
    "\n",
    "session = CachedLimiterSession(\n",
    "    limiter=Limiter(RequestRate(10, Duration.SECOND)),  # max 2 requests per 1 seconds\n",
    "    bucket_class=MemoryQueueBucket,\n",
    "    backend=SQLiteCache(\"gmo.cache\"),\n",
    ")"
   ]
  },
  {
   "cell_type": "code",
   "execution_count": null,
   "metadata": {},
   "outputs": [],
   "source": [
    "start_date = datetime.date(2018, 9, 5)\n",
    "end_date = datetime.date.today() - datetime.timedelta(days=1)\n",
    "\n",
    "ticker_list = [\n",
    "    \"BTC\",\n",
    "    \"ETH\",\n",
    "    \"BCH\",\n",
    "    \"LTC\",\n",
    "    \"XRP\",\n",
    "    \"XEM\",\n",
    "    \"XLM\",\n",
    "    \"BAT\",\n",
    "    \"XTZ\",\n",
    "    \"QTUM\",\n",
    "    \"ENJ\",\n",
    "    \"DOT\",\n",
    "    \"ATOM\",\n",
    "    \"MKR\",\n",
    "    \"DAI\",\n",
    "    \"XYM\",\n",
    "    \"MONA\",\n",
    "    \"FCR\",\n",
    "    \"ADA\",\n",
    "    \"LINK\",\n",
    "    \"DOGE\",\n",
    "    \"SOL\",\n",
    "    \"ASTR\",\n",
    "    \"BTC_JPY\",\n",
    "    \"ETH_JPY\",\n",
    "    \"BCH_JPY\",\n",
    "    \"LTC_JPY\",\n",
    "    \"XRP_JPY\",\n",
    "    \"DOT_JPY\",\n",
    "    \"ATOM_JPY\",\n",
    "    \"ADA_JPY\",\n",
    "    \"LINK_JPY\",\n",
    "    \"DOGE_JPY\",\n",
    "    \"SOL_JPY\",\n",
    "]\n",
    "base_url = \"https://api.coin.z.com/data/trades/{ticker}/{yyyy}/{mm:02d}/{yyyymmdd}_{ticker}.csv.gz\"\n",
    "output_root_dir = stock.PROJECT_ROOT / \"data\" / \"tick_data\""
   ]
  },
  {
   "cell_type": "code",
   "execution_count": null,
   "metadata": {},
   "outputs": [],
   "source": [
    "for ticker in ticker_list:\n",
    "    date = start_date\n",
    "    while date <= end_date:\n",
    "        url = base_url.format(ticker=ticker, yyyy=date.year, mm=date.month, yyyymmdd=date.strftime(\"%Y%m%d\"))\n",
    "        output_dir = output_root_dir / date.strftime(\"%Y%m%d\")\n",
    "        output_dir.mkdir(exist_ok=True)\n",
    "        output_path = output_dir / Path(url).name\n",
    "\n",
    "        response = requests.get(url)\n",
    "        if response.status_code == 200:\n",
    "            with output_path.open(\"wb\") as f:\n",
    "                f.write(response.content)\n",
    "        else:\n",
    "            print(f\"Failed to download {url}\")\n",
    "        date += datetime.timedelta(days=1)"
   ]
  },
  {
   "cell_type": "code",
   "execution_count": null,
   "metadata": {},
   "outputs": [],
   "source": [
    "output_dir = output_root_dir / date.strftime(\"%Y%m%d\")\n",
    "output_dir.mkdir(exist_ok=True)\n",
    "output_path = output_dir / Path(url).name"
   ]
  },
  {
   "cell_type": "code",
   "execution_count": null,
   "metadata": {},
   "outputs": [],
   "source": [
    "with output_path.open(\"wb\") as f:\n",
    "    f.write(response.content)"
   ]
  },
  {
   "cell_type": "code",
   "execution_count": null,
   "metadata": {},
   "outputs": [],
   "source": [
    "response.status_code"
   ]
  },
  {
   "cell_type": "code",
   "execution_count": null,
   "metadata": {},
   "outputs": [],
   "source": []
  }
 ],
 "metadata": {
  "kernelspec": {
   "display_name": ".venv",
   "language": "python",
   "name": "python3"
  },
  "language_info": {
   "codemirror_mode": {
    "name": "ipython",
    "version": 3
   },
   "file_extension": ".py",
   "mimetype": "text/x-python",
   "name": "python",
   "nbconvert_exporter": "python",
   "pygments_lexer": "ipython3",
   "version": "3.12.3"
  }
 },
 "nbformat": 4,
 "nbformat_minor": 2
}
