{
 "cells": [
  {
   "cell_type": "code",
   "execution_count": null,
   "metadata": {},
   "outputs": [],
   "source": [
    "import csv\n",
    "from pathlib import Path\n",
    "import json\n",
    "\n",
    "import yfinance as yf\n",
    "import numpy as np\n",
    "import pandas as pd\n",
    "import matplotlib.pyplot as plt\n",
    "\n",
    "from requests import Session\n",
    "from requests_cache import CacheMixin, SQLiteCache\n",
    "from requests_ratelimiter import LimiterMixin, MemoryQueueBucket\n",
    "from pyrate_limiter import Duration, RequestRate, Limiter\n",
    "\n",
    "import stock\n",
    "\n",
    "class CachedLimiterSession(CacheMixin, LimiterMixin, Session):\n",
    "    pass\n",
    "\n",
    "session = CachedLimiterSession(\n",
    "    limiter=Limiter(RequestRate(2, Duration.SECOND * 0.2)),\n",
    "    bucket_class=MemoryQueueBucket,\n",
    "    backend=SQLiteCache(\"yfinance.cache\"),\n",
    ")"
   ]
  },
  {
   "cell_type": "code",
   "execution_count": null,
   "metadata": {},
   "outputs": [],
   "source": [
    "ticker = yf.Ticker(\"MSFT\", session=session)\n",
    "history = ticker.history(interval=\"1wk\", period=\"2y\")\n",
    "\n",
    "close_values = history.Close.to_numpy()\n",
    "ma10 = np.convolve(close_values, np.ones(10) / 10, mode=\"valid\")\n",
    "ma30 = np.convolve(close_values, np.ones(30) / 30, mode=\"valid\")\n",
    "ma40 = np.convolve(close_values, np.ones(40) / 40, mode=\"valid\")\n",
    "\n",
    "plt.plot(close_values)\n",
    "plt.plot([i for i in range(10 - 1, len(close_values))], ma10)\n",
    "plt.plot([i for i in range(30 - 1, len(close_values))], ma30)\n",
    "plt.plot([i for i in range(40 - 1, len(close_values))], ma40)\n"
   ]
  },
  {
   "cell_type": "code",
   "execution_count": null,
   "metadata": {},
   "outputs": [],
   "source": [
    "def strength(target: np.array):\n",
    "    pct_change = np.diff(target) / target[:-1]\n",
    "    return np.cumprod((1 + pct_change))[-1] - 1\n",
    "\n",
    "\n",
    "def relative_strength(target: np.array,  reference: np.array) -> float:\n",
    "    target_strength = strength(target)\n",
    "    ref_strength = strength(reference)\n",
    "    rs = (target_strength + 1) / (ref_strength + 1) * 100\n",
    "    return rs\n",
    "\n",
    "\n",
    "def relative_strength_52wk(target: np.array, reference: np.array, num_division: int = 52, division_factor:float = 1.02):\n",
    "    weights = np.array([division_factor ** i for i in range(num_division)], dtype=float)\n",
    "    weights /= np.linalg.norm(weights, ord=1)\n",
    "\n",
    "    rs = 0.0\n",
    "    for i in range(num_division):\n",
    "        start = max(i * len(target) // num_division - 1, 0)\n",
    "        end = min((i + 1) * len(target) // num_division + 1, len(target))\n",
    "        # print(start, end)\n",
    "        rs += weights[i] * relative_strength(target[start:end], reference[start:end])\n",
    "    return rs"
   ]
  },
  {
   "cell_type": "code",
   "execution_count": null,
   "metadata": {},
   "outputs": [],
   "source": [
    "sp500_history = yf.Ticker(\"^GSPC\").history(interval=\"1wk\", period=\"2y\")\n",
    "sp500_closes = sp500_history.Close.to_numpy()\n",
    "dow_history = yf.Ticker(\"^DJI\").history(interval=\"1wk\", period=\"2y\")\n",
    "dow_closes = dow_history.Close.to_numpy()\n",
    "nasdaq_history = yf.Ticker(\"^IXIC\").history(interval=\"1wk\", period=\"2y\")\n",
    "nasdaq_closes = nasdaq_history.Close.to_numpy()"
   ]
  },
  {
   "cell_type": "code",
   "execution_count": null,
   "metadata": {},
   "outputs": [],
   "source": [
    "ticker.quarterly_financials"
   ]
  },
  {
   "cell_type": "code",
   "execution_count": null,
   "metadata": {},
   "outputs": [],
   "source": [
    "def trand_template_for_stage2(history: pd.DataFrame) -> bool:\n",
    "    \"\"\"第2ステージを特定するためのトレンドテンプレート\n",
    "    \"\"\"\n",
    "    close_values = history.Close.to_numpy()\n",
    "    if len(close_values) < 60:\n",
    "        return False\n",
    "    ma10 = np.convolve(close_values, np.ones(10) / 10, mode=\"valid\")\n",
    "    ma30 = np.convolve(close_values, np.ones(30) / 30, mode=\"valid\")\n",
    "    ma40 = np.convolve(close_values, np.ones(40) / 40, mode=\"valid\")\n",
    "    current_value = close_values[-1]\n",
    "\n",
    "    low52 = np.min(history.Low.to_numpy()[-52:])\n",
    "    high52 = np.max(history.High.to_numpy()[-52:])\n",
    "\n",
    "    flag = True\n",
    "    # 現在の株価が30週移動平均線と40週移動平均線を上回っている\n",
    "    flag &= current_value > ma40[-1] and current_value > ma30[-1]\n",
    "    # 150日(30週)移動平均線が200日(40週)移動平均線を上回っている\n",
    "    flag &= ma30[-1] > ma40[-1]\n",
    "    # 200日(40週)移動平均線は少なくとも1ヶ月上昇トレンドにある\n",
    "    flag &= np.all([ma40[-i - 1] - ma40[-i -2] > 0 for i in range(4)])\n",
    "    # 50日(10週)移動平均線は150日(30週)移動平均線と200日(40週)移動平均線を上回っている\n",
    "    flag &= ma10[-1] > ma30[-1] and ma10[-1] > ma40[-1]\n",
    "    # 現在の株価は50日移動平均線を上回っている\n",
    "    flag &= current_value > ma10[-1]\n",
    "    # 現在の株価は52週安値より少なくとも30%高い\n",
    "    flag &= current_value > 1.3 * low52\n",
    "    # 現在の株価は52週高値から少なくとも25%以内にある\n",
    "    flag &= current_value > 0.75 * high52\n",
    "    \n",
    "    return flag\n",
    "\n",
    "def fundamentals_template_for_stage2(ticker: yf.Ticker) -> bool:\n",
    "    financials = ticker.financials\n",
    "    flag = True\n",
    "    # 直近2四半期の利益がプラス\n",
    "    try:\n",
    "        flag &= financials.loc[\"Diluted EPS\"][0] > 0 and financials.loc[\"Diluted EPS\"][1] > 0\n",
    "    except:\n",
    "        stock.logger.exception(\"Failed to get Diluted EPS\")\n",
    "        flag = False\n",
    "    # 直近2四半期のepsが前年同期比で20%以上上昇\n",
    "    \n",
    "    return flag\n",
    "\n",
    "def calculate_relative_strengths(history: pd.DataFrame, num_division: int = 12, division_factor=1.1) -> tuple[float, float, float]:\n",
    "    close_values = history.Close.to_numpy()\n",
    "    if len(close_values) < 52:\n",
    "        return 0.0\n",
    "\n",
    "    # relative strength \n",
    "    rs_sp500 = relative_strength_52wk(close_values[-52:], sp500_closes[-52:], num_division=num_division, division_factor=division_factor)\n",
    "    rs_dow = relative_strength_52wk(close_values[-52:], dow_closes[-52:], num_division=num_division, division_factor=division_factor)\n",
    "    rs_nasdaq = relative_strength_52wk(close_values[-52:], nasdaq_closes[-52:], num_division=num_division, division_factor=division_factor)\n",
    "\n",
    "    return rs_sp500, rs_dow, rs_nasdaq\n",
    "\n",
    "def save_data(ticker: yf.Ticker, output_dir: Path):\n",
    "    \"\"\"Save quarterly financial fundamentals.\n",
    "    \"\"\"\n",
    "    output_dir.mkdir(exist_ok=True, parents=True)\n",
    "    output_path = output_dir / f\"{ticker.ticker}.json\"\n",
    "\n",
    "    financials = {}\n",
    "    if output_path.exists():\n",
    "        with open(output_path, \"r\") as f:\n",
    "            try:\n",
    "                financials = json.load(f)\n",
    "            except:\n",
    "                stock.logger.exception(\"Failed to load json data\")\n",
    "\n",
    "    for key, value in ticker.quarterly_financials.to_dict().items():\n",
    "        financials[key.strftime(\"%Y-%m-%d\")] = value\n",
    "    with open(output_path, \"w\") as f:\n",
    "        json.dump(financials, f, indent=4)\n",
    "    stock.logger.info(f\"Save data : {output_path.as_posix()}\")"
   ]
  },
  {
   "cell_type": "code",
   "execution_count": null,
   "metadata": {},
   "outputs": [],
   "source": [
    "# load stock code list\n",
    "with open(stock.DATA_DIR / \"us_stock_codes.csv\", \"r\") as f:\n",
    "    csv_reader = csv.reader(f)\n",
    "    all_codes = [row[0] for row in list(csv_reader)[1:]]\n",
    "\n",
    "flags = np.array([False for i in range(len(all_codes))], dtype=bool)\n",
    "relative_strengths = np.zeros((len(all_codes), 3), dtype=float)\n",
    "for idx, code in enumerate(all_codes):\n",
    "    stock.logger.info(f\"Start checking : {code}\")\n",
    "    ticker = yf.Ticker(code, session=session)\n",
    "    history = ticker.history(interval=\"1wk\", period=\"2y\")\n",
    "\n",
    "    flags[idx] = trand_template_for_stage2(history) and fundamentals_template_for_stage2(ticker)\n",
    "    relative_strengths[idx, :] = calculate_relative_strengths(history)\n",
    "\n",
    "    save_data(ticker, stock.DATA_DIR / \"codes\")\n",
    "    # stock.logger.info(f\"!!!!Good ticker!!!! : {code}\")"
   ]
  },
  {
   "cell_type": "code",
   "execution_count": null,
   "metadata": {},
   "outputs": [],
   "source": [
    "rss = np.mean(relative_strengths, axis=1)\n",
    "pt80 = np.percentile(rss, 80)\n",
    "good = np.logical_and(flags, rss > pt80)\n",
    "good.sum()"
   ]
  },
  {
   "cell_type": "code",
   "execution_count": null,
   "metadata": {},
   "outputs": [],
   "source": [
    "for idx in range(len(flags)):\n",
    "    if good[idx]:\n",
    "        code = all_codes[idx]\n",
    "        percentile = (rss < rss[idx]).sum() / len(rss)\n",
    "        ticker = yf.Ticker(code)\n",
    "        print(f\"{code}\")"
   ]
  },
  {
   "cell_type": "code",
   "execution_count": null,
   "metadata": {},
   "outputs": [],
   "source": [
    "for key in ticker.quarterly_financials.to_dict().keys():\n",
    "    key.strftime(\"%Y-%m-%d\")"
   ]
  },
  {
   "cell_type": "code",
   "execution_count": null,
   "metadata": {},
   "outputs": [],
   "source": []
  },
  {
   "cell_type": "code",
   "execution_count": null,
   "metadata": {},
   "outputs": [],
   "source": []
  },
  {
   "cell_type": "code",
   "execution_count": null,
   "metadata": {},
   "outputs": [],
   "source": [
    "code = \"AAL\"\n",
    "ticker = yf.Ticker(code, session=session)\n",
    "history = ticker.history(interval=\"1wk\", period=\"2y\")\n",
    "\n",
    "data = history.Close.to_numpy()\n",
    "data52 = data[-52:]\n",
    "sp52 = sp500_closes[-52:]\n",
    "dow52 = dow_closes[-52:]\n",
    "nas52 = nasdaq_closes[-52:]\n",
    "\n",
    "plt.plot(data52 / data52[0], label=\"target\")\n",
    "plt.plot(sp52 / sp52[0], label=\"sp500\")\n",
    "plt.plot(dow52 / dow52[0], label=\"dow\")\n",
    "plt.plot(nas52 / nas52[0], label=\"nasdaq\")\n",
    "#plt.plot(sp500_closes / sp500_closes[0], label=\"sp500\")\n",
    "#plt.plot(dow_closes / dow_closes[0], label=\"dow\")\n",
    "#plt.plot(nasdaq_closes / nasdaq_closes[0], label=\"nasdaq\")\n",
    "plt.legend()\n",
    "\n",
    "calculate_relative_strengths(history) #, num_division=1, division_factor=0)"
   ]
  },
  {
   "cell_type": "code",
   "execution_count": null,
   "metadata": {},
   "outputs": [],
   "source": []
  }
 ],
 "metadata": {
  "kernelspec": {
   "display_name": "Python 3.10.6 ('.venv': poetry)",
   "language": "python",
   "name": "python3"
  },
  "language_info": {
   "codemirror_mode": {
    "name": "ipython",
    "version": 3
   },
   "file_extension": ".py",
   "mimetype": "text/x-python",
   "name": "python",
   "nbconvert_exporter": "python",
   "pygments_lexer": "ipython3",
   "version": "3.10.12"
  },
  "vscode": {
   "interpreter": {
    "hash": "0925d657e30d00cf1a4f19c1b7a91cf3b3559e9055505eaa2fd1b9771cefd6bc"
   }
  }
 },
 "nbformat": 4,
 "nbformat_minor": 2
}
