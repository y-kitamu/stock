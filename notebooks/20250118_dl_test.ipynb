{
 "cells": [
  {
   "cell_type": "code",
   "execution_count": null,
   "metadata": {},
   "outputs": [],
   "source": [
    "from pathlib import Path\n",
    "from typing import Any\n",
    "import random\n",
    "import datetime\n",
    "\n",
    "from pydantic import BaseModel\n",
    "import tensorflow as tf\n",
    "import matplotlib.pyplot as plt\n",
    "import numpy as np\n",
    "import polars as pl\n",
    "\n",
    "import dl_engine as engine"
   ]
  },
  {
   "cell_type": "code",
   "execution_count": null,
   "metadata": {},
   "outputs": [],
   "source": [
    "data_csv_path = Path(\"../data/daily/0000.csv\")\n",
    "df = pl.read_csv(data_csv_path)\n",
    "df = df.with_columns(\n",
    "    pl.col(\"date\").str.to_date(\"%Y/%m/%d\").alias(\"datetime\")\n",
    ")"
   ]
  },
  {
   "cell_type": "code",
   "execution_count": null,
   "metadata": {},
   "outputs": [],
   "source": [
    "def create_gaf_image(arr: np.ndarray):\n",
    "    \"\"\"\n",
    "    Deep Learning and Time Series-to-Image Encoding for Financial Forecasting.\n",
    "    \"\"\"\n",
    "    cos_arr = ((arr - arr.max()) + (arr - arr.min())) / (arr.max() - arr.min())\n",
    "    sin_arr = np.sqrt(1 - cos_arr * cos_arr)\n",
    "    gasf = cos_arr[..., None].dot(cos_arr[None, ...]) - sin_arr[..., None].dot(sin_arr[None, ...])\n",
    "    gadf = sin_arr[..., None].dot(cos_arr[None, ...]) - cos_arr[..., None].dot(sin_arr[None, ...])\n",
    "    return np.stack([gasf, gadf], axis=-1)"
   ]
  },
  {
   "cell_type": "code",
   "execution_count": null,
   "metadata": {},
   "outputs": [],
   "source": [
    "def read_csv(csv_path: Path):\n",
    "    df = pl.read_csv(csv_path)\n",
    "    df = df.with_columns(\n",
    "        pl.col(\"date\").str.to_date(\"%Y/%m/%d\").alias(\"datetime\")\n",
    "    )    \n",
    "    return df\n",
    "\n",
    "class GAFDataloader(engine.base.BaseDataloader):\n",
    "    class Params(BaseModel):\n",
    "        batch_size: int = 32\n",
    "        csv_path_list: list[Path] = [Path(\"../data/daily/0000.csv\")]\n",
    "        sample_size: int = 20\n",
    "        steps_per_epoch: int = 1000\n",
    "        test_start_date: datetime.date = datetime.date.today()\n",
    "        test_end_date: datetime.date = datetime.date.today()\n",
    "\n",
    "    def __init__(self, params: Params, is_train: bool = True):\n",
    "        self.params = params\n",
    "        self.dfs = [read_csv(p) for p in params.csv_path_list]\n",
    "\n",
    "        if is_train:\n",
    "            self.dfs = [df.filter(pl.col(\"datetime\") < self.params.test_start_date)  for df in self.dfs]\n",
    "        else:\n",
    "            self.dfs = [df.filter(pl.col(\"datetime\").is_between(self.params.test_start_date, self.params.test_end_date)) for df in self.dfs]\n",
    "\n",
    "    @property\n",
    "    def steps_per_epoch(self) -> int:\n",
    "        return self.params.steps_per_epoch\n",
    "\n",
    "    @property\n",
    "    def output_keys(self) -> list[str]:\n",
    "        return [\"input\", \"y_true\"]\n",
    "\n",
    "    @property\n",
    "    def output_shape(self) -> list[int]:\n",
    "        return [self.params.sample_size, self.params.sample_size, 2]\n",
    "\n",
    "    def get_next(self) -> dict[str, Any]:\n",
    "        sample_rate = np.array([len(df) for df in self.dfs])\n",
    "        sample_rate = sample_rate / sample_rate.sum()\n",
    "        sample_num = [rate * self.params.batch_size for rate in sample_rate]\n",
    "        sample_num_int = [int(n) for n in sample_num]\n",
    "        sample_num_float = [nf - ni for nf, ni in zip(sample_num, sample_num_int)]\n",
    "        residual = self.params.batch_size - sum(sample_num_int)\n",
    "        \n",
    "        if residual > 0:\n",
    "            for idx in random.choices([i for i in range(len(self.dfs))], weights=sample_num_float, k=residual):\n",
    "                sample_num_int[idx] += 1\n",
    "        \n",
    "        inputs = []\n",
    "        y_trues = []\n",
    "        for idx, df in enumerate(self.dfs):\n",
    "            for _ in range(sample_num_int[idx]):\n",
    "                input, y_true = sample_image(df, self.params.sample_size)\n",
    "                inputs.append(input)\n",
    "                y_trues.append(y_true)\n",
    "        \n",
    "        return {\n",
    "            \"input\": np.stack(inputs, axis=0),\n",
    "            \"y_true\": np.array(y_trues)\n",
    "        }\n",
    "\n",
    "def sample_image(df, sample_size, threshold=0.7):\n",
    "    min_idx, max_idx = sample_size, len(df) - sample_size - 1\n",
    "    target_idx = random.randint(min_idx, max_idx)\n",
    "    \n",
    "    arr = df[\"close\"][target_idx - sample_size + 1:target_idx + 1].to_numpy()\n",
    "    min_val = df[\"close\"][target_idx + 1:target_idx + sample_size + 1].min()\n",
    "    max_val = df[\"close\"][target_idx + 1:target_idx + sample_size + 1].max()\n",
    "\n",
    "    image = create_gaf_image(arr)\n",
    "    y_true = (max_val - df[\"open\"][target_idx]) / (max_val - min_val)\n",
    "\n",
    "    return image, float(y_true > threshold)"
   ]
  },
  {
   "cell_type": "code",
   "execution_count": null,
   "metadata": {},
   "outputs": [],
   "source": [
    "class MSELoss(engine.base.BaseLoss):\n",
    "    class Params(BaseModel):\n",
    "        label_smoothing: float = 0.05\n",
    "        scale: float = 1.0\n",
    "\n",
    "    def __init__(self, params: Params):\n",
    "        super().__init__()\n",
    "        self.params = params\n",
    "        self.metrics = {\n",
    "            \"loss\": tf.keras.metrics.Mean(),\n",
    "        }\n",
    "\n",
    "    @property\n",
    "    def output_keys(self) -> list[str]:\n",
    "        return [\"loss\"]\n",
    "\n",
    "    def update_metrics(self, data: dict[str, Any]) -> None:\n",
    "        self.metrics[\"loss\"](data[\"loss\"])\n",
    "\n",
    "    def get_metrics(self) -> dict[str, float]:\n",
    "        return {key: val.result() for key, val in self.metrics.items()}\n",
    "\n",
    "    def reset_metrics(self) -> None:\n",
    "        self.metrics[\"loss\"].reset_state()\n",
    "\n",
    "    def call(self, y_true, y_pred) -> dict[str, Any]:\n",
    "        diff = (tf.abs(y_true - y_pred) - self.params.label_smoothing) * self.params.scale\n",
    "        return {\n",
    "            \"loss\": tf.reduce_mean(diff * diff)\n",
    "        }"
   ]
  },
  {
   "cell_type": "code",
   "execution_count": null,
   "metadata": {},
   "outputs": [],
   "source": [
    "params = GAFDataloader.Params()\n",
    "dataloader = GAFDataloader(params=params)\n",
    "data = dataloader.get_next()"
   ]
  },
  {
   "cell_type": "code",
   "execution_count": null,
   "metadata": {},
   "outputs": [],
   "source": [
    "engine.dataloader.dataloader_list[\"gaf\"] = GAFDataloader\n",
    "engine.losses.loss_list[\"mse_loss\"] = MSELoss\n",
    "\n",
    "params_path = Path(\"../params/20250119.json\")\n",
    "\n",
    "if not params_path.exists():\n",
    "    params = engine.Trainer.Params.get_default_params(loss_name=\"mse_loss\", dataloader_name=\"gaf\", network_name=\"conv_net\")\n",
    "    with open(params_path, \"w\") as f:\n",
    "        f.write(params.model_dump_json(indent=2))\n",
    "\n",
    "with open(params_path, \"r\") as f:\n",
    "    params = engine.Trainer.Params.model_validate_json(f.read())"
   ]
  },
  {
   "cell_type": "code",
   "execution_count": null,
   "metadata": {},
   "outputs": [],
   "source": [
    "output_root_dir = Path(\"../results\") / params_path.stem / \"train\"\n",
    "output_root_dir.mkdir(exist_ok=True, parents=True)\n",
    "\n",
    "callbacks = engine.callbacks.CallbackList([\n",
    "    engine.callbacks.Checkpoint(output_root_dir / \"checkpoint\"),\n",
    "    engine.callbacks.TrainLogger(),\n",
    "])\n",
    "trainer = engine.Trainer(params=params, callbacks=callbacks)"
   ]
  },
  {
   "cell_type": "code",
   "execution_count": null,
   "metadata": {},
   "outputs": [],
   "source": [
    "trainer.train()"
   ]
  },
  {
   "cell_type": "code",
   "execution_count": null,
   "metadata": {},
   "outputs": [],
   "source": []
  },
  {
   "cell_type": "code",
   "execution_count": null,
   "metadata": {},
   "outputs": [],
   "source": [
    "data = trainer.train_dataloader.get_next()\n",
    "y_pred = trainer.network(data[\"input\"])"
   ]
  },
  {
   "cell_type": "code",
   "execution_count": null,
   "metadata": {},
   "outputs": [],
   "source": [
    "data[\"y_true\"]"
   ]
  },
  {
   "cell_type": "code",
   "execution_count": null,
   "metadata": {},
   "outputs": [],
   "source": [
    "y_pred"
   ]
  },
  {
   "cell_type": "code",
   "execution_count": null,
   "metadata": {},
   "outputs": [],
   "source": []
  }
 ],
 "metadata": {
  "kernelspec": {
   "display_name": "Python 3",
   "language": "python",
   "name": "python3"
  },
  "language_info": {
   "codemirror_mode": {
    "name": "ipython",
    "version": 3
   },
   "file_extension": ".py",
   "mimetype": "text/x-python",
   "name": "python",
   "nbconvert_exporter": "python",
   "pygments_lexer": "ipython3",
   "version": "3.12.3"
  }
 },
 "nbformat": 4,
 "nbformat_minor": 2
}
