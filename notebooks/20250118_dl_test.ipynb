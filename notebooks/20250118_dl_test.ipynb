{
 "cells": [
  {
   "cell_type": "code",
   "execution_count": null,
   "metadata": {},
   "outputs": [],
   "source": [
    "from pathlib import Path\n",
    "\n",
    "import tensorflow as tf\n",
    "import matplotlib.pyplot as plt\n",
    "import numpy as np\n",
    "\n",
    "import dl_engine as engine"
   ]
  },
  {
   "cell_type": "code",
   "execution_count": null,
   "metadata": {},
   "outputs": [],
   "source": [
    "# dl_engineの動作確認 (mnistで実験)\n",
    "params_path = Path(\"../params/example.json\")\n",
    "if not params_path.exists():\n",
    "    params = engine.Trainer.Params.get_default_params()\n",
    "    with open(params_path, \"w\") as f:\n",
    "        f.write(params.model_dump_json(indent=2))\n",
    "\n",
    "with open(params_path, \"r\") as f:\n",
    "    params = engine.Trainer.Params.model_validate_json(f.read())\n",
    "\n",
    "output_dir = Path(f\"../results/{params_path.stem}\")\n",
    "output_dir.mkdir(exist_ok=True, parents=True)\n",
    "\n",
    "callbacks = engine.callbacks.CallbackList([\n",
    "    engine.callbacks.TrainLogger(),\n",
    "    engine.callbacks.Checkpoint(output_dir=output_dir)\n",
    "])\n",
    "trainer = engine.Trainer(params=params, callbacks=callbacks)\n",
    "trainer.train()"
   ]
  },
  {
   "cell_type": "code",
   "execution_count": null,
   "metadata": {},
   "outputs": [],
   "source": [
    "# cnnで予測する"
   ]
  },
  {
   "cell_type": "code",
   "execution_count": null,
   "metadata": {},
   "outputs": [],
   "source": []
  }
 ],
 "metadata": {
  "kernelspec": {
   "display_name": "Python 3",
   "language": "python",
   "name": "python3"
  },
  "language_info": {
   "codemirror_mode": {
    "name": "ipython",
    "version": 3
   },
   "file_extension": ".py",
   "mimetype": "text/x-python",
   "name": "python",
   "nbconvert_exporter": "python",
   "pygments_lexer": "ipython3",
   "version": "3.12.3"
  }
 },
 "nbformat": 4,
 "nbformat_minor": 2
}
