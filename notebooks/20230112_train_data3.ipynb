{
 "cells": [
  {
   "cell_type": "markdown",
   "metadata": {},
   "source": [
    "# 上昇するかどうかを予測するAIを学習する"
   ]
  },
  {
   "cell_type": "code",
   "execution_count": null,
   "metadata": {},
   "outputs": [],
   "source": [
    "from datetime import datetime\n",
    "\n",
    "from tqdm import tqdm\n",
    "import matplotlib.pyplot as plt\n",
    "import numpy as np\n",
    "\n",
    "import stock"
   ]
  },
  {
   "cell_type": "code",
   "execution_count": null,
   "metadata": {},
   "outputs": [],
   "source": [
    "timestamp = datetime.now().strftime(\"%Y%m%d_%H%M%S\")\n",
    "params = stock.dl.train.TrainerParams(\n",
    "    output_dir=f\"./tmp/{timestamp}\"\n",
    ")\n",
    "trainer = stock.dl.train.Trainer(params)"
   ]
  },
  {
   "cell_type": "code",
   "execution_count": null,
   "metadata": {},
   "outputs": [],
   "source": [
    "trainer.train()"
   ]
  },
  {
   "cell_type": "code",
   "execution_count": null,
   "metadata": {},
   "outputs": [],
   "source": [
    "trues, preds = trainer.test()"
   ]
  },
  {
   "cell_type": "code",
   "execution_count": null,
   "metadata": {},
   "outputs": [],
   "source": [
    "idx = 20\n",
    "ts = trues[:, idx]\n",
    "ps = preds[:, idx]\n",
    "print(np.corrcoef(ts, ps)[0, 1])\n",
    "plt.scatter(ts, ps)\n",
    "plt.axhline(0)\n",
    "plt.axvline(0)"
   ]
  },
  {
   "cell_type": "code",
   "execution_count": null,
   "metadata": {},
   "outputs": [],
   "source": [
    "trues_arr = trues.numpy()\n",
    "preds_arr = preds.numpy()\n",
    "num_codes = trues_arr.shape[1]"
   ]
  },
  {
   "cell_type": "code",
   "execution_count": null,
   "metadata": {},
   "outputs": [],
   "source": []
  },
  {
   "cell_type": "code",
   "execution_count": null,
   "metadata": {},
   "outputs": [],
   "source": [
    "profits = []\n",
    "for i in range(num_codes):\n",
    "    ts = trues_arr[:, i]\n",
    "    ps = preds_arr[:, i]\n",
    "    ps_thr = ps > 0\n",
    "    profit = ts[ps_thr].sum() - ts[~ps_thr].sum()\n",
    "    profits.append(profit)"
   ]
  },
  {
   "cell_type": "code",
   "execution_count": null,
   "metadata": {},
   "outputs": [],
   "source": [
    "np.mean(profits)"
   ]
  },
  {
   "cell_type": "code",
   "execution_count": null,
   "metadata": {},
   "outputs": [],
   "source": []
  },
  {
   "cell_type": "code",
   "execution_count": null,
   "metadata": {},
   "outputs": [],
   "source": [
    "dataset = trainer.dataset\n",
    "us_data = dataset.data[:, dataset._us_data_indices]\n",
    "jp_data = dataset.data[:, dataset._jp_data_indices]\n",
    "n_us = us_data.shape[1]\n",
    "n_jp = jp_data.shape[1]"
   ]
  },
  {
   "cell_type": "code",
   "execution_count": null,
   "metadata": {},
   "outputs": [],
   "source": [
    "len(dataset.us_symbols), len(dataset.jp_symbols)"
   ]
  },
  {
   "cell_type": "code",
   "execution_count": null,
   "metadata": {},
   "outputs": [],
   "source": [
    "changes = np.abs(us_data).mean(axis=1)\n",
    "us_data1 = us_data[changes > 1.25]\n",
    "jp_data1 = jp_data[changes > 1.25]"
   ]
  },
  {
   "cell_type": "code",
   "execution_count": null,
   "metadata": {},
   "outputs": [],
   "source": [
    "us_data1.shape, us_data.shape, jp_data1.shape, jp_data.shape"
   ]
  },
  {
   "cell_type": "code",
   "execution_count": null,
   "metadata": {},
   "outputs": [],
   "source": [
    "def calc_corres(data1, data2):\n",
    "    n_d1 = data1.shape[1]\n",
    "    n_d2 = data2.shape[1]\n",
    "    corres = np.zeros((n_d1, n_d2))\n",
    "\n",
    "    for iu in tqdm(range(n_us)):\n",
    "        for ij in range(n_jp):\n",
    "            u = data1[:, iu]\n",
    "            j = data2[:, ij]\n",
    "            c = np.corrcoef(u, j)[0, 1]\n",
    "            corres[iu, ij] = c\n",
    "    return corres"
   ]
  },
  {
   "cell_type": "code",
   "execution_count": null,
   "metadata": {},
   "outputs": [],
   "source": [
    "corres = calc_corres(us_data1, jp_data1)"
   ]
  },
  {
   "cell_type": "code",
   "execution_count": null,
   "metadata": {},
   "outputs": [],
   "source": [
    "us_data1.shape, jp_data1.shape"
   ]
  },
  {
   "cell_type": "code",
   "execution_count": null,
   "metadata": {},
   "outputs": [],
   "source": [
    "corres.argmax()"
   ]
  },
  {
   "cell_type": "code",
   "execution_count": null,
   "metadata": {},
   "outputs": [],
   "source": [
    "corres.max(), corres.argmax(axis=0)"
   ]
  },
  {
   "cell_type": "code",
   "execution_count": null,
   "metadata": {},
   "outputs": [],
   "source": [
    "us_idx = 132\n",
    "jp_idx = 13\n",
    "\n",
    "profit = 1.0\n",
    "cnt = 0\n",
    "num_day = us_data1.shape[0]\n",
    "for i in range(num_day):\n",
    "    if us_data1[i, us_idx] > 0:\n",
    "        profit *= (1.0 + jp_data1[i, jp_idx] / 100)\n",
    "    else:\n",
    "        profit *= (1.0 - jp_data1[i, jp_idx] / 100)\n",
    "\n",
    "    us = us_data1[i, us_idx] > 0 \n",
    "    jp = jp_data1[i, jp_idx] > 0\n",
    "    if us != jp:\n",
    "        cnt += 1\n",
    "\n",
    "print(f\"{profit}, {cnt} / {num_day}\")"
   ]
  },
  {
   "cell_type": "code",
   "execution_count": null,
   "metadata": {},
   "outputs": [],
   "source": [
    "plt\n",
    "plt.scatter(us_data1[:, us_idx], jp_data1[:, jp_idx])"
   ]
  },
  {
   "cell_type": "code",
   "execution_count": null,
   "metadata": {},
   "outputs": [],
   "source": []
  }
 ],
 "metadata": {
  "kernelspec": {
   "display_name": "Python 3.10.6 ('.venv': poetry)",
   "language": "python",
   "name": "python3"
  },
  "language_info": {
   "codemirror_mode": {
    "name": "ipython",
    "version": 3
   },
   "file_extension": ".py",
   "mimetype": "text/x-python",
   "name": "python",
   "nbconvert_exporter": "python",
   "pygments_lexer": "ipython3",
   "version": "3.10.6"
  },
  "vscode": {
   "interpreter": {
    "hash": "0925d657e30d00cf1a4f19c1b7a91cf3b3559e9055505eaa2fd1b9771cefd6bc"
   }
  }
 },
 "nbformat": 4,
 "nbformat_minor": 2
}
