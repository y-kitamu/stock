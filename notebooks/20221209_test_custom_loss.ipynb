{
 "cells": [
  {
   "cell_type": "markdown",
   "metadata": {},
   "source": [
    "## SimulatedLossを試す"
   ]
  },
  {
   "cell_type": "code",
   "execution_count": null,
   "metadata": {},
   "outputs": [],
   "source": [
    "from pathlib import Path\n",
    "\n",
    "import numpy as np\n",
    "import tensorflow as tf\n",
    "\n",
    "import stock"
   ]
  },
  {
   "cell_type": "code",
   "execution_count": null,
   "metadata": {},
   "outputs": [],
   "source": [
    "dataset_params = stock.dl.dataset.DatasetParams(\n",
    "    symbols_csv_path=Path(\"~/work/Projects/stock/data/sp500_companies.csv\"),\n",
    "    data_dir=stock.DATA_DIR / \"sp500\",\n",
    "    dataset_path=stock.DATA_DIR / \"dataset\" / \"sp500_20221203.npy\",\n",
    "    input_width=30,\n",
    "    shift=30,\n",
    "    output_width=1,\n",
    ")\n",
    "model_params = stock.dl.models.ModelParams(name=\"lstm\")\n",
    "loss_params = stock.dl.losses.SimulatedLossParams(name=\"simulated\")\n",
    "train_params = stock.dl.train.TrainerParams(\n",
    "    dataset_params=dataset_params, \n",
    "    model_params=model_params, \n",
    "    loss_params=loss_params,\n",
    "    epochs=10\n",
    ")"
   ]
  },
  {
   "cell_type": "code",
   "execution_count": null,
   "metadata": {},
   "outputs": [],
   "source": [
    "trainer = stock.dl.train.Trainer(train_params)\n",
    "\n",
    "trainer.params.n_output_classes = trainer.dataset.num_symbols * 3\n",
    "trainer.params.loss_params.n_classes = trainer.dataset.num_symbols\n",
    "trainer.params.loss_params.high_lows = trainer.dataset.high_low_indices\n",
    "\n",
    "trainer.build()"
   ]
  },
  {
   "cell_type": "code",
   "execution_count": null,
   "metadata": {},
   "outputs": [],
   "source": [
    "trainer.model.summary()"
   ]
  },
  {
   "cell_type": "code",
   "execution_count": null,
   "metadata": {},
   "outputs": [],
   "source": [
    "params = stock.dl.losses.SimulatedLossParams(\n",
    "    name=\"foo\",\n",
    "    n_classes=3,\n",
    "    high_lows=[(0, 1), (2, 3), (4, 5)]\n",
    ")\n",
    "sl = stock.dl.losses.SimulatedLoss(params)"
   ]
  },
  {
   "cell_type": "code",
   "execution_count": null,
   "metadata": {},
   "outputs": [],
   "source": [
    "y_true = np.array([\n",
    "    # [200, 100, 250, 190, 280, 250],\n",
    "    [10, 5, 7, 6, 5, 5],\n",
    "    # [21, 11, 22, 15, 23, 8],\n",
    "    # [150, 10, 140, 30, 20, 10],\n",
    "], dtype=np.float32)\n",
    "y_pred = np.array([\n",
    "    # [0.1, 0.2, 0.7, 190, 160, 200, 195, 290, 240],\n",
    "    [0.3, 0.3, 0.4, 10, 6, 7, 7, 4, 6],\n",
    "    # [0.2, 0.2, 0.6, 20, 18, 19, 19, 22, 7],\n",
    "    # [0.0, 0.2, 0.8, 150, 10, 140, 30, 20, 10],\n",
    "], dtype=np.float32)"
   ]
  },
  {
   "cell_type": "code",
   "execution_count": null,
   "metadata": {},
   "outputs": [],
   "source": [
    "n_classes = 3\n",
    "fee_rate = 0.005\n",
    "idx = 2\n",
    "high = y_true[:, 4]\n",
    "low = y_true[:, 5]\n",
    "# high = [3.0]\n",
    "# low = [11.0]\n",
    "profit_loss_weight: float = 1.0\n",
    "variance_loss_weight: float = 1.0\n",
    "no_contract_weight: float = 0.1  # 何も取引しなかった場合のペナルティの重み\n",
    "\n",
    "ratio = y_pred[:, idx]  # 資産の何割をこの銘柄の売買に使うか\n",
    "sell = y_pred[:, n_classes + idx] * (1.0 - fee_rate)  # 買値\n",
    "buy = y_pred[:, n_classes * 2 + idx] * (1.0 + fee_rate)  # 売値\n",
    "\n",
    "# 儲け額\n",
    "profit = ratio * tf.abs(sell - buy) / (tf.abs(sell + buy)  + 1e-5)\n",
    "# 高値、安値の両方で取引成立しなかった場合は0\n",
    "# 高値、安値のどちらかのみで取引成立した場合は、マイナス\n",
    "# 高値、安値の両方で取引成立した場合は、プラス\n",
    "factor = (high - sell) * sl.relu(buy - low) + sl.relu(high - sell) * (buy - low)\n",
    "# 高値、安値の両方で取引成立しなかった場合はマイナスfactorをかける\n",
    "factor -= no_contract_weight * sl.relu(sell - high) * sl.relu(low - buy)\n",
    "# 銘柄ごとの価格差によるscaleを考慮して補正\n",
    "factor /= tf.square((high + low + 1e-3) / 100.0)\n",
    "total_profit = tf.reduce_sum(profit * factor)\n"
   ]
  },
  {
   "cell_type": "code",
   "execution_count": null,
   "metadata": {},
   "outputs": [],
   "source": [
    "-total_profit"
   ]
  },
  {
   "cell_type": "code",
   "execution_count": null,
   "metadata": {},
   "outputs": [],
   "source": [
    "print(f\"high = {high}, low = {low}, sell = {sell}, buy = {buy})\")\n",
    "print(f\"ratio = {ratio}, profit = {profit}, factor = {factor}, total_profit = {total_profit}\")\n",
    "print(f\"{profit * factor}\")"
   ]
  },
  {
   "cell_type": "code",
   "execution_count": null,
   "metadata": {},
   "outputs": [],
   "source": [
    "sl(y_true, y_pred)\n",
    "\n",
    "sl.profit_loss, sl.variance_loss"
   ]
  },
  {
   "cell_type": "code",
   "execution_count": null,
   "metadata": {},
   "outputs": [],
   "source": []
  }
 ],
 "metadata": {
  "kernelspec": {
   "display_name": "Python 3.10.6 ('.venv': poetry)",
   "language": "python",
   "name": "python3"
  },
  "language_info": {
   "codemirror_mode": {
    "name": "ipython",
    "version": 3
   },
   "file_extension": ".py",
   "mimetype": "text/x-python",
   "name": "python",
   "nbconvert_exporter": "python",
   "pygments_lexer": "ipython3",
   "version": "3.10.6"
  },
  "vscode": {
   "interpreter": {
    "hash": "0925d657e30d00cf1a4f19c1b7a91cf3b3559e9055505eaa2fd1b9771cefd6bc"
   }
  }
 },
 "nbformat": 4,
 "nbformat_minor": 2
}
