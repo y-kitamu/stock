{
 "cells": [
  {
   "cell_type": "code",
   "execution_count": null,
   "metadata": {},
   "outputs": [],
   "source": [
    "from pathlib import Path\n",
    "from datetime import datetime, timedelta\n",
    "\n",
    "import polars as pl\n",
    "\n",
    "import stock"
   ]
  },
  {
   "cell_type": "code",
   "execution_count": null,
   "metadata": {},
   "outputs": [],
   "source": [
    "csv_path = stock.PROJECT_ROOT / \"data\" / \"watch_list_jp.csv\"\n",
    "watch_list = pl.read_csv(csv_path)[\"code\"].to_numpy()"
   ]
  },
  {
   "cell_type": "code",
   "execution_count": null,
   "metadata": {},
   "outputs": [],
   "source": [
    "nikkei_df = stock.kabutan.read_data_csv(stock.PROJECT_ROOT / \"data\" / \"daily\" / \"0000.csv\", exclude_none=False)\n",
    "\n",
    "def get_start_and_high(df: pl.DataFrame):\n",
    "    start = df[\"open\"][0]\n",
    "    high = df[\"close\"].mean()\n",
    "    return start, high"
   ]
  },
  {
   "cell_type": "code",
   "execution_count": null,
   "metadata": {},
   "outputs": [],
   "source": [
    "def calc_relative_strength(df: pl.DataFrame, ref_df: pl.DataFrame, start: datetime, end: datetime):\n",
    "    df = df.filter((start < pl.col(\"date\") & (pl.col(\"date\") <= end)))\n",
    "    ref_df = ref_df.filter((start < pl.col(\"date\") & (pl.col(\"date\") <= end)))\n",
    "\n",
    "    if len(df) != len(ref_df):\n",
    "        return -1\n",
    "    \n",
    "    return stock.relative_strength.relative_strength(\n",
    "        df[\"close\"].to_numpy(), ref_df[\"close\"].to_numpy()\n",
    "    )"
   ]
  },
  {
   "cell_type": "code",
   "execution_count": null,
   "metadata": {},
   "outputs": [],
   "source": [
    "durations = []\n",
    "for code in watch_list:\n",
    "    start_date = datetime.today() - timedelta(days=365)\n",
    "    durations.append(stock.trend_template.calc_watch_list_duration_of(code, start_date))\n",
    "    print(code, durations[-1][0][0].strftime(\"%Y/%m/%d\"), durations[-1][-1][1].strftime(\"%Y/%m/%d\"))"
   ]
  },
  {
   "cell_type": "code",
   "execution_count": null,
   "metadata": {},
   "outputs": [],
   "source": [
    "cnt = 0\n",
    "for idx, code in enumerate(watch_list):\n",
    "    duration = durations[idx]\n",
    "    data_csv_path = stock.PROJECT_ROOT / \"data\" / \"daily\" / f\"{code}.csv\"\n",
    "    df = stock.kabutan.read_data_csv(data_csv_path, exclude_none=True)\n",
    "    filtered_df = df.filter(pl.col(\"date\").is_between(duration[0][0], duration[-1][1], closed=\"right\"))\n",
    "    if len(filtered_df) == 0:\n",
    "        continue\n",
    "    start, high = get_start_and_high(filtered_df)\n",
    "\n",
    "    filtered_nikkei_df = nikkei_df.filter(pl.col(\"date\").is_between(duration[0][0], duration[-1][1], closed=\"right\"))\n",
    "    n_start, n_high = get_start_and_high(filtered_nikkei_df)\n",
    "\n",
    "    print(code, high / start, n_high / n_start)\n",
    "    if high / start  > n_high / n_start:\n",
    "        cnt += 1\n"
   ]
  },
  {
   "cell_type": "code",
   "execution_count": null,
   "metadata": {},
   "outputs": [],
   "source": []
  }
 ],
 "metadata": {
  "kernelspec": {
   "display_name": ".venv",
   "language": "python",
   "name": "python3"
  },
  "language_info": {
   "codemirror_mode": {
    "name": "ipython",
    "version": 3
   },
   "file_extension": ".py",
   "mimetype": "text/x-python",
   "name": "python",
   "nbconvert_exporter": "python",
   "pygments_lexer": "ipython3",
   "version": "3.10.12"
  }
 },
 "nbformat": 4,
 "nbformat_minor": 2
}
