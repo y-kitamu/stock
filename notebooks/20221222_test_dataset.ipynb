{
 "cells": [
  {
   "cell_type": "code",
   "execution_count": null,
   "metadata": {},
   "outputs": [],
   "source": [
    "from pathlib import Path\n",
    "from typing import Set\n",
    "from datetime import datetime, timezone\n",
    "\n",
    "import numpy as np\n",
    "\n",
    "import stock"
   ]
  },
  {
   "cell_type": "code",
   "execution_count": null,
   "metadata": {},
   "outputs": [],
   "source": [
    "prms = stock.dl.dataset.DatasetParams(\n",
    "    us_data_dir=Path.home() / \"work/Projects/stock/data/sp500\",\n",
    "    jp_data_dir=Path.home() / \"work/Projects/stock/data/nikkei225\",\n",
    "    dataset_path=Path.home() / \"work/Projects/stock/data/dataset\",\n",
    ")\n",
    "dataset = stock.dl.dataset.Dataset(prms)\n",
    "train_ds, val_ds, test_ds = dataset.get_train_val_test_dataset()"
   ]
  },
  {
   "cell_type": "code",
   "execution_count": null,
   "metadata": {},
   "outputs": [],
   "source": [
    "for batch in train_ds:  \n",
    "    break"
   ]
  },
  {
   "cell_type": "code",
   "execution_count": null,
   "metadata": {},
   "outputs": [],
   "source": []
  },
  {
   "cell_type": "code",
   "execution_count": null,
   "metadata": {},
   "outputs": [],
   "source": [
    "data = dataset._merge_data(dataset.us_data, dataset.jp_data)\n",
    "np.save(\"/home/kitamura/work/Projects/stock/data/dataset/dataset_20221225_152626.npy\", data)"
   ]
  },
  {
   "cell_type": "code",
   "execution_count": null,
   "metadata": {},
   "outputs": [],
   "source": [
    "dataset.data.shape, dataset.us_data.shape, dataset.jp_data.shape"
   ]
  },
  {
   "cell_type": "code",
   "execution_count": null,
   "metadata": {},
   "outputs": [],
   "source": [
    "timestamps = set(dataset.data[:, 0].astype(int))\n",
    "us_timestamps = set(dataset.us_data[:, 0].astype(int))\n",
    "jp_timestamps = set(dataset.jp_data[:, 0].astype(int))\n",
    "\n",
    "res = us_timestamps - timestamps"
   ]
  },
  {
   "cell_type": "code",
   "execution_count": null,
   "metadata": {},
   "outputs": [],
   "source": [
    "for ts in sorted(jp_timestamps)[:20]:\n",
    "    print(datetime.fromtimestamp(ts, timezone.utc).strftime(\"%Y-%m-%d %H:%M %A\"))"
   ]
  },
  {
   "cell_type": "code",
   "execution_count": null,
   "metadata": {},
   "outputs": [],
   "source": [
    "for ts in sorted(us_timestamps)[:20]:\n",
    "    print(datetime.fromtimestamp(ts, timezone.utc).strftime(\"%Y-%m-%d %H:%M %A\"))"
   ]
  },
  {
   "cell_type": "code",
   "execution_count": null,
   "metadata": {},
   "outputs": [],
   "source": [
    "for ts in sorted(res):\n",
    "    print(datetime.fromtimestamp(ts, timezone.utc).strftime(\"%Y-%m-%d %A\"))"
   ]
  },
  {
   "cell_type": "code",
   "execution_count": null,
   "metadata": {},
   "outputs": [],
   "source": []
  }
 ],
 "metadata": {
  "kernelspec": {
   "display_name": "Python 3.10.6 ('.venv': poetry)",
   "language": "python",
   "name": "python3"
  },
  "language_info": {
   "codemirror_mode": {
    "name": "ipython",
    "version": 3
   },
   "file_extension": ".py",
   "mimetype": "text/x-python",
   "name": "python",
   "nbconvert_exporter": "python",
   "pygments_lexer": "ipython3",
   "version": "3.10.6"
  },
  "vscode": {
   "interpreter": {
    "hash": "0925d657e30d00cf1a4f19c1b7a91cf3b3559e9055505eaa2fd1b9771cefd6bc"
   }
  }
 },
 "nbformat": 4,
 "nbformat_minor": 2
}
