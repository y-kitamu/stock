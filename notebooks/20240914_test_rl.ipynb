{
 "cells": [
  {
   "cell_type": "code",
   "execution_count": null,
   "metadata": {},
   "outputs": [],
   "source": [
    "import datetime\n",
    "from pathlib import Path\n",
    "from typing import Any, Type\n",
    "\n",
    "import gymnasium as gym\n",
    "import numpy as np\n",
    "import torch\n",
    "from pydantic import BaseModel, ConfigDict\n",
    "from ray.rllib.algorithms.algorithm import Algorithm\n",
    "from ray.rllib.algorithms.ppo import PPOConfig\n",
    "import matplotlib.pyplot as plt\n",
    "\n",
    "import stock"
   ]
  },
  {
   "cell_type": "code",
   "execution_count": null,
   "metadata": {},
   "outputs": [],
   "source": [
    "params = stock.crypto.TrainParams()\n",
    "params.dataloader.start_date = datetime.datetime(2023, 4, 1, 0, 0)\n",
    "params.dataloader.end_date = datetime.datetime(2024, 4, 1, 0, 0)\n",
    "params.dataloader.episode_length = 1440\n",
    "params.dataloader.window_size = 100\n",
    "params.portfolio.maker_fee = 0.0\n",
    "params.portfolio.market_impact = 0.0\n",
    "params.portfolio.taker_fee = 0.0\n",
    "params.epoch = 10"
   ]
  },
  {
   "cell_type": "code",
   "execution_count": null,
   "metadata": {},
   "outputs": [],
   "source": [
    "trainer = stock.crypto.Trainer(params)"
   ]
  },
  {
   "cell_type": "code",
   "execution_count": null,
   "metadata": {},
   "outputs": [],
   "source": [
    "trainer.train()"
   ]
  },
  {
   "cell_type": "code",
   "execution_count": null,
   "metadata": {},
   "outputs": [],
   "source": [
    "trainer.portfolio.history"
   ]
  },
  {
   "cell_type": "code",
   "execution_count": null,
   "metadata": {},
   "outputs": [],
   "source": [
    "trainer.portfolio.acquision_price"
   ]
  },
  {
   "cell_type": "code",
   "execution_count": null,
   "metadata": {},
   "outputs": [],
   "source": []
  },
  {
   "cell_type": "code",
   "execution_count": null,
   "metadata": {},
   "outputs": [],
   "source": [
    "# ckpt_dir = Path(trainer.checkpoint_dir)\n",
    "# algo = Algorithm.from_checkpoint(ckpt_dir.as_posix())\n",
    "# rl_module = algo.get_module()\n",
    "rl_module = trainer.algo.get_module()\n",
    "trainer.dataloader.reset()\n",
    "trainer.portfolio.reset()\n",
    "env = stock.crypto.environment.TradingEnv({\"dataloader\": trainer.dataloader, \"portfolio\":  trainer.portfolio})\n",
    "obs, info = env.reset()\n",
    "acts = []\n",
    "while True:\n",
    "    input = torch.from_numpy(np.array([obs]))\n",
    "    action_logits = rl_module.forward_inference({\"obs\": input})[\"action_dist_inputs\"]\n",
    "    dist_cls = rl_module.get_inference_action_dist_cls()\n",
    "    dist = dist_cls.from_logits(action_logits[0])\n",
    "    dist = dist.to_deterministic()\n",
    "    action = dist.sample()\n",
    "    #action[\"portion\"] = np.clip(action[\"portion\"].detach().numpy(), 0, 1)    \n",
    "    action[\"action\"] = action[\"action\"].numpy()\n",
    "    obs, reward, is_terminated, is_truncated, info = env.step(action)\n",
    "    acts.append(action)\n",
    "    if is_terminated:\n",
    "        break"
   ]
  },
  {
   "cell_type": "code",
   "execution_count": null,
   "metadata": {},
   "outputs": [],
   "source": [
    "env.history[-1]"
   ]
  },
  {
   "cell_type": "code",
   "execution_count": null,
   "metadata": {},
   "outputs": [],
   "source": [
    "total = [h[\"total_portfolio\"] for h in env.history]\n",
    "price = [h[\"price\"] for h in env.history]\n",
    "units = [h[\"current_holding_unit\"] for h in env.history]\n",
    "action = [h[\"action\"][\"action\"] for h in env.history]\n",
    "equity = [h[\"current_equity_value\"] for h in env.history]"
   ]
  },
  {
   "cell_type": "code",
   "execution_count": null,
   "metadata": {},
   "outputs": [],
   "source": [
    "plt.plot(action)"
   ]
  },
  {
   "cell_type": "code",
   "execution_count": null,
   "metadata": {},
   "outputs": [],
   "source": [
    "plt.plot(equity)"
   ]
  },
  {
   "cell_type": "code",
   "execution_count": null,
   "metadata": {},
   "outputs": [],
   "source": [
    "plt.plot(units)"
   ]
  },
  {
   "cell_type": "code",
   "execution_count": null,
   "metadata": {},
   "outputs": [],
   "source": [
    "plt.plot(price)"
   ]
  },
  {
   "cell_type": "code",
   "execution_count": null,
   "metadata": {},
   "outputs": [],
   "source": [
    "plt.plot(total)"
   ]
  },
  {
   "cell_type": "code",
   "execution_count": null,
   "metadata": {},
   "outputs": [],
   "source": []
  }
 ],
 "metadata": {
  "kernelspec": {
   "display_name": ".venv",
   "language": "python",
   "name": "python3"
  },
  "language_info": {
   "codemirror_mode": {
    "name": "ipython",
    "version": 3
   },
   "file_extension": ".py",
   "mimetype": "text/x-python",
   "name": "python",
   "nbconvert_exporter": "python",
   "pygments_lexer": "ipython3",
   "version": "3.12.3"
  }
 },
 "nbformat": 4,
 "nbformat_minor": 2
}
