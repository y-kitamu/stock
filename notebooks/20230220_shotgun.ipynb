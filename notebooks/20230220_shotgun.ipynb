{
 "cells": [
  {
   "cell_type": "markdown",
   "metadata": {},
   "source": [
    "# ショットガンの検討\n",
    "これまでにわかったこと\n",
    "- 出来高（tick数）が多いほどテクニカル分析が効きやすそう\n",
    "- 1銘柄をずっと持ち続けた場合とreturnは大きく変わらない?\n",
    "- 最終的には目で見ての判断がまだ必要か\n",
    "\n",
    "これから検証すること\n",
    "- パラメータのチューニング（短期・中期・長期、最大保有期間)\n",
    "- 売買システムの構築"
   ]
  },
  {
   "cell_type": "code",
   "execution_count": null,
   "metadata": {},
   "outputs": [],
   "source": [
    "from datetime import datetime\n",
    "from pathlib import Path\n",
    "import csv\n",
    "\n",
    "import pandas as pd\n",
    "import numpy as np\n",
    "from tqdm import tqdm\n",
    "import matplotlib.pyplot as plt\n",
    "\n",
    "import plotly.graph_objects as go\n",
    "import plotly.io as pio\n",
    "from plotly.subplots import make_subplots\n",
    "\n",
    "import stock\n",
    "\n",
    "pio.renderers.default = \"notebook\""
   ]
  },
  {
   "cell_type": "code",
   "execution_count": null,
   "metadata": {},
   "outputs": [],
   "source": [
    "DAILY_DATA_DIR = Path.home() / \"remote/gdrive/stock/data/daily/\"\n",
    "TARGET_LIST_CSV = stock.DATA_DIR / \"margin_trade_target_list.csv\"\n",
    "daily_data_files = sorted(DAILY_DATA_DIR.glob(\"20220218_*.csv\"))\n",
    "\n",
    "with open(TARGET_LIST_CSV) as f:\n",
    "    reader = csv.reader(f)\n",
    "    next(reader)\n",
    "    target_list = [row[0] for row in reader]"
   ]
  },
  {
   "cell_type": "code",
   "execution_count": null,
   "metadata": {},
   "outputs": [],
   "source": [
    "shotgun_params = stock.autotrade.shotgun.ShotgunParams(\n",
    "    short_term = 5,\n",
    "    mid_term= 20,\n",
    "    long_term = 60,\n",
    "    max_hold_days = 9\n",
    ")\n",
    "shotgun = stock.autotrade.shotgun.Shotgun(shotgun_params)"
   ]
  },
  {
   "cell_type": "code",
   "execution_count": null,
   "metadata": {},
   "outputs": [],
   "source": [
    "code = target_list[5]\n",
    "df = pd.read_csv(DAILY_DATA_DIR / f\"20220218_{code}.csv\")\n",
    "results = shotgun.run(df, with_plot=True)\n",
    "profit = [r.profit for r in results]\n",
    "print(f\"profit: {sum(profit)}\")\n",
    "for r in results:\n",
    "    print(\"buy = {}, sell = {}, profit = {:.2f},  buy = {:.1f},  sell = {:.1f}\".format(\n",
    "        df[\"day\"][r.buy_index], df[\"day\"][r.sell_index], r.profit, r.buy, r.sell\n",
    "    ))"
   ]
  },
  {
   "cell_type": "code",
   "execution_count": null,
   "metadata": {},
   "outputs": [],
   "source": []
  },
  {
   "cell_type": "code",
   "execution_count": null,
   "metadata": {},
   "outputs": [],
   "source": [
    "## 条件を満たした場合に売り -> 翌日朝に買い直しのほうが良いのでは？"
   ]
  }
 ],
 "metadata": {
  "kernelspec": {
   "display_name": "Python 3.10.6 ('.venv': poetry)",
   "language": "python",
   "name": "python3"
  },
  "language_info": {
   "codemirror_mode": {
    "name": "ipython",
    "version": 3
   },
   "file_extension": ".py",
   "mimetype": "text/x-python",
   "name": "python",
   "nbconvert_exporter": "python",
   "pygments_lexer": "ipython3",
   "version": "3.10.6"
  },
  "vscode": {
   "interpreter": {
    "hash": "0925d657e30d00cf1a4f19c1b7a91cf3b3559e9055505eaa2fd1b9771cefd6bc"
   }
  }
 },
 "nbformat": 4,
 "nbformat_minor": 2
}
