{
 "cells": [
  {
   "cell_type": "markdown",
   "metadata": {},
   "source": [
    "# ショットガンの検討\n",
    "これまでにわかったこと\n",
    "- 出来高（tick数）が多いほどテクニカル分析が効きやすそう\n",
    "- 1銘柄をずっと持ち続けた場合とreturnは大きく変わらない?\n",
    "- 最終的には目で見ての判断がまだ必要か\n",
    "\n",
    "これから検証すること\n",
    "- パラメータのチューニング（短期・中期・長期、最大保有期間)\n",
    "- 売買システムの構築"
   ]
  },
  {
   "cell_type": "code",
   "execution_count": null,
   "metadata": {},
   "outputs": [],
   "source": [
    "from datetime import datetime\n",
    "from pathlib import Path\n",
    "from typing import List\n",
    "import csv\n",
    "\n",
    "import pandas as pd\n",
    "import numpy as np\n",
    "from tqdm import tqdm\n",
    "import matplotlib.pyplot as plt\n",
    "\n",
    "import plotly.graph_objects as go\n",
    "import plotly.io as pio\n",
    "from plotly.subplots import make_subplots\n",
    "\n",
    "import stock\n",
    "\n",
    "pio.renderers.default = \"notebook\""
   ]
  },
  {
   "cell_type": "code",
   "execution_count": null,
   "metadata": {},
   "outputs": [],
   "source": [
    "DAILY_DATA_DIR = Path.home() / \"remote/gdrive/stock/data/daily/\"\n",
    "TARGET_LIST_CSV = stock.DATA_DIR / \"margin_trade_target_list.csv\"\n",
    "daily_data_files = sorted(DAILY_DATA_DIR.glob(\"20220218_*.csv\"))\n",
    "\n",
    "with open(TARGET_LIST_CSV) as f:\n",
    "    reader = csv.reader(f)\n",
    "    next(reader)\n",
    "    target_list = [row[0] for row in reader]"
   ]
  },
  {
   "cell_type": "code",
   "execution_count": null,
   "metadata": {},
   "outputs": [],
   "source": [
    "def load_10year_data(code: str) -> pd.DataFrame:\n",
    "    csv_path = stock.DATA_DIR / \"etfs\"/ f\"{code}.csv\"\n",
    "    if not csv_path.exists():\n",
    "        csv_path = stock.DATA_DIR / \"nikkei225\"/ f\"{code}.csv\"\n",
    "    df = pd.read_csv(csv_path)\n",
    "    df[\"day\"] = df[\"timestamp\"].map(lambda x: datetime.fromtimestamp(x).strftime(\"%Y/%m/%d\"))\n",
    "    df[\"open\"] = df[\"start\"]\n",
    "    df[\"close\"] = df[\"end\"]\n",
    "    return df"
   ]
  },
  {
   "cell_type": "code",
   "execution_count": null,
   "metadata": {},
   "outputs": [],
   "source": [
    "shotgun_params = stock.autotrade.shotgun.ShotgunParams(\n",
    "    short_term = 5,\n",
    "    mid_term= 25,\n",
    "    long_term = 75,\n",
    "    max_hold_days = 9\n",
    ")\n",
    "shotgun = stock.autotrade.shotgun.Shotgun(shotgun_params)"
   ]
  },
  {
   "cell_type": "code",
   "execution_count": null,
   "metadata": {},
   "outputs": [],
   "source": [
    "code = target_list[10]\n",
    "df = pd.read_csv(DAILY_DATA_DIR / f\"20220218_{code}.csv\")\n",
    "results = shotgun.run(df, with_plot=True)\n",
    "profit = [r.profit for r in results]\n",
    "print(f\"profit: {sum(profit)}\")\n",
    "for r in results:\n",
    "    print(\"buy = {}, sell = {}, profit = {:.2f},  buy = {:.1f},  sell = {:.1f}\".format(\n",
    "        df[\"day\"][r.buy_index], df[\"day\"][r.sell_index], r.profit, r.buy, r.sell\n",
    "    ))"
   ]
  },
  {
   "cell_type": "code",
   "execution_count": null,
   "metadata": {},
   "outputs": [],
   "source": [
    "idx = 1\n",
    "code = target_list[idx]\n",
    "#df = load_10year_data(code) #pd.read_csv(DAILY_DATA_DIR / f\"20220218_{code}.csv\")\n",
    "df = pd.read_csv(DAILY_DATA_DIR / f\"20220218_{code}.csv\")\n",
    "\n",
    "short_term = [5]\n",
    "mid_term = [15, 20, 25]\n",
    "long_term = [60, 80, 100]\n",
    "best = 0\n",
    "total = 0\n",
    "\n",
    "for st in short_term:\n",
    "    for mt in mid_term:\n",
    "        for lt in long_term:\n",
    "            shotgun_params = stock.autotrade.shotgun.ShotgunParams(\n",
    "                short_term = st,\n",
    "                mid_term= mt,\n",
    "                long_term = lt,\n",
    "            )\n",
    "            shotgun = stock.autotrade.shotgun.Shotgun(shotgun_params)\n",
    "            results = shotgun.run(df, with_plot=False)\n",
    "            profit = sum([r.profit for r in results])\n",
    "            total += profit\n",
    "            if profit > best:\n",
    "                best = profit\n",
    "                print(f\"profit: {profit}, best: {st}, {mt}, {lt}\")\n",
    "\n",
    "print(\"total = {} \".format(total))"
   ]
  },
  {
   "cell_type": "code",
   "execution_count": null,
   "metadata": {},
   "outputs": [],
   "source": [
    "df = pd.read_csv(DAILY_DATA_DIR / f\"20220218_{code}.csv\")\n",
    "\n",
    "short_term = [3, 5, 7]\n",
    "mid_term = [15, 20, 25]\n",
    "long_term = [60, 75, 90]\n",
    "best = 0\n",
    "\n",
    "for st in short_term:\n",
    "    for mt in mid_term:\n",
    "        for lt in long_term:\n",
    "            shotgun_params = stock.autotrade.shotgun.ShotgunParams(\n",
    "                short_term = st,\n",
    "                mid_term= mt,\n",
    "                long_term = lt,\n",
    "            )\n",
    "            shotgun = stock.autotrade.shotgun.Shotgun(shotgun_params)\n",
    "            results = shotgun.run(df, with_plot=False)\n",
    "            profit = sum([r.profit for r in results])\n",
    "            if profit > best:\n",
    "                best = profit\n",
    "                print(f\"profit: {profit}, best: {st}, {mt}, {lt}\")"
   ]
  },
  {
   "cell_type": "code",
   "execution_count": null,
   "metadata": {},
   "outputs": [],
   "source": []
  },
  {
   "cell_type": "code",
   "execution_count": null,
   "metadata": {},
   "outputs": [],
   "source": [
    "## 条件を満たした場合に売り -> 翌日朝に買い直しのほうが良いのでは？"
   ]
  },
  {
   "cell_type": "code",
   "execution_count": null,
   "metadata": {},
   "outputs": [],
   "source": [
    "class InverseShotgun(stock.autotrade.shotgun.Shotgun):\n",
    "    \"\"\"買いシグナルが出たら引けで売り、次の日の始値で買い直し\n",
    "    \"\"\"\n",
    "    def _calc_sell_indices(self, df: pd.DataFrame, buy_indices: List[int]) -> List[int]:\n",
    "        return buy_indices"
   ]
  },
  {
   "cell_type": "code",
   "execution_count": null,
   "metadata": {},
   "outputs": [],
   "source": [
    "shotgun_params = stock.autotrade.shotgun.ShotgunParams(\n",
    "    short_term = 5,\n",
    "    mid_term= 20,\n",
    "    long_term = 60,\n",
    "    max_hold_days = 9\n",
    ")\n",
    "inv_shotgun = InverseShotgun(shotgun_params)"
   ]
  },
  {
   "cell_type": "code",
   "execution_count": null,
   "metadata": {},
   "outputs": [],
   "source": [
    "code = target_list[1]\n",
    "df = pd.read_csv(DAILY_DATA_DIR / f\"20220218_{code}.csv\")\n",
    "results = inv_shotgun.run(df, with_plot=True)\n",
    "profit = [r.profit for r in results]\n",
    "print(f\"profit: {sum(profit)}\")\n",
    "for r in results:\n",
    "    print(\"buy = {}, sell = {}, profit = {:.2f},  buy = {:.1f},  sell = {:.1f}\".format(\n",
    "        df[\"day\"][r.buy_index], df[\"day\"][r.sell_index], r.profit, r.buy, r.sell\n",
    "    ))"
   ]
  },
  {
   "cell_type": "code",
   "execution_count": null,
   "metadata": {},
   "outputs": [],
   "source": []
  }
 ],
 "metadata": {
  "kernelspec": {
   "display_name": "Python 3.10.6 ('.venv': poetry)",
   "language": "python",
   "name": "python3"
  },
  "language_info": {
   "codemirror_mode": {
    "name": "ipython",
    "version": 3
   },
   "file_extension": ".py",
   "mimetype": "text/x-python",
   "name": "python",
   "nbconvert_exporter": "python",
   "pygments_lexer": "ipython3",
   "version": "3.10.6"
  },
  "vscode": {
   "interpreter": {
    "hash": "0925d657e30d00cf1a4f19c1b7a91cf3b3559e9055505eaa2fd1b9771cefd6bc"
   }
  }
 },
 "nbformat": 4,
 "nbformat_minor": 2
}
