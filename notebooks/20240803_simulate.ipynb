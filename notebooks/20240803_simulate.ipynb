{
 "cells": [
  {
   "cell_type": "code",
   "execution_count": null,
   "metadata": {},
   "outputs": [],
   "source": [
    "import datetime\n",
    "\n",
    "from pydantic import ConfigDict\n",
    "import polars as pl\n",
    "from tqdm import tqdm\n",
    "import matplotlib.pyplot as plt\n",
    "\n",
    "import stock\n",
    "from stock.algorithm.market import is_limit_high"
   ]
  },
  {
   "cell_type": "code",
   "execution_count": null,
   "metadata": {},
   "outputs": [],
   "source": [
    "# 細かく利益確定していくsimulation"
   ]
  },
  {
   "cell_type": "code",
   "execution_count": null,
   "metadata": {},
   "outputs": [],
   "source": [
    "stacked_df = stock.watchlist.v1.get_watch_list_all()"
   ]
  },
  {
   "cell_type": "code",
   "execution_count": null,
   "metadata": {},
   "outputs": [],
   "source": [
    "class StopCondition(stock.simulation.base_condition.BaseCondition):\n",
    "    model_config = ConfigDict(arbitrary_types_allowed=True)\n",
    "    # parameter\n",
    "    max_loss_rate: float = 0.08\n",
    "    sell_rate: float = 0.02\n",
    "    max_days: int = 7 * 2\n",
    "    # results\n",
    "    buying_price: float = -1\n",
    "    buying_date: datetime.date = datetime.date.today()\n",
    "    selling_price: float = -1\n",
    "    selling_date: datetime.date = datetime.date.today()\n",
    "    # internal\n",
    "    loss_cut_price: float = -1\n",
    "    target_price: float = -1\n",
    "    index: int = -1\n",
    "    df: pl.DataFrame = pl.DataFrame()\n",
    "\n",
    "    def reset_results(self):\n",
    "        self.buying_price = -1\n",
    "        self.buying_date = datetime.date.today()\n",
    "        self.selling_price = -1\n",
    "        self.selling_date = datetime.date.today()\n",
    "        self.loss_cut_price = -1\n",
    "        self.target_price = -1\n",
    "        self.index = -1\n",
    "        self.df = pl.DataFrame()\n",
    "\n",
    "    def set_start(self, src_df: pl.DataFrame, start_date: datetime.date) -> float:\n",
    "        #print(src_df)\n",
    "        self.reset_results()\n",
    "        df = src_df.filter(pl.col(\"date\") >= start_date).sort(pl.col(\"date\"))\n",
    "        if len(df) < 15:\n",
    "            return -1\n",
    "        \n",
    "        if df[\"date\"][0] - start_date > datetime.timedelta(days=10):\n",
    "            return -1\n",
    "        \n",
    "        if is_limit_high(df[\"close\"][0], df[\"open\"][1]):\n",
    "            return -1\n",
    "        \n",
    "        self.buying_price = df[\"open\"][1]\n",
    "        self.buying_date = df[\"date\"][1]\n",
    "\n",
    "        self.loss_cut_price = self.buying_price * (1 - self.max_loss_rate)\n",
    "        self.target_price = self.buying_price * (1 + self.sell_rate)\n",
    "        self.df = df\n",
    "        self.index = 1\n",
    "        return self.buying_price\n",
    "\n",
    "    def run_simulation(self) -> float:\n",
    "\n",
    "        if self.df[\"date\"][self.index] - self.buying_date > datetime.timedelta(days=self.max_days):\n",
    "            self.selling_date = self.df[\"date\"][self.index]\n",
    "            self.selling_price = self.df[\"open\"][self.index]\n",
    "        elif self.df[\"low\"][self.index] < self.loss_cut_price:\n",
    "            self.selling_date = self.df[\"date\"][self.index]\n",
    "            self.selling_price = min(self.df[\"open\"][self.index], self.loss_cut_price)\n",
    "        elif self.df[\"high\"][self.index] > self.target_price:\n",
    "            self.selling_date = self.df[\"date\"][self.index]\n",
    "            self.selling_price = max(self.df[\"open\"][self.index], self.target_price)\n",
    "        # else:\n",
    "        #     self.selling_date = self.df[\"date\"][self.index]\n",
    "        #     self.selling_price = self.df[\"close\"][self.index]\n",
    "\n",
    "        self.index += 1\n",
    "        return self.selling_price"
   ]
  },
  {
   "cell_type": "code",
   "execution_count": null,
   "metadata": {},
   "outputs": [],
   "source": [
    "class CustomStopCondition(stock.simulation.simulate.BaseCondition):\n",
    "    model_config = ConfigDict(arbitrary_types_allowed=True)\n",
    "\n",
    "    # 入力パラメータ\n",
    "    max_loss_rate: float = 0.08  # 買値からの最大損失率\n",
    "    trailling_stop_rate: float = 0.1  # ここまで値下がりしたら売る\n",
    "    sell_rate: float = 0.2  # ここまで値上がりしたら半分売る\n",
    "    max_days: int = 7 * 2  # 最大保持日数\n",
    "    total_max_days: int = 7 * 4  # 最大保持日数\n",
    "    # 結果変数\n",
    "    buying_price: float = -1\n",
    "    buying_date: datetime.date = datetime.date.today()\n",
    "    selling_price: float = -1\n",
    "    selling_date: datetime.date = datetime.date.today()\n",
    "    # 内部計算用変数\n",
    "    loss_cut_price: float = -1\n",
    "    profit_fixed_price: float = -1\n",
    "    reach_target_price: bool = False\n",
    "    target_selling_price: float = -1\n",
    "    highest_updated: bool = False\n",
    "    index: int = -1\n",
    "    df: pl.DataFrame = pl.DataFrame()\n",
    "    src_df: pl.DataFrame = pl.DataFrame()\n",
    "\n",
    "    def reset_results(self):\n",
    "        self.buying_price = -1\n",
    "        self.buying_date = datetime.date.today()\n",
    "        self.selling_price = -1\n",
    "        self.selling_date = datetime.date.today()\n",
    "        self.loss_cut_price = -1\n",
    "        self.profit_fixed_price = -1\n",
    "        self.reach_target_price = False\n",
    "        self.target_selling_price = -1\n",
    "        self.highest_updated = False\n",
    "        self.index = -1\n",
    "        self.df = pl.DataFrame()\n",
    "        self.src_df = pl.DataFrame()\n",
    "\n",
    "    def set_start(self, src_df: pl.DataFrame, start_date: datetime.date) -> float:\n",
    "        self.reset_results()\n",
    "        df = src_df.filter(pl.col(\"date\") >= start_date).sort(pl.col(\"date\"))\n",
    "        prev_df = src_df.filter(pl.col(\"date\") < start_date).sort(pl.col(\"date\"))\n",
    "        if len(df) <= 30:\n",
    "            return -1\n",
    "\n",
    "        if df[\"date\"][0] - start_date > datetime.timedelta(days=10):\n",
    "            return -1\n",
    "\n",
    "        # stop高は回避\n",
    "        if is_limit_high(df[\"close\"][0], df[\"open\"][1]):\n",
    "            return -1\n",
    "\n",
    "        # ベースから上離れしすぎている場合はスキップ\n",
    "        if prev_df[\"close\"][-1] * 1.4 < df[\"open\"][1]:\n",
    "            return -1\n",
    "\n",
    "        # 前日終値から下がりすぎている場合は買わない\n",
    "        if df[\"open\"][1] < prev_df[\"close\"][-1] or df[\"open\"][1] < df[\"close\"][0] * 0.9:\n",
    "            return -1\n",
    "\n",
    "        #self.buying_price = df[\"open\"][1]\n",
    "        self.buying_price = df[\"close\"][1]\n",
    "        self.buying_date = df[\"date\"][1]\n",
    "\n",
    "        self.loss_cut_price = self.buying_price * (1 - self.max_loss_rate)\n",
    "        self.profit_fixed_price = self.buying_price * (1 + self.sell_rate)\n",
    "        self.index = 1\n",
    "        self.df = df\n",
    "        self.src_df = src_df\n",
    "        return self.buying_price\n",
    "\n",
    "    def run_simulation(self) -> float:\n",
    "        \"\"\" \"\"\"\n",
    "        # print(df[\"date\"][index], self.target_selling_price, self.loss_cut_price)\n",
    "        df = self.df\n",
    "        index = self.index\n",
    "        # 最大保持日数を超えた場合は売る\n",
    "        if df[\"date\"][index] - self.buying_date > datetime.timedelta(days=self.total_max_days):\n",
    "            self.selling_date = df[\"date\"][index]\n",
    "            if self.reach_target_price:\n",
    "                self.selling_price = (\n",
    "                    self.target_selling_price + min(self.loss_cut_price, df[\"open\"][index])\n",
    "                ) * 0.5\n",
    "            else:\n",
    "                self.selling_price = df[\"open\"][index]\n",
    "            return self.selling_price\n",
    "\n",
    "        # 値上がりも値下がりもせず、一定期間過ぎた場合は売る\n",
    "        if not self.reach_target_price and df[\"date\"][\n",
    "            index\n",
    "        ] - self.buying_date > datetime.timedelta(days=self.max_days):\n",
    "            self.selling_price = df[\"open\"][index]\n",
    "            self.selling_date = df[\"date\"][index]\n",
    "            return self.selling_price\n",
    "\n",
    "        # 最大損失率を超えた場合は売る\n",
    "        if df[\"low\"][index] < self.loss_cut_price:\n",
    "            self.selling_date = df[\"date\"][index]\n",
    "            if self.reach_target_price:\n",
    "                self.selling_price = (\n",
    "                    self.target_selling_price + min(self.loss_cut_price, df[\"open\"][index])\n",
    "                ) * 0.5\n",
    "            else:\n",
    "                self.selling_price = min(self.loss_cut_price, df[\"open\"][index])\n",
    "            return self.selling_price\n",
    "\n",
    "        # ここまで値上がりしたら半分売る\n",
    "        if df[\"high\"][index] > self.profit_fixed_price and not self.reach_target_price:\n",
    "            self.reach_target_price = True\n",
    "            self.target_selling_price = max(self.profit_fixed_price, df[\"open\"][index])\n",
    "\n",
    "        # 十分値上がりしたらtrailling stop lossを適用\n",
    "        if self.reach_target_price:\n",
    "            self.loss_cut_price = max(\n",
    "                self.loss_cut_price, df[\"high\"][index] * (1 - self.trailling_stop_rate)\n",
    "            )\n",
    "\n",
    "        self.index += 1\n",
    "        return -1.0\n"
   ]
  },
  {
   "cell_type": "code",
   "execution_count": null,
   "metadata": {},
   "outputs": [],
   "source": [
    "# watch listの全銘柄に対してsimulationを実行\n",
    "results = []\n",
    "for index in tqdm(range(len(stacked_df))):\n",
    "    #condition = StopCondition(sell_rate=0.01, max_loss_rate=0.08)\n",
    "    condition = CustomStopCondition()\n",
    "    res = stock.simulation.simulate.run(\n",
    "        stacked_df[\"code\"][index], stacked_df[\"date\"][index], condition\n",
    "    )\n",
    "    results.append(res)"
   ]
  },
  {
   "cell_type": "code",
   "execution_count": null,
   "metadata": {},
   "outputs": [],
   "source": [
    "profits = [res.profit for res in results]\n",
    "sum(profits), sum(profits) / len(profits)"
   ]
  },
  {
   "cell_type": "code",
   "execution_count": null,
   "metadata": {},
   "outputs": [],
   "source": [
    "profits = [res.profit for res in results]\n",
    "sum(profits), sum(profits) / len(profits)"
   ]
  },
  {
   "cell_type": "code",
   "execution_count": null,
   "metadata": {},
   "outputs": [],
   "source": [
    "plt.hist(profits, bins=100)"
   ]
  },
  {
   "cell_type": "code",
   "execution_count": null,
   "metadata": {},
   "outputs": [],
   "source": [
    "index = 21\n",
    "print(stacked_df[\"code\"][index])\n",
    "print(results[index].model_dump_json(indent=4))"
   ]
  },
  {
   "cell_type": "code",
   "execution_count": null,
   "metadata": {},
   "outputs": [],
   "source": [
    "result_per_day = {}\n",
    "for res in results:\n",
    "    if res.buying_price < 0:\n",
    "        continue\n",
    "    if res.buying_date not in result_per_day:\n",
    "        result_per_day[res.buying_date] = []\n",
    "    result_per_day[res.buying_date].append(res.profit)"
   ]
  },
  {
   "cell_type": "code",
   "execution_count": null,
   "metadata": {},
   "outputs": [],
   "source": []
  },
  {
   "cell_type": "code",
   "execution_count": null,
   "metadata": {},
   "outputs": [],
   "source": [
    "# すべての銘柄に対して特定の月でのsimulationを実行\n",
    "target_year = 2024\n",
    "target_month = 7\n",
    "date = datetime.date(target_year, target_month, 1)\n",
    "code_list = stock.kabutan.get_code_list()\n",
    "\n",
    "res_list = []\n",
    "while date < datetime.date(target_year, target_month + 1, 1):\n",
    "    for code in tqdm(code_list):\n",
    "        condition = StopCondition(sell_rate=0.01, max_loss_rate=0.08)\n",
    "        if stock.kabutan.data.calc_estimated_capitalization(code) > 100000000000:\n",
    "            continue\n",
    "        res = stock.simulation.simulate.run(code, date, condition)\n",
    "        res_list.append(res)\n",
    "    date += datetime.timedelta(days=1)"
   ]
  },
  {
   "cell_type": "code",
   "execution_count": null,
   "metadata": {},
   "outputs": [],
   "source": [
    "res_list_per_day = [[] for _ in range(31)]\n",
    "for res in res_list:\n",
    "    if res.buying_price < 0 or res.buying_date.month > target_month:\n",
    "        continue\n",
    "    idx = res.buying_date.day - 1\n",
    "    res_list_per_day[idx].append(res)\n",
    "\n",
    "profits_per_day = {\n",
    "    ress[0].buying_date: [res.profit for res in ress] for ress in res_list_per_day if len(ress) > 0\n",
    "}\n",
    "for date, profits in profits_per_day.items():\n",
    "    if len(profits) > 0:\n",
    "        print(\"date = {}, sum = {:>10.4f}, mean = {:>10.4f}\".format(\n",
    "            date, sum(profits), sum(profits) / len(profits)))\n",
    "all_profits = [sum(profits) / len(profits) for _, profits in sorted(profits_per_day.items()) if len(profits) > 0]"
   ]
  },
  {
   "cell_type": "code",
   "execution_count": null,
   "metadata": {},
   "outputs": [],
   "source": [
    "profits_per_day = {}\n",
    "for res in results:\n",
    "    if res.buying_price < 0:\n",
    "        continue\n",
    "    if res.buying_date.year == target_year and res.buying_date.month == target_month:\n",
    "        target_date = res.buying_date\n",
    "        if target_date not in profits_per_day:\n",
    "            profits_per_day[target_date] = []\n",
    "        profits_per_day[target_date].append(res.profit)\n",
    "\n",
    "for date, profits in sorted(profits_per_day.items()):\n",
    "    if len(profits) > 0:\n",
    "        print(\"date = {}, sum = {:>10.4f}, mean = {:>10.4f}\".format(\n",
    "            date, sum(profits), sum(profits) / len(profits)))        \n",
    "selected_profits = [sum(profits) / len(profits) for _, profits in sorted(profits_per_day.items()) if len(profits) > 0]"
   ]
  },
  {
   "cell_type": "code",
   "execution_count": null,
   "metadata": {},
   "outputs": [],
   "source": [
    "sum(all_profits), sum(selected_profits)"
   ]
  },
  {
   "cell_type": "code",
   "execution_count": null,
   "metadata": {},
   "outputs": [],
   "source": [
    "plt.plot(all_profits)\n",
    "plt.plot(selected_profits)"
   ]
  },
  {
   "cell_type": "code",
   "execution_count": null,
   "metadata": {},
   "outputs": [],
   "source": []
  },
  {
   "cell_type": "code",
   "execution_count": null,
   "metadata": {},
   "outputs": [],
   "source": []
  },
  {
   "cell_type": "code",
   "execution_count": null,
   "metadata": {},
   "outputs": [],
   "source": [
    "nasdaq = stock.scraping.read_data(stock.DATA_DIR / \"us_data/nasdaq.csv\")"
   ]
  },
  {
   "cell_type": "code",
   "execution_count": null,
   "metadata": {},
   "outputs": [],
   "source": [
    "gap_downs = nasdaq.filter(\n",
    "    ((pl.col(\"close\") - pl.col(\"close\").shift()) / pl.col(\"close\").shift()) < -0.02\n",
    ")"
   ]
  },
  {
   "cell_type": "code",
   "execution_count": null,
   "metadata": {},
   "outputs": [],
   "source": [
    "nasdaq"
   ]
  },
  {
   "cell_type": "code",
   "execution_count": null,
   "metadata": {},
   "outputs": [],
   "source": [
    "gap_downs"
   ]
  },
  {
   "cell_type": "code",
   "execution_count": null,
   "metadata": {},
   "outputs": [],
   "source": [
    "result_on_gap_down = []\n",
    "for idx in range(len(gap_downs)):\n",
    "    gap_down_day = gap_downs[\"date\"][idx] + datetime.timedelta(days=1)\n",
    "    if gap_down_day not in result_per_day:\n",
    "        continue\n",
    "    result_on_gap_down.append(result_per_day[gap_down_day])"
   ]
  },
  {
   "cell_type": "code",
   "execution_count": null,
   "metadata": {},
   "outputs": [],
   "source": [
    "profits_on_gap_down = [sum(res) / len(res) for res in result_on_gap_down]\n",
    "sum(profits_on_gap_down) / len(profits_on_gap_down)"
   ]
  },
  {
   "cell_type": "code",
   "execution_count": null,
   "metadata": {},
   "outputs": [],
   "source": []
  },
  {
   "cell_type": "code",
   "execution_count": null,
   "metadata": {},
   "outputs": [],
   "source": [
    "# 大きく下がった銘柄は翌日に戻るのか\n",
    "from stock.kabutan import read_data_csv, read_financial_csv\n",
    "\n",
    "def calc_for_watch_list(\n",
    "    code: str,\n",
    "    start_date: datetime.date | None = None,\n",
    "    end_date: datetime.date = datetime.date.today(),\n",
    "):\n",
    "    df = read_data_csv(code, start_date=start_date, end_date=end_date)\n",
    "    # 過去10日の値動きの大きさを計算\n",
    "    window_size = 10\n",
    "    avg_key = \"avg{}\".format(window_size)\n",
    "    stddev_key = \"stddev{}\".format(window_size)\n",
    "    df = df.with_columns(\n",
    "        pl.col(\"close\").rolling_mean(window_size=window_size).alias(avg_key),\n",
    "        pl.col(\"close\").rolling_std(window_size=window_size).alias(stddev_key),\n",
    "    )\n",
    "\n",
    "    # ギャップダウンしている\n",
    "    df = df.with_columns(\n",
    "        (pl.col(\"close\") < pl.col(avg_key) - pl.col(stddev_key)).alias(\"breakpoint\")\n",
    "    )\n",
    "\n",
    "    # 直近の安値が安すぎない & 値幅が狭すぎない\n",
    "    # window_size = 10\n",
    "    # df = df.with_columns(\n",
    "    #     (pl.col(\"close\").rolling_min(window_size=window_size)).alias(\"min_close\")\n",
    "    # ).with_columns(\n",
    "    #     (\n",
    "    #         (pl.col(\"min_close\") > pl.col(\"close\") * 0.7)\n",
    "    #         & (pl.col(\"min_close\") < pl.col(\"close\") * 0.95)\n",
    "    #     ).alias(\"price_range\")\n",
    "    # )\n",
    "\n",
    "    # 高値が多すぎない\n",
    "    # df = df.with_columns(\n",
    "    #     pl.col(\"close\")\n",
    "    #     .rolling_map(\n",
    "    #         function=lambda d: sum(d > d[-1]),\n",
    "    #         window_size=30,\n",
    "    #     )\n",
    "    #     .alias(\"high_count\")\n",
    "    # )\n",
    "\n",
    "    # 出来高が増加（急増）\n",
    "    window_size = 10\n",
    "    df = df.with_columns(\n",
    "        pl.col(\"volume\").rolling_max(window_size=window_size).shift().alias(\"max_volume\")\n",
    "    )\n",
    "    df = df.with_columns(\n",
    "        (\n",
    "            (pl.col(\"volume\") > pl.col(\"max_volume\") * 2)\n",
    "            & (pl.col(\"volume\") * pl.col(\"close\") > 20000 * 100)\n",
    "            & (pl.col(\"volume\").rolling_max(window_size=30).shift() * 0.9 < pl.col(\"volume\"))\n",
    "        ).alias(\"volume_increase\")\n",
    "    )\n",
    "\n",
    "    # watch listの条件判定\n",
    "    df = df.with_columns(\n",
    "        (\n",
    "            pl.col(\"breakpoint\")\n",
    "            # & pl.col(\"price_range\")\n",
    "            & pl.col(\"volume_increase\")\n",
    "            # & (pl.col(\"high_count\") < 7)\n",
    "            & ((pl.col(\"close\") >= pl.col(\"open\")) | (pl.col(\"volume\") > pl.col(\"max_volume\") * 20))\n",
    "        ).alias(\"watch_list\")\n",
    "    )\n",
    "\n",
    "    # 直前にwatch list候補になっている場合はwatch listから除く\n",
    "    df = df.with_columns(\n",
    "        (\n",
    "            (pl.col(\"watch_list\").cast(int).rolling_max(window_size=5).shift() == 0)\n",
    "            & pl.col(\"watch_list\")\n",
    "        ).alias(\"watch_list\")\n",
    "    )\n",
    "\n",
    "    # 決算発表前後の日はwatch_listから除く\n",
    "    fdf = (\n",
    "        read_financial_csv(code)\n",
    "        .filter(pl.col(\"annoounce_date\") <= end_date)\n",
    "        .sort(pl.col(\"annoounce_date\"))\n",
    "    )\n",
    "    for announce_date in fdf[\"annoounce_date\"]:\n",
    "        df = df.with_columns(\n",
    "            (\n",
    "                pl.col(\"watch_list\")\n",
    "                & (\n",
    "                    ~pl.col(\"date\").is_between(\n",
    "                        announce_date - datetime.timedelta(7), announce_date + datetime.timedelta(7)\n",
    "                    )\n",
    "                )\n",
    "            ).alias(\"watch_list\")\n",
    "        )\n",
    "    return df"
   ]
  },
  {
   "cell_type": "code",
   "execution_count": null,
   "metadata": {},
   "outputs": [],
   "source": [
    "for code in code_list:\n",
    "    df = calc_for_watch_list(code)\n",
    "    break"
   ]
  },
  {
   "cell_type": "code",
   "execution_count": null,
   "metadata": {},
   "outputs": [],
   "source": [
    "condition = StopCondition(sell_rate=0.01, max_loss_rate=0.08)\n",
    "tmp = [stock.simulation.simulate.run(\"0000\", df[\"date\"][i], condition) for i in range(len(df))]"
   ]
  },
  {
   "cell_type": "code",
   "execution_count": null,
   "metadata": {},
   "outputs": [],
   "source": [
    "df = stock.kabutan.read_data_csv(\"0000\")"
   ]
  },
  {
   "cell_type": "code",
   "execution_count": null,
   "metadata": {},
   "outputs": [],
   "source": [
    "df = df.with_columns(\n",
    "    ((pl.col(\"open\") - pl.col(\"close\").shift()) / pl.col(\"open\")).alias(\"gap\"),\n",
    ")"
   ]
  },
  {
   "cell_type": "code",
   "execution_count": null,
   "metadata": {},
   "outputs": [],
   "source": [
    "df[\"open\"][0], df[\"open\"][-1]"
   ]
  },
  {
   "cell_type": "code",
   "execution_count": null,
   "metadata": {},
   "outputs": [],
   "source": [
    "df = df.with_columns(\n",
    "    ((pl.col(\"close\") - pl.col(\"open\")) / pl.col(\"open\")).alias(\"gap\"),\n",
    ")"
   ]
  },
  {
   "cell_type": "code",
   "execution_count": null,
   "metadata": {},
   "outputs": [],
   "source": [
    "tdf = df.select(\n",
    "    pl.reduce(function = lambda acc, x: acc * x, exprs=pl.col(\"gap\") + 1).alias(\"reduce\")\n",
    ")"
   ]
  },
  {
   "cell_type": "code",
   "execution_count": null,
   "metadata": {},
   "outputs": [],
   "source": [
    "tdf"
   ]
  },
  {
   "cell_type": "code",
   "execution_count": null,
   "metadata": {},
   "outputs": [],
   "source": [
    "(1 + df[\"gap\"]) * df[\"open\"][0]"
   ]
  },
  {
   "cell_type": "code",
   "execution_count": null,
   "metadata": {},
   "outputs": [],
   "source": [
    "(1 + df[\"gap\"].sum()) * df[\"open\"][0]"
   ]
  },
  {
   "cell_type": "code",
   "execution_count": null,
   "metadata": {},
   "outputs": [],
   "source": []
  },
  {
   "cell_type": "code",
   "execution_count": null,
   "metadata": {},
   "outputs": [],
   "source": [
    "sum([d.profit for d in tmp])"
   ]
  },
  {
   "cell_type": "code",
   "execution_count": null,
   "metadata": {},
   "outputs": [],
   "source": [
    "df = read_data_csv(code)"
   ]
  },
  {
   "cell_type": "code",
   "execution_count": null,
   "metadata": {},
   "outputs": [],
   "source": [
    "ratios = []\n",
    "for code in code_list:\n",
    "    df = read_data_csv(code)\n",
    "    ratios.append((df[\"close\"] / df[\"open\"]).sum() / len(df))"
   ]
  },
  {
   "cell_type": "code",
   "execution_count": null,
   "metadata": {},
   "outputs": [],
   "source": []
  }
 ],
 "metadata": {
  "kernelspec": {
   "display_name": ".venv",
   "language": "python",
   "name": "python3"
  },
  "language_info": {
   "codemirror_mode": {
    "name": "ipython",
    "version": 3
   },
   "file_extension": ".py",
   "mimetype": "text/x-python",
   "name": "python",
   "nbconvert_exporter": "python",
   "pygments_lexer": "ipython3",
   "version": "3.12.3"
  }
 },
 "nbformat": 4,
 "nbformat_minor": 2
}
