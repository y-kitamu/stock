{
 "cells": [
  {
   "cell_type": "code",
   "execution_count": null,
   "metadata": {},
   "outputs": [],
   "source": [
    "import datetime\n",
    "\n",
    "from pydantic import ConfigDict\n",
    "import polars as pl\n",
    "from tqdm import tqdm\n",
    "import matplotlib.pyplot as plt\n",
    "\n",
    "import stock\n",
    "from stock.algorithm.market import is_limit_high"
   ]
  },
  {
   "cell_type": "code",
   "execution_count": null,
   "metadata": {},
   "outputs": [],
   "source": [
    "# 細かく利益確定していくsimulation"
   ]
  },
  {
   "cell_type": "code",
   "execution_count": null,
   "metadata": {},
   "outputs": [],
   "source": [
    "stacked_df = stock.watchlist.v1.get_watch_list_all()"
   ]
  },
  {
   "cell_type": "code",
   "execution_count": null,
   "metadata": {},
   "outputs": [],
   "source": [
    "class StopCondition(stock.simulation.base_condition.BaseCondition):\n",
    "    model_config = ConfigDict(arbitrary_types_allowed=True)\n",
    "    # parameter\n",
    "    max_loss_rate: float = 0.08\n",
    "    sell_rate: float = 0.02\n",
    "    max_days: int = 7 * 2\n",
    "    # results\n",
    "    buying_price: float = -1\n",
    "    buying_date: datetime.date = datetime.date.today()\n",
    "    selling_price: float = -1\n",
    "    selling_date: datetime.date = datetime.date.today()\n",
    "    # internal\n",
    "    loss_cut_price: float = -1\n",
    "    target_price: float = -1\n",
    "    index: int = -1\n",
    "    df: pl.DataFrame = pl.DataFrame()\n",
    "\n",
    "    def reset_results(self):\n",
    "        self.buying_price = -1\n",
    "        self.buying_date = datetime.date.today()\n",
    "        self.selling_price = -1\n",
    "        self.selling_date = datetime.date.today()\n",
    "        self.loss_cut_price = -1\n",
    "        self.target_price = -1\n",
    "        self.index = -1\n",
    "        self.df = pl.DataFrame()\n",
    "\n",
    "    def set_start(self, src_df: pl.DataFrame, start_date: datetime.date) -> float:\n",
    "        #print(src_df)\n",
    "        self.reset_results()\n",
    "        df = src_df.filter(pl.col(\"date\") >= start_date).sort(pl.col(\"date\"))\n",
    "        if len(df) < 15:\n",
    "            return -1\n",
    "        \n",
    "        if df[\"date\"][0] - start_date > datetime.timedelta(days=10):\n",
    "            return -1\n",
    "        \n",
    "        if is_limit_high(df[\"close\"][0], df[\"open\"][1]):\n",
    "            return -1\n",
    "        \n",
    "        self.buying_price = df[\"open\"][1]\n",
    "        self.buying_date = df[\"date\"][1]\n",
    "\n",
    "        self.loss_cut_price = self.buying_price * (1 - self.max_loss_rate)\n",
    "        self.target_price = self.buying_price * (1 + self.sell_rate)\n",
    "        self.df = df\n",
    "        self.index = 1\n",
    "        return self.buying_price\n",
    "\n",
    "    def run_simulation(self) -> float:\n",
    "\n",
    "        if self.df[\"date\"][self.index] - self.buying_date > datetime.timedelta(days=self.max_days):\n",
    "            self.selling_date = self.df[\"date\"][self.index]\n",
    "            self.selling_price = self.df[\"open\"][self.index]\n",
    "\n",
    "        if self.df[\"low\"][self.index] < self.loss_cut_price:\n",
    "            self.selling_date = self.df[\"date\"][self.index]\n",
    "            self.selling_price = min(self.df[\"open\"][self.index], self.loss_cut_price)\n",
    "\n",
    "        if self.df[\"high\"][self.index] > self.target_price:\n",
    "            self.selling_date = self.df[\"date\"][self.index]\n",
    "            self.selling_price = max(self.df[\"open\"][self.index], self.target_price)\n",
    "\n",
    "        self.index += 1\n",
    "        return self.selling_price"
   ]
  },
  {
   "cell_type": "code",
   "execution_count": null,
   "metadata": {},
   "outputs": [],
   "source": [
    "stacked_df"
   ]
  },
  {
   "cell_type": "code",
   "execution_count": null,
   "metadata": {},
   "outputs": [],
   "source": []
  },
  {
   "cell_type": "code",
   "execution_count": null,
   "metadata": {},
   "outputs": [],
   "source": [
    "# 特定の月でのsimulation\n",
    "target_year = 2024\n",
    "target_month = 7\n",
    "date = datetime.date(target_year, target_month, 1)\n",
    "code_list = stock.kabutan.get_code_list()\n",
    "\n",
    "res_list = []\n",
    "while date < datetime.date(target_year, target_month + 1, 1):\n",
    "    for code in tqdm(code_list):\n",
    "        condition = StopCondition(sell_rate=0.01, max_loss_rate=0.01)\n",
    "        if stock.kabutan.data.calc_estimated_capitalization(code) > 100000000000:\n",
    "            continue\n",
    "        res = stock.simulation.simulate.run(code, date, condition)\n",
    "        res_list.append(res)\n",
    "    date += datetime.timedelta(days=1)"
   ]
  },
  {
   "cell_type": "code",
   "execution_count": null,
   "metadata": {},
   "outputs": [],
   "source": [
    "res_list_per_day = [[] for _ in range(31)]\n",
    "for res in res_list:\n",
    "    if res.buying_price < 0 or res.buying_date.month > target_month:\n",
    "        continue\n",
    "    idx = res.buying_date.day - 1\n",
    "    res_list_per_day[idx].append(res)\n",
    "\n",
    "profits_per_day = {\n",
    "    ress[0].buying_date: [res.profit for res in ress] for ress in res_list_per_day if len(ress) > 0\n",
    "}\n",
    "for date, profits in profits_per_day.items():\n",
    "    if len(profits) > 0:\n",
    "        print(\"date = {}, sum = {:>10.4f}, mean = {:>10.4f}\".format(\n",
    "            date, sum(profits), sum(profits) / len(profits)))\n",
    "all_profits = [sum(profits) / len(profits) for _, profits in sorted(profits_per_day.items()) if len(profits) > 0]"
   ]
  },
  {
   "cell_type": "code",
   "execution_count": null,
   "metadata": {},
   "outputs": [],
   "source": [
    "profits_per_day = {}\n",
    "for res in results:\n",
    "    if res.buying_price < 0:\n",
    "        continue\n",
    "    if res.buying_date.year == target_year and res.buying_date.month == target_month:\n",
    "        target_date = res.buying_date\n",
    "        if target_date not in profits_per_day:\n",
    "            profits_per_day[target_date] = []\n",
    "        profits_per_day[target_date].append(res.profit)\n",
    "\n",
    "for date, profits in sorted(profits_per_day.items()):\n",
    "    if len(profits) > 0:\n",
    "        print(\"date = {}, sum = {:>10.4f}, mean = {:>10.4f}\".format(\n",
    "            date, sum(profits), sum(profits) / len(profits)))        \n",
    "selected_profits = [sum(profits) / len(profits) for _, profits in sorted(profits_per_day.items()) if len(profits) > 0]"
   ]
  },
  {
   "cell_type": "code",
   "execution_count": null,
   "metadata": {},
   "outputs": [],
   "source": [
    "sum(all_profits), sum(selected_profits)"
   ]
  },
  {
   "cell_type": "code",
   "execution_count": null,
   "metadata": {},
   "outputs": [],
   "source": [
    "sum(all_profits), sum(selected_profits)"
   ]
  },
  {
   "cell_type": "code",
   "execution_count": null,
   "metadata": {},
   "outputs": [],
   "source": [
    "sum(all_profits), sum(selected_profits)"
   ]
  },
  {
   "cell_type": "code",
   "execution_count": null,
   "metadata": {},
   "outputs": [],
   "source": [
    "sum(all_profits), sum(selected_profits[1:])"
   ]
  },
  {
   "cell_type": "code",
   "execution_count": null,
   "metadata": {},
   "outputs": [],
   "source": [
    "plt.plot(all_profits)\n",
    "plt.plot(selected_profits)"
   ]
  },
  {
   "cell_type": "code",
   "execution_count": null,
   "metadata": {},
   "outputs": [],
   "source": []
  },
  {
   "cell_type": "code",
   "execution_count": null,
   "metadata": {},
   "outputs": [],
   "source": [
    "results = []\n",
    "for index in tqdm(range(len(stacked_df))):\n",
    "    condition = StopCondition(sell_rate=0.01, max_loss_rate=0.01)\n",
    "    res = stock.simulation.simulate.run(\n",
    "        stacked_df[\"code\"][index], stacked_df[\"date\"][index], condition\n",
    "    )\n",
    "    results.append(res)"
   ]
  },
  {
   "cell_type": "code",
   "execution_count": null,
   "metadata": {},
   "outputs": [],
   "source": [
    "profits = [res.profit for res in results if res.profit < 0.02]\n",
    "sum(profits), sum(profits) / len(profits)"
   ]
  },
  {
   "cell_type": "code",
   "execution_count": null,
   "metadata": {},
   "outputs": [],
   "source": [
    "index = 21\n",
    "print(stacked_df[\"code\"][index])\n",
    "print(results[index].model_dump_json(indent=4))"
   ]
  },
  {
   "cell_type": "code",
   "execution_count": null,
   "metadata": {},
   "outputs": [],
   "source": []
  },
  {
   "cell_type": "code",
   "execution_count": null,
   "metadata": {},
   "outputs": [],
   "source": []
  }
 ],
 "metadata": {
  "kernelspec": {
   "display_name": ".venv",
   "language": "python",
   "name": "python3"
  },
  "language_info": {
   "codemirror_mode": {
    "name": "ipython",
    "version": 3
   },
   "file_extension": ".py",
   "mimetype": "text/x-python",
   "name": "python",
   "nbconvert_exporter": "python",
   "pygments_lexer": "ipython3",
   "version": "3.12.3"
  }
 },
 "nbformat": 4,
 "nbformat_minor": 2
}
