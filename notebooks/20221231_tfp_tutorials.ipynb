{
 "cells": [
  {
   "cell_type": "code",
   "execution_count": null,
   "metadata": {},
   "outputs": [],
   "source": [
    "import matplotlib.pyplot as plt\n",
    "import numpy as np\n",
    "import seaborn as sns\n",
    "import tensorflow as tf\n",
    "import tensorflow_probability as tfp\n",
    "\n",
    "tfd = tfp.distributions\n",
    "tfb = tfp.bijectors"
   ]
  },
  {
   "cell_type": "code",
   "execution_count": null,
   "metadata": {},
   "outputs": [],
   "source": [
    "def print_subclasses_from_module(module, base_class, maxwidth=80):\n",
    "  import functools, inspect, sys\n",
    "  subclasses = [name for name, obj in inspect.getmembers(module)\n",
    "                if inspect.isclass(obj) and issubclass(obj, base_class)]\n",
    "  def red(acc, x):\n",
    "    if not acc or len(acc[-1]) + len(x) + 2 > maxwidth:\n",
    "      acc.append(x)\n",
    "    else:\n",
    "      acc[-1] += \", \" + x\n",
    "    return acc\n",
    "  print('\\n'.join(functools.reduce(red, subclasses, [])))"
   ]
  },
  {
   "cell_type": "code",
   "execution_count": null,
   "metadata": {},
   "outputs": [],
   "source": [
    "mats = tf.random.uniform(shape=[1000, 10, 10])\n",
    "vecs = tf.random.uniform(shape=[1000, 10, 1])\n",
    "\n",
    "def for_loop_solve():\n",
    "  return np.array(\n",
    "    [tf.linalg.solve(mats[i, ...], vecs[i, ...]) for i in range(1000)])\n",
    "\n",
    "def vectorized_solve():\n",
    "  return tf.linalg.solve(mats, vecs)\n",
    "\n",
    "# Vectorization for the win!\n",
    "%timeit for_loop_solve()\n",
    "%timeit vectorized_solve()"
   ]
  },
  {
   "cell_type": "code",
   "execution_count": null,
   "metadata": {},
   "outputs": [],
   "source": [
    "# Code can run seamlessly on a GPU, just change Colab runtime type\n",
    "# in the 'Runtime' menu.\n",
    "if tf.test.gpu_device_name() == '/device:GPU:0':\n",
    "  print(\"Using a GPU\")\n",
    "else:\n",
    "  print(\"Using a CPU\")"
   ]
  },
  {
   "cell_type": "code",
   "execution_count": null,
   "metadata": {},
   "outputs": [],
   "source": [
    "a = tf.constant(np.pi)\n",
    "b = tf.constant(np.e)\n",
    "with tf.GradientTape() as tape:\n",
    "  tape.watch([a, b])\n",
    "  c = .5 * (a**2 + b**2)\n",
    "grads = tape.gradient(c, [a, b])\n",
    "print(grads[0])\n",
    "print(grads[1])"
   ]
  },
  {
   "cell_type": "code",
   "execution_count": null,
   "metadata": {},
   "outputs": [],
   "source": [
    "print_subclasses_from_module(tfp.distributions, tfp.distributions.Distribution)"
   ]
  },
  {
   "cell_type": "code",
   "execution_count": null,
   "metadata": {},
   "outputs": [],
   "source": [
    "normal = tfd.Normal(loc=0, scale=1)\n",
    "print(normal)"
   ]
  },
  {
   "cell_type": "code",
   "execution_count": null,
   "metadata": {},
   "outputs": [],
   "source": [
    "samples = normal.sample(1000)\n",
    "sns.displot(samples)\n",
    "plt.title(\"Samples from standard Normal\")\n",
    "plt.show()\n"
   ]
  },
  {
   "cell_type": "code",
   "execution_count": null,
   "metadata": {},
   "outputs": [],
   "source": [
    "normal.log_prob(0.)"
   ]
  },
  {
   "cell_type": "code",
   "execution_count": null,
   "metadata": {},
   "outputs": [],
   "source": [
    "normals = tfd.Normal([-2.5, 0., 2.5], 1.)\n",
    "print(\"Batch shape: \", normals.batch_shape)\n",
    "print(\"Event shape: \", normals.event_shape)"
   ]
  },
  {
   "cell_type": "code",
   "execution_count": null,
   "metadata": {},
   "outputs": [],
   "source": [
    "samples = normals.sample(1000)\n",
    "print(\"Sahpe of samples: \", samples.shape)"
   ]
  },
  {
   "cell_type": "code",
   "execution_count": null,
   "metadata": {},
   "outputs": [],
   "source": [
    "# And so will this!\n",
    "xs = np.linspace(-6, 6, 200)[..., np.newaxis]\n",
    "lps = normals.log_prob(xs)\n",
    "print(\"Broadcast log_prob shape:\", lps.shape)\n",
    "\n",
    "# Summarizing visually\n",
    "for i in range(3):\n",
    "  sns.displot(samples[:, i], kde=False)\n",
    "plt.plot(np.tile(xs, 3), normals.prob(xs), c='k', alpha=.5)\n",
    "plt.title(\"Samples from 3 Normals, and their PDF's\")\n",
    "plt.show()"
   ]
  },
  {
   "cell_type": "code",
   "execution_count": null,
   "metadata": {},
   "outputs": [],
   "source": [
    "kernel = tfp.math.psd_kernels.ExponentiatedQuadratic()\n",
    "xs = np.linspace(-5., 5., 2000).reshape([-1, 1])\n"
   ]
  },
  {
   "cell_type": "code",
   "execution_count": null,
   "metadata": {},
   "outputs": [],
   "source": []
  }
 ],
 "metadata": {
  "kernelspec": {
   "display_name": "Python 3.10.6 ('.venv': poetry)",
   "language": "python",
   "name": "python3"
  },
  "language_info": {
   "codemirror_mode": {
    "name": "ipython",
    "version": 3
   },
   "file_extension": ".py",
   "mimetype": "text/x-python",
   "name": "python",
   "nbconvert_exporter": "python",
   "pygments_lexer": "ipython3",
   "version": "3.10.6"
  },
  "vscode": {
   "interpreter": {
    "hash": "0925d657e30d00cf1a4f19c1b7a91cf3b3559e9055505eaa2fd1b9771cefd6bc"
   }
  }
 },
 "nbformat": 4,
 "nbformat_minor": 2
}
