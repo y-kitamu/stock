{
 "cells": [
  {
   "cell_type": "markdown",
   "metadata": {},
   "source": [
    "# 単純なアルゴリズムで推論する\n",
    "相関があると考えられる指標（銘柄）同士で比較する\n",
    "\n",
    "- topix, nikkei225 vs s&p 500, nasdaq, dow"
   ]
  },
  {
   "cell_type": "code",
   "execution_count": null,
   "metadata": {},
   "outputs": [],
   "source": [
    "from pathlib import Path\n",
    "\n",
    "import pandas as pd\n",
    "import numpy as np\n",
    "import matplotlib.pyplot as plt"
   ]
  },
  {
   "cell_type": "code",
   "execution_count": null,
   "metadata": {},
   "outputs": [],
   "source": [
    "sp500_path = Path(\"../data/us_etf/SPXL.csv\")\n",
    "nasdaq_path = Path(\"\")\n",
    "dow_path = Path(\"\")\n",
    "\n",
    "topix_path = Path(\"\")\n",
    "nikkei_path = Path(\"../data/etfs/1458.csv\")\n",
    "nikkei_inv_path = Path(\"../data/etfs/1459.csv\")\n",
    "\n",
    "sp500_df = pd.read_csv(sp500_path)\n",
    "nikkei_df = pd.read_csv(nikkei_path)\n",
    "nikkei_inv_df = pd.read_csv(nikkei_inv_path)"
   ]
  },
  {
   "cell_type": "code",
   "execution_count": null,
   "metadata": {},
   "outputs": [],
   "source": [
    "sp500_df.head()"
   ]
  },
  {
   "cell_type": "code",
   "execution_count": null,
   "metadata": {},
   "outputs": [],
   "source": [
    "sp500_data = sp500_df.to_numpy()\n",
    "nikkei_data = nikkei_df.to_numpy()\n",
    "\n",
    "pairs = []\n",
    "for i in range(len(nikkei_data)):\n",
    "    for j in range(len(sp500_data)):\n",
    "        if nikkei_data[i, 0] == sp500_data[j, 0]:\n",
    "            pairs.append((nikkei_data[i], sp500_data[j]))\n",
    "\n",
    "pairs = np.array(sorted(pairs, key=lambda x: x[0][0]))"
   ]
  },
  {
   "cell_type": "code",
   "execution_count": null,
   "metadata": {},
   "outputs": [],
   "source": [
    "def calc_profit(us_data, jp_data):\n",
    "    change = us_data[1:, 4] - us_data[:-1, 4]\n",
    "    target = jp_data[1:][change > 0]\n",
    "    earn = target[:, 4] - target[:, 1]\n",
    "    print(\"Earn = {}\".format(earn.sum()))\n",
    "    return earn"
   ]
  },
  {
   "cell_type": "code",
   "execution_count": null,
   "metadata": {},
   "outputs": [],
   "source": [
    "us_data = pairs[:, 1]\n",
    "jp_data = pairs[:, 0]\n",
    "us_change = us_data[1:, 4] - us_data[:-1, 4]\n",
    "jp_change = jp_data[:-1, 2] - jp_data[:-1, 1]\n",
    "\n",
    "plt.axvline(0)\n",
    "plt.axhline(0)\n",
    "plt.scatter(us_change, jp_change, s=1)"
   ]
  },
  {
   "cell_type": "code",
   "execution_count": null,
   "metadata": {},
   "outputs": [],
   "source": [
    "changes = jp_change[us_change > 0]\n",
    "(changes > 0).sum(), len(changes)"
   ]
  },
  {
   "cell_type": "code",
   "execution_count": null,
   "metadata": {},
   "outputs": [],
   "source": [
    "calc_profit(pairs[:, 1], pairs[:, 0])"
   ]
  },
  {
   "cell_type": "code",
   "execution_count": null,
   "metadata": {},
   "outputs": [],
   "source": []
  }
 ],
 "metadata": {
  "kernelspec": {
   "display_name": "Python 3.10.6 ('.venv': poetry)",
   "language": "python",
   "name": "python3"
  },
  "language_info": {
   "codemirror_mode": {
    "name": "ipython",
    "version": 3
   },
   "file_extension": ".py",
   "mimetype": "text/x-python",
   "name": "python",
   "nbconvert_exporter": "python",
   "pygments_lexer": "ipython3",
   "version": "3.10.6"
  },
  "vscode": {
   "interpreter": {
    "hash": "0925d657e30d00cf1a4f19c1b7a91cf3b3559e9055505eaa2fd1b9771cefd6bc"
   }
  }
 },
 "nbformat": 4,
 "nbformat_minor": 2
}
