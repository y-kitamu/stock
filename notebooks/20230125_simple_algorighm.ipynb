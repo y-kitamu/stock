{
 "cells": [
  {
   "cell_type": "markdown",
   "metadata": {},
   "source": [
    "# 単純なアルゴリズムで推論する\n",
    "相関があると考えられる指標（銘柄）同士で比較する\n",
    "\n",
    "- topix, nikkei225 vs s&p 500, nasdaq, dow"
   ]
  },
  {
   "cell_type": "code",
   "execution_count": null,
   "metadata": {},
   "outputs": [],
   "source": [
    "from pathlib import Path\n",
    "\n",
    "import pandas as pd\n",
    "import numpy as np\n",
    "import matplotlib.pyplot as plt"
   ]
  },
  {
   "cell_type": "code",
   "execution_count": null,
   "metadata": {},
   "outputs": [],
   "source": [
    "sp500_path = Path(\"../data/us_etf/SPXL.csv\")\n",
    "nasdaq_path = Path(\"\")\n",
    "dow_path = Path(\"../data/us_etf/DIA.csv\")\n",
    "\n",
    "topix_path = Path(\"\")\n",
    "nikkei_path = Path(\"../data/etfs/1458.csv\")\n",
    "nikkei_inv_path = Path(\"../data/etfs/1459.csv\")\n",
    "\n",
    "sp500_df = pd.read_csv(sp500_path)\n",
    "dow_df = pd.read_csv(dow_path)\n",
    "nikkei_df = pd.read_csv(nikkei_path)\n",
    "nikkei_inv_df = pd.read_csv(nikkei_inv_path)"
   ]
  },
  {
   "cell_type": "code",
   "execution_count": null,
   "metadata": {},
   "outputs": [],
   "source": [
    "def plot_df(df, start_idx=-100, column=1):\n",
    "    arr = df.to_numpy()\n",
    "    plt.plot(arr[start_idx:, column] / arr[start_idx, column])\n",
    "\n",
    "plot_df(sp500_df)\n",
    "plot_df(dow_df)\n",
    "plot_df(nikkei_df)"
   ]
  },
  {
   "cell_type": "code",
   "execution_count": null,
   "metadata": {},
   "outputs": [],
   "source": []
  },
  {
   "cell_type": "code",
   "execution_count": null,
   "metadata": {},
   "outputs": [],
   "source": [
    "sp500_data = sp500_df.to_numpy()\n",
    "dow_data = dow_df.to_numpy()\n",
    "nikkei_data = nikkei_df.to_numpy()\n",
    "\n",
    "pairs = []\n",
    "for i in range(len(nikkei_data)):\n",
    "    for j in range(len(sp500_data)):\n",
    "        if nikkei_data[i, 0] == sp500_data[j, 0]:\n",
    "            pairs.append((nikkei_data[i], sp500_data[j], dow_data[j]))\n",
    "\n",
    "pairs = np.array(sorted(pairs, key=lambda x: x[0][0]))"
   ]
  },
  {
   "cell_type": "code",
   "execution_count": null,
   "metadata": {},
   "outputs": [],
   "source": [
    "def calc_profit(us_data, jp_data):\n",
    "    change = us_data[1:, 4] - us_data[:-1, 4]\n",
    "    target = jp_data[1:][change > 0]\n",
    "    earn = target[:, 4] - target[:, 1]\n",
    "    print(\"Earn = {}\".format(earn.sum()))\n",
    "    return earn"
   ]
  },
  {
   "cell_type": "code",
   "execution_count": null,
   "metadata": {},
   "outputs": [],
   "source": [
    "sp500_data = pairs[:, 1]\n",
    "dow_data = pairs[:, 2]\n",
    "jp_data = pairs[:, 0]\n",
    "sp500_change = sp500_data[1:, 4] - sp500_data[:-1, 4]\n",
    "dow_change = dow_data[1:, 4] - dow_data[:-1, 4]\n",
    "us_up = np.logical_xor(sp500_change > 0, dow_change > 0)\n",
    "jp_change = jp_data[:-1, 4] - jp_data[:-1, 1]\n",
    "\n",
    "plt.axvline(0)\n",
    "plt.axhline(0)\n",
    "plt.scatter(sp500_change[us_up], jp_change[us_up], s=1)"
   ]
  },
  {
   "cell_type": "code",
   "execution_count": null,
   "metadata": {},
   "outputs": [],
   "source": [
    "changes = jp_change[us_change > 0]\n",
    "(changes > 0).sum(), len(changes)"
   ]
  },
  {
   "cell_type": "code",
   "execution_count": null,
   "metadata": {},
   "outputs": [],
   "source": [
    "calc_profit(pairs[:, 1], pairs[:, 0])"
   ]
  },
  {
   "cell_type": "code",
   "execution_count": null,
   "metadata": {},
   "outputs": [],
   "source": []
  },
  {
   "cell_type": "code",
   "execution_count": null,
   "metadata": {},
   "outputs": [],
   "source": [
    "data = nikkei_df.to_numpy()\n",
    "\n",
    "benefits = []\n",
    "for _, start, high, low, end, _ in data:\n",
    "    short = start * 1\n",
    "    long = start * 1\n",
    "    if short <= high and long >= low:\n",
    "        benefits.append(short - long)\n",
    "    elif short > high and long < low:\n",
    "        benefits.append(0)\n",
    "    elif short <= high:\n",
    "        assert long < low\n",
    "        benefits.append(short - end)\n",
    "    else:\n",
    "        assert long >= low and short > high\n",
    "        benefits.append(end - long)\n",
    "\n",
    "sum(benefits)"
   ]
  },
  {
   "cell_type": "code",
   "execution_count": null,
   "metadata": {},
   "outputs": [],
   "source": []
  },
  {
   "cell_type": "code",
   "execution_count": null,
   "metadata": {},
   "outputs": [],
   "source": [
    "csv_dir = Path(\"../data/etfs\")\n",
    "csvs = sorted(csv_dir.glob(\"*.csv\"))"
   ]
  },
  {
   "cell_type": "code",
   "execution_count": null,
   "metadata": {},
   "outputs": [],
   "source": [
    "benefits = []\n",
    "maximum = 0\n",
    "maximum_idx = -1\n",
    "for idx, csv in enumerate(csvs):\n",
    "    df = pd.read_csv(csv)\n",
    "    data = df.to_numpy()\n",
    "    benefit = (data[:, 4] - data[:, 1]).sum()\n",
    "    benefits.append(benefit)\n",
    "    if benefit > maximum:\n",
    "        maximum = benefit\n",
    "        maximum_idx = idx"
   ]
  },
  {
   "cell_type": "code",
   "execution_count": null,
   "metadata": {},
   "outputs": [],
   "source": [
    "maximum, maximum_idx, csvs[maximum_idx]"
   ]
  },
  {
   "cell_type": "code",
   "execution_count": null,
   "metadata": {},
   "outputs": [],
   "source": [
    "sorted(benefits)"
   ]
  },
  {
   "cell_type": "code",
   "execution_count": null,
   "metadata": {},
   "outputs": [],
   "source": [
    "benefits[len(benefits) // 2]"
   ]
  },
  {
   "cell_type": "code",
   "execution_count": null,
   "metadata": {},
   "outputs": [],
   "source": [
    "plt.plot(sorted(benefits))\n",
    "# plt.ylim([-10000, 10000])\n",
    "plt.axhline(0)"
   ]
  },
  {
   "cell_type": "code",
   "execution_count": null,
   "metadata": {},
   "outputs": [],
   "source": []
  },
  {
   "cell_type": "markdown",
   "metadata": {},
   "source": [
    "## 前日高値（安値）より高い（安い）場合のみ買う（売る）"
   ]
  },
  {
   "cell_type": "code",
   "execution_count": null,
   "metadata": {},
   "outputs": [],
   "source": [
    "nikkei_path = Path(\"../data/etfs/1458.csv\")\n",
    "nikkei_df = pd.read_csv(nikkei_path)\n",
    "data = nikkei_df.to_numpy()\n",
    "nikkei_df.head()"
   ]
  },
  {
   "cell_type": "code",
   "execution_count": null,
   "metadata": {},
   "outputs": [],
   "source": [
    "mean_change = np.abs(data[:, 4] - data[:, 1]).mean()\n",
    "mean_end = data[:, 4].mean()\n",
    "print(f\"mean change = {mean_change}, mean end = {mean_end}\")"
   ]
  },
  {
   "cell_type": "code",
   "execution_count": null,
   "metadata": {},
   "outputs": [],
   "source": [
    "sum = 0\n",
    "count = 0\n",
    "arr = []\n",
    "accum = [0]\n",
    "indices = []\n",
    "start = 500\n",
    "end = data.shape[0] - 500\n",
    "for i in range(start, end):\n",
    "    # if data[i, 1] < data[i - 1, 3] or True:\n",
    "    if data[i, 1] < data[i - 1, 3]:\n",
    "        # sum += data[i, 4] - data[i, 1]\n",
    "        profit = data[i, 1] - data[i, 4]\n",
    "        sum += profit\n",
    "        count += 1\n",
    "        accum.append(accum[-1] + profit)\n",
    "        arr.append(profit)\n",
    "        indices.append(i - start)\n",
    "\n",
    "print(f\"sum = {sum}, count = {count }, mean = {sum / count:.2f}, percent = {sum / count / mean_end * 100:.2f}\")\n",
    "\n",
    "plt.plot(indices, accum[1:])\n",
    "plt.grid()\n",
    "plt.plot(data[start:end, 4])"
   ]
  },
  {
   "cell_type": "code",
   "execution_count": null,
   "metadata": {},
   "outputs": [],
   "source": [
    "def boxplot(start: np.ndarray, high: np.ndarray, low: np.ndarray, end: np.ndarray, box_width=0.5):\n",
    "    \"\"\"\n",
    "    \"\"\"\n",
    "    fig, ax = plt.subplots()\n",
    "    max_val = high.max() * 1.05\n",
    "    min_val = low.min() * 0.95\n",
    "\n",
    "    ax.set_xlim([0 - box_width, len(start)])\n",
    "    ax.set_ylim([min_val, max_val])\n",
    "\n",
    "    acsending_indices = []\n",
    "    acsending_box_xmins = []\n",
    "    acsending_box_xmaxs = []\n",
    "    acsending_xmins = []\n",
    "    acsending_xmaxs = []\n",
    "    decending_indices = []\n",
    "    decending_boxes_xmins = []\n",
    "    decending_boxes_xmaxs = []\n",
    "    decending_xmins = []\n",
    "    decending_xmaxs = []\n",
    "    for idx, (s, h, l, e) in enumerate(zip(start, high, low, end)):\n",
    "        if s < e:\n",
    "            acsending_indices.append(idx)\n",
    "            acsending_box_xmins.append(s)\n",
    "            acsending_box_xmaxs.append(e)\n",
    "            acsending_xmins.append(l)\n",
    "            acsending_xmaxs.append(h)\n",
    "        else:\n",
    "            decending_indices.append(idx)\n",
    "            decending_boxes_xmins.append(e)\n",
    "            decending_boxes_xmaxs.append(s)\n",
    "            decending_xmins.append(l)\n",
    "            decending_xmaxs.append(h)\n",
    "\n",
    "    points = 72.0 / fig.dpi\n",
    "    left_pix, _ = ax.transData.transform((0.0, 1.0))\n",
    "    right_pix, _ = ax.transData.transform((box_width, 1.0))\n",
    "    box_linewidth = (right_pix - left_pix)  * points\n",
    "    linewidth = min(box_linewidth * 0.3, 1)\n",
    "\n",
    "    ax.vlines(acsending_indices, acsending_xmins, acsending_xmaxs, color=\"red\", linewidth=linewidth)\n",
    "    ax.vlines(acsending_indices, acsending_box_xmins, acsending_box_xmaxs, color=\"red\", linewidth=box_linewidth)\n",
    "    ax.vlines(decending_indices, decending_xmins, decending_xmaxs, color=\"blue\", linewidth=linewidth)\n",
    "    ax.vlines(decending_indices, decending_boxes_xmins, decending_boxes_xmaxs, color=\"blue\", linewidth=box_linewidth)\n",
    "    ax.grid()"
   ]
  },
  {
   "cell_type": "code",
   "execution_count": null,
   "metadata": {},
   "outputs": [],
   "source": [
    "max_idx = 100\n",
    "boxplot(data[:max_idx, 1], data[:max_idx, 2], data[:max_idx, 3], data[:max_idx, 4])"
   ]
  },
  {
   "cell_type": "code",
   "execution_count": null,
   "metadata": {},
   "outputs": [],
   "source": []
  }
 ],
 "metadata": {
  "kernelspec": {
   "display_name": "Python 3.10.6 ('.venv': poetry)",
   "language": "python",
   "name": "python3"
  },
  "language_info": {
   "codemirror_mode": {
    "name": "ipython",
    "version": 3
   },
   "file_extension": ".py",
   "mimetype": "text/x-python",
   "name": "python",
   "nbconvert_exporter": "python",
   "pygments_lexer": "ipython3",
   "version": "3.10.6"
  },
  "vscode": {
   "interpreter": {
    "hash": "0925d657e30d00cf1a4f19c1b7a91cf3b3559e9055505eaa2fd1b9771cefd6bc"
   }
  }
 },
 "nbformat": 4,
 "nbformat_minor": 2
}
