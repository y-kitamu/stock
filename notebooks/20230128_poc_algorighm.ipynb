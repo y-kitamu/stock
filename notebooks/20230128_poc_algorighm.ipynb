{
 "cells": [
  {
   "cell_type": "markdown",
   "metadata": {},
   "source": [
    "# アルゴリズムの検討\n",
    "- テクニカル分析を交えて売り・買いを判断する"
   ]
  },
  {
   "cell_type": "code",
   "execution_count": null,
   "metadata": {},
   "outputs": [],
   "source": [
    "from pathlib import Path\n",
    "from itertools import accumulate\n",
    "\n",
    "import pandas as pd \n",
    "import numpy as np\n",
    "import matplotlib.pyplot as plt\n",
    "\n",
    "import stock"
   ]
  },
  {
   "cell_type": "code",
   "execution_count": null,
   "metadata": {},
   "outputs": [],
   "source": [
    "# データの準備\n",
    "sp500_path = Path(\"../data/us_etf/SPXL.csv\")\n",
    "dow_path = Path(\"../data/us_etf/DIA.csv\")\n",
    "\n",
    "topix_path = Path(\"\")\n",
    "nikkei_path = Path(\"../data/etfs/1458.csv\")\n",
    "nikkei_inv_path = Path(\"../data/etfs/1459.csv\")\n",
    "\n",
    "sp500_df = pd.read_csv(sp500_path)\n",
    "dow_df = pd.read_csv(dow_path)\n",
    "nikkei_df = pd.read_csv(nikkei_path)\n",
    "nikkei_inv_df = pd.read_csv(nikkei_inv_path)\n",
    "\n",
    "sp500 = sp500_df.to_numpy()\n",
    "dow = dow_df.to_numpy()\n",
    "nikkei = nikkei_df.to_numpy()\n",
    "nikkei_inv = nikkei_inv_df.to_numpy()"
   ]
  },
  {
   "cell_type": "code",
   "execution_count": null,
   "metadata": {},
   "outputs": [],
   "source": [
    "# データの可視化\n",
    "start = 0\n",
    "end = 400\n",
    "window_size = 7\n",
    "fig, ax = stock.visualize.boxplot(sp500[start:end, 1], sp500[start:end, 2], sp500[start:end, 3], sp500[start:end, 4])\n",
    "fig, ax = stock.visualize.moving_average(sp500[start:end, 1], window_size, fig=fig, ax=ax)"
   ]
  },
  {
   "cell_type": "code",
   "execution_count": null,
   "metadata": {},
   "outputs": [],
   "source": []
  },
  {
   "cell_type": "markdown",
   "metadata": {},
   "source": [
    "## 移動平均に沿って売買してみる\n",
    "- 移動平均の傾きが負から正になったら買い、正から負になったら売り"
   ]
  },
  {
   "cell_type": "code",
   "execution_count": null,
   "metadata": {},
   "outputs": [],
   "source": [
    "def simple_moving_average(array, window_size=5):\n",
    "    return np.convolve(array, np.ones(window_size) / window_size, mode=\"full\")[:len(array)]\n",
    "\n",
    "def weighted_moving_average(array, window_size=5):\n",
    "    weights = np.arange(1, window_size + 1)\n",
    "    return np.convolve(array, weights / weights.sum(), mode=\"full\")[:len(array)]\n",
    "\n",
    "\n",
    "def alg_moving_average(data, window_size=5):\n",
    "    \"\"\"\n",
    "    \"\"\"\n",
    "    avg = simple_moving_average(data[:, 1], window_size)\n",
    "    # avg = weighted_moving_average(data[:, 1], window_size)\n",
    "    grads = avg[1:] - avg[:-1]\n",
    "\n",
    "    buys = []\n",
    "    sells = []\n",
    "    indices = []\n",
    "    prev = 0    \n",
    "    for idx, grad in enumerate(grads):\n",
    "        if grad > 0 and prev < 0 and len(buys) == len(sells):\n",
    "            buys.append(data[idx + 1, 1])\n",
    "        elif grad < 0 and prev > 0 and len(buys) > len(sells):\n",
    "            sells.append(data[idx + 1, 1])\n",
    "            indices.append(idx)\n",
    "        # if grad > 0 and prev < 0 and len(buys) < len(sells):\n",
    "        #     buys.append(data[idx + 1, 1])\n",
    "        #     indices.append(idx)\n",
    "        # elif grad < 0 and prev > 0 and len(buys) == len(sells):\n",
    "        #     sells.append(data[idx + 1, 1])\n",
    "\n",
    "        if abs(grad) > 1e-5:\n",
    "            prev = grad\n",
    "\n",
    "    if len(buys) > len(sells):\n",
    "        sells.append(data[-1, 4])\n",
    "        indices.append(len(data) - 1)\n",
    "\n",
    "    profits = [sell - buy for buy, sell in zip(buys, sells)]\n",
    "    return buys, sells, indices, profits, avg"
   ]
  },
  {
   "cell_type": "code",
   "execution_count": null,
   "metadata": {},
   "outputs": [],
   "source": [
    "data = nikkei\n",
    "window_size = 7\n",
    "start = 1250\n",
    "end = len(data)\n",
    "\n",
    "data = data[start:end]\n",
    "buys, sells, sell_indices, profits, avg = alg_moving_average(data, window_size=window_size)\n",
    "accum_profits = list(accumulate(profits))\n",
    "base_profits = data[:, 1] - data[0, 1]\n",
    "plt.plot(sell_indices, accum_profits, label=\"algorithm\") \n",
    "plt.plot(avg)\n",
    "plt.plot(data[:, 1])\n",
    "plt.plot(base_profits, label=\"baseline\")\n",
    "plt.legend()\n",
    "plt.grid()"
   ]
  },
  {
   "cell_type": "code",
   "execution_count": null,
   "metadata": {},
   "outputs": [],
   "source": [
    "profits"
   ]
  },
  {
   "cell_type": "code",
   "execution_count": null,
   "metadata": {},
   "outputs": [],
   "source": []
  }
 ],
 "metadata": {
  "kernelspec": {
   "display_name": "Python 3.10.6 ('.venv': poetry)",
   "language": "python",
   "name": "python3"
  },
  "language_info": {
   "codemirror_mode": {
    "name": "ipython",
    "version": 3
   },
   "file_extension": ".py",
   "mimetype": "text/x-python",
   "name": "python",
   "nbconvert_exporter": "python",
   "pygments_lexer": "ipython3",
   "version": "3.10.6"
  },
  "vscode": {
   "interpreter": {
    "hash": "0925d657e30d00cf1a4f19c1b7a91cf3b3559e9055505eaa2fd1b9771cefd6bc"
   }
  }
 },
 "nbformat": 4,
 "nbformat_minor": 2
}
