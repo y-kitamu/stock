{
 "cells": [
  {
   "cell_type": "code",
   "execution_count": null,
   "metadata": {},
   "outputs": [],
   "source": [
    "from pathlib import Path\n",
    "import datetime\n",
    "\n",
    "import polars as pl\n",
    "\n",
    "import stock"
   ]
  },
  {
   "cell_type": "code",
   "execution_count": null,
   "metadata": {},
   "outputs": [],
   "source": [
    "len(target_codes)"
   ]
  },
  {
   "cell_type": "code",
   "execution_count": null,
   "metadata": {},
   "outputs": [],
   "source": [
    "target_codes = []\n",
    "\n",
    "daily_dir = stock.PROJECT_ROOT / \"data\" / \"daily\"\n",
    "financial_dir = stock.PROJECT_ROOT / \"data\" / \"financial\"\n",
    "for financial_csv_path in sorted(financial_dir.glob(\"*.csv\")):\n",
    "    fdf = stock.kabutan.read_financial_csv(financial_csv_path).filter(\n",
    "        pl.col(\"duration\") == 3\n",
    "    ).sort(pl.col(\"annoounce_date\"))\n",
    "    if len(fdf) == 0:\n",
    "        continue\n",
    "    latest_date = fdf[\"annoounce_date\"][-1]\n",
    "\n",
    "    daily_csv_path = daily_dir / financial_csv_path.name\n",
    "    if not daily_csv_path.exists():\n",
    "        continue\n",
    "    ddf = stock.kabutan.read_data_csv(daily_csv_path)\n",
    "    before_df = ddf.filter((latest_date - datetime.timedelta(days=365) <= pl.col(\"date\")) & (pl.col(\"date\") < latest_date))\n",
    "    if len(before_df) < 20:\n",
    "        continue\n",
    "    \n",
    "    # high = before_df[\"high\"][:-5].max()\n",
    "    # if before_df[\"high\"][-5:].max() < high:  # 新高値ではない場合はスキップ\n",
    "    #     continue\n",
    "\n",
    "    mean_volume = before_df[\"volume\"][-10:-5].mean()\n",
    "    max_volume = before_df[\"volume\"][-5:].max()\n",
    "    if max_volume < mean_volume * 5:  # 出来高が少ない場合はスキップ\n",
    "        continue\n",
    "    if max_volume < 100000: \n",
    "        continue\n",
    "\n",
    "    code = daily_csv_path.stem\n",
    "    target_codes.append(code)\n",
    "    print(code, latest_date, mean_volume, max_volume)"
   ]
  },
  {
   "cell_type": "code",
   "execution_count": null,
   "metadata": {},
   "outputs": [],
   "source": [
    "# 出来高の増加とともに新高値をつけている銘柄を探す\n",
    "target_codes = []\n",
    "target_date = datetime.date.today()\n",
    "\n",
    "for csv_path in sorted(daily_dir.glob(\"*.csv\")):\n",
    "    if csv_path.stem == \"0000\" or csv_path.stem == \"0010\":\n",
    "        continue\n",
    "    df = stock.kabutan.read_data_csv(csv_path)\n",
    "    fdf = df.filter(pl.col(\"date\").is_between(target_date - datetime.timedelta(days=365), target_date)).sort(pl.col(\"date\"))\n",
    "    if len(fdf) < 10:\n",
    "        continue\n",
    "    # if fdf[\"high\"].max() != fdf[\"high\"][-1]:\n",
    "    #     continue\n",
    "\n",
    "    latest_volume = fdf[\"volume\"][-1]\n",
    "    mean_volume = fdf[\"volume\"][-6:-1].mean()\n",
    "    if latest_volume > 100000 and latest_volume > mean_volume * 5:\n",
    "        stem = csv_path.stem\n",
    "        target_codes.append(stem)\n",
    "        print(stem, mean_volume, latest_volume)"
   ]
  },
  {
   "cell_type": "code",
   "execution_count": null,
   "metadata": {},
   "outputs": [],
   "source": [
    "len(target_codes)"
   ]
  },
  {
   "cell_type": "code",
   "execution_count": null,
   "metadata": {},
   "outputs": [],
   "source": [
    "# まずはバックテストで決算直前に出来高が大幅に増えている銘柄を抽出する\n"
   ]
  },
  {
   "cell_type": "code",
   "execution_count": null,
   "metadata": {},
   "outputs": [],
   "source": []
  }
 ],
 "metadata": {
  "kernelspec": {
   "display_name": ".venv",
   "language": "python",
   "name": "python3"
  },
  "language_info": {
   "codemirror_mode": {
    "name": "ipython",
    "version": 3
   },
   "file_extension": ".py",
   "mimetype": "text/x-python",
   "name": "python",
   "nbconvert_exporter": "python",
   "pygments_lexer": "ipython3",
   "version": "3.10.12"
  }
 },
 "nbformat": 4,
 "nbformat_minor": 2
}
