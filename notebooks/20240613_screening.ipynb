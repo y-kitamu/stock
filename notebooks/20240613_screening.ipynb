{
 "cells": [
  {
   "cell_type": "code",
   "execution_count": null,
   "metadata": {},
   "outputs": [],
   "source": [
    "# スクリーニング手法の探索\n",
    "import datetime\n",
    "from pathlib import Path\n",
    "\n",
    "import polars as pl\n",
    "import numpy as np\n",
    "import matplotlib.pyplot as plt\n",
    "\n",
    "import stock\n",
    "from stock.trend_template import check_growing"
   ]
  },
  {
   "cell_type": "code",
   "execution_count": null,
   "metadata": {},
   "outputs": [],
   "source": [
    "code_list = stock.kabutan.get_code_list()\n",
    "current_date = datetime.date(year=2022, month=6, day=8)\n",
    "window_size = 2\n",
    "growing_rate = 0.15\n",
    "duration = 2"
   ]
  },
  {
   "cell_type": "code",
   "execution_count": null,
   "metadata": {},
   "outputs": [],
   "source": [
    "def get_simulation_results(\n",
    "    watch_list: list[str], target_date: datetime.date = datetime.date.today()\n",
    "):\n",
    "    results = []\n",
    "    for idx, code in enumerate(watch_list):\n",
    "        stop_condition = stock.simulation.OnielStopCondition()\n",
    "        res = stock.simulation.run(code, target_date, stop_condition)\n",
    "        if res.buying_price > 0:\n",
    "            results.append(\n",
    "                {\"code\": code, \"duration\": res.duration, \"profit\": round(res.profit * 100)}\n",
    "            )\n",
    "    return results"
   ]
  },
  {
   "cell_type": "code",
   "execution_count": null,
   "metadata": {},
   "outputs": [],
   "source": [
    "# 4半期の売上高、営業利益が前年同期比15%以上増加している銘柄\n",
    "watch_list = []\n",
    "for code in code_list:\n",
    "    df = stock.kabutan.read_financial_csv(stock.DATA_DIR / f\"financial/{code}.csv\").filter(\n",
    "        (pl.col(\"annoounce_date\") <= current_date) & (pl.col(\"duration\") == 3)\n",
    "    ).sort(pl.col(\"annoounce_date\"))\n",
    "    if len(df) == 0:\n",
    "        continue\n",
    "\n",
    "    if current_date - df[\"annoounce_date\"][-1] > datetime.timedelta(days=30):\n",
    "        continue\n",
    "    \n",
    "    if (check_growing(df, \"total_revenue\", growing_rate, min_duration=duration,  current_date=current_date, num_average=window_size) and \n",
    "        check_growing(df, \"operating_income\", growing_rate, min_duration=duration, current_date=current_date, num_average=window_size) and \n",
    "        check_growing(df, \"net_income\", growing_rate, min_duration=duration, current_date=current_date, num_average=window_size)):\n",
    "        watch_list.append(code)\n"
   ]
  },
  {
   "cell_type": "code",
   "execution_count": null,
   "metadata": {},
   "outputs": [],
   "source": [
    "# nikkei, topixと比べてのパフォーマンスチェック\n",
    "watching = []\n",
    "not_watching = []\n",
    "for code in code_list:\n",
    "    df = stock.kabutan.read_data_csv(stock.DATA_DIR / f\"daily/{code}.csv\").filter(\n",
    "        pl.col(\"date\").is_between(current_date, upper_bound=current_date + datetime.timedelta(days=30), closed=\"right\")\n",
    "    )\n",
    "    if len(df) < 10:\n",
    "        continue\n",
    "    rate = df[\"close\"][-1] / df[\"open\"][0]\n",
    "    if code in watch_list:\n",
    "        watching.append(rate)\n",
    "    else:\n",
    "        not_watching.append(rate)"
   ]
  },
  {
   "cell_type": "code",
   "execution_count": null,
   "metadata": {},
   "outputs": [],
   "source": [
    "df = stock.kabutan.read_data_csv(stock.DATA_DIR / f\"daily/0010.csv\").filter(\n",
    "        pl.col(\"date\").is_between(current_date, upper_bound=current_date + datetime.timedelta(days=30), closed=\"right\")\n",
    "    )\n",
    "rate = df[\"close\"][-1] / df[\"open\"][0]"
   ]
  },
  {
   "cell_type": "code",
   "execution_count": null,
   "metadata": {},
   "outputs": [],
   "source": [
    "results = get_simulation_results(code_list, target_date=current_date)"
   ]
  },
  {
   "cell_type": "code",
   "execution_count": null,
   "metadata": {},
   "outputs": [],
   "source": [
    "success_list = [res[\"code\"] for res in results if res[\"profit\"] >= 20]\n",
    "growing_list = []\n",
    "\n",
    "for code in success_list:\n",
    "    df = stock.kabutan.read_financial_csv(stock.DATA_DIR / f\"financial/{code}.csv\").filter(\n",
    "        (pl.col(\"annoounce_date\") <= current_date) & (pl.col(\"duration\") == 3)\n",
    "    ).sort(pl.col(\"annoounce_date\"))\n",
    "    if len(df) == 0:\n",
    "        continue\n",
    "\n",
    "    if current_date - df[\"annoounce_date\"][-1] > datetime.timedelta(days=30):\n",
    "        continue\n",
    "    \n",
    "    if (check_growing(df, \"total_revenue\", growing_rate, min_duration=duration,  current_date=current_date, num_average=window_size) and \n",
    "        check_growing(df, \"operating_income\", growing_rate, min_duration=duration, current_date=current_date, num_average=window_size) and \n",
    "        check_growing(df, \"net_income\", growing_rate, min_duration=duration, current_date=current_date, num_average=window_size)):\n",
    "        growing_list.append(code)"
   ]
  },
  {
   "cell_type": "code",
   "execution_count": null,
   "metadata": {},
   "outputs": [],
   "source": [
    "# relative strengthの検証\n",
    "current_date = datetime.date(year=2022, month=6, day=8)\n",
    "\n",
    "# relative strengthの高い銘柄を取得\n",
    "target_key = \"rs\"\n",
    "target_code_list = []\n",
    "target_rs = {}\n",
    "rs_list = []\n",
    "for code in code_list:\n",
    "    df = stock.kabutan.read_data_csv(csv_path=stock.DATA_DIR / f\"daily/{code}.csv\", end_date=current_date)\n",
    "    if len(df) > 0 and df[target_key][-1] > 0:\n",
    "        rs_list.append([df[target_key][-1], df[\"rs_topix\"][-1], df[\"rs\"][-1]])\n",
    "        target_code_list.append(code)\n",
    "\n",
    "ind = np.argsort(rs_list, axis=0)\n",
    "start_pos = int(len(rs_list) * 0.9)\n",
    "end_pos = int(len(rs_list) * 0.95)\n",
    "target_indices = ind[start_pos:end_pos, 0]\n",
    "target_code = np.array(target_code_list)[target_indices]\n",
    "target_rs[target_key] = np.array(rs_list)[target_indices, 0]"
   ]
  },
  {
   "cell_type": "code",
   "execution_count": null,
   "metadata": {},
   "outputs": [],
   "source": [
    "# simulation結果を表示\n",
    "sim_res = get_simulation_results(target_code, target_date=current_date)\n",
    "grid = np.array([[rs, res[\"profit\"]] for rs, res in zip(target_rs[target_key], sim_res)])\n",
    "num_success = (grid[:, 1] >= 20).sum()\n",
    "print(\"{} / {} ({:.2f} %)\".format(num_success, len(grid), num_success / len(grid) * 100))"
   ]
  },
  {
   "cell_type": "code",
   "execution_count": null,
   "metadata": {},
   "outputs": [],
   "source": []
  },
  {
   "cell_type": "code",
   "execution_count": null,
   "metadata": {},
   "outputs": [],
   "source": [
    "# テクニカルでスクリーニング\n",
    "watch_list = []\n",
    "for code in target_code:\n",
    "    df = stock.kabutan.read_data_csv(stock.DATA_DIR / f\"daily/{code}.csv\", end_date=current_date)\n",
    "    # relative strengthが上昇している\n",
    "    max_rs = df.filter(pl.col(\"date\") >= current_date - datetime.timedelta(days=10))[\"rs\"].max()\n",
    "    if max_rs * 0.95 > df[\"rs\"][-1]:\n",
    "        continue\n",
    "\n",
    "    # 新高値付近にある\n",
    "    highest = df.filter(pl.col(\"date\") >= current_date - datetime.timedelta(days=90))[\"high\"].max()\n",
    "    if highest * 0.80 > df[\"close\"][-1]:\n",
    "        continue\n",
    "\n",
    "    watch_list.append(code)"
   ]
  },
  {
   "cell_type": "code",
   "execution_count": null,
   "metadata": {},
   "outputs": [],
   "source": [
    "# simulation結果を表示\n",
    "sim_res = get_simulation_results(watch_list, target_date=current_date)\n",
    "grid = np.array([res[\"profit\"] for res in sim_res])\n",
    "num_success = (grid >= 20).sum()\n",
    "print(\"{} / {} ({:.2f} %)\".format(num_success, len(grid), num_success / len(grid) * 100))"
   ]
  },
  {
   "cell_type": "code",
   "execution_count": null,
   "metadata": {},
   "outputs": [],
   "source": [
    "code_list = stock.kabutan.get_code_list()\n",
    "current_date = datetime.date(year=2022, month=6, day=8)\n",
    "window_size = 2\n",
    "growing_rate = 0.1\n",
    "duration = 2"
   ]
  },
  {
   "cell_type": "code",
   "execution_count": null,
   "metadata": {},
   "outputs": [],
   "source": [
    "target_code = watch_list"
   ]
  },
  {
   "cell_type": "code",
   "execution_count": null,
   "metadata": {},
   "outputs": [],
   "source": [
    "# fundamentalsでスクリーニング\n",
    "watch_list = []\n",
    "for code in target_code:\n",
    "    df = stock.kabutan.read_financial_csv(stock.DATA_DIR / f\"financial/{code}.csv\").filter(\n",
    "        (pl.col(\"annoounce_date\") <= current_date) & (pl.col(\"duration\") == 3)\n",
    "    ).sort(pl.col(\"annoounce_date\"))\n",
    "    # if len(df) == 0:\n",
    "    #     watch_list.append(code)\n",
    "    #     continue\n",
    "\n",
    "    # if current_date - df[\"annoounce_date\"][-1] > datetime.timedelta(days=30):\n",
    "    #     watch_list.append(code)\n",
    "    #     continue\n",
    "    \n",
    "    if not (check_growing(df, \"total_revenue\", growing_rate, min_duration=duration,  current_date=current_date, num_average=window_size) or\n",
    "        check_growing(df, \"operating_income\", growing_rate, min_duration=duration, current_date=current_date, num_average=window_size) or\n",
    "        check_growing(df, \"net_income\", growing_rate, min_duration=duration, current_date=current_date, num_average=window_size)):\n",
    "        if stock.kabutan.data.get_market_capitalization(code) > 50:\n",
    "            watch_list.append(code)    "
   ]
  },
  {
   "cell_type": "code",
   "execution_count": null,
   "metadata": {},
   "outputs": [],
   "source": [
    "# simulation結果を表示\n",
    "sim_res = get_simulation_results(watch_list, target_date=current_date)\n",
    "grid = np.array([res[\"profit\"] for res in sim_res])\n",
    "num_success = (grid >= 20).sum()\n",
    "print(\"{} / {} ({:.2f} %)\".format(num_success, len(grid), num_success / len(grid) * 100))"
   ]
  },
  {
   "cell_type": "code",
   "execution_count": null,
   "metadata": {},
   "outputs": [],
   "source": [
    "watch_list"
   ]
  },
  {
   "cell_type": "code",
   "execution_count": null,
   "metadata": {},
   "outputs": [],
   "source": [
    "window_size = 2\n",
    "growing_rate = 0.15\n",
    "duration = 2\n",
    "\n",
    "not (check_growing(\n",
    "    df,\n",
    "    \"total_revenue\",\n",
    "    growing_rate,\n",
    "    min_duration=duration,\n",
    "    current_date=current_date,\n",
    "    num_average=window_size,\n",
    ") or \n",
    "check_growing(\n",
    "    df,\n",
    "    \"operating_income\",\n",
    "    growing_rate,\n",
    "    min_duration=duration,\n",
    "    current_date=current_date,\n",
    "    num_average=window_size,\n",
    ") or\n",
    "check_growing(\n",
    "    df,\n",
    "    \"net_income\",\n",
    "    growing_rate,\n",
    "    min_duration=duration,\n",
    "    current_date=current_date,\n",
    "    num_average=window_size,\n",
    ")\n",
    ")\n"
   ]
  },
  {
   "cell_type": "code",
   "execution_count": null,
   "metadata": {},
   "outputs": [],
   "source": []
  }
 ],
 "metadata": {
  "kernelspec": {
   "display_name": ".venv",
   "language": "python",
   "name": "python3"
  },
  "language_info": {
   "codemirror_mode": {
    "name": "ipython",
    "version": 3
   },
   "file_extension": ".py",
   "mimetype": "text/x-python",
   "name": "python",
   "nbconvert_exporter": "python",
   "pygments_lexer": "ipython3",
   "version": "3.10.12"
  }
 },
 "nbformat": 4,
 "nbformat_minor": 2
}
