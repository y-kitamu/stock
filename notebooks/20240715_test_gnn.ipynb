{
 "cells": [
  {
   "cell_type": "code",
   "execution_count": null,
   "metadata": {},
   "outputs": [],
   "source": [
    "# gnn環境でdl動作チェック\n",
    "import numpy as np\n",
    "\n",
    "import stock\n",
    "import gnn"
   ]
  },
  {
   "cell_type": "code",
   "execution_count": null,
   "metadata": {},
   "outputs": [],
   "source": [
    "exp_name = \"sample\"\n",
    "params_dir = stock.PROJECT_ROOT / \"params\"\n",
    "param_path = params_dir / f\"{exp_name}.json\"\n",
    "output_root_dir = stock.PROJECT_ROOT / \"results\" / exp_name\n",
    "output_root_dir.mkdir(exist_ok=True, parents=True)\n",
    "params_dir.mkdir(exist_ok=True, parents=True)\n",
    "\n",
    "if param_path.exists():\n",
    "    with open(param_path, \"r\") as f:\n",
    "        params = gnn.Trainer.Params.model_validate_json(f.read())\n",
    "else:\n",
    "    params = gnn.Trainer.Params.get_default_params(\n",
    "        network_name=\"stock_network\",\n",
    "        loss_name=\"bce\",\n",
    "        dataloader_name=\"stock_dataloader\"\n",
    "    )\n",
    "    with open(param_path, \"w\") as f:\n",
    "        f.write(params.model_dump_json(indent=4))"
   ]
  },
  {
   "cell_type": "code",
   "execution_count": null,
   "metadata": {},
   "outputs": [],
   "source": [
    "callbacks = gnn.callbacks.CallbackList([\n",
    "    gnn.callbacks.Checkpoint(output_dir=output_root_dir / \"checkpoint\"),\n",
    "    gnn.callbacks.TrainLogger(tensorboard_dir=stock.PROJECT_ROOT / \"results/tensorboard\" / exp_name)\n",
    "])\n",
    "trainer = gnn.Trainer(params, callbacks=callbacks)"
   ]
  },
  {
   "cell_type": "code",
   "execution_count": null,
   "metadata": {},
   "outputs": [],
   "source": [
    "trainer.train()"
   ]
  },
  {
   "cell_type": "code",
   "execution_count": null,
   "metadata": {},
   "outputs": [],
   "source": []
  },
  {
   "cell_type": "code",
   "execution_count": null,
   "metadata": {},
   "outputs": [],
   "source": []
  }
 ],
 "metadata": {
  "kernelspec": {
   "display_name": ".venv",
   "language": "python",
   "name": "python3"
  },
  "language_info": {
   "codemirror_mode": {
    "name": "ipython",
    "version": 3
   },
   "file_extension": ".py",
   "mimetype": "text/x-python",
   "name": "python",
   "nbconvert_exporter": "python",
   "pygments_lexer": "ipython3",
   "version": "3.10.12"
  }
 },
 "nbformat": 4,
 "nbformat_minor": 2
}
