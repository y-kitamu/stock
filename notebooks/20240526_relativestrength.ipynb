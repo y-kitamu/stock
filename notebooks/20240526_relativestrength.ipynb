{
 "cells": [
  {
   "cell_type": "code",
   "execution_count": null,
   "metadata": {},
   "outputs": [],
   "source": [
    "import matplotlib.pyplot as plt\n",
    "import polars as pl\n",
    "\n",
    "import stock"
   ]
  },
  {
   "cell_type": "code",
   "execution_count": null,
   "metadata": {},
   "outputs": [],
   "source": [
    "# william oneilの手法の再現性を検証する"
   ]
  },
  {
   "cell_type": "code",
   "execution_count": null,
   "metadata": {},
   "outputs": [],
   "source": [
    "code = \"6254\"\n",
    "daily_csv_path = stock.PROJECT_ROOT / \"data\" / \"daily\" / f\"{code}.csv\"\n",
    "weekly_csv_path = stock.PROJECT_ROOT / \"data\" / \"financial\" / f\"{code}.csv\"\n",
    "\n",
    "ddf = stock.kabutan.read_data_csv(daily_csv_path)\n",
    "fdf = stock.kabutan.read_financial_csv(weekly_csv_path)"
   ]
  },
  {
   "cell_type": "code",
   "execution_count": null,
   "metadata": {},
   "outputs": [],
   "source": [
    "qfdf = fdf.filter(pl.col(\"duration\") == 3).sort(pl.col(\"annoounce_date\")).with_columns(\n",
    "    pl.col(\"eps\").rolling_sum(window_size=4).alias(\"eps12\")\n",
    ")\n",
    "ddf = ddf.filter(pl.col(\"date\") >= qfdf[\"annoounce_date\"][0])\n",
    "\n",
    "fig = plt.figure()\n",
    "ax1 = fig.add_subplot(111)\n",
    "ax1.plot(qfdf[\"annoounce_date\"], qfdf[\"eps12\"])\n",
    "ax1.grid(which=\"major\")\n",
    "ax1.grid(which=\"minor\", alpha=0.5)\n",
    "\n",
    "import matplotlib.ticker as ticker\n",
    "ax1.grid(which='major', lw=0.7) # 主目盛の描画(標準)\n",
    "\n",
    "# X,Y軸に対して、(補助目盛)×5 = (主目盛)\n",
    "ax1.xaxis.set_minor_locator(ticker.AutoMinorLocator(5))\n",
    "ax1.yaxis.set_minor_locator(ticker.AutoMinorLocator(5))\n",
    "ax1.grid(which='minor', lw=0.4) # 補助目盛の描画\n",
    "ax1.tick_params(axis=\"x\", labelrotation=90)\n",
    "\n",
    "ax2 = ax1.twinx()\n",
    "ax2.plot(ddf[\"date\"], ddf[\"close\"], \"red\")\n",
    "ax2.set_yscale(\"log\")\n",
    "\n",
    "# ax3 = ax1.twinx()\n",
    "# ax3.plot(ddf[\"date\"], ddf[\"rs_nikkei\"], \"green\")"
   ]
  },
  {
   "cell_type": "code",
   "execution_count": null,
   "metadata": {},
   "outputs": [],
   "source": [
    "pl.Config.set_tbl_rows(-1)\n",
    "print(qfdf)\n",
    "pl.Config.set_tbl_rows(10)"
   ]
  },
  {
   "cell_type": "code",
   "execution_count": null,
   "metadata": {},
   "outputs": [],
   "source": []
  }
 ],
 "metadata": {
  "kernelspec": {
   "display_name": ".venv",
   "language": "python",
   "name": "python3"
  },
  "language_info": {
   "codemirror_mode": {
    "name": "ipython",
    "version": 3
   },
   "file_extension": ".py",
   "mimetype": "text/x-python",
   "name": "python",
   "nbconvert_exporter": "python",
   "pygments_lexer": "ipython3",
   "version": "3.10.12"
  }
 },
 "nbformat": 4,
 "nbformat_minor": 2
}
