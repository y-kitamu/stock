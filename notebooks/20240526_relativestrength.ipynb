{
 "cells": [
  {
   "cell_type": "code",
   "execution_count": null,
   "metadata": {},
   "outputs": [],
   "source": [
    "# 成長している銘柄の株価は上昇するのか\n",
    "\n",
    "# relative strengthで買い集めを見つけられるか"
   ]
  }
 ],
 "metadata": {
  "language_info": {
   "name": "python"
  }
 },
 "nbformat": 4,
 "nbformat_minor": 2
}
