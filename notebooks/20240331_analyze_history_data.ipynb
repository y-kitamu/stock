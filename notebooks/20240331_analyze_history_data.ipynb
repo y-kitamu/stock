{
 "cells": [
  {
   "cell_type": "code",
   "execution_count": null,
   "metadata": {},
   "outputs": [],
   "source": [
    "from pathlib import Path\n",
    "\n",
    "import pandas as pd\n",
    "import numpy as np\n",
    "\n",
    "import stock\n",
    "\n",
    "import warnings\n",
    "warnings.filterwarnings('ignore')"
   ]
  },
  {
   "cell_type": "code",
   "execution_count": null,
   "metadata": {},
   "outputs": [],
   "source": [
    "daily_data_dir = stock.PROJECT_ROOT / \"data\" / \"daily\"\n",
    "financial_data_dir = stock.PROJECT_ROOT / \"data\" / \"financial\"\n",
    "assert financial_data_dir.exists()\n",
    "csv_list = sorted(financial_data_dir.glob(\"*.csv\"))\n",
    "len(csv_list)"
   ]
  },
  {
   "cell_type": "code",
   "execution_count": null,
   "metadata": {},
   "outputs": [],
   "source": [
    "def add_growth_rate_columns(df):\n",
    "    df[\"total_revenue_yoy\"] = np.nan\n",
    "    df[\"operating_income_yoy\"] = np.nan\n",
    "    df[\"ordinary_profit_yoy\"] = np.nan\n",
    "    df[\"eps_yoy\"] = np.nan\n",
    "\n",
    "    for idx, row in df.iterrows():\n",
    "        for _, ref_row in df.iterrows():\n",
    "            if ref_row.is_prediction:\n",
    "                continue\n",
    "            if ref_row.year + 1 == row.year and ref_row.month == row.month and ref_row.duration == row.duration:\n",
    "                df.total_revenue_yoy[idx] = row.total_revenue / (ref_row.total_revenue + 1e-5)\n",
    "                df.operating_income_yoy[idx] = row.operating_income / (ref_row.operating_income + 1e-5)\n",
    "                df.ordinary_profit_yoy[idx] = row.ordinary_profit / (ref_row.ordinary_profit + 1e-5)\n",
    "                df.eps_yoy[idx] = row.eps / (ref_row.eps + 1e-5)\n",
    "                break\n",
    "    return df\n",
    "\n",
    "\n",
    "def get_growth_rate(csv_path: Path):\n",
    "    df = pd.read_csv(csv_path)\n",
    "\n",
    "    quarterly_df = df[df.duration == 3]\n",
    "    yearly_df = df[df.duration == 12]\n",
    "\n",
    "    quarterly_df.sort_values(\"annoounce_date\", inplace=True)\n",
    "    yearly_df.sort_values(\"annoounce_date\", inplace=True)\n",
    "\n",
    "    quarterly_df = add_growth_rate_columns(quarterly_df)\n",
    "    yearly_df = add_growth_rate_columns(yearly_df)\n",
    "\n",
    "    code = csv_path.stem\n",
    "    daily_csv_path = daily_data_dir / f\"{code}.csv\"\n",
    "    if not daily_csv_path.exists():\n",
    "        return\n",
    "    daily_df = pd.read_csv(daily_csv_path)\n",
    "    daily_df = daily_df[np.isnan(daily_df.close) == False]\n",
    "    daily_df.sort_values(\"date\")\n",
    "\n",
    "    open_values = daily_df.open.to_numpy()\n",
    "    close_values = daily_df.close.to_numpy()\n",
    "    tr_yoy = quarterly_df.total_revenue_yoy.to_numpy()\n",
    "    eps_yoy = quarterly_df.eps_yoy.to_numpy()\n",
    "    announce_date = quarterly_df.annoounce_date.to_numpy()\n",
    "    for i in range(3, len(quarterly_df) - 1):\n",
    "        if (eps_yoy[i - 2:i + 1] > 1.1).all() and (tr_yoy[i - 2: i + 1] > 1.05).all():\n",
    "            date = announce_date[i]\n",
    "            idx = daily_df.date.searchsorted(f\"20{date}\", side=\"right\")\n",
    "            next_date = announce_date[i + 1]\n",
    "            next_idx = daily_df.date.searchsorted(f\"20{next_date}\", side=\"right\")\n",
    "\n",
    "            if idx >= len(close_values) or next_idx == idx:\n",
    "                continue\n",
    "            \n",
    "            start_val = open_values[idx]\n",
    "            max_val = close_values[idx:next_idx].max()\n",
    "            min_val = close_values[idx:next_idx].min()\n",
    "            print(code, date, next_date, max_val / start_val, min_val / start_val)"
   ]
  },
  {
   "cell_type": "code",
   "execution_count": null,
   "metadata": {},
   "outputs": [],
   "source": [
    "for csv_path in csv_list:\n",
    "    get_growth_rate(csv_path)"
   ]
  },
  {
   "cell_type": "code",
   "execution_count": null,
   "metadata": {},
   "outputs": [],
   "source": [
    "quarterly_df.head()"
   ]
  },
  {
   "cell_type": "code",
   "execution_count": null,
   "metadata": {},
   "outputs": [],
   "source": []
  }
 ],
 "metadata": {
  "kernelspec": {
   "display_name": ".venv",
   "language": "python",
   "name": "python3"
  },
  "language_info": {
   "codemirror_mode": {
    "name": "ipython",
    "version": 3
   },
   "file_extension": ".py",
   "mimetype": "text/x-python",
   "name": "python",
   "nbconvert_exporter": "python",
   "pygments_lexer": "ipython3",
   "version": "3.10.12"
  }
 },
 "nbformat": 4,
 "nbformat_minor": 2
}
