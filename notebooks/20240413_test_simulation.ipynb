{
 "cells": [
  {
   "cell_type": "code",
   "execution_count": null,
   "metadata": {},
   "outputs": [],
   "source": [
    "from datetime import datetime\n",
    "\n",
    "import polars as pl\n",
    "\n",
    "import stock"
   ]
  },
  {
   "cell_type": "code",
   "execution_count": null,
   "metadata": {},
   "outputs": [],
   "source": [
    "csv_dir = stock.PROJECT_ROOT / \"data\" / \"daily\"\n",
    "\n",
    "for csv_path in csv_dir.glob(\"*.csv\"):\n",
    "    df = stock.kabutan.read_data_csv(csv_path)\n",
    "    # df = pl.read_csv(csv_path)\n",
    "    # try:\n",
    "    #     df = df.with_columns(pl.col(\"date\").str.to_datetime(\"%Y-%m-%dT%H:%M:%S.000000\").dt.to_string(\"%Y/%m/%d\"))\n",
    "    #     df.write_csv(csv_path)\n",
    "    # except:\n",
    "    #     print(csv_path)\n",
    "    # # break\n"
   ]
  },
  {
   "cell_type": "code",
   "execution_count": null,
   "metadata": {},
   "outputs": [],
   "source": [
    "stop_condition = stock.simulation.StopCondition()\n",
    "start_date = datetime(year=2023, month=10, day=1)\n",
    "\n",
    "result = stock.simulation.run(\"6254\", start_date, stop_condition)"
   ]
  },
  {
   "cell_type": "code",
   "execution_count": null,
   "metadata": {},
   "outputs": [],
   "source": [
    "def get_watch_list(date):\n",
    "    csv_dir = stock.PROJECT_ROOT / \"data\" / \"daily\"\n",
    "    watch_list = []\n",
    "    for csv_path in sorted(csv_dir.glob(\"*.csv\")):\n",
    "        code = csv_path.stem\n",
    "        if stock.trend_template.check_technical_trend_templates(\n",
    "            code, cur_day=date\n",
    "        ) and stock.trend_template.check_fundamental_trend_templates(code, current_date=date):\n",
    "            # print(code)\n",
    "            watch_list.append(code)\n"
   ]
  },
  {
   "cell_type": "code",
   "execution_count": null,
   "metadata": {},
   "outputs": [],
   "source": [
    "watch_list = get_watch_list(datetime(year=2023, month=10, day=1))"
   ]
  },
  {
   "cell_type": "code",
   "execution_count": null,
   "metadata": {},
   "outputs": [],
   "source": []
  }
 ],
 "metadata": {
  "kernelspec": {
   "display_name": ".venv",
   "language": "python",
   "name": "python3"
  },
  "language_info": {
   "codemirror_mode": {
    "name": "ipython",
    "version": 3
   },
   "file_extension": ".py",
   "mimetype": "text/x-python",
   "name": "python",
   "nbconvert_exporter": "python",
   "pygments_lexer": "ipython3",
   "version": "3.10.12"
  }
 },
 "nbformat": 4,
 "nbformat_minor": 2
}
