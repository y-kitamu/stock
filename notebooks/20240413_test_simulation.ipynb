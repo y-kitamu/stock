{
 "cells": [
  {
   "cell_type": "code",
   "execution_count": null,
   "metadata": {},
   "outputs": [],
   "source": [
    "from datetime import datetime, timedelta\n",
    "\n",
    "import matplotlib.pyplot as plt\n",
    "import polars as pl\n",
    "\n",
    "import stock"
   ]
  },
  {
   "cell_type": "code",
   "execution_count": null,
   "metadata": {},
   "outputs": [],
   "source": [
    "csv_dir = stock.PROJECT_ROOT / \"data\" / \"daily\"\n",
    "start_date = datetime(year=2023, month=10, day=1)"
   ]
  },
  {
   "cell_type": "code",
   "execution_count": null,
   "metadata": {},
   "outputs": [],
   "source": [
    "duration = stock.trend_template.calc_watch_list_duration_of(\"6255\", start_date=datetime.today() - timedelta(days=365))\n",
    "duration"
   ]
  },
  {
   "cell_type": "code",
   "execution_count": null,
   "metadata": {},
   "outputs": [],
   "source": []
  },
  {
   "cell_type": "code",
   "execution_count": null,
   "metadata": {},
   "outputs": [],
   "source": [
    "# stop_condition = stock.simulation.StopCondition()\n",
    "# result = stock.simulation.run(\"6254\", start_date, stop_condition)"
   ]
  },
  {
   "cell_type": "code",
   "execution_count": null,
   "metadata": {},
   "outputs": [],
   "source": [
    "def get_watch_list(date):\n",
    "    csv_dir = stock.PROJECT_ROOT / \"data\" / \"daily\"\n",
    "    watch_list = []\n",
    "    for csv_path in sorted(csv_dir.glob(\"*.csv\")):\n",
    "        code = csv_path.stem\n",
    "        if stock.trend_template.check_technical_trend_templates(\n",
    "            code, cur_day=date\n",
    "        ) and stock.trend_template.check_fundamental_trend_templates(code, current_date=date):\n",
    "            # print(code)\n",
    "            watch_list.append(code)\n",
    "    return watch_list"
   ]
  },
  {
   "cell_type": "code",
   "execution_count": null,
   "metadata": {},
   "outputs": [],
   "source": [
    "watch_list = get_watch_list(start_date)"
   ]
  },
  {
   "cell_type": "code",
   "execution_count": null,
   "metadata": {},
   "outputs": [],
   "source": [
    "code = watch_list[2]\n",
    "csv_path = csv_dir / f\"{code}.csv\"\n",
    "duration = stock.trend_template.calc_watch_list_duration_of(code, start_date=start_date-timedelta(days=365), end_date=start_date)\n",
    "df = stock.kabutan.read_data_csv(csv_path=csv_path)\n",
    "df = df.filter(pl.col(\"date\") > start_date - timedelta(days=365))"
   ]
  },
  {
   "cell_type": "code",
   "execution_count": null,
   "metadata": {},
   "outputs": [],
   "source": [
    "fig = plt.figure()\n",
    "ax1 = fig.add_subplot(111)\n",
    "ax1.plot(df[\"date\"], df[\"close\"], \"red\")\n",
    "\n",
    "ax2 = ax1.twinx()\n",
    "ax2.plot(df[\"date\"], df[\"rs_topix\"], \"blue\")\n",
    "ax1.grid(True)\n",
    "ax1.tick_params(axis='x', labelrotation=90)"
   ]
  },
  {
   "cell_type": "code",
   "execution_count": null,
   "metadata": {},
   "outputs": [],
   "source": [
    "plt.plot(df[\"date\"], df[\"close\"])\n",
    "plt.plot(df[\"date\"], df[\"rs_nikkei\"])\n",
    "plt.xticks(rotation=90)"
   ]
  },
  {
   "cell_type": "code",
   "execution_count": null,
   "metadata": {},
   "outputs": [],
   "source": []
  },
  {
   "cell_type": "code",
   "execution_count": null,
   "metadata": {},
   "outputs": [],
   "source": [
    "# 過去のwatch listを見てみる\n",
    "watch_list"
   ]
  },
  {
   "cell_type": "code",
   "execution_count": null,
   "metadata": {},
   "outputs": [],
   "source": []
  }
 ],
 "metadata": {
  "kernelspec": {
   "display_name": ".venv",
   "language": "python",
   "name": "python3"
  },
  "language_info": {
   "codemirror_mode": {
    "name": "ipython",
    "version": 3
   },
   "file_extension": ".py",
   "mimetype": "text/x-python",
   "name": "python",
   "nbconvert_exporter": "python",
   "pygments_lexer": "ipython3",
   "version": "3.10.12"
  }
 },
 "nbformat": 4,
 "nbformat_minor": 2
}
