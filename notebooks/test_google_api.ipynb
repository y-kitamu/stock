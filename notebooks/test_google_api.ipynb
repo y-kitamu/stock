{
 "cells": [
  {
   "cell_type": "code",
   "execution_count": null,
   "id": "8a6a4a9e",
   "metadata": {},
   "outputs": [],
   "source": [
    "from google.oauth2 import service_account\n",
    "\n",
    "SCOPES = ['https://www.googleapis.com/auth/drive']\n",
    "SERVICE_ACCOUNT_FILE = '../cert/stockdata-332410-704571e36294.json'\n",
    "\n",
    "credentials = service_account.Credentials.from_service_account_file(\n",
    "    SERVICE_ACCOUNT_FILE, scopes=SCOPES)"
   ]
  },
  {
   "cell_type": "code",
   "execution_count": null,
   "id": "57f3b6c4",
   "metadata": {},
   "outputs": [],
   "source": [
    "import googleapiclient.discovery\n",
    "\n",
    "service = googleapiclient.discovery.build('drive', 'v3', credentials=credentials)"
   ]
  },
  {
   "cell_type": "code",
   "execution_count": null,
   "id": "c60defb2",
   "metadata": {},
   "outputs": [],
   "source": [
    "results = service.files().list(\n",
    "    pageSize=10, fields='*').execute()\n",
    "items = results.get('files', [])\n",
    "\n",
    "if not items:\n",
    "    print('No files found.')\n",
    "else:\n",
    "    print('Files:')\n",
    "    for item in items:\n",
    "        print(u'{0} ({1})'.format(item['name'], item['id']))"
   ]
  },
  {
   "cell_type": "code",
   "execution_count": null,
   "id": "409ebd9a",
   "metadata": {},
   "outputs": [],
   "source": [
    "spreadsheet = {\n",
    "    'properties': {\n",
    "        'title': \"foo\"\n",
    "    }\n",
    "}\n",
    "spreadsheet = service.spreadsheets().create(body=spreadsheet,\n",
    "                                    fields='spreadsheetId').execute()\n",
    "print('Spreadsheet ID: {0}'.format(spreadsheet.get('spreadsheetId')))"
   ]
  },
  {
   "cell_type": "code",
   "execution_count": null,
   "id": "dba008c0",
   "metadata": {},
   "outputs": [],
   "source": [
    "from pathlib import Path"
   ]
  },
  {
   "cell_type": "code",
   "execution_count": null,
   "id": "86f538c6",
   "metadata": {},
   "outputs": [],
   "source": [
    "Path.glob(\"../data/**/*\")"
   ]
  }
 ],
 "metadata": {
  "kernelspec": {
   "argv": [
    "python",
    "-m",
    "ipykernel_launcher",
    "-f",
    "{connection_file}"
   ],
   "display_name": "Python 3 (ipykernel)",
   "env": null,
   "interrupt_mode": "signal",
   "language": "python",
   "metadata": {
    "debugger": true
   },
   "name": "python3"
  },
  "name": "test_google_api.ipynb"
 },
 "nbformat": 4,
 "nbformat_minor": 5
}
