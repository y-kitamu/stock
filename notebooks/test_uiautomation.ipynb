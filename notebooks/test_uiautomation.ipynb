{
 "cells": [
  {
   "cell_type": "code",
   "execution_count": 2,
   "metadata": {},
   "outputs": [],
   "source": [
    "import uiautomation as auto"
   ]
  },
  {
   "cell_type": "code",
   "execution_count": null,
   "metadata": {},
   "outputs": [
    {
     "data": {
      "text/plain": [
       "True"
      ]
     },
     "execution_count": 76,
     "metadata": {},
     "output_type": "execute_result"
    }
   ],
   "source": []
  },
  {
   "cell_type": "code",
   "execution_count": null,
   "metadata": {},
   "outputs": [
    {
     "name": "stdout",
     "output_type": "stream",
     "text": [
      "ControlType: CustomControl    ClassName: ModalManager    AutomationId:     Rect: (1140,32,1920,1032)[780x1000]    Name: ''    Handle: 0x0(0)\n",
      "ControlType: TabControl    ClassName: SidePanel    AutomationId:     Rect: (0,0,0,0)[0x0]    Name: '設定'    Handle: 0x0(0)\n",
      "\n",
      "ControlType: CustomControl    ClassName: ModalManager    AutomationId:     Rect: (1140,32,1920,1032)[780x1000]    Name: ''    Handle: 0x0(0)\n",
      "ControlType: TabControl    ClassName: SidePanel    AutomationId:     Rect: (0,0,0,0)[0x0]    Name: ''    Handle: 0x0(0)\n",
      "\n",
      "ControlType: CustomControl    ClassName: ModalManager    AutomationId:     Rect: (1140,32,1920,1032)[780x1000]    Name: ''    Handle: 0x0(0)\n",
      "ControlType: TabControl    ClassName: SidePanel    AutomationId:     Rect: (0,0,0,0)[0x0]    Name: 'フローのプロパティ'    Handle: 0x0(0)\n",
      "\n",
      "ControlType: CustomControl    ClassName: ProcessesToolBarView    AutomationId:     Rect: (1140,32,1920,73)[780x41]    Name: ''    Handle: 0x0(0)\n",
      "ControlType: TabControl    ClassName: TabControl    AutomationId: ProcessesTabControl    Rect: (1140,77,1208,1032)[68x955]    Name: ''    Handle: 0x0(0)\n",
      "ControlType: CustomControl    ClassName: DynamicMessagesNotificationBarView    AutomationId:     Rect: (0,0,0,0)[0x0]    Name: ''    Handle: 0x0(0)\n",
      "ControlType: CustomControl    ClassName: MainNotificationBarView    AutomationId:     Rect: (0,0,0,0)[0x0]    Name: ''    Handle: 0x0(0)\n",
      "ControlType: CustomControl    ClassName: HomeScreenView    AutomationId: HomeScreen    Rect: (0,0,0,0)[0x0]    Name: 'ホーム'    Handle: 0x0(0)\n",
      "ControlType: CustomControl    ClassName: ProcessesContainer    AutomationId: FlowsView    Rect: (1209,73,1920,1032)[711x959]    Name: '自分のフロー'    Handle: 0x0(0)\n",
      "ControlType: CustomControl    ClassName: ExamplesTab    AutomationId: ExamplesView    Rect: (0,0,0,0)[0x0]    Name: '例'    Handle: 0x0(0)\n",
      "ControlType: TabControl    ClassName: SidePanel    AutomationId:     Rect: (0,0,0,0)[0x0]    Name: ''    Handle: 0x0(0)\n",
      "ControlType: CustomControl    ClassName: NpsView    AutomationId: NpsControl    Rect: (0,0,0,0)[0x0]    Name: 'Microsoft にご意見をお寄せください'    Handle: 0x0(0)\n",
      "ControlType: CustomControl    ClassName: HomeScreenVideoView    AutomationId:     Rect: (1141,33,1919,1031)[778x998]    Name: ''    Handle: 0x0(0)\n"
     ]
    }
   ],
   "source": [
    "control = auto.WindowControl(ClassName=\"WinAutomationWindow\")\n",
    "control.SetFocus()\n",
    "\n",
    "modal0 = control.CustomControl(ClassName=\"ModalManager\")\n",
    "for child in modal0.GetChildren():\n",
    "    print(child)\n",
    "print()\n",
    "modal1 = modal0.CustomControl(ClassName=\"ModalManager\")\n",
    "for child in modal1.GetChildren():\n",
    "    print(child)\n",
    "print()\n",
    "modal2 = modal1.CustomControl(ClassName=\"ModalManager\")\n",
    "for child in modal2.GetChildren():\n",
    "    print(child)\n",
    "print()\n",
    "modal3 = modal2.CustomControl(ClassName=\"ModalManager\")\n",
    "for child in modal3.GetChildren():\n",
    "    print(child)"
   ]
  },
  {
   "cell_type": "code",
   "execution_count": 25,
   "metadata": {},
   "outputs": [],
   "source": [
    "tab = modal3.TabControl(AutomationId=\"ProcessesTabControl\")\n",
    "flow_tab = tab.TabItemControl(AutomationId=\"FlowsTab\")\n",
    "flow_tab.Click()"
   ]
  },
  {
   "cell_type": "code",
   "execution_count": 22,
   "metadata": {},
   "outputs": [],
   "source": [
    "flows_view = control.CustomControl(AutomationId=\"FlowsView\")"
   ]
  },
  {
   "cell_type": "code",
   "execution_count": null,
   "metadata": {},
   "outputs": [],
   "source": [
    "# list_tab = flows_view.TabControl(AutomationId=\"ProcessesTabControl\")\n",
    "# my_flows_tab = list_tab.TabItemControl(AutomationId=\"MyFlowsTab\")\n",
    "# my_processes_tab = my_flows_tab.CustomControl(ClassName=\"MyProcessesTab\")\n",
    "# my_flows_list_grid = my_processes_tab.DataGridControl(AutomationId=\"MyFlowsListGrid\")\n",
    "data_item_ctl = control.DataItemControl(Name=\"RSSAutoRunner\")\n",
    "data_cell = data_item_ctl.CustomControl(Name=\"RSSAutoRunner\")\n",
    "exe_button = data_cell.ButtonControl(AutomationId=\"StartFlowButton\")"
   ]
  },
  {
   "cell_type": "code",
   "execution_count": null,
   "metadata": {},
   "outputs": [],
   "source": []
  }
 ],
 "metadata": {
  "kernelspec": {
   "display_name": "stock-KAjeMbA1-py3.12",
   "language": "python",
   "name": "python3"
  },
  "language_info": {
   "codemirror_mode": {
    "name": "ipython",
    "version": 3
   },
   "file_extension": ".py",
   "mimetype": "text/x-python",
   "name": "python",
   "nbconvert_exporter": "python",
   "pygments_lexer": "ipython3",
   "version": "3.12.5"
  }
 },
 "nbformat": 4,
 "nbformat_minor": 2
}
