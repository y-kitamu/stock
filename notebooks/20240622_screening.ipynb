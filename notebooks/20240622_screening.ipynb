{
 "cells": [
  {
   "cell_type": "code",
   "execution_count": null,
   "metadata": {},
   "outputs": [],
   "source": [
    "from pathlib import Path\n",
    "import datetime\n",
    "\n",
    "import numpy as np\n",
    "import polars as pl\n",
    "\n",
    "import stock\n",
    "from stock.trend_template import check_growing"
   ]
  },
  {
   "cell_type": "code",
   "execution_count": null,
   "metadata": {},
   "outputs": [],
   "source": [
    "def get_simulation_results(\n",
    "    watch_list: list[str], target_date: datetime.date = datetime.date.today()\n",
    "):\n",
    "    results = []\n",
    "    for idx, code in enumerate(watch_list):\n",
    "        stop_condition = stock.simulation.OnielStopCondition()\n",
    "        res = stock.simulation.run(code, target_date, stop_condition)\n",
    "        if res.buying_price > 0:\n",
    "            results.append(\n",
    "                {\"code\": code, \"duration\": res.duration, \"profit\": round(res.profit * 100)}\n",
    "            )\n",
    "    return results"
   ]
  },
  {
   "cell_type": "code",
   "execution_count": null,
   "metadata": {},
   "outputs": [],
   "source": [
    "# 悪い決算を発表したが値上がりしてる銘柄を探す\n",
    "current_date = datetime.date(year=2022, month=6, day=8)\n",
    "code_list = stock.kabutan.get_code_list()\n",
    "\n",
    "window_size = 2\n",
    "growing_rate = 0.15\n",
    "duration = 2\n",
    "\n",
    "target_codes = []  # 直近の業績が悪かった銘柄リスト (売上は伸びてるけど利益は出てない)\n",
    "target_dates = []\n",
    "for code in code_list:\n",
    "    df = stock.kabutan.read_financial_csv(stock.DATA_DIR / f\"financial/{code}.csv\")\n",
    "    df = df.filter(pl.col(\"annoounce_date\") <= current_date, pl.col(\"duration\") == 3).sort(pl.col(\"annoounce_date\"))\n",
    "    if not check_growing(\n",
    "            df,\n",
    "            \"total_revenue\",\n",
    "            growing_rate,\n",
    "            min_duration=duration,\n",
    "            current_date=current_date,\n",
    "            num_average=window_size,\n",
    "        ):\n",
    "        continue\n",
    "\n",
    "\n",
    "    if (\n",
    "        check_growing(\n",
    "            df,\n",
    "            \"operating_income\",\n",
    "            growing_rate,\n",
    "            min_duration=duration,\n",
    "            current_date=current_date,\n",
    "            num_average=window_size,\n",
    "        )\n",
    "        or check_growing(\n",
    "            df,\n",
    "            \"net_income\",\n",
    "            growing_rate,\n",
    "            min_duration=duration,\n",
    "            current_date=current_date,\n",
    "            num_average=window_size,\n",
    "        )\n",
    "    ):\n",
    "        continue\n",
    "    target_codes.append(code)\n",
    "    target_dates.append(df[\"annoounce_date\"][-1] + datetime)"
   ]
  },
  {
   "cell_type": "code",
   "execution_count": null,
   "metadata": {},
   "outputs": [],
   "source": [
    "# simulation結果を表示\n",
    "sim_res = get_simulation_results(target_codes, target_date=current_date)\n",
    "profits = np.array([res[\"profit\"] for res in sim_res])\n",
    "num_success = (profits >= 20).sum()\n",
    "print(\"{} / {} ({:.2f} %)\".format(num_success, len(profits), num_success / len(profits) * 100))"
   ]
  },
  {
   "cell_type": "code",
   "execution_count": null,
   "metadata": {},
   "outputs": [],
   "source": []
  }
 ],
 "metadata": {
  "kernelspec": {
   "display_name": ".venv",
   "language": "python",
   "name": "python3"
  },
  "language_info": {
   "codemirror_mode": {
    "name": "ipython",
    "version": 3
   },
   "file_extension": ".py",
   "mimetype": "text/x-python",
   "name": "python",
   "nbconvert_exporter": "python",
   "pygments_lexer": "ipython3",
   "version": "3.10.12"
  }
 },
 "nbformat": 4,
 "nbformat_minor": 2
}
