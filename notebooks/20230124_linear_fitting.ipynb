{
 "cells": [
  {
   "cell_type": "markdown",
   "metadata": {},
   "source": [
    "# 線形回帰モデルの作成"
   ]
  },
  {
   "cell_type": "code",
   "execution_count": null,
   "metadata": {},
   "outputs": [],
   "source": [
    "from pathlib import Path\n",
    "import csv\n",
    "import re\n",
    "\n",
    "import pandas as pd\n",
    "import numpy as np\n",
    "import matplotlib.pyplot as plt\n",
    "\n",
    "import stock"
   ]
  },
  {
   "cell_type": "code",
   "execution_count": null,
   "metadata": {},
   "outputs": [],
   "source": []
  },
  {
   "cell_type": "code",
   "execution_count": null,
   "metadata": {},
   "outputs": [],
   "source": [
    "dataset_params = stock.dl.dataset.DatasetParams()\n",
    "dataset = stock.dl.dataset.Dataset(dataset_params)\n",
    "\n",
    "us_data = dataset.us_data\n",
    "jp_data = dataset.jp_data\n",
    "us_symbols = dataset.us_symbols\n",
    "jp_symbols = dataset.jp_symbols\n",
    "print(\"{}, {}, len(us_symbols) = {}, len(jp_symbols) = {}\".format(us_data.shape, jp_data.shape, len(us_symbols), len(jp_symbols)))"
   ]
  },
  {
   "cell_type": "code",
   "execution_count": null,
   "metadata": {},
   "outputs": [],
   "source": []
  },
  {
   "cell_type": "markdown",
   "metadata": {},
   "source": [
    "## データの整合性を確認（ソースコードが間違っていないことの確認）"
   ]
  },
  {
   "cell_type": "code",
   "execution_count": null,
   "metadata": {},
   "outputs": [],
   "source": [
    "symbol = jp_symbols[0]\n",
    "\n",
    "csv_path = dataset_params.jp_data_dir / f\"{symbol}.csv\"\n",
    "assert csv_path.exists()\n",
    "\n",
    "with open(csv_path, \"r\") as f:\n",
    "    csv_reader = csv.reader(f)\n",
    "    header = next(csv_reader)\n",
    "    data = np.array([[float(val) for val in row] for row in csv_reader], dtype=np.float32)\n",
    "\n",
    "    start = data[:, 1]\n",
    "    end = data[:, 4]\n",
    "    change = (end - start) / start"
   ]
  },
  {
   "cell_type": "code",
   "execution_count": null,
   "metadata": {},
   "outputs": [],
   "source": [
    "plt.plot(jp_data[:, 1])"
   ]
  },
  {
   "cell_type": "code",
   "execution_count": null,
   "metadata": {},
   "outputs": [],
   "source": [
    "plt.plot(change)"
   ]
  },
  {
   "cell_type": "code",
   "execution_count": null,
   "metadata": {},
   "outputs": [],
   "source": []
  },
  {
   "cell_type": "code",
   "execution_count": null,
   "metadata": {},
   "outputs": [],
   "source": [
    "us_data = dataset.data[:, dataset._us_data_indices]\n",
    "us_data = np.concatenate((us_data, np.ones((us_data.shape[0], 1), dtype=np.float32)), axis=1)\n",
    "jp_data = dataset.data[:, dataset._jp_data_indices]\n",
    "us_data.shape, jp_data.shape\n",
    "\n",
    "n_train = int(us_data.shape[0] * 0.8)\n",
    "\n",
    "train_us = us_data[:n_train]\n",
    "train_jp = jp_data[:n_train]\n",
    "test_us = us_data[n_train:]\n",
    "test_jp = jp_data[n_train:]\n",
    "\n",
    "train_us.shape, train_jp.shape, test_us.shape, test_jp.shape"
   ]
  },
  {
   "cell_type": "code",
   "execution_count": null,
   "metadata": {},
   "outputs": [],
   "source": [
    "def least_square(a, b):\n",
    "    \"\"\"\n",
    "    \"\"\"\n",
    "    inv_a_at = np.linalg.inv(a.T @ a)\n",
    "    print(inv_a_at.shape, a.shape, b.T.shape)\n",
    "    return b.T @ a @ inv_a_at\n",
    "\n",
    "\n",
    "def plot_pred(pred, true):\n",
    "    print(np.corrcoef(true, pred)[0, 1])\n",
    "    plt.axvline(x=0, color=\"black\")\n",
    "    plt.axhline(y=0, color=\"black\")\n",
    "    plt.scatter(true, pred)        "
   ]
  },
  {
   "cell_type": "code",
   "execution_count": null,
   "metadata": {},
   "outputs": [],
   "source": [
    "# 変動が大きい日を取り出す\n",
    "abs_us = np.abs(train_us).mean(axis=1)\n",
    "thr = abs_us.mean() + abs_us.std() \n",
    "\n",
    "# 最小二乗法で行列を求める\n",
    "matrix = least_square(train_us[abs_us < thr], train_jp[abs_us < thr])\n",
    "pred_jp = (matrix @ test_us.T).T"
   ]
  },
  {
   "cell_type": "code",
   "execution_count": null,
   "metadata": {},
   "outputs": [],
   "source": [
    "# usとjpのデータの相関係数を求める\n",
    "threshold = 0\n",
    "target_us = train_us[abs_us > threshold][:, :-1]\n",
    "target_jp = train_jp[abs_us > threshold]\n",
    "\n",
    "corrmat = np.zeros((target_us.shape[1], target_jp.shape[1]))\n",
    "for ius in range(target_us.shape[1]):\n",
    "    for ijp in range(target_jp.shape[1]):\n",
    "        corrmat[ius, ijp] = np.corrcoef(target_us[:, ius], target_jp[:, ijp])[0, 1]"
   ]
  },
  {
   "cell_type": "code",
   "execution_count": null,
   "metadata": {},
   "outputs": [],
   "source": [
    "us_idx, jp_idx = corrmat.argmax() // corrmat.shape[1], corrmat.argmax() % corrmat.shape[1]\n",
    "plot_pred(target_us[:, us_idx], target_jp[:, jp_idx])\n",
    "plt.xlim([-0.05, 0.05])\n",
    "plt.ylim([-0.01, 0.01])"
   ]
  },
  {
   "cell_type": "code",
   "execution_count": null,
   "metadata": {},
   "outputs": [],
   "source": [
    "threshold = 0\n",
    "train_pred = (matrix @ train_us[abs_us > threshold].T).T\n",
    "train_true = train_jp[abs_us > threshold]\n",
    "\n",
    "for i in range(5):\n",
    "    plot_pred(train_pred[:, i], train_true[:, i])"
   ]
  },
  {
   "cell_type": "code",
   "execution_count": null,
   "metadata": {},
   "outputs": [],
   "source": []
  },
  {
   "cell_type": "markdown",
   "metadata": {},
   "source": [
    "# もっと単純にnasdaq or dowが上がった日に東証買ってあがるかチェックする"
   ]
  },
  {
   "cell_type": "code",
   "execution_count": null,
   "metadata": {},
   "outputs": [],
   "source": []
  },
  {
   "cell_type": "code",
   "execution_count": null,
   "metadata": {},
   "outputs": [],
   "source": []
  }
 ],
 "metadata": {
  "kernelspec": {
   "display_name": "Python 3.10.6 ('.venv': poetry)",
   "language": "python",
   "name": "python3"
  },
  "language_info": {
   "codemirror_mode": {
    "name": "ipython",
    "version": 3
   },
   "file_extension": ".py",
   "mimetype": "text/x-python",
   "name": "python",
   "nbconvert_exporter": "python",
   "pygments_lexer": "ipython3",
   "version": "3.10.6"
  },
  "vscode": {
   "interpreter": {
    "hash": "0925d657e30d00cf1a4f19c1b7a91cf3b3559e9055505eaa2fd1b9771cefd6bc"
   }
  }
 },
 "nbformat": 4,
 "nbformat_minor": 2
}
