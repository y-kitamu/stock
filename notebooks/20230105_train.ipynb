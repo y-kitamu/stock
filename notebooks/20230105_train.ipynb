{
 "cells": [
  {
   "cell_type": "code",
   "execution_count": null,
   "metadata": {},
   "outputs": [],
   "source": [
    "from pathlib import Path\n",
    "from datetime import datetime\n",
    "\n",
    "from tqdm import tqdm\n",
    "import numpy as np\n",
    "import tensorflow as tf\n",
    "import matplotlib.pyplot as plt\n",
    "\n",
    "import stock"
   ]
  },
  {
   "cell_type": "code",
   "execution_count": null,
   "metadata": {},
   "outputs": [],
   "source": [
    "timestamp = datetime.now().strftime(\"%Y%m%d_%H%M%S\")\n",
    "params = stock.dl.train.TrainerParams(\n",
    "    output_dir=Path(f\"./tmp/{timestamp}\")\n",
    ")\n",
    "trainer = stock.dl.train.Trainer(params=params)\n",
    "trainer.model.summary()"
   ]
  },
  {
   "cell_type": "code",
   "execution_count": null,
   "metadata": {},
   "outputs": [],
   "source": [
    "trainer.train()"
   ]
  },
  {
   "cell_type": "code",
   "execution_count": null,
   "metadata": {},
   "outputs": [],
   "source": [
    "_, _, test_ds = trainer.dataset.get_train_val_test_dataset()\n",
    "model = trainer.model\n",
    "\n",
    "result = [[x, y, model(x)] for x, y in test_ds]"
   ]
  },
  {
   "cell_type": "code",
   "execution_count": null,
   "metadata": {},
   "outputs": [],
   "source": [
    "x = tf.concat([x[0] for x in result], axis=0).numpy()\n",
    "y = tf.concat([x[1] for x in result], axis=0).numpy()\n",
    "y_pred_mean = tf.concat([x[2].mean() for x in result], axis=0).numpy()\n",
    "y_pred_std = tf.concat([x[2].stddev() for x in result], axis=0).numpy()"
   ]
  },
  {
   "cell_type": "code",
   "execution_count": null,
   "metadata": {},
   "outputs": [],
   "source": [
    "plt.plot(y_pred_std[0])"
   ]
  },
  {
   "cell_type": "code",
   "execution_count": null,
   "metadata": {},
   "outputs": [],
   "source": [
    "plt.plot(y[:, 0])\n",
    "plt.plot(y[:, 1])"
   ]
  },
  {
   "cell_type": "code",
   "execution_count": null,
   "metadata": {},
   "outputs": [],
   "source": [
    "plt.plot(y_pred_mean[:, 0])\n",
    "plt.plot(y_pred_mean[:, 1])"
   ]
  },
  {
   "cell_type": "code",
   "execution_count": null,
   "metadata": {},
   "outputs": [],
   "source": [
    "print(np.corrcoef(y[:, 0], y_pred_mean[:, 0]))\n",
    "plt.plot(y[:, 0])\n",
    "plt.plot(y_pred_mean[:, 0])"
   ]
  },
  {
   "cell_type": "code",
   "execution_count": null,
   "metadata": {},
   "outputs": [],
   "source": [
    "print(np.corrcoef(y[:, 1], y_pred_mean[:, 1]))\n",
    "plt.plot(y[:, 1])\n",
    "plt.plot(y_pred_mean[:, 1])"
   ]
  },
  {
   "cell_type": "code",
   "execution_count": null,
   "metadata": {},
   "outputs": [],
   "source": [
    "plt.scatter(y[:, 1], y_pred_mean[:, 1])\n",
    "plt.plot([-5, 1], [-5, 1], color=\"red\")"
   ]
  },
  {
   "cell_type": "code",
   "execution_count": null,
   "metadata": {},
   "outputs": [],
   "source": [
    "low_corrs = []\n",
    "high_corrs = []\n",
    "for i in range(y.shape[1] // 2):\n",
    "    low_corr = np.corrcoef(y[:, i * 2], y_pred_mean[:, i * 2])[0, 1]\n",
    "    high_corr = np.corrcoef(y[:, i * 2 + 1], y_pred_mean[:, i * 2 + 1])[0, 1]\n",
    "    low_corrs.append(low_corr)\n",
    "    high_corrs.append(high_corr)"
   ]
  },
  {
   "cell_type": "code",
   "execution_count": null,
   "metadata": {},
   "outputs": [],
   "source": [
    "best_data_true = []\n",
    "best_data_pred = []\n",
    "indices = []\n",
    "for i in range(y.shape[0]):\n",
    "    min_idx = np.argmin(y_pred_std[i])\n",
    "    indices.append(min_idx)\n",
    "    best_data_true.append(y[i, min_idx])\n",
    "    best_data_pred.append(y_pred_mean[i, min_idx])"
   ]
  },
  {
   "cell_type": "code",
   "execution_count": null,
   "metadata": {},
   "outputs": [],
   "source": [
    "print(np.corrcoef(best_data_true, best_data_pred))\n",
    "plt.scatter(best_data_true, best_data_pred)\n",
    "plt.plot([-5, 5], [-5, 5], color=\"red\")"
   ]
  },
  {
   "cell_type": "code",
   "execution_count": null,
   "metadata": {},
   "outputs": [],
   "source": []
  },
  {
   "cell_type": "code",
   "execution_count": null,
   "metadata": {},
   "outputs": [],
   "source": [
    "us_data = trainer.dataset.data[:, trainer.dataset._us_data_indices]\n",
    "jp_data = trainer.dataset.data[:, trainer.dataset._jp_data_indices]"
   ]
  },
  {
   "cell_type": "code",
   "execution_count": null,
   "metadata": {},
   "outputs": [],
   "source": [
    "corr_mat = np.zeros((us_data.shape[1], jp_data.shape[1]))\n",
    "for i in tqdm(range(us_data.shape[1])):\n",
    "    for j in range(jp_data.shape[1]):\n",
    "        corr_mat[i, j] = np.corrcoef(us_data[:, i], jp_data[:, j])[0, 1]"
   ]
  },
  {
   "cell_type": "code",
   "execution_count": null,
   "metadata": {},
   "outputs": [],
   "source": [
    "corr_mat.max(axis=0).max()"
   ]
  },
  {
   "cell_type": "code",
   "execution_count": null,
   "metadata": {},
   "outputs": [],
   "source": [
    "plt.imshow(corr_mat)"
   ]
  },
  {
   "cell_type": "code",
   "execution_count": null,
   "metadata": {},
   "outputs": [],
   "source": []
  }
 ],
 "metadata": {
  "kernelspec": {
   "display_name": "Python 3.10.6 ('.venv': poetry)",
   "language": "python",
   "name": "python3"
  },
  "language_info": {
   "codemirror_mode": {
    "name": "ipython",
    "version": 3
   },
   "file_extension": ".py",
   "mimetype": "text/x-python",
   "name": "python",
   "nbconvert_exporter": "python",
   "pygments_lexer": "ipython3",
   "version": "3.10.6"
  },
  "vscode": {
   "interpreter": {
    "hash": "0925d657e30d00cf1a4f19c1b7a91cf3b3559e9055505eaa2fd1b9771cefd6bc"
   }
  }
 },
 "nbformat": 4,
 "nbformat_minor": 2
}
