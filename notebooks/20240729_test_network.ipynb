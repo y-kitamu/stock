{
 "cells": [
  {
   "cell_type": "code",
   "execution_count": null,
   "metadata": {},
   "outputs": [],
   "source": [
    "import inspect\n",
    "from typing import Any\n",
    "\n",
    "import keras\n",
    "import tensorflow as tf\n",
    "from pydantic import create_model, BaseModel\n",
    "\n",
    "import stock\n",
    "import gnn"
   ]
  },
  {
   "cell_type": "code",
   "execution_count": null,
   "metadata": {},
   "outputs": [],
   "source": [
    "m = tf.keras.metrics.CategoricalAccuracy()\n",
    "m([[0, 1, 0], [0, 1, 0]], [[0, 1, 0], [1, 0, 0]])"
   ]
  },
  {
   "cell_type": "code",
   "execution_count": null,
   "metadata": {},
   "outputs": [],
   "source": [
    "m([[1, 0]], [[1, 1]])"
   ]
  },
  {
   "cell_type": "code",
   "execution_count": null,
   "metadata": {},
   "outputs": [],
   "source": [
    "m([[0, 1]], [[0, 0]])"
   ]
  },
  {
   "cell_type": "code",
   "execution_count": null,
   "metadata": {},
   "outputs": [],
   "source": []
  },
  {
   "cell_type": "code",
   "execution_count": null,
   "metadata": {},
   "outputs": [],
   "source": [
    "json_path = stock.PROJECT_ROOT / \"params/sample_image.json\"\n",
    "output_root_dir = stock.PROJECT_ROOT / \"results\" / json_path.stem\n",
    "params = gnn.trainer.Trainer.Params.load_json(json_path)\n",
    "callbacks = gnn.callbacks.CallbackList([\n",
    "    gnn.callbacks.Checkpoint(output_dir=output_root_dir / \"checkpoint\"),\n",
    "    gnn.callbacks.TrainLogger(tensorboard_dir=output_root_dir / \"results/tensorboard\" / json_path.stem),\n",
    "])\n",
    "trainer = gnn.trainer.Trainer(params, callbacks)"
   ]
  },
  {
   "cell_type": "code",
   "execution_count": null,
   "metadata": {},
   "outputs": [],
   "source": [
    "trainer.train()"
   ]
  },
  {
   "cell_type": "code",
   "execution_count": null,
   "metadata": {},
   "outputs": [],
   "source": []
  },
  {
   "cell_type": "code",
   "execution_count": null,
   "metadata": {},
   "outputs": [],
   "source": [
    "params = gnn.trainer.Trainer.Params.get_default_params(\n",
    "    network_name=\"resnet50\", \n",
    "    optimizer_name=\"adam\",\n",
    "    loss_name=\"cce\",\n",
    "    dataloader_name=\"stock_image_dataloader\"\n",
    ")"
   ]
  },
  {
   "cell_type": "code",
   "execution_count": null,
   "metadata": {},
   "outputs": [],
   "source": [
    "print(params.model_dump_json(indent=4))"
   ]
  },
  {
   "cell_type": "code",
   "execution_count": null,
   "metadata": {},
   "outputs": [],
   "source": []
  },
  {
   "cell_type": "code",
   "execution_count": null,
   "metadata": {},
   "outputs": [],
   "source": [
    "y_true = tf.convert_to_tensor([[0], [1], [0], [0]])\n",
    "y_pred = tf.convert_to_tensor([[0.1], [0.3], [0.4], [0.2]])\n",
    "bce = keras.losses.BinaryCrossentropy(from_logits=False, reduction=\"none\")\n",
    "print(bce(y_true, y_pred))\n",
    "\n",
    "y_true = tf.convert_to_tensor([[0, 1, 0, 0]])\n",
    "y_pred = tf.convert_to_tensor([[0.1, 0.3, 0.4, 0.2]])\n",
    "cce = keras.losses.CategoricalCrossentropy(from_logits=False, reduction=\"none\")\n",
    "print(cce(y_true, y_pred))"
   ]
  },
  {
   "cell_type": "code",
   "execution_count": null,
   "metadata": {},
   "outputs": [],
   "source": [
    "y_true = tf.convert_to_tensor([[0], [1], [0], [0]])\n",
    "y_pred = tf.convert_to_tensor([[0.1], [0.3], [0.4], [0.2]])\n",
    "bce = keras.losses.BinaryCrossentropy(from_logits=True, reduction=\"none\")\n",
    "print(bce(y_true, y_pred))\n",
    "\n",
    "y_true = tf.convert_to_tensor([[0], [1], [0], [0]])\n",
    "y_pred = tf.nn.sigmoid(tf.convert_to_tensor([[0.1], [0.3], [0.4], [0.2]]))\n",
    "bce = keras.losses.BinaryCrossentropy(from_logits=False, reduction=\"none\")\n",
    "print(bce(y_true, y_pred))"
   ]
  },
  {
   "cell_type": "code",
   "execution_count": null,
   "metadata": {},
   "outputs": [],
   "source": [
    "y_true = tf.convert_to_tensor([[0], [1], [0], [0]])\n",
    "y_pred = tf.convert_to_tensor([[0.1], [0.3], [0.4], [0.2]])\n",
    "bce = keras.losses.BinaryCrossentropy(from_logits=False, reduction=\"sum\")\n",
    "print(bce(y_true, y_pred))\n",
    "\n",
    "y_true = tf.convert_to_tensor([0, 1, 0, 0])\n",
    "y_pred = tf.convert_to_tensor([0.1, 0.3, 0.4, 0.2])\n",
    "bce = keras.losses.BinaryCrossentropy(from_logits=False, reduction=\"none\")\n",
    "print(bce(y_true, y_pred))"
   ]
  },
  {
   "cell_type": "code",
   "execution_count": null,
   "metadata": {},
   "outputs": [],
   "source": [
    "# y_true = tf.convert_to_tensor([[0], [1], [0], [0]])\n",
    "# y_pred = tf.convert_to_tensor([[0.1], [0.3], [0.4], [0.2]])\n",
    "# bce = keras.losses.BinaryCrossentropy(from_logits=False, reduction=\"none\")\n",
    "# print(bce(y_true, y_pred))\n",
    "\n",
    "y_true = tf.convert_to_tensor([[0, 1, 0, 0]])\n",
    "y_pred = tf.convert_to_tensor([[0.1, 0.3, 0.4, 0.2]])\n",
    "cce = keras.losses.CategoricalCrossentropy(from_logits=True)\n",
    "print(cce(y_true, y_pred))\n",
    "\n",
    "y_true = tf.convert_to_tensor([[0, 1, 0, 0]])\n",
    "y_pred = tf.nn.softmax(tf.convert_to_tensor([[0.1, 0.3, 0.4, 0.2]]))\n",
    "cce = keras.losses.CategoricalCrossentropy(from_logits=False, reduction=\"none\")\n",
    "print(cce(y_true, y_pred))"
   ]
  },
  {
   "cell_type": "code",
   "execution_count": null,
   "metadata": {},
   "outputs": [],
   "source": []
  },
  {
   "cell_type": "code",
   "execution_count": null,
   "metadata": {},
   "outputs": [],
   "source": [
    "gnn.trainer.Trainer.Params.get_default_params(\n",
    "    network_name=\"resnet50\",\n",
    "    optimizer_name=\"adam\",\n",
    "    loss_name=\"\"\n",
    ")"
   ]
  },
  {
   "cell_type": "code",
   "execution_count": null,
   "metadata": {},
   "outputs": [],
   "source": [
    "params = gnn.layers.NetworkParams(\n",
    "    name=\"resnet50\",\n",
    "    params={}\n",
    ")\n",
    "model = gnn.layers.get_model(params)"
   ]
  },
  {
   "cell_type": "code",
   "execution_count": null,
   "metadata": {},
   "outputs": [],
   "source": [
    "params_class_name = tf.keras.applications.ResNet50.__code__.co_name + \"Params\""
   ]
  },
  {
   "cell_type": "code",
   "execution_count": null,
   "metadata": {},
   "outputs": [],
   "source": [
    "def get_network_class(network: tf.keras.Layer):\n",
    "    param_class_name = network.__code__.co_name + \"Params\"\n",
    "    model_param_class = create_model(\n",
    "        param_class_name,\n",
    "        **{key: (Any, value.default) if value.default is not inspect.Parameter.empty else (Any, ...) for key, value in inspect.signature(network).parameters.items()}\n",
    "    )\n",
    "\n",
    "    class NetworkWrapper(BaseNetwork):\n",
    "\n",
    "        class Params(model_param_class):\n",
    "            pass\n",
    "\n",
    "        def __init__(self, params: Params):\n",
    "            self.network = network(**params.model_dump())\n",
    "\n",
    "        def call(self, *args, **kwargs):\n",
    "            self.network(*args, **kwargs)\n",
    "\n",
    "    return NetworkWrapper"
   ]
  },
  {
   "cell_type": "code",
   "execution_count": null,
   "metadata": {},
   "outputs": [],
   "source": [
    "model_class = get_network_class(keras.applications.ResNet50)"
   ]
  },
  {
   "cell_type": "code",
   "execution_count": null,
   "metadata": {},
   "outputs": [],
   "source": [
    "model_class()"
   ]
  },
  {
   "cell_type": "code",
   "execution_count": null,
   "metadata": {},
   "outputs": [],
   "source": []
  }
 ],
 "metadata": {
  "kernelspec": {
   "display_name": ".venv",
   "language": "python",
   "name": "python3"
  },
  "language_info": {
   "codemirror_mode": {
    "name": "ipython",
    "version": 3
   },
   "file_extension": ".py",
   "mimetype": "text/x-python",
   "name": "python",
   "nbconvert_exporter": "python",
   "pygments_lexer": "ipython3",
   "version": "3.10.12"
  }
 },
 "nbformat": 4,
 "nbformat_minor": 2
}
