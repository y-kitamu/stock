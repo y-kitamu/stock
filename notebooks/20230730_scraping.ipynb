{
 "cells": [
  {
   "cell_type": "code",
   "execution_count": null,
   "metadata": {},
   "outputs": [],
   "source": [
    "import json\n",
    "from pathlib import Path\n",
    "import time\n",
    "import datetime\n",
    "\n",
    "import requests\n",
    "import numpy as np\n",
    "from bs4 import BeautifulSoup\n",
    "from selenium import webdriver\n",
    "from selenium.webdriver.common.by import By\n",
    "from selenium.webdriver.common.keys import Keys\n",
    "\n",
    "import stock"
   ]
  },
  {
   "cell_type": "code",
   "execution_count": null,
   "metadata": {},
   "outputs": [],
   "source": [
    "res = requests.get(\"https://raw.githubusercontent.com/skyte/rs-log/main/output/rs_stocks.csv\")"
   ]
  },
  {
   "cell_type": "code",
   "execution_count": null,
   "metadata": {},
   "outputs": [],
   "source": [
    "rows = res.text.split(\"\\n\")"
   ]
  },
  {
   "cell_type": "code",
   "execution_count": null,
   "metadata": {},
   "outputs": [],
   "source": [
    "len(rows)"
   ]
  },
  {
   "cell_type": "code",
   "execution_count": null,
   "metadata": {},
   "outputs": [],
   "source": []
  },
  {
   "cell_type": "code",
   "execution_count": null,
   "metadata": {},
   "outputs": [],
   "source": [
    "options = webdriver.ChromeOptions()\n",
    "options.add_experimental_option(\"detach\", True)\n",
    "driver = webdriver.Remote(\n",
    "    command_executor=\"http://localhost:4444/wd/hub\",\n",
    "    options=options\n",
    ")"
   ]
  },
  {
   "cell_type": "code",
   "execution_count": null,
   "metadata": {},
   "outputs": [],
   "source": [
    "def convert_to_number(str):\n",
    "    str = str.replace(\",\", \"\")\n",
    "    if \".\" in str:\n",
    "        return float(str)\n",
    "    else:\n",
    "        try:\n",
    "            return int(str)\n",
    "        except:\n",
    "            print(\"Failed to convert {} to number\".format(str))\n",
    "            return np.nan"
   ]
  },
  {
   "cell_type": "code",
   "execution_count": null,
   "metadata": {},
   "outputs": [],
   "source": []
  },
  {
   "cell_type": "code",
   "execution_count": null,
   "metadata": {},
   "outputs": [],
   "source": [
    "def extract_table_data(source: BeautifulSoup) -> dict:\n",
    "    table = {}\n",
    "    table_head = source.find(\"div\", {\"class\": \"D(tbhg)\"})\n",
    "    columns = [span.text for span in table_head.find_all(\"span\")]\n",
    "\n",
    "    table_body = source.find(\"div\", {\"class\": \"D(tbrg)\"})\n",
    "    blocks = [div for div in table_body.find_all(\"div\", {\"class\": \"rw-expnded\"}, recursive=False)]\n",
    "\n",
    "    for block in blocks:\n",
    "        #table[row[0]] = {columns[idx + 1]: convert_to_number(col) for idx, col in enumerate(row[1:len(columns)])}\n",
    "        #for idx in range(1, len(row) // len(columns)):\n",
    "        #print(row[0], row[1:]\n",
    "        rows = block.find_all(\"div\", {\"class\": \"D(tbr)\"})\n",
    "        breakdown = rows[0].find(\"div\", {\"class\": \"D(tbc)\"}).text\n",
    "        #print(breakdown)\n",
    "        table[breakdown] = {\n",
    "            key: convert_to_number(val.text) for key, val in zip(columns[1:], rows[0].find_all(\"div\", {\"class\": \"Ta(c)\"}))\n",
    "            if key != \"ttm\"\n",
    "        }\n",
    "        for row in rows[1:]:\n",
    "            sub_breakdown = row.find(\"div\", {\"class\": \"D(tbc)\"}).text\n",
    "            table[breakdown][sub_breakdown] = {\n",
    "                key: convert_to_number(val.text) for key, val in zip(columns[1:], row.find_all(\"div\", {\"class\": \"Ta(c)\"}))\n",
    "                if key != \"ttm\"\n",
    "            }\n",
    "    return table"
   ]
  },
  {
   "cell_type": "code",
   "execution_count": null,
   "metadata": {},
   "outputs": [],
   "source": [
    "target_urls = [\n",
    "    \"https://finance.yahoo.com/quote/{code}/financials?p={code}\",\n",
    "    \"https://finance.yahoo.com/quote/{code}/balance-sheet?p={code}\",\n",
    "    \"https://finance.yahoo.com/quote/{code}/cash-flow?p={code}\"\n",
    "]\n",
    "code = \"NVDA\"\n",
    "\n",
    "table = {\n",
    "    \"Quarterly\":  {},\n",
    "    \"Annual\": {}\n",
    "}\n",
    "for url in target_urls:\n",
    "    driver.get(url.format(code=code))\n",
    "    buttons = [button for button in driver.find_elements(By.TAG_NAME, \"button\") if button.text == \"Expand All\"]\n",
    "    if buttons:\n",
    "        buttons[0].click()\n",
    "        time.sleep(1)\n",
    "\n",
    "    # quqrterly data\n",
    "    buttons = [button for button in driver.find_elements(By.TAG_NAME, \"button\") if button.text == \"Quarterly\"]\n",
    "    if buttons:\n",
    "        buttons[0].click()\n",
    "        time.sleep(1)\n",
    "    source = BeautifulSoup(driver.page_source, parser=\"lxml\")\n",
    "    table[\"Quarterly\"].update(extract_table_data(source))\n",
    "\n",
    "    # annual data\n",
    "    buttons = [button for button in driver.find_elements(By.TAG_NAME, \"button\") if button.text == \"Annual\"]\n",
    "    if buttons:\n",
    "        buttons[0].click()\n",
    "        time.sleep(1)\n",
    "    source = BeautifulSoup(driver.page_source, parser=\"lxml\")\n",
    "    table[\"Annual\"].update(extract_table_data(source))\n"
   ]
  },
  {
   "cell_type": "code",
   "execution_count": null,
   "metadata": {},
   "outputs": [],
   "source": [
    "def strptime(date_str: str) -> datetime.datetime:\n",
    "    splits = date_str.split(\"/\")\n",
    "    formatted = \"{:0>2}/{:0>2}/{}\".format(*splits)\n",
    "    return datetime.datetime.strptime(formatted, \"%m/%d/%Y\")\n",
    "\n",
    "def calc_grow_rate(before: float, after: float) -> float:\n",
    "    return (after - before) / before * 100\n",
    "\n",
    "stats_table = table\n",
    "\n",
    "#def is_good_stats(stats_table: dict) -> bool:\n",
    "quarter = stats_table[\"Quarterly\"]\n",
    "annual = stats_table[\"Annual\"]\n",
    "\n",
    "is_good = True\n",
    "# EPSの伸びが2四半期連続で2桁\n",
    "basic_epss = sorted([[strptime(key), val] for key, val in quarter[\"Basic EPS\"].items()], key=lambda x: x[0])\n",
    "if calc_grow_rate(basic_epss[-2][1], basic_epss[-1][1]) < 10.0 or calc_grow_rate(basic_epss[-3][1], basic_epss[-2][1]) < 10.0:\n",
    "    is_good = False\n",
    "# 売上高が２四半期連続で上昇\n",
    "operating_revenues = sorted([[strptime(key), val] for key, val in quarter[\"Total Revenue\"][\"Operating Revenue\"].items()], key=lambda x: x[0])\n",
    "if operating_revenues[-1][1] < operating_revenues[-2][1] or operating_revenues[-2][1] < operating_revenues[-3][1]:\n",
    "    is_good = False\n",
    "\n",
    "# (粗)利益率が2四半期連続で上昇\n",
    "\"\"\" gross_profits = sorted([[strptime(key), val] for key, val in quarter[\"Gross Profit\"].items()], key=lambda x: x[0])\n",
    "assert operating_revenues[-1][0] == gross_profits[-1][0]\n",
    "assert operating_revenues[-2][0] == gross_profits[-2][0]\n",
    "assert operating_revenues[-3][0] == gross_profits[-3][0]\n",
    "gross_profit_rates = [gross_profits[i][0] / operating_revenues[i][0] for i in [-1, -2, -3]]\n",
    "if gross_profit_rates[0] < gross_profit_rates[1] or gross_profit_rates[1] < gross_profit_rates[2]:\n",
    "    is_good = False \"\"\""
   ]
  },
  {
   "cell_type": "code",
   "execution_count": null,
   "metadata": {},
   "outputs": [],
   "source": [
    "json_path = stock.DATA_DIR / \"financials\" / f\"{code}.json\"\n",
    "\n",
    "if json_path.exists():\n",
    "    with open(json_path, \"r\") as f:\n",
    "        table.update(json.load(f))\n",
    "\n",
    "with open(json_path, \"w\") as f:\n",
    "    json.dump(table, f, indent=4)"
   ]
  },
  {
   "cell_type": "code",
   "execution_count": null,
   "metadata": {},
   "outputs": [],
   "source": []
  },
  {
   "cell_type": "code",
   "execution_count": null,
   "metadata": {},
   "outputs": [],
   "source": [
    "8288 / 6704"
   ]
  },
  {
   "cell_type": "code",
   "execution_count": null,
   "metadata": {},
   "outputs": [],
   "source": []
  }
 ],
 "metadata": {
  "kernelspec": {
   "display_name": "Python 3.10.6 ('.venv': poetry)",
   "language": "python",
   "name": "python3"
  },
  "language_info": {
   "codemirror_mode": {
    "name": "ipython",
    "version": 3
   },
   "file_extension": ".py",
   "mimetype": "text/x-python",
   "name": "python",
   "nbconvert_exporter": "python",
   "pygments_lexer": "ipython3",
   "version": "3.10.6"
  },
  "vscode": {
   "interpreter": {
    "hash": "0925d657e30d00cf1a4f19c1b7a91cf3b3559e9055505eaa2fd1b9771cefd6bc"
   }
  }
 },
 "nbformat": 4,
 "nbformat_minor": 2
}
