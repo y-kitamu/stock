{
 "cells": [
  {
   "cell_type": "code",
   "execution_count": null,
   "metadata": {},
   "outputs": [],
   "source": [
    "import gymnasium as gym\n",
    "import tensorflow as tf\n",
    "\n",
    "import stock"
   ]
  },
  {
   "cell_type": "code",
   "execution_count": null,
   "metadata": {},
   "outputs": [],
   "source": [
    "env = gym.make(\"LunarLander-v2\", render_mode=\"human\")\n",
    "\n",
    "# agentの用意\n",
    "action_network = stock.rl.network.FCModel(env.action_space.n, 32, 2)\n",
    "value_network = stock.rl.network.FCModel(env.action_space.n, 32, 2)\n",
    "optimizer = tf.keras.optimizers.Adam(1e-3)\n",
    "training_policy = stock.rl.agent.EpsilonGreedyPolicy(epsilon=0.2)\n",
    "agent = stock.rl.agent.DDQNAgent(\n",
    "    env.action_space, env.observation_space, \n",
    "    action_network=action_network, \n",
    "    value_network=value_network,\n",
    "    optimizer=optimizer, training_policy=training_policy,\n",
    ")\n",
    "\n",
    "# trainerの用意\n",
    "replay_buffer = stock.rl.replay_buffer.ReplayBuffer(capacity=10000)\n",
    "callbacks = [\n",
    "    stock.rl.callback.TrainLogger(),\n",
    "]\n",
    "params = stock.rl.Trainer.Params(max_steps=1000, batch_size=1000)\n",
    "trainer = stock.rl.Trainer(env=env, agent=agent, replay_buffer=replay_buffer, callbacks=callbacks, params=params)"
   ]
  },
  {
   "cell_type": "code",
   "execution_count": null,
   "metadata": {},
   "outputs": [],
   "source": [
    "trainer.train()"
   ]
  },
  {
   "cell_type": "code",
   "execution_count": null,
   "metadata": {},
   "outputs": [],
   "source": []
  },
  {
   "cell_type": "code",
   "execution_count": null,
   "metadata": {},
   "outputs": [],
   "source": [
    "class BestActionPolicy(stock.rl.agent.training_policy.BasePolicy):\n",
    "    def __call__(self, score):\n",
    "        return tf.argmax(score, axis=-1).numpy()"
   ]
  },
  {
   "cell_type": "code",
   "execution_count": null,
   "metadata": {},
   "outputs": [],
   "source": [
    "\n",
    "env = gym.make(\"LunarLander-v2\", render_mode=\"human\")\n",
    "total_reward = 0\n",
    "observation, info = env.reset()\n",
    "while True:\n",
    "    action = trainer.agent.policy(observation)[0]\n",
    "    next_observation, reward, terminated, truncated, info = env.step(action)\n",
    "    total_reward += reward\n",
    "\n",
    "    observation = next_observation\n",
    "    if terminated or truncated:\n",
    "        break\n",
    "     \n",
    "trainer.env"
   ]
  },
  {
   "cell_type": "code",
   "execution_count": null,
   "metadata": {},
   "outputs": [],
   "source": []
  }
 ],
 "metadata": {
  "kernelspec": {
   "display_name": ".venv",
   "language": "python",
   "name": "python3"
  },
  "language_info": {
   "codemirror_mode": {
    "name": "ipython",
    "version": 3
   },
   "file_extension": ".py",
   "mimetype": "text/x-python",
   "name": "python",
   "nbconvert_exporter": "python",
   "pygments_lexer": "ipython3",
   "version": "3.12.3"
  }
 },
 "nbformat": 4,
 "nbformat_minor": 2
}
