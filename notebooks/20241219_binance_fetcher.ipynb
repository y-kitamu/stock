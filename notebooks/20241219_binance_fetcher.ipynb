{
 "cells": [
  {
   "cell_type": "code",
   "execution_count": null,
   "metadata": {},
   "outputs": [],
   "source": [
    "from pathlib import Path\n",
    "import datetime\n",
    "import shutil\n",
    "import gzip\n",
    "import json\n",
    "\n",
    "import requests\n",
    "import polars as pl\n",
    "\n",
    "import data_fetcher\n",
    "from data_fetcher.session import get_session"
   ]
  },
  {
   "cell_type": "code",
   "execution_count": null,
   "metadata": {},
   "outputs": [],
   "source": [
    "fetcher = data_fetcher.binance.BinanceFetcher()\n",
    "#df = fetcher.download(\"BTCUSDC\", date=datetime.date(2024, 2, 1), data_type=\"aggTrades\")"
   ]
  },
  {
   "cell_type": "code",
   "execution_count": null,
   "metadata": {},
   "outputs": [],
   "source": [
    "fetcher.download_all()"
   ]
  },
  {
   "cell_type": "code",
   "execution_count": null,
   "metadata": {},
   "outputs": [],
   "source": [
    "fetcher.data_dir"
   ]
  },
  {
   "cell_type": "code",
   "execution_count": null,
   "metadata": {},
   "outputs": [],
   "source": [
    "df = fetcher.download(\"BTC_JPY\", date=datetime.date(2024, 12, 10))"
   ]
  },
  {
   "cell_type": "code",
   "execution_count": null,
   "metadata": {},
   "outputs": [],
   "source": [
    "df"
   ]
  },
  {
   "cell_type": "code",
   "execution_count": null,
   "metadata": {},
   "outputs": [],
   "source": [
    "for tick in fetcher.target_tickers:\n",
    "    if tick not in fetcher.available_tickers:\n",
    "        print(tick)"
   ]
  },
  {
   "cell_type": "code",
   "execution_count": null,
   "metadata": {},
   "outputs": [],
   "source": [
    "len(fetcher.available_tickers)"
   ]
  },
  {
   "cell_type": "code",
   "execution_count": null,
   "metadata": {},
   "outputs": [],
   "source": []
  },
  {
   "cell_type": "code",
   "execution_count": null,
   "metadata": {},
   "outputs": [],
   "source": [
    "tick = \"BTCUSDC\"\n",
    "date = datetime.date(2024, 12, 17)\n",
    "data_type = \"trades\" # \"aggTrades\"\n",
    "\n",
    "END_POINT = \"https://data.binance.vision/data/spot/daily/trades/\"\n",
    "date_str = date.strftime(\"%Y-%m-%d\")\n",
    "target_url = END_POINT + f\"{tick}/{tick}-{data_type}-{date_str}.zip\"\n",
    "\n",
    "# BTCUSDC/BTCUSDC-trades-2024-12-17.zip"
   ]
  },
  {
   "cell_type": "code",
   "execution_count": null,
   "metadata": {},
   "outputs": [],
   "source": []
  }
 ],
 "metadata": {
  "kernelspec": {
   "display_name": "Python 3",
   "language": "python",
   "name": "python3"
  },
  "language_info": {
   "codemirror_mode": {
    "name": "ipython",
    "version": 3
   },
   "file_extension": ".py",
   "mimetype": "text/x-python",
   "name": "python",
   "nbconvert_exporter": "python",
   "pygments_lexer": "ipython3",
   "version": "3.13.0"
  }
 },
 "nbformat": 4,
 "nbformat_minor": 2
}
