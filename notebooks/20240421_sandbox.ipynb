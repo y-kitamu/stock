{
 "cells": [
  {
   "cell_type": "code",
   "execution_count": null,
   "metadata": {},
   "outputs": [],
   "source": [
    "from pathlib import Path\n",
    "from datetime import datetime, timedelta\n",
    "\n",
    "import numpy as np\n",
    "import polars as pl\n",
    "import matplotlib.pyplot as plt\n",
    "\n",
    "import stock"
   ]
  },
  {
   "cell_type": "code",
   "execution_count": null,
   "metadata": {},
   "outputs": [],
   "source": [
    "# trend template策定のために値上がり銘柄を探索する\n",
    "csv_dir = stock.PROJECT_ROOT / \"data\" / \"daily\""
   ]
  },
  {
   "cell_type": "code",
   "execution_count": null,
   "metadata": {},
   "outputs": [],
   "source": [
    "# 2023/10月くらいからの上昇相場で大きく値上がりした銘柄のリストを取得\n",
    "min_rise_rate = 2.0\n",
    "start_date = datetime(year=2023, month=7, day=1)\n",
    "rise_rates = {}\n",
    "\n",
    "for csv_path in sorted(csv_dir.glob(\"*.csv\")):\n",
    "    df = stock.kabutan.read_data_csv(csv_path, exclude_none=True)\n",
    "    df = df.filter(pl.col(\"date\") >= start_date)\n",
    "    \n",
    "    min_idx, max_idx = df[\"close\"].arg_min(), df[\"close\"].arg_max()\n",
    "    if min_idx is None or max_idx is None or min_idx > max_idx:\n",
    "        continue\n",
    "    rise_rates[csv_path.stem]  = df[\"close\"][max_idx]  / df[\"close\"][min_idx]"
   ]
  },
  {
   "cell_type": "code",
   "execution_count": null,
   "metadata": {},
   "outputs": [],
   "source": [
    "thresh = 3.0\n",
    "targets = {code: val for code, val in rise_rates.items() if val > thresh}"
   ]
  },
  {
   "cell_type": "code",
   "execution_count": null,
   "metadata": {},
   "outputs": [],
   "source": [
    "def plot_with_rs(df, start_date, end_date=datetime.today()):\n",
    "    fig = plt.figure()\n",
    "    df = df.filter((pl.col(\"date\") >= start_date) & (pl.col(\"date\") <= end_date))\n",
    "    ax1 = fig.add_subplot(111)\n",
    "    ax1.plot(df[\"date\"], df[\"close\"], \"red\", label=\"close\")\n",
    "\n",
    "    ax2 = ax1.twinx()\n",
    "    ax2.plot(df[\"date\"], df[\"rs_topix\"], \"blue\", label=\"rs_topix\")\n",
    "    ax1.grid(True)\n",
    "    ax1.tick_params(axis='x', labelrotation=90)\n",
    "\n",
    "    plt.legend()"
   ]
  },
  {
   "cell_type": "code",
   "execution_count": null,
   "metadata": {},
   "outputs": [],
   "source": [
    "# 成長銘柄\n",
    "selected = {\n",
    "    \"2160\": datetime(year=2023, month=11, day=14),\n",
    "    \"2708\": datetime(year=2023, month=8, day=10),\n",
    "    \"2820\": datetime(year=2023, month=8, day=28),\n",
    "    \"3399\": datetime(year=2023, month=3, day=12),\n",
    "    \"3498\": datetime(year=2023, month=9, day=3),\n",
    "    \"3778\": datetime(year=2023, month=6, day=12),\n",
    "    \"3865\": datetime(year=2023, month=9, day=1),\n",
    "    \"6016\": datetime(year=2023, month=4, day=3),\n",
    "    \"6254\": datetime(year=2023, month=10, day=24),\n",
    "    \"7003\": datetime(year=2024, month=2, day=7),\n",
    "    \"7014\": datetime(year=2023, month=8, day=8),\n",
    "    \"9268\": datetime(year=2023, month=7, day=19),\n",
    "}"
   ]
  },
  {
   "cell_type": "code",
   "execution_count": null,
   "metadata": {},
   "outputs": [],
   "source": [
    "sorted(selected.keys())[0]"
   ]
  },
  {
   "cell_type": "code",
   "execution_count": null,
   "metadata": {},
   "outputs": [],
   "source": [
    "# 成長銘柄のrsと株価の動きを調査\n",
    "code = sorted(selected.keys())[5]\n",
    "csv_path = csv_dir / f\"{code}.csv\"\n",
    "df = stock.kabutan.read_data_csv(csv_path)\n",
    "start_date = selected[code] - timedelta(days=90)  # 注目1ヶ月前からプロットする\n",
    "plot_with_rs(df, start_date)"
   ]
  },
  {
   "cell_type": "code",
   "execution_count": null,
   "metadata": {},
   "outputs": [],
   "source": []
  },
  {
   "cell_type": "code",
   "execution_count": null,
   "metadata": {},
   "outputs": [],
   "source": []
  },
  {
   "cell_type": "code",
   "execution_count": null,
   "metadata": {},
   "outputs": [],
   "source": [
    "params = stock.trend_template.TechnicalTrendTemplateParams(\n",
    "    high_ma_weeks=[10, 30, 40],\n",
    "    uptrend_ma_weeks = [40], # 週移動平均線が上向きか\n",
    "    uptrend_days = 20,  # 週移動平均線が上向きかチェックする日数\n",
    "    near_high_week = 52,  # 高値に近いか\n",
    "    max_rate_from_high = 0.25,  # 高値からの最大割合\n",
    "    min_rate_from_low = 0.3,  # 安値からの最小割合\n",
    ")"
   ]
  },
  {
   "cell_type": "code",
   "execution_count": null,
   "metadata": {},
   "outputs": [],
   "source": [
    "code = \"9268\"\n",
    "start_date = datetime(year=2023, month=1, day=1)\n",
    "stock.trend_template.calc_watch_list_duration_of(code, start_date=start_date)"
   ]
  },
  {
   "cell_type": "code",
   "execution_count": null,
   "metadata": {},
   "outputs": [],
   "source": [
    "stock.trend_template.calc_watch_list_duration_of(code, start_date=start_date, use_fundamental=False)"
   ]
  },
  {
   "cell_type": "code",
   "execution_count": null,
   "metadata": {},
   "outputs": [],
   "source": [
    "results = {}\n",
    "stock.trend_template.check_fundamental_trend_templates(code, datetime(year=2023, month=4, day=15), results)\n",
    "print(results)"
   ]
  },
  {
   "cell_type": "code",
   "execution_count": null,
   "metadata": {},
   "outputs": [],
   "source": []
  },
  {
   "cell_type": "code",
   "execution_count": null,
   "metadata": {},
   "outputs": [],
   "source": []
  },
  {
   "cell_type": "code",
   "execution_count": null,
   "metadata": {},
   "outputs": [],
   "source": [
    "target_date = datetime(year=2023, month=8, day=10)\n",
    "ttt = stock.trend_template.TechnicalTrendTemplate(code)\n",
    "ttt.check(day=target_date)\n",
    "ttt.get_debug_info()"
   ]
  }
 ],
 "metadata": {
  "kernelspec": {
   "display_name": ".venv",
   "language": "python",
   "name": "python3"
  },
  "language_info": {
   "codemirror_mode": {
    "name": "ipython",
    "version": 3
   },
   "file_extension": ".py",
   "mimetype": "text/x-python",
   "name": "python",
   "nbconvert_exporter": "python",
   "pygments_lexer": "ipython3",
   "version": "3.10.12"
  }
 },
 "nbformat": 4,
 "nbformat_minor": 2
}
