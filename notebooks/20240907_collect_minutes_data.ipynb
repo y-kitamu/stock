{
 "cells": [
  {
   "cell_type": "code",
   "execution_count": null,
   "metadata": {},
   "outputs": [],
   "source": [
    "# us株、仮想通貨の分足データを取得する\n",
    "from pathlib import Path\n",
    "import datetime\n",
    "\n",
    "import polars as pl\n",
    "import numpy as np\n",
    "import yfinance as yf\n",
    "from requests import Session\n",
    "from requests_cache import CacheMixin, SQLiteCache\n",
    "from requests_ratelimiter import LimiterMixin, MemoryQueueBucket\n",
    "from pyrate_limiter import Duration, RequestRate, Limiter\n",
    "\n",
    "import stock\n",
    "\n",
    "\n",
    "class CachedLimiterSession(CacheMixin, LimiterMixin, Session):\n",
    "    pass\n",
    "\n",
    "\n",
    "session = CachedLimiterSession(\n",
    "    limiter=Limiter(RequestRate(10, Duration.SECOND)),  # max 2 requests per 1 seconds\n",
    "    bucket_class=MemoryQueueBucket,\n",
    "    backend=SQLiteCache(\"yfinance.cache\"),\n",
    ")"
   ]
  },
  {
   "cell_type": "code",
   "execution_count": null,
   "metadata": {},
   "outputs": [],
   "source": [
    "all_codes = stock.get_code_list(include_etf=True)\n",
    "output_dir = stock.PROJECT_ROOT / \"data\" / \"minutes\"\n",
    "\n",
    "date = datetime.date.today() - datetime.timedelta(days=30)\n",
    "while date <= datetime.date.today():\n",
    "    ticker = yf.Ticker(f\"{code}.T\", session=session)\n",
    "    df = stock.util.pd_to_pl(\n",
    "        ticker.history(\n",
    "            interval=\"1m\",\n",
    "            start=date.strftime(\"%Y-%m-%d\"),\n",
    "            end=(date + datetime.timedelta(days=1)).strftime(\"%Y-%m-%d\"),\n",
    "        )\n",
    "    )\n",
    "    if len(df) > 0:\n",
    "        output_path = (\n",
    "            output_dir / date.strftime(\"%Y%m%d\") / f\"{code}_{date.strftime('%Y%m%d')}.arrow\"\n",
    "        )\n",
    "        output_path.parent.mkdir(parents=True, exist_ok=True)\n",
    "        df.write_ipc(output_path)\n",
    "    date += datetime.timedelta(days=1)"
   ]
  },
  {
   "cell_type": "code",
   "execution_count": null,
   "metadata": {},
   "outputs": [],
   "source": [
    "date = datetime.date.today() - datetime.timedelta(days=1)\n",
    "ticker = yf.Ticker(\"BTC-JPY\", session=session)\n",
    "df = ticker.history(\n",
    "    interval=\"1m\",\n",
    "    start=date.strftime(\"%Y-%m-%d\"),\n",
    "    end=(date + datetime.timedelta(days=1)).strftime(\"%Y-%m-%d\"),\n",
    ")\n"
   ]
  },
  {
   "cell_type": "code",
   "execution_count": null,
   "metadata": {},
   "outputs": [],
   "source": [
    "df"
   ]
  },
  {
   "cell_type": "code",
   "execution_count": null,
   "metadata": {},
   "outputs": [],
   "source": [
    "import requests\n",
    "import json\n",
    "\n",
    "endPoint = 'https://api.coin.z.com/public'\n",
    "# path     = '/v1/trades?symbol=BTC&page=1&count=10'\n",
    "path     = '/v1/klines?symbol=ASTR&interval=1min&date=20210415'\n",
    "\n",
    "#response = requests.get(endPoint + path)\n",
    "response = session.get(endPoint + path)"
   ]
  },
  {
   "cell_type": "code",
   "execution_count": null,
   "metadata": {},
   "outputs": [],
   "source": [
    "from fake_useragent import UserAgent\n",
    "\n",
    "ua = UserAgent()\n",
    "headers = {'User-Agent': str(ua.chrome)}"
   ]
  },
  {
   "cell_type": "code",
   "execution_count": null,
   "metadata": {},
   "outputs": [],
   "source": []
  },
  {
   "cell_type": "code",
   "execution_count": null,
   "metadata": {},
   "outputs": [],
   "source": [
    "len(response.json()[\"data\"][\"rows\"])"
   ]
  },
  {
   "cell_type": "code",
   "execution_count": null,
   "metadata": {},
   "outputs": [],
   "source": [
    "res = response.json()"
   ]
  },
  {
   "cell_type": "code",
   "execution_count": null,
   "metadata": {},
   "outputs": [],
   "source": [
    "df = pl.from_dicts(res[\"data\"][\"rows\"])"
   ]
  },
  {
   "cell_type": "code",
   "execution_count": null,
   "metadata": {},
   "outputs": [],
   "source": [
    "df.write_csv(\"./tmp/codes.csv\")"
   ]
  },
  {
   "cell_type": "code",
   "execution_count": null,
   "metadata": {},
   "outputs": [],
   "source": [
    "res[\"data\"][\"headers\"]"
   ]
  },
  {
   "cell_type": "code",
   "execution_count": null,
   "metadata": {},
   "outputs": [],
   "source": [
    "ticker_csv_path = stock.PROJECT_ROOT / \"data\" / \"us_tickers.csv\"\n",
    "df = pl.read_csv(ticker_csv_path)\n",
    "symbol_list = df[\"symbol\"].to_list()"
   ]
  },
  {
   "cell_type": "code",
   "execution_count": null,
   "metadata": {},
   "outputs": [],
   "source": [
    "from tqdm import tqdm"
   ]
  },
  {
   "cell_type": "code",
   "execution_count": null,
   "metadata": {},
   "outputs": [],
   "source": [
    "ticker = yf.Ticker(symbol, session)"
   ]
  },
  {
   "cell_type": "code",
   "execution_count": null,
   "metadata": {},
   "outputs": [],
   "source": [
    "ticker.history(interval=\"1m\", start=date.strftime(\"%Y-%m-%d\"))"
   ]
  },
  {
   "cell_type": "code",
   "execution_count": null,
   "metadata": {},
   "outputs": [],
   "source": [
    "start_day = datetime.date.today() - datetime.timedelta(days=29)\n",
    "end_day = datetime.date.today()\n",
    "\n",
    "for symbol in tqdm(symbol_list):\n",
    "    date = start_day\n",
    "    while date <= end_day:\n",
    "        output_path = stock.DATA_DIR / \"minutes_yf\" / date.strftime(\"%Y%m%d\") / f\"{symbol}_{date.strftime('%Y%m%d')}.csv\"\n",
    "        if output_path.exists() or date.weekday() >= 5 or date == datetime.date(2024, 9, 2):  # 収集済み or 土日祝はスキップ\n",
    "            date += datetime.timedelta(days=1)\n",
    "            continue\n",
    "        try:\n",
    "            df = yf.Ticker(symbol, session=session).history(\n",
    "                interval=\"1m\", start=date.strftime(\"%Y-%m-%d\"), end=(date + datetime.timedelta(days=1)).strftime(\"%Y-%m-%d\"))\n",
    "        except:\n",
    "            date += datetime.timedelta(days=1)\n",
    "            continue\n",
    "            \n",
    "        if len(df) > 0:\n",
    "            output_path.parent.mkdir(parents=True, exist_ok=True)\n",
    "            df = stock.util.pd_to_pl(df)\n",
    "            df.write_csv(output_path)\n",
    "        date += datetime.timedelta(days=1)"
   ]
  },
  {
   "cell_type": "code",
   "execution_count": null,
   "metadata": {},
   "outputs": [],
   "source": []
  },
  {
   "cell_type": "code",
   "execution_count": null,
   "metadata": {},
   "outputs": [],
   "source": [
    "code"
   ]
  },
  {
   "cell_type": "code",
   "execution_count": null,
   "metadata": {},
   "outputs": [],
   "source": []
  },
  {
   "cell_type": "code",
   "execution_count": null,
   "metadata": {},
   "outputs": [],
   "source": [
    "len(yf.Ticker(code).history(interval=\"1m\", start=\"2024-09-04\", end=\"2024-09-05\"))"
   ]
  },
  {
   "cell_type": "code",
   "execution_count": null,
   "metadata": {},
   "outputs": [],
   "source": []
  },
  {
   "cell_type": "code",
   "execution_count": null,
   "metadata": {},
   "outputs": [],
   "source": []
  },
  {
   "cell_type": "code",
   "execution_count": null,
   "metadata": {},
   "outputs": [],
   "source": [
    "res[\"data\"]"
   ]
  },
  {
   "cell_type": "code",
   "execution_count": null,
   "metadata": {},
   "outputs": [],
   "source": [
    "res = response.json()\n",
    "df = pl.from_dicts(res[\"data\"]).with_columns(\n",
    "    pl.col(\"openTime\").cast(pl.Float64),\n",
    "    pl.col(\"open\").cast(pl.Int64),\n",
    "    pl.col(\"high\").cast(pl.Int64),\n",
    "    pl.col(\"low\").cast(pl.Int64),\n",
    "    pl.col(\"close\").cast(pl.Int64),\n",
    "    pl.col(\"volume\").cast(pl.Float64),\n",
    ").with_columns(\n",
    "    (pl.from_epoch(\"openTime\", time_unit=\"ms\") + pl.duration(hours=9)).alias(\"datetime\"),  # JST\n",
    ")"
   ]
  },
  {
   "cell_type": "code",
   "execution_count": null,
   "metadata": {},
   "outputs": [],
   "source": [
    "df.write_csv(\"./tmp/test.csv\")"
   ]
  },
  {
   "cell_type": "code",
   "execution_count": null,
   "metadata": {},
   "outputs": [],
   "source": [
    "len(df)"
   ]
  },
  {
   "cell_type": "code",
   "execution_count": null,
   "metadata": {},
   "outputs": [],
   "source": [
    "res"
   ]
  },
  {
   "cell_type": "code",
   "execution_count": null,
   "metadata": {},
   "outputs": [],
   "source": [
    "df"
   ]
  },
  {
   "cell_type": "code",
   "execution_count": null,
   "metadata": {},
   "outputs": [],
   "source": []
  }
 ],
 "metadata": {
  "kernelspec": {
   "display_name": ".venv",
   "language": "python",
   "name": "python3"
  },
  "language_info": {
   "codemirror_mode": {
    "name": "ipython",
    "version": 3
   },
   "file_extension": ".py",
   "mimetype": "text/x-python",
   "name": "python",
   "nbconvert_exporter": "python",
   "pygments_lexer": "ipython3",
   "version": "3.12.3"
  }
 },
 "nbformat": 4,
 "nbformat_minor": 2
}
