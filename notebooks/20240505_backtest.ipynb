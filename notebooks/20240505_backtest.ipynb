{
 "cells": [
  {
   "cell_type": "code",
   "execution_count": null,
   "metadata": {},
   "outputs": [],
   "source": [
    "import datetime\n",
    "from pathlib import Path\n",
    "\n",
    "import numpy as np\n",
    "import polars as pl\n",
    "import matplotlib.pyplot as plt\n",
    "\n",
    "import stock"
   ]
  },
  {
   "cell_type": "code",
   "execution_count": null,
   "metadata": {},
   "outputs": [],
   "source": [
    "## 過去データで再現性テスト\n",
    "### いくつかの局面でrelative strengthがうまく機能するかチェックする\n",
    "\"\"\"\n",
    "- コロナによる急落局面 (2020)\n",
    "- そこからの回復局面 (2020 ~ 2021)\n",
    "- 利上げによる下落局面(2022)\n",
    "- 生成AIブームによる上昇局面 (2023~2024)\n",
    "\"\"\""
   ]
  },
  {
   "cell_type": "code",
   "execution_count": null,
   "metadata": {},
   "outputs": [],
   "source": [
    "def get_performance(code: pl.DataFrame, start_date: datetime.date, end_date: datetime.date):\n",
    "    df = stock.kabutan.read_data_csv(\n",
    "        stock.PROJECT_ROOT / \"data\" / \"daily\" / f\"{code}.csv\", start_date=start_date, end_date=end_date)\n",
    "    gain_rate = 0.0\n",
    "    min_val = 1e9\n",
    "    max_val = 0\n",
    "    for i in range(len(df)):\n",
    "        close_val = df[\"close\"][i]\n",
    "        if close_val < min_val:\n",
    "            gain_rate = max(max_val / min_val - 1.0, gain_rate)\n",
    "            min_val = close_val\n",
    "            max_val = close_val\n",
    "\n",
    "        if close_val > max_val:\n",
    "            max_val = close_val\n",
    "    return gain_rate\n",
    "\n",
    "# 値上がり銘柄の取得\n",
    "def get_high_performe_codes(start_date: datetime.date, end_date: datetime.date):\n",
    "    \"\"\"\n",
    "    \"\"\"\n",
    "    csv_dir = stock.PROJECT_ROOT / \"data/daily\"\n",
    "    performances = {}\n",
    "    for csv_path in sorted(csv_dir.glob(\"*.csv\")):\n",
    "        code = csv_path.stem\n",
    "        performances[code] = get_performance(code, start_date, end_date)\n",
    "    return performances"
   ]
  },
  {
   "cell_type": "code",
   "execution_count": null,
   "metadata": {},
   "outputs": [],
   "source": [
    "# 2020/2 ~ \n",
    "start_date = datetime.date(year=2020, month=2, day=1)\n",
    "end_date = datetime.date(year=2021, month=2, day=1)\n",
    "performances = get_high_performe_codes(start_date=start_date, end_date=end_date)"
   ]
  },
  {
   "cell_type": "code",
   "execution_count": null,
   "metadata": {},
   "outputs": [],
   "source": [
    "{code: val for code, val in performances.items() if val > 0.5}"
   ]
  },
  {
   "cell_type": "code",
   "execution_count": null,
   "metadata": {},
   "outputs": [],
   "source": [
    "code = \"4446\"\n",
    "df = stock.kabutan.read_data_csv(csv_path=stock.PROJECT_ROOT / f\"data/daily/{code}.csv\")\n",
    "ref_df = stock.kabutan.read_data_csv(csv_path=stock.PROJECT_ROOT / \"data/daily/0010.csv\")\n",
    "df = stock.trend_template.calc_rs_v2(df, ref_df)\n",
    "stock.visualize.plot_with_rs(df=df, start_date=start_date - datetime.timedelta(days=120), end_date=end_date)"
   ]
  },
  {
   "cell_type": "code",
   "execution_count": null,
   "metadata": {},
   "outputs": [],
   "source": [
    "df.filter(pl.col(\"date\").is_between(\n",
    "    datetime.date(year=2020, month=1, day=1), \n",
    "    datetime.date(year=2020, month=2, day=1)\n",
    "))"
   ]
  },
  {
   "cell_type": "code",
   "execution_count": null,
   "metadata": {},
   "outputs": [],
   "source": [
    "import plotly.graph_objects as go\n",
    "\n",
    "fig = go.Figure(data=[go.Candlestick(x=df['date'],\n",
    "                open=df['open'],\n",
    "                high=df['high'],\n",
    "                low=df['low'],\n",
    "                close=df['close'])])\n",
    "fig.update_xaxes(\n",
    "   rangebreaks=[\n",
    "     dict(bounds=[\"sat\", \"mon\"]),\n",
    "   ]\n",
    " )\n",
    "fig.show()"
   ]
  },
  {
   "cell_type": "code",
   "execution_count": null,
   "metadata": {},
   "outputs": [],
   "source": []
  }
 ],
 "metadata": {
  "kernelspec": {
   "display_name": ".venv",
   "language": "python",
   "name": "python3"
  },
  "language_info": {
   "codemirror_mode": {
    "name": "ipython",
    "version": 3
   },
   "file_extension": ".py",
   "mimetype": "text/x-python",
   "name": "python",
   "nbconvert_exporter": "python",
   "pygments_lexer": "ipython3",
   "version": "3.10.12"
  }
 },
 "nbformat": 4,
 "nbformat_minor": 2
}
