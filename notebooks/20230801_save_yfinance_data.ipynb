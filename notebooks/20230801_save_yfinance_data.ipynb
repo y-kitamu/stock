{
 "cells": [
  {
   "cell_type": "code",
   "execution_count": null,
   "metadata": {},
   "outputs": [],
   "source": [
    "from pathlib import Path\n",
    "import json\n",
    "\n",
    "from jinja2 import Environment, FileSystemLoader, select_autoescape\n",
    "import numpy as np\n",
    "import requests\n",
    "import yfinance as yf\n",
    "\n",
    "import stock"
   ]
  },
  {
   "cell_type": "code",
   "execution_count": null,
   "metadata": {},
   "outputs": [],
   "source": [
    "def format_number(value):\n",
    "    return float(\"{:.2f}\".format(value))\n",
    "\n",
    "def render_bundle_js(env: Environment, ticker: str, output_dir: Path):\n",
    "    template = env.get_template(\"bundle.js\")\n",
    "    history = yf.Ticker(ticker).history(period=\"1y\", interval=\"1d\")\n",
    "    dates = [idx.strftime(\"%Y/%m/%d\") for idx in history.index]\n",
    "    daily_data = []\n",
    "    volume_data = []\n",
    "    for idx, row in enumerate(history.to_numpy()):\n",
    "        daily_data.append([\n",
    "            dates[idx], \n",
    "            format_number(row[0]), \n",
    "            format_number(row[3]), \n",
    "            format_number(row[1]),\n",
    "            format_number(row[2]),\n",
    "        ])\n",
    "        volume_data.append(row[4])\n",
    "\n",
    "    text = template.render(\n",
    "        chart_id=ticker,\n",
    "        daily_data=daily_data,\n",
    "        volume_data=volume_data\n",
    "    )\n",
    "\n",
    "    output_dir.mkdir(exist_ok=True)\n",
    "    output_path = output_dir / f\"bundle_{ticker}.js\"\n",
    "    with open(output_path, \"w\") as f:\n",
    "        f.write(text)\n",
    "    return output_path"
   ]
  },
  {
   "cell_type": "code",
   "execution_count": null,
   "metadata": {},
   "outputs": [],
   "source": [
    "watch_list_path = stock.DATA_DIR / \"watch_list.csv\"\n",
    "with open(watch_list_path, \"r\") as f:\n",
    "    watch_list = [txt.strip() for txt in f.readlines()[1:]]"
   ]
  },
  {
   "cell_type": "code",
   "execution_count": null,
   "metadata": {},
   "outputs": [],
   "source": [
    "output_dir = Path(\"./tmp\")\n",
    "output_dir.mkdir(exist_ok=True)\n",
    "\n",
    "env = Environment(\n",
    "    loader=FileSystemLoader(\"../templates\"),\n",
    "    autoescape=select_autoescape()\n",
    ")\n",
    "\n",
    "# render index.html\n",
    "template = env.get_template(\"index.html\")\n",
    "index_html_text = template.render(chart_ids=watch_list)\n",
    "index_html_path = output_dir / \"index.html\"\n",
    "with open(index_html_path, \"w\")  as f:\n",
    "    f.write(index_html_text)\n",
    "\n",
    "# render bundle javascript files\n",
    "for ticker in watch_list:\n",
    "    print(render_bundle_js(env, ticker, output_dir / \"js\"))\n"
   ]
  },
  {
   "cell_type": "code",
   "execution_count": null,
   "metadata": {},
   "outputs": [],
   "source": []
  }
 ],
 "metadata": {
  "kernelspec": {
   "display_name": "Python 3.10.6 ('.venv': poetry)",
   "language": "python",
   "name": "python3"
  },
  "language_info": {
   "codemirror_mode": {
    "name": "ipython",
    "version": 3
   },
   "file_extension": ".py",
   "mimetype": "text/x-python",
   "name": "python",
   "nbconvert_exporter": "python",
   "pygments_lexer": "ipython3",
   "version": "3.10.12"
  },
  "vscode": {
   "interpreter": {
    "hash": "0925d657e30d00cf1a4f19c1b7a91cf3b3559e9055505eaa2fd1b9771cefd6bc"
   }
  }
 },
 "nbformat": 4,
 "nbformat_minor": 2
}
