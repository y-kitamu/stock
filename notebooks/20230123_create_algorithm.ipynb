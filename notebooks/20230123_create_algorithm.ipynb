{
 "cells": [
  {
   "cell_type": "code",
   "execution_count": null,
   "metadata": {},
   "outputs": [],
   "source": [
    "from pathlib import Path\n",
    "import csv\n",
    "\n",
    "import pandas as pd\n",
    "import numpy as np"
   ]
  },
  {
   "cell_type": "code",
   "execution_count": null,
   "metadata": {},
   "outputs": [],
   "source": [
    "us_data_csv = Path.home() / \"work/Projects/stock/data/us_etf/TLH.csv\"\n",
    "jp_data_csv = Path.home() / \"work/Projects/stock/data/etfs/1343.csv\"\n",
    "assert us_data_csv.exists()\n",
    "assert jp_data_csv.exists()"
   ]
  },
  {
   "cell_type": "code",
   "execution_count": null,
   "metadata": {},
   "outputs": [],
   "source": [
    "us_df = pd.read_csv(us_data_csv)\n",
    "jp_df = pd.read_csv(jp_data_csv)\n",
    "\n",
    "us_data = us_df.to_numpy()\n",
    "jp_data = jp_df.to_numpy()\n",
    "jp_data[:, 0] -= 24 * 60 * 60\n",
    "\n",
    "us_timestamps = set(us_data[:, 0])  # utcでYYYY/MM/DD 00:00:00のタイムスタンプ\n",
    "jp_timestamps = set(jp_data[:, 0])\n",
    "common_timestamps = sorted(us_timestamps & jp_timestamps)\n",
    "us_data = us_data[np.isin(us_data[:, 0], common_timestamps)]\n",
    "jp_data = jp_data[np.isin(jp_data[:, 0], common_timestamps)]"
   ]
  },
  {
   "cell_type": "code",
   "execution_count": null,
   "metadata": {},
   "outputs": [],
   "source": [
    "us_change = (us_data[:, 2] - us_data[:, 1]) / us_data[:, 1] * 100\n",
    "jp_change = (jp_data[:, 2] - jp_data[:, 1]) / jp_data[:, 1] * 100"
   ]
  },
  {
   "cell_type": "code",
   "execution_count": null,
   "metadata": {},
   "outputs": [],
   "source": [
    "jp_change[np.abs(us_change) > 1.25]"
   ]
  },
  {
   "cell_type": "code",
   "execution_count": null,
   "metadata": {},
   "outputs": [],
   "source": []
  }
 ],
 "metadata": {
  "kernelspec": {
   "display_name": "Python 3.10.6 ('.venv': poetry)",
   "language": "python",
   "name": "python3"
  },
  "language_info": {
   "codemirror_mode": {
    "name": "ipython",
    "version": 3
   },
   "file_extension": ".py",
   "mimetype": "text/x-python",
   "name": "python",
   "nbconvert_exporter": "python",
   "pygments_lexer": "ipython3",
   "version": "3.10.6"
  },
  "vscode": {
   "interpreter": {
    "hash": "0925d657e30d00cf1a4f19c1b7a91cf3b3559e9055505eaa2fd1b9771cefd6bc"
   }
  }
 },
 "nbformat": 4,
 "nbformat_minor": 2
}
