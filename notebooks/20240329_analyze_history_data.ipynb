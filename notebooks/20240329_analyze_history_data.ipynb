{
 "cells": [
  {
   "cell_type": "code",
   "execution_count": null,
   "metadata": {},
   "outputs": [],
   "source": [
    "from pathlib import Path\n",
    "import csv\n",
    "import math\n",
    "import multiprocessing as mp\n",
    "from datetime import datetime\n",
    "\n",
    "from tqdm import tqdm\n",
    "import pandas as pd\n",
    "import numpy as np\n",
    "import matplotlib.pyplot as plt\n",
    "import matplotlib.dates as mdates\n",
    "\n",
    "import stock"
   ]
  },
  {
   "cell_type": "code",
   "execution_count": null,
   "metadata": {},
   "outputs": [],
   "source": [
    "def calc_max_growth_rate(csv_path: Path):\n",
    "    daily_df = pd.read_csv(csv_path)\n",
    "    if len(daily_df) == 0:\n",
    "        return 0, 0, 0\n",
    "    daily_df = daily_df[np.isnan(daily_df.close) == False]\n",
    "    if len(daily_df) < 100:\n",
    "        return 0, 0, 0\n",
    "    close_values = daily_df.close.to_numpy()\n",
    "        \n",
    "    num_data = len(close_values)\n",
    "\n",
    "    min_idx = 0\n",
    "    max_idx = 0\n",
    "    max_growth_rate = 0.0\n",
    "    for i in range(10, len(close_values)):\n",
    "        vals = (close_values[i:] / close_values[:num_data - i])\n",
    "        idx = vals.argmax()\n",
    "        if vals[idx] > 2.0:\n",
    "            growth_rate = vals[idx] / i > max_growth_rate\n",
    "            if growth_rate > max_growth_rate:\n",
    "                max_growth_rate = growth_rate\n",
    "                min_idx = idx\n",
    "                max_idx = idx + i\n",
    "\n",
    "    if max_idx - min_idx > 0:\n",
    "        growth_rate = (close_values[max_idx] / close_values[min_idx]) ** (1.0 / (max_idx - min_idx))\n",
    "        return growth_rate, min_idx, max_idx\n",
    "    return 0, 0, 0"
   ]
  },
  {
   "cell_type": "code",
   "execution_count": null,
   "metadata": {},
   "outputs": [],
   "source": [
    "daily_data_dir = stock.PROJECT_ROOT / \"data\" / \"daily\"\n",
    "financial_data_dir = stock.PROJECT_ROOT / \"data\" / \"financial\"\n",
    "\n",
    "daily_csv_lists = sorted(daily_data_dir.glob(\"*.csv\"))\n",
    "\n",
    "growth_rates = []\n",
    "ques = []\n",
    "with mp.Pool(8) as pool:\n",
    "    for daily_csv in daily_csv_lists:\n",
    "        ques.append(pool.apply_async(calc_max_growth_rate, (daily_csv,)))\n",
    "\n",
    "    for que in tqdm(ques):\n",
    "        growth_rates.append(que.get()[0])\n",
    "growth_rates = np.array(growth_rates)"
   ]
  },
  {
   "cell_type": "code",
   "execution_count": null,
   "metadata": {},
   "outputs": [],
   "source": [
    "index_arr = np.arange(0, len(daily_csv_lists))\n",
    "sorted_arr = sorted(index_arr, key=lambda x: growth_rates[x])[::-1]"
   ]
  },
  {
   "cell_type": "code",
   "execution_count": null,
   "metadata": {},
   "outputs": [],
   "source": []
  }
 ],
 "metadata": {
  "kernelspec": {
   "display_name": ".venv",
   "language": "python",
   "name": "python3"
  },
  "language_info": {
   "codemirror_mode": {
    "name": "ipython",
    "version": 3
   },
   "file_extension": ".py",
   "mimetype": "text/x-python",
   "name": "python",
   "nbconvert_exporter": "python",
   "pygments_lexer": "ipython3",
   "version": "3.10.12"
  }
 },
 "nbformat": 4,
 "nbformat_minor": 2
}
