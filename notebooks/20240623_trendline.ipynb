{
 "cells": [
  {
   "cell_type": "code",
   "execution_count": null,
   "metadata": {},
   "outputs": [],
   "source": [
    "from pathlib import Path\n",
    "import datetime\n",
    "\n",
    "import numpy as np\n",
    "import polars as pl\n",
    "\n",
    "import stock"
   ]
  },
  {
   "cell_type": "code",
   "execution_count": null,
   "metadata": {},
   "outputs": [],
   "source": [
    "code_list = stock.kabutan.get_code_list()\n",
    "current_date = datetime.date(year=2024, month=5, day=10)\n",
    "start_date = current_date - datetime.timedelta(days=365)"
   ]
  },
  {
   "cell_type": "code",
   "execution_count": null,
   "metadata": {},
   "outputs": [],
   "source": [
    "watch_list = []\n",
    "for code in code_list:\n",
    "    df = stock.kabutan.read_data_csv(code, start_date=start_date, end_date=current_date)\n",
    "    fdf = stock.kabutan.read_financial_csv(code).filter(pl.col(\"annoounce_date\") <= current_date).sort(pl.col(\"annoounce_date\"))\n",
    "    if len(fdf) > 0 and current_date - fdf[\"annoounce_date\"][-1] < datetime.timedelta(days=1):\n",
    "        continue\n",
    "\n",
    "    # 過去10日の値動きの大きさを計算\n",
    "    window_size = 10\n",
    "    avg_key = \"avg{}\".format(window_size)\n",
    "    stddev_key = \"stddev{}\".format(window_size)\n",
    "    df = df.with_columns(\n",
    "        pl.col(\"close\").rolling_mean(window_size=window_size).alias(avg_key),\n",
    "        pl.col(\"close\").rolling_std(window_size=window_size).alias(stddev_key)\n",
    "    )\n",
    "\n",
    "    # ギャップアップしている\n",
    "    df = df.with_columns(\n",
    "        (pl.col(\"close\") > pl.col(avg_key) + pl.col(stddev_key)).alias(\"breakpoint\")\n",
    "    )\n",
    "\n",
    "    # 出来高が増加（急増）\n",
    "    df = df.with_columns(\n",
    "        pl.col(\"volume\").rolling_max(window_size=window_size).shift().alias(\"max_volume\")\n",
    "    )\n",
    "    df = df.with_columns(\n",
    "        (pl.col(\"volume\") > pl.col(\"max_volume\") * 2).alias(\"volume_increase\")\n",
    "    )\n",
    "\n",
    "    if len(df) > 0 and df[\"breakpoint\"][-1] and df[\"volume_increase\"][-1]:\n",
    "        if (df[\"close\"][-1] - df[\"low\"][-1]) / max(df[\"high\"][-1] - df[\"low\"][-1], 1e-5) > 0.8:\n",
    "            if stock.kabutan.data.get_market_capitalization(code) < 1000:\n",
    "                watch_list.append(code)\n"
   ]
  },
  {
   "cell_type": "code",
   "execution_count": null,
   "metadata": {},
   "outputs": [],
   "source": [
    "len(watch_list)"
   ]
  },
  {
   "cell_type": "code",
   "execution_count": null,
   "metadata": {},
   "outputs": [],
   "source": [
    "watch_list"
   ]
  },
  {
   "cell_type": "code",
   "execution_count": null,
   "metadata": {},
   "outputs": [],
   "source": [
    "pl.Config.set_tbl_rows(-1)\n",
    "df.filter((pl.col(\"breakpoint\") == True) & (pl.col(\"volume_increase\") == True))"
   ]
  },
  {
   "cell_type": "code",
   "execution_count": null,
   "metadata": {},
   "outputs": [],
   "source": []
  }
 ],
 "metadata": {
  "kernelspec": {
   "display_name": ".venv",
   "language": "python",
   "name": "python3"
  },
  "language_info": {
   "codemirror_mode": {
    "name": "ipython",
    "version": 3
   },
   "file_extension": ".py",
   "mimetype": "text/x-python",
   "name": "python",
   "nbconvert_exporter": "python",
   "pygments_lexer": "ipython3",
   "version": "3.10.12"
  }
 },
 "nbformat": 4,
 "nbformat_minor": 2
}
