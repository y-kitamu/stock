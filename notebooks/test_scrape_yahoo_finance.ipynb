{
 "cells": [
  {
   "cell_type": "code",
   "execution_count": null,
   "id": "0",
   "metadata": {
    "jupyter": {
     "outputs_hidden": false
    }
   },
   "outputs": [],
   "source": [
    "import requests\n",
    "from bs4 import BeautifulSoup\n",
    "from selenium import webdriver\n",
    "from selenium.webdriver.chrome.options import Options"
   ]
  },
  {
   "cell_type": "code",
   "execution_count": null,
   "id": "1",
   "metadata": {
    "jupyter": {
     "outputs_hidden": false
    }
   },
   "outputs": [],
   "source": [
    "from selenium import webdriver\n",
    "from selenium.webdriver.common.desired_capabilities import DesiredCapabilities\n",
    "\n",
    "driver = webdriver.Remote(\n",
    "   command_executor='http://chrome_driver:4444/wd/hub',\n",
    "   desired_capabilities=DesiredCapabilities.CHROME)\n",
    "\n",
    "print(driver.current_url)"
   ]
  },
  {
   "cell_type": "code",
   "execution_count": null,
   "id": "2",
   "metadata": {
    "jupyter": {
     "outputs_hidden": false
    }
   },
   "outputs": [],
   "source": [
    "base_url = \"https://finance.yahoo.com/quote/{}/history?{}\"\n",
    "code = \"DBX\"\n",
    "url_params = {\n",
    "    \"period1\": \"0\",\n",
    "    \"period2\": \"1636761600\",\n",
    "    \"interval\": \"1d\",\n",
    "    \"filter\": \"history\",\n",
    "    \"frequency\": \"1d\",\n",
    "    \"includeAdjustedClose\": \"true\"\n",
    "}\n",
    "url_params_str = \"&\".join(\"{}={}\".format(key, val) for key, val in url_params.items())\n",
    "\n",
    "url = base_url.format(code, url_params_str)\n",
    "print(url)\n",
    "\n",
    "driver.get(url)"
   ]
  },
  {
   "cell_type": "code",
   "execution_count": null,
   "id": "3",
   "metadata": {
    "jupyter": {
     "outputs_hidden": false
    }
   },
   "outputs": [],
   "source": [
    "elem = driver.find_element_by_tag_name('body')"
   ]
  },
  {
   "cell_type": "code",
   "execution_count": null,
   "id": "4",
   "metadata": {
    "jupyter": {
     "outputs_hidden": false
    }
   },
   "outputs": [],
   "source": [
    "html = elem.get_attribute(\"innerHTML\")\n",
    "html_doc = BeautifulSoup(html, \"html.parser\")"
   ]
  },
  {
   "cell_type": "code",
   "execution_count": null,
   "id": "5",
   "metadata": {
    "jupyter": {
     "outputs_hidden": false
    }
   },
   "outputs": [],
   "source": [
    "!pip install fake-useragent --user"
   ]
  },
  {
   "cell_type": "code",
   "execution_count": null,
   "id": "6",
   "metadata": {
    "jupyter": {
     "outputs_hidden": false
    }
   },
   "outputs": [],
   "source": [
    "from io import StringIO\n",
    "import csv\n",
    "from typing import List\n",
    "\n",
    "import numpy as np\n",
    "import requests\n",
    "from fake_useragent import UserAgent"
   ]
  },
  {
   "cell_type": "code",
   "execution_count": null,
   "id": "7",
   "metadata": {
    "jupyter": {
     "outputs_hidden": false
    }
   },
   "outputs": [],
   "source": [
    "ua = UserAgent()\n",
    "header = {\n",
    "    'User-Agent': ua.chrome\n",
    "}\n",
    "\n",
    "r = requests.get(\"https://query1.finance.yahoo.com/v7/finance/download/DBX?period1=0&period2=1636761600&interval=1d&events=history&includeAdjustedClose=true\", headers=header)"
   ]
  },
  {
   "cell_type": "code",
   "execution_count": null,
   "id": "8",
   "metadata": {
    "jupyter": {
     "outputs_hidden": false
    }
   },
   "outputs": [],
   "source": [
    "def to_float(val_str: str):\n",
    "    try:\n",
    "        val = float(val_str)\n",
    "        return val\n",
    "    except:\n",
    "        return np.nan\n",
    "\n",
    "def process_row(row: List[str]):\n",
    "    out = [row[0]]\n",
    "    out += [to_float(val) for val in row[1:]]\n",
    "    return out\n",
    "        \n",
    "\n",
    "with StringIO(r.content.decode()) as ss:\n",
    "    csv_reader = csv.reader(ss)\n",
    "    header = next(csv_reader)\n",
    "    rows = [process_row(row) for row in csv_reader]"
   ]
  },
  {
   "cell_type": "code",
   "execution_count": null,
   "id": "9",
   "metadata": {
    "jupyter": {
     "outputs_hidden": true
    }
   },
   "outputs": [],
   "source": [
    "rows"
   ]
  }
 ],
 "metadata": {
  "kernelspec": {
   "display_name": "Python 3 (ipykernel)",
   "language": "python",
   "name": "python3"
  },
  "language_info": {
   "codemirror_mode": {
    "name": "ipython",
    "version": 3
   },
   "file_extension": ".py",
   "mimetype": "text/x-python",
   "name": "python",
   "nbconvert_exporter": "python",
   "pygments_lexer": "ipython3",
   "version": "3.9.5"
  },
  "name": "test_scrape_yahoo_finance.ipynb"
 },
 "nbformat": 4,
 "nbformat_minor": 5
}
