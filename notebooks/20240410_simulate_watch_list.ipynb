{
 "cells": [
  {
   "cell_type": "code",
   "execution_count": null,
   "metadata": {},
   "outputs": [],
   "source": [
    "from pathlib import Path\n",
    "from datetime import datetime, timedelta\n",
    "\n",
    "import polars as pl\n",
    "\n",
    "import stock\n",
    "from stock.trend_template import check_fundamental_trend_templates, check_technical_trend_templates"
   ]
  },
  {
   "cell_type": "code",
   "execution_count": null,
   "metadata": {},
   "outputs": [],
   "source": [
    "def update_watch_list(date: datetime):\n",
    "    csv_dir = stock.PROJECT_ROOT / \"data\" / \"daily\"\n",
    "    watch_list = []\n",
    "    for csv_path in sorted(csv_dir.glob(\"*.csv\")):\n",
    "        code = csv_path.stem\n",
    "        if stock.trend_template.check_technical_trend_templates(\n",
    "            code, cur_day=date,\n",
    "        ) and stock.trend_template.check_fundamental_trend_templates(code, current_date=date):\n",
    "            watch_list.append(code)\n",
    "    return watch_list"
   ]
  },
  {
   "cell_type": "code",
   "execution_count": null,
   "metadata": {},
   "outputs": [],
   "source": [
    "def calc_watch_list_duration_of(code: str, start_date: datetime, end_date: datetime = datetime.today()):\n",
    "    duration = []\n",
    "    date = start_date\n",
    "    start = None\n",
    "    while date <= end_date:\n",
    "        if check_technical_trend_templates(code, cur_day=date) and check_fundamental_trend_templates(code, current_date=date):\n",
    "            if start is None:\n",
    "                start = date\n",
    "        else:\n",
    "            if start is not None:\n",
    "                duration.append([start, date - timedelta(1)])\n",
    "            start = None\n",
    "        date += timedelta(days=1)\n",
    "\n",
    "    if start is not None:\n",
    "        duration.append([start, end_date])\n",
    "\n",
    "    return duration\n"
   ]
  },
  {
   "cell_type": "code",
   "execution_count": null,
   "metadata": {},
   "outputs": [],
   "source": [
    "date = datetime.today() - timedelta(days=365)\n",
    "watch_list = update_watch_list(date)"
   ]
  },
  {
   "cell_type": "code",
   "execution_count": null,
   "metadata": {},
   "outputs": [],
   "source": [
    "durations = []\n",
    "nikkei_df = stock.kabutan.read_data_csv(stock.PROJECT_ROOT / \"data\" / \"daily\" / f\"0000.csv\", exclude_none=False)"
   ]
  },
  {
   "cell_type": "code",
   "execution_count": null,
   "metadata": {},
   "outputs": [],
   "source": [
    "mean = 0.0\n",
    "for idx, code in enumerate(watch_list):\n",
    "    start_date = date - timedelta(days=365)\n",
    "    # duration = calc_watch_list_duration_of(code, start_date=start_date)\n",
    "    duration = durations[idx]\n",
    "\n",
    "    data_csv = stock.PROJECT_ROOT / \"data\" / \"daily\" / f\"{code}.csv\"\n",
    "    df = stock.kabutan.read_data_csv(data_csv, exclude_none=True)\n",
    "    between_df = df.filter(pl.col(\"date\").is_between(duration[0][0], duration[-1][1], closed=\"right\"))\n",
    "    # \n",
    "    start = between_df[\"high\"][0]\n",
    "    high_idx = between_df[\"high\"].arg_max()\n",
    "    high = between_df[\"high\"][high_idx]\n",
    "    high_date = between_df[\"date\"][high_idx]\n",
    "    #\n",
    "    nikkei_between_df = nikkei_df.filter(pl.col(\"date\").is_between(duration[0][0], duration[-1][1], closed=\"right\"))\n",
    "    nikkei_start = nikkei_between_df[\"high\"][0]\n",
    "    nikkei_high = nikkei_between_df[\"high\"].max()\n",
    "    \n",
    "    print(code, high / start, nikkei_high / nikkei_start, duration[0][0].strftime(\"%Y/%m/%d\"), duration[-1][1].strftime(\"%Y/%m/%d\"))\n",
    "    #diff = (high / start) - (nikkei_high / nikkei_start)\n",
    "    mean += high / start\n",
    "    #durations.append(duration)"
   ]
  },
  {
   "cell_type": "code",
   "execution_count": null,
   "metadata": {},
   "outputs": [],
   "source": [
    "mean / len(watch_list)"
   ]
  },
  {
   "cell_type": "code",
   "execution_count": null,
   "metadata": {},
   "outputs": [],
   "source": [
    "durations"
   ]
  },
  {
   "cell_type": "code",
   "execution_count": null,
   "metadata": {},
   "outputs": [],
   "source": [
    "start, high"
   ]
  },
  {
   "cell_type": "code",
   "execution_count": null,
   "metadata": {},
   "outputs": [],
   "source": [
    "watch_list"
   ]
  },
  {
   "cell_type": "code",
   "execution_count": null,
   "metadata": {},
   "outputs": [],
   "source": [
    "prev_date = date - timedelta(days=1)\n",
    "prev_watch_list = update_watch_list(prev_date)"
   ]
  },
  {
   "cell_type": "code",
   "execution_count": null,
   "metadata": {},
   "outputs": [],
   "source": []
  }
 ],
 "metadata": {
  "kernelspec": {
   "display_name": ".venv",
   "language": "python",
   "name": "python3"
  },
  "language_info": {
   "codemirror_mode": {
    "name": "ipython",
    "version": 3
   },
   "file_extension": ".py",
   "mimetype": "text/x-python",
   "name": "python",
   "nbconvert_exporter": "python",
   "pygments_lexer": "ipython3",
   "version": "3.10.12"
  }
 },
 "nbformat": 4,
 "nbformat_minor": 2
}
