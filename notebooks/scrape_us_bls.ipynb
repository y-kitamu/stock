{
 "cells": [
  {
   "cell_type": "code",
   "execution_count": null,
   "id": "0",
   "metadata": {},
   "outputs": [],
   "source": [
    "import requests\n",
    "from fake_useragent import UserAgent\n",
    "from bs4 import BeautifulSoup"
   ]
  },
  {
   "cell_type": "code",
   "execution_count": null,
   "id": "1",
   "metadata": {},
   "outputs": [],
   "source": [
    "url = \"https://www.bls.gov/news.release/cpi.htm\"\n",
    "ua = UserAgent()\n",
    "header = {\n",
    "    'User-Agent': ua.chrome\n",
    "}\n",
    "\n",
    "r = requests.get(url, headers=header)"
   ]
  },
  {
   "cell_type": "code",
   "execution_count": null,
   "id": "2",
   "metadata": {},
   "outputs": [],
   "source": [
    "bs = BeautifulSoup(r.content, \"html.parser\")"
   ]
  },
  {
   "cell_type": "code",
   "execution_count": null,
   "id": "3",
   "metadata": {},
   "outputs": [],
   "source": [
    "import datetime\n",
    "\n",
    "update = bs.find(class_=\"update\")\n",
    "date = update.text.split(\":\")[1].strip()\n",
    "\n",
    "datetime.datetime.strptime(\"November 1, 2021\", \"%B %d, %Y\")"
   ]
  },
  {
   "cell_type": "code",
   "execution_count": null,
   "id": "4",
   "metadata": {},
   "outputs": [],
   "source": [
    "table1 = bs.find(id=\"cpipress1\")"
   ]
  },
  {
   "cell_type": "code",
   "execution_count": null,
   "id": "5",
   "metadata": {},
   "outputs": [],
   "source": [
    "type(table1)"
   ]
  },
  {
   "cell_type": "code",
   "execution_count": null,
   "id": "6",
   "metadata": {},
   "outputs": [],
   "source": [
    "table1.find(class_= \"tableTitle\").text"
   ]
  },
  {
   "cell_type": "markdown",
   "id": "7",
   "metadata": {},
   "source": [
    "## tableのrow, colを計算、headerを作成"
   ]
  },
  {
   "cell_type": "code",
   "execution_count": null,
   "id": "8",
   "metadata": {},
   "outputs": [],
   "source": [
    "thead = table1.find(\"thead\")\n",
    "max_row = 0\n",
    "max_col = 0\n",
    "header = [[]]\n",
    "for row, tr in enumerate(thead.find_all(\"tr\")):\n",
    "    max_row = max(row + 1, max_row)\n",
    "    offset = 0\n",
    "    for col, th in enumerate(tr.find_all(\"th\")):\n",
    "        rspan = 1\n",
    "        cspan = 1\n",
    "        if \"rowspan\" in th.attrs:\n",
    "            rspan = int(th[\"rowspan\"])\n",
    "        if \"colspan\" in th.attrs:\n",
    "            cspan = int(th[\"colspan\"])\n",
    "        max_col = max(col + offset + cspan, max_col)\n",
    "        max_row = max(row + rspan, max_row)\n",
    "        offset += cspan - 1\n",
    "        while not len(header) == max_row:\n",
    "            header.append([])\n",
    "        for r in range(row, row + rspan):\n",
    "            for _ in range(col + offset, col + offset + cspan):\n",
    "                header[r].append(th.text)"
   ]
  },
  {
   "cell_type": "markdown",
   "id": "9",
   "metadata": {},
   "source": [
    "## tableのbodyを読み込み"
   ]
  },
  {
   "cell_type": "code",
   "execution_count": null,
   "id": "10",
   "metadata": {},
   "outputs": [],
   "source": [
    "tbody = table1.find(\"tbody\")\n",
    "trows = tbody.find_all(\"tr\")\n",
    "data = []\n",
    "for row, tr in enumerate(trows):\n",
    "    data.append([\"\" for _ in range(max_col)])\n",
    "    if \"class\" in tr.attrs and tr[\"class\"][0] == \"sep\":\n",
    "        continue\n",
    "    th = tr.find(\"th\")\n",
    "    off = int(th.find(\"p\")[\"class\"][0].replace(\"sub\", \"\"))\n",
    "    data[row][0] = \" \" * off + th.text\n",
    "    offset = 0\n",
    "    for col, td in enumerate(tr.find_all(\"td\")):\n",
    "        colspan = 1\n",
    "        if \"colspan\" in td.attrs:\n",
    "            colspan = int(td[\"colspan\"])\n",
    "        for ci in range(col + offset, col + offset + colspan):\n",
    "            data[row][ci + 1] = td.text\n",
    "        offset += colspan - 1"
   ]
  },
  {
   "cell_type": "code",
   "execution_count": null,
   "id": "11",
   "metadata": {},
   "outputs": [],
   "source": [
    "type(thead)"
   ]
  },
  {
   "cell_type": "code",
   "execution_count": null,
   "id": "12",
   "metadata": {
    "tags": []
   },
   "outputs": [],
   "source": [
    "data"
   ]
  },
  {
   "cell_type": "code",
   "execution_count": null,
   "id": "13",
   "metadata": {},
   "outputs": [],
   "source": [
    "header + data"
   ]
  },
  {
   "cell_type": "code",
   "execution_count": null,
   "id": "14",
   "metadata": {},
   "outputs": [],
   "source": []
  }
 ],
 "metadata": {
  "kernelspec": {
   "display_name": "Python 3 (ipykernel)",
   "language": "python",
   "name": "python3"
  },
  "language_info": {
   "codemirror_mode": {
    "name": "ipython",
    "version": 3
   },
   "file_extension": ".py",
   "mimetype": "text/x-python",
   "name": "python",
   "nbconvert_exporter": "python",
   "pygments_lexer": "ipython3",
   "version": "3.8.10"
  }
 },
 "nbformat": 4,
 "nbformat_minor": 5
}
