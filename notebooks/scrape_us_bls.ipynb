{
 "cells": [
  {
   "cell_type": "code",
   "execution_count": null,
   "id": "872d07d2-4491-4edc-bbbb-9ae6523ea4ce",
   "metadata": {},
   "outputs": [],
   "source": [
    "import requests\n",
    "from fake_useragent import UserAgent\n",
    "from bs4 import BeautifulSoup"
   ]
  },
  {
   "cell_type": "code",
   "execution_count": null,
   "id": "f3a5e668-5ab1-474b-9737-9d14d17f0b38",
   "metadata": {},
   "outputs": [],
   "source": [
    "url = \"https://www.bls.gov/news.release/cpi.htm\"\n",
    "ua = UserAgent()\n",
    "header = {\n",
    "    'User-Agent': ua.chrome\n",
    "}\n",
    "\n",
    "r = requests.get(url, headers=header)"
   ]
  },
  {
   "cell_type": "code",
   "execution_count": null,
   "id": "1d6a228e-62fb-4fd2-9998-df2cbe03662e",
   "metadata": {},
   "outputs": [],
   "source": [
    "bs = BeautifulSoup(r.content, \"html.parser\")"
   ]
  },
  {
   "cell_type": "code",
   "execution_count": null,
   "id": "ccd27840-d3e8-4a68-9ffe-53abf63c05f4",
   "metadata": {},
   "outputs": [],
   "source": [
    "import datetime\n",
    "\n",
    "update = bs.find(class_=\"update\")\n",
    "date = update.text.split(\":\")[1].strip()\n",
    "\n",
    "datetime.datetime.strptime(\"November 1, 2021\", \"%B %d, %Y\")"
   ]
  },
  {
   "cell_type": "code",
   "execution_count": null,
   "id": "70d281c5-9ec1-4162-9186-473002e6e3cc",
   "metadata": {},
   "outputs": [],
   "source": [
    "table1 = bs.find(id=\"cpipress1\")"
   ]
  },
  {
   "cell_type": "code",
   "execution_count": null,
   "id": "500041ab-b57f-4eed-bced-939bb32651d3",
   "metadata": {},
   "outputs": [],
   "source": [
    "type(table1)"
   ]
  },
  {
   "cell_type": "code",
   "execution_count": null,
   "id": "17e653c4-5df1-43f6-bd9e-9e428267679b",
   "metadata": {},
   "outputs": [],
   "source": [
    "table1.find(class_= \"tableTitle\").text"
   ]
  },
  {
   "cell_type": "markdown",
   "id": "7869adc1-d0e1-443a-bfab-a1393c965be2",
   "metadata": {},
   "source": [
    "## tableのrow, colを計算、headerを作成"
   ]
  },
  {
   "cell_type": "code",
   "execution_count": null,
   "id": "b695198b-786a-4d4f-8e20-44ed7b011564",
   "metadata": {},
   "outputs": [],
   "source": [
    "thead = table1.find(\"thead\")\n",
    "max_row = 0\n",
    "max_col = 0\n",
    "header = [[]]\n",
    "for row, tr in enumerate(thead.find_all(\"tr\")):\n",
    "    max_row = max(row + 1, max_row)\n",
    "    offset = 0\n",
    "    for col, th in enumerate(tr.find_all(\"th\")):\n",
    "        rspan = 1\n",
    "        cspan = 1\n",
    "        if \"rowspan\" in th.attrs:\n",
    "            rspan = int(th[\"rowspan\"])\n",
    "        if \"colspan\" in th.attrs:\n",
    "            cspan = int(th[\"colspan\"])\n",
    "        max_col = max(col + offset + cspan, max_col)\n",
    "        max_row = max(row + rspan, max_row)\n",
    "        offset += cspan - 1\n",
    "        while not len(header) == max_row:\n",
    "            header.append([])\n",
    "        for r in range(row, row + rspan):\n",
    "            for _ in range(col + offset, col + offset + cspan):\n",
    "                header[r].append(th.text)"
   ]
  },
  {
   "cell_type": "markdown",
   "id": "90cbcfc1-b192-4318-b344-771d0b6581b3",
   "metadata": {},
   "source": [
    "## tableのbodyを読み込み"
   ]
  },
  {
   "cell_type": "code",
   "execution_count": null,
   "id": "26b3443a-cee9-4f76-974c-c2b4c1fa1232",
   "metadata": {},
   "outputs": [],
   "source": [
    "tbody = table1.find(\"tbody\")\n",
    "trows = tbody.find_all(\"tr\")\n",
    "data = []\n",
    "for row, tr in enumerate(trows):\n",
    "    data.append([\"\" for _ in range(max_col)])\n",
    "    if \"class\" in tr.attrs and tr[\"class\"][0] == \"sep\":\n",
    "        continue\n",
    "    th = tr.find(\"th\")\n",
    "    off = int(th.find(\"p\")[\"class\"][0].replace(\"sub\", \"\"))\n",
    "    data[row][0] = \" \" * off + th.text\n",
    "    offset = 0\n",
    "    for col, td in enumerate(tr.find_all(\"td\")):\n",
    "        colspan = 1\n",
    "        if \"colspan\" in td.attrs:\n",
    "            colspan = int(td[\"colspan\"])\n",
    "        for ci in range(col + offset, col + offset + colspan):\n",
    "            data[row][ci + 1] = td.text\n",
    "        offset += colspan - 1"
   ]
  },
  {
   "cell_type": "code",
   "execution_count": null,
   "id": "ffc393f7-22fd-4838-a255-d7d26e38ef28",
   "metadata": {},
   "outputs": [],
   "source": [
    "type(thead)"
   ]
  },
  {
   "cell_type": "code",
   "execution_count": null,
   "id": "881a37cf-619b-4adb-888a-a943ce0800ed",
   "metadata": {
    "tags": []
   },
   "outputs": [],
   "source": [
    "data"
   ]
  },
  {
   "cell_type": "code",
   "execution_count": null,
   "id": "33b963ed-2736-4909-91d0-fd387aefcfb8",
   "metadata": {},
   "outputs": [],
   "source": [
    "header + data"
   ]
  },
  {
   "cell_type": "code",
   "execution_count": null,
   "id": "9fc83e41-ec42-4b94-a7da-fd78e5236eae",
   "metadata": {},
   "outputs": [],
   "source": []
  }
 ],
 "metadata": {
  "kernelspec": {
   "display_name": "Python 3 (ipykernel)",
   "language": "python",
   "name": "python3"
  },
  "language_info": {
   "codemirror_mode": {
    "name": "ipython",
    "version": 3
   },
   "file_extension": ".py",
   "mimetype": "text/x-python",
   "name": "python",
   "nbconvert_exporter": "python",
   "pygments_lexer": "ipython3",
   "version": "3.8.10"
  }
 },
 "nbformat": 4,
 "nbformat_minor": 5
}
