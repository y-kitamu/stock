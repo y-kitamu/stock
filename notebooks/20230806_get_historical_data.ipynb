{
 "cells": [
  {
   "cell_type": "code",
   "execution_count": null,
   "metadata": {},
   "outputs": [],
   "source": [
    "import json\n",
    "from pathlib import Path\n",
    "import time\n",
    "import datetime\n",
    "\n",
    "import requests\n",
    "from fake_useragent import UserAgent\n",
    "import numpy as np\n",
    "from bs4 import BeautifulSoup\n",
    "from selenium import webdriver\n",
    "from selenium.webdriver.common.by import By\n",
    "from selenium.webdriver.common.keys import Keys\n",
    "from selenium.webdriver import ActionChains\n",
    "\n",
    "import stock\n",
    "\n",
    "ua = UserAgent()"
   ]
  },
  {
   "cell_type": "code",
   "execution_count": null,
   "metadata": {},
   "outputs": [],
   "source": [
    "def convert_to_number(text) -> int | float:\n",
    "    try:\n",
    "        text = text.replace(\"$\", \"\")\n",
    "        if \".\" in text:\n",
    "            return float(text)\n",
    "        else:\n",
    "            return int(text)\n",
    "    except:\n",
    "        #stock.logger.exception(\"Failed to convert to number : \\\"{}\\\"\".format(text))\n",
    "        return np.nan"
   ]
  },
  {
   "cell_type": "code",
   "execution_count": null,
   "metadata": {},
   "outputs": [],
   "source": [
    "def process_data(base_url, ticker, data_json):\n",
    "    target_suffix_and_keys = [\n",
    "        (\"eps-earnings-per-share-diluted\", \"Diluted EPS\"),\n",
    "        (\"revenue\", \"Total Revenue\"),\n",
    "        (\"gross-profit\", \"Gross Profit\"),\n",
    "        (\"operating-income\", \"Operating Income\"),\n",
    "        (\"ebitda\", \"EBIT\"),\n",
    "        (\"net-income\", \"Net Income\"),\n",
    "    ]\n",
    "\n",
    "    headers = {'User-Agent': str(ua.chrome)}\n",
    "    for (suffix, json_key) in target_suffix_and_keys:\n",
    "        # print(json_key)\n",
    "        url = base_url + suffix\n",
    "        res = requests.get(url, headers=headers)\n",
    "\n",
    "        bs4 = BeautifulSoup(res.content)\n",
    "        table = bs4.find_all(attrs={\"class\": \"historical_data_table\"})[1]\n",
    "        rows = table.find(\"tbody\").find_all(\"tr\")\n",
    "        for row in rows:\n",
    "            tds = row.find_all(\"td\")\n",
    "            quarterly_eps = convert_to_number(tds[1].text)\n",
    "            year_date = tds[0].text.rsplit(\"-\", 1)[0]\n",
    "            for key in data_json.keys():\n",
    "                #print(key, year_date)\n",
    "                if year_date in key:\n",
    "                    if json_key not in data_json[key]:\n",
    "                        data_json[key][json_key] = quarterly_eps\n",
    "                    #print(f\"data exsits : {year_date}\")\n",
    "                    break\n",
    "            else:\n",
    "                data_json[tds[0].text] = {\n",
    "                    json_key: quarterly_eps\n",
    "                }\n",
    "                \n",
    "        time.sleep(0.1)\n",
    "\n",
    "    return data_json"
   ]
  },
  {
   "cell_type": "code",
   "execution_count": null,
   "metadata": {},
   "outputs": [],
   "source": [
    "options = webdriver.ChromeOptions()\n",
    "options.add_argument(\"--enable-javascript\")\n",
    "options.add_experimental_option(\"detach\", True)\n",
    "driver = webdriver.Remote(\n",
    "    command_executor=\"http://localhost:4444/wd/hub\",\n",
    "    options=options\n",
    ")"
   ]
  },
  {
   "cell_type": "code",
   "execution_count": null,
   "metadata": {},
   "outputs": [],
   "source": [
    "stock_list_path = stock.DATA_DIR / \"us_stock_codes.csv\"\n",
    "\n",
    "with open(stock_list_path, \"r\") as f:\n",
    "    stock_list = [row.strip().split(\",\")[0] for row in f.readlines()[1:]]"
   ]
  },
  {
   "cell_type": "code",
   "execution_count": null,
   "metadata": {},
   "outputs": [],
   "source": [
    "candidate.find_element(By.TAG_NAME, \"a\")"
   ]
  },
  {
   "cell_type": "code",
   "execution_count": null,
   "metadata": {},
   "outputs": [],
   "source": [
    "base_url = \"https://www.macrotrends.net\"\n",
    "\n",
    "for ticker in stock_list[2:]:\n",
    "    try:\n",
    "        driver.get(\"https://www.macrotrends.net/stocks/research\")\n",
    "        input = driver.find_element(By.TAG_NAME, \"input\")\n",
    "        input.send_keys(ticker)\n",
    "        time.sleep(1)\n",
    "        candidate = driver.find_element(By.CLASS_NAME, \"typeahead__item\")\n",
    "        href = candidate.find_element(By.TAG_NAME, \"a\").get_attribute(\"href\")\n",
    "        url = href.rsplit(\"/\", 1)[0] + \"/\"\n",
    "\n",
    "        data_json_path = stock.DATA_DIR / \"codes\" / f\"{ticker}.json\"\n",
    "        with open(data_json_path, \"r\") as f:\n",
    "            data_json = json.load(f)\n",
    "\n",
    "        data_json = process_data(url, ticker, data_json)\n",
    "        \n",
    "        with open(data_json_path, \"w\") as f:\n",
    "            json.dump(data_json, f, indent=4)\n",
    "\n",
    "        stock.logger.info(f\"Success : {data_json_path}\")    \n",
    "    except KeyboardInterrupt:\n",
    "        pass\n",
    "    except:\n",
    "        stock.logger.exception(f\"Failed : {ticker}\")"
   ]
  },
  {
   "cell_type": "code",
   "execution_count": null,
   "metadata": {},
   "outputs": [],
   "source": []
  },
  {
   "cell_type": "code",
   "execution_count": null,
   "metadata": {},
   "outputs": [],
   "source": []
  },
  {
   "cell_type": "code",
   "execution_count": null,
   "metadata": {},
   "outputs": [],
   "source": []
  }
 ],
 "metadata": {
  "kernelspec": {
   "display_name": "Python 3.10.12 ('.venv': poetry)",
   "language": "python",
   "name": "python3"
  },
  "language_info": {
   "codemirror_mode": {
    "name": "ipython",
    "version": 3
   },
   "file_extension": ".py",
   "mimetype": "text/x-python",
   "name": "python",
   "nbconvert_exporter": "python",
   "pygments_lexer": "ipython3",
   "version": "3.10.12"
  },
  "vscode": {
   "interpreter": {
    "hash": "0925d657e30d00cf1a4f19c1b7a91cf3b3559e9055505eaa2fd1b9771cefd6bc"
   }
  }
 },
 "nbformat": 4,
 "nbformat_minor": 2
}
