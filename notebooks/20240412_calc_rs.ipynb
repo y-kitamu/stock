{
 "cells": [
  {
   "cell_type": "code",
   "execution_count": null,
   "metadata": {},
   "outputs": [],
   "source": [
    "from pathlib import Path\n",
    "from datetime import datetime, timedelta\n",
    "\n",
    "import polars as pl\n",
    "\n",
    "import stock"
   ]
  },
  {
   "cell_type": "code",
   "execution_count": null,
   "metadata": {},
   "outputs": [],
   "source": [
    "csv_dir = stock.PROJECT_ROOT / \"data\" / \"daily\"\n",
    "csv_list = sorted(csv_dir.glob(\"*.csv\"))[2:]\n",
    "\n",
    "nikkei_df = stock.kabutan.read_data_csv(csv_dir / \"0000.csv\", exclude_none=False)\n",
    "topix_df = stock.kabutan.read_data_csv(csv_dir / \"0010.csv\", exclude_none=False)"
   ]
  },
  {
   "cell_type": "code",
   "execution_count": null,
   "metadata": {},
   "outputs": [],
   "source": [
    "def calc_relative_strength(df: pl.DataFrame, ref_df: pl.DataFrame, end: pl.Series):\n",
    "    start = end - timedelta(days=365)\n",
    "    if start < df[\"date\"][0]:\n",
    "        return -1.0\n",
    "    df = df.filter(pl.col(\"volume\").is_not_nan().is_not_null() & (pl.col(\"volume\") > 0))\n",
    "    df = df.filter((start < pl.col(\"date\")) & (pl.col(\"date\") <= end))\n",
    "    ref_df = ref_df.filter((start < pl.col(\"date\")) & (pl.col(\"date\") <= end))\n",
    "    if len(df) != len(ref_df):\n",
    "        return -1.0\n",
    "    \n",
    "    return stock.relative_strength.relative_strength(\n",
    "        df[\"close\"].to_numpy(), ref_df[\"close\"].to_numpy()\n",
    "    )"
   ]
  },
  {
   "cell_type": "code",
   "execution_count": null,
   "metadata": {},
   "outputs": [],
   "source": [
    "for csv_path in csv_list:\n",
    "    df = stock.kabutan.read_data_csv(csv_path, exclude_none=False)\n",
    "    new_df = df.with_columns(\n",
    "        pl.col(\"date\").map_elements(lambda date : calc_relative_strength(df, nikkei_df, date), return_dtype=pl.Float64).alias(\"rs_nikkei\"),\n",
    "        pl.col(\"date\").map_elements(lambda date : calc_relative_strength(df, topix_df, date), return_dtype=pl.Float64).alias(\"rs_topix\")\n",
    "    )"
   ]
  },
  {
   "cell_type": "code",
   "execution_count": null,
   "metadata": {},
   "outputs": [],
   "source": []
  }
 ],
 "metadata": {
  "kernelspec": {
   "display_name": ".venv",
   "language": "python",
   "name": "python3"
  },
  "language_info": {
   "codemirror_mode": {
    "name": "ipython",
    "version": 3
   },
   "file_extension": ".py",
   "mimetype": "text/x-python",
   "name": "python",
   "nbconvert_exporter": "python",
   "pygments_lexer": "ipython3",
   "version": "3.10.12"
  }
 },
 "nbformat": 4,
 "nbformat_minor": 2
}
