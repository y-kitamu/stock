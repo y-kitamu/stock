{
 "cells": [
  {
   "cell_type": "code",
   "execution_count": null,
   "metadata": {},
   "outputs": [],
   "source": [
    "import datetime\n",
    "from pathlib import Path\n",
    "import csv\n",
    "import asyncio\n",
    "\n",
    "import xlwings as xw\n",
    "\n",
    "import stock\n",
    "import stock.marketspeed.constants as mc"
   ]
  },
  {
   "cell_type": "code",
   "execution_count": null,
   "metadata": {},
   "outputs": [],
   "source": [
    "excel_path = stock.constants.PROJECT_ROOT / \"data/rss_data_collection_workbook.xlsx\"\n",
    "code_list_csv = stock.constants.PROJECT_ROOT / \"data/margin_trade_target_list.csv\"\n",
    "output_dir = Path(r\"G:\\マイドライブ\\stock\\data\")\n",
    "\n",
    "wb = xw.Book(excel_path)\n",
    "sheet = wb.sheets[0]\n",
    "\n",
    "with open(code_list_csv, \"r\", encoding=\"utf-8\") as f:\n",
    "    csv_reader = csv.reader(f)\n",
    "    header = next(csv_reader)\n",
    "    codes = [row[0] for row in csv_reader]"
   ]
  },
  {
   "cell_type": "code",
   "execution_count": null,
   "metadata": {},
   "outputs": [],
   "source": [
    "async def collect_data(sheet: xw.Sheet, code: str, output_dir: Path, count: int = 5 * 60 + 2):\n",
    "    sheet.range(\"A1\").value = f\"=RssChart(,\\\"{code}.T\\\",\\\"1M\\\",{count})\"\n",
    "    await asyncio.sleep(1)\n",
    "    values = sheet[f\"D3:J{3 + count - 1}\"].options(ndim=2).value\n",
    "\n",
    "    timestamp = values[0][0].replace(\"/\", \"\")\n",
    "    output_path = output_dir / f\"{timestamp}_{code}.csv\"\n",
    "    with open(output_path, \"w\", encoding=\"utf-8\", newline=\"\") as f:\n",
    "        writer = csv.writer(f)\n",
    "        writer.writerow([\"day\", \"time\", \"open\", \"high\", \"low\", \"close\", \"volume\"])\n",
    "        writer.writerows(values)\n",
    "\n",
    "    return output_path"
   ]
  },
  {
   "cell_type": "code",
   "execution_count": null,
   "metadata": {},
   "outputs": [],
   "source": [
    "for code in codes:\n",
    "    output_path = await collect_data(sheet, code, output_dir)\n",
    "    print(output_path)"
   ]
  },
  {
   "cell_type": "code",
   "execution_count": null,
   "metadata": {},
   "outputs": [],
   "source": []
  }
 ],
 "metadata": {
  "kernelspec": {
   "display_name": "Python 3.10.6 ('.venv': poetry)",
   "language": "python",
   "name": "python3"
  },
  "language_info": {
   "codemirror_mode": {
    "name": "ipython",
    "version": 3
   },
   "file_extension": ".py",
   "mimetype": "text/x-python",
   "name": "python",
   "nbconvert_exporter": "python",
   "pygments_lexer": "ipython3",
   "version": "3.10.6"
  },
  "vscode": {
   "interpreter": {
    "hash": "0925d657e30d00cf1a4f19c1b7a91cf3b3559e9055505eaa2fd1b9771cefd6bc"
   }
  }
 },
 "nbformat": 4,
 "nbformat_minor": 2
}
