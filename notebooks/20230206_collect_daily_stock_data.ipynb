{
 "cells": [
  {
   "cell_type": "code",
   "execution_count": 16,
   "metadata": {},
   "outputs": [],
   "source": [
    "import datetime\n",
    "from pathlib import Path\n",
    "import csv\n",
    "import asyncio\n",
    "\n",
    "import xlwings as xw\n",
    "\n",
    "import stock\n",
    "import stock.marketspeed.constants as mc"
   ]
  },
  {
   "cell_type": "code",
   "execution_count": 36,
   "metadata": {},
   "outputs": [],
   "source": [
    "excel_path = stock.constants.PROJECT_ROOT / \"data/rss_data_collection_workbook.xlsx\"\n",
    "code_list_csv = stock.constants.PROJECT_ROOT / \"data/margin_trade_target_list.csv\"\n",
    "output_dir = Path(r\"G:\\マイドライブ\\stock\\data\")\n",
    "\n",
    "wb = xw.Book(excel_path)\n",
    "sheet = wb.sheets[0]\n",
    "\n",
    "with open(code_list_csv, \"r\", encoding=\"utf-8\") as f:\n",
    "    csv_reader = csv.reader(f)\n",
    "    header = next(csv_reader)\n",
    "    codes = [row[0] for row in csv_reader]"
   ]
  },
  {
   "cell_type": "code",
   "execution_count": 34,
   "metadata": {},
   "outputs": [],
   "source": [
    "async def collect_data(sheet: xw.Sheet, code: str, output_dir: Path, count: int = 5 * 60 + 2):\n",
    "    sheet.range(\"A1\").value = f\"=RssChart(,\\\"{code}.T\\\",\\\"1M\\\",{count})\"\n",
    "    await asyncio.sleep(1)\n",
    "    values = sheet[f\"D3:J{3 + count - 1}\"].options(ndim=2).value\n",
    "\n",
    "    timestamp = values[0][0].replace(\"/\", \"\")\n",
    "    output_path = output_dir / f\"{timestamp}_{code}.csv\"\n",
    "    with open(output_path, \"w\", encoding=\"utf-8\", newline=\"\") as f:\n",
    "        writer = csv.writer(f)\n",
    "        writer.writerow([\"day\", \"time\", \"open\", \"high\", \"low\", \"close\", \"volume\"])\n",
    "        writer.writerows(values)\n",
    "\n",
    "    return output_path"
   ]
  },
  {
   "cell_type": "code",
   "execution_count": 37,
   "metadata": {},
   "outputs": [
    {
     "name": "stdout",
     "output_type": "stream",
     "text": [
      "G:\\マイドライブ\\stock\\data\\20230206_6920.csv\n",
      "G:\\マイドライブ\\stock\\data\\20230206_8306.csv\n",
      "G:\\マイドライブ\\stock\\data\\20230206_4689.csv\n",
      "G:\\マイドライブ\\stock\\data\\20230206_8002.csv\n",
      "G:\\マイドライブ\\stock\\data\\20230206_9107.csv\n",
      "G:\\マイドライブ\\stock\\data\\20230206_9101.csv\n",
      "G:\\マイドライブ\\stock\\data\\20230206_9201.csv\n",
      "G:\\マイドライブ\\stock\\data\\20230206_6981.csv\n",
      "G:\\マイドライブ\\stock\\data\\20230206_8308.csv\n",
      "G:\\マイドライブ\\stock\\data\\20230206_4385.csv\n",
      "G:\\マイドライブ\\stock\\data\\20230206_9202.csv\n",
      "G:\\マイドライブ\\stock\\data\\20230206_8316.csv\n",
      "G:\\マイドライブ\\stock\\data\\20230206_8031.csv\n",
      "G:\\マイドライブ\\stock\\data\\20230206_9984.csv\n",
      "G:\\マイドライブ\\stock\\data\\20230206_6758.csv\n",
      "G:\\マイドライブ\\stock\\data\\20230206_5401.csv\n",
      "G:\\マイドライブ\\stock\\data\\20230206_8411.csv\n",
      "G:\\マイドライブ\\stock\\data\\20230206_8604.csv\n",
      "G:\\マイドライブ\\stock\\data\\20230206_6902.csv\n",
      "G:\\マイドライブ\\stock\\data\\20230206_8058.csv\n",
      "G:\\マイドライブ\\stock\\data\\20230206_6501.csv\n",
      "G:\\マイドライブ\\stock\\data\\20230206_3064.csv\n",
      "G:\\マイドライブ\\stock\\data\\20230206_7733.csv\n",
      "G:\\マイドライブ\\stock\\data\\20230206_6752.csv\n",
      "G:\\マイドライブ\\stock\\data\\20230206_6098.csv\n",
      "G:\\マイドライブ\\stock\\data\\20230206_8001.csv\n",
      "G:\\マイドライブ\\stock\\data\\20230206_4502.csv\n"
     ]
    }
   ],
   "source": [
    "for code in codes:\n",
    "    output_path = await collect_data(sheet, code, output_dir)\n",
    "    print(output_path)"
   ]
  },
  {
   "cell_type": "code",
   "execution_count": null,
   "metadata": {},
   "outputs": [],
   "source": []
  }
 ],
 "metadata": {
  "kernelspec": {
   "display_name": "stock-KAjeMbA1-py3.11",
   "language": "python",
   "name": "python3"
  },
  "language_info": {
   "codemirror_mode": {
    "name": "ipython",
    "version": 3
   },
   "file_extension": ".py",
   "mimetype": "text/x-python",
   "name": "python",
   "nbconvert_exporter": "python",
   "pygments_lexer": "ipython3",
   "version": "3.11.1"
  },
  "orig_nbformat": 4,
  "vscode": {
   "interpreter": {
    "hash": "c2129137bca07ecf69a57b2bc4613c1be45a4ba2bd56b99ff1e3fe91ec2962bf"
   }
  }
 },
 "nbformat": 4,
 "nbformat_minor": 2
}
