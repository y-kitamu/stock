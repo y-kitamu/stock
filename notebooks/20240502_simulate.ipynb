{
 "cells": [
  {
   "cell_type": "code",
   "execution_count": null,
   "metadata": {},
   "outputs": [],
   "source": [
    "import datetime\n",
    "\n",
    "import numpy as np\n",
    "import polars as pl\n",
    "import matplotlib.pyplot as plt\n",
    "from tqdm import tqdm\n",
    "\n",
    "import stock"
   ]
  },
  {
   "cell_type": "code",
   "execution_count": null,
   "metadata": {},
   "outputs": [],
   "source": [
    "def plot_with_rs(df, start_date, end_date=datetime.datetime.today()):\n",
    "    fig = plt.figure()\n",
    "    df = df.filter((pl.col(\"date\") >= start_date) & (pl.col(\"date\") <= end_date))\n",
    "    ax1 = fig.add_subplot(111)\n",
    "    ax1.plot(df[\"date\"], df[\"close\"], \"red\", label=\"close\")\n",
    "\n",
    "    ax2 = ax1.twinx()\n",
    "    ax2.plot(df[\"date\"], df[\"rs\"], \"blue\", label=\"rs\")\n",
    "    ax2.grid(\"both\")\n",
    "    ax2.tick_params(axis='x', labelrotation=90)\n",
    "\n",
    "    plt.legend()"
   ]
  },
  {
   "cell_type": "code",
   "execution_count": null,
   "metadata": {},
   "outputs": [],
   "source": [
    "def read_csv(csv_path):\n",
    "    df = pl.read_csv(csv_path)\n",
    "    columns = [\n",
    "        pl.col(\"date\").str.to_datetime(\"%Y/%m/%d\").cast(pl.Date),\n",
    "        pl.col(\"open\").cast(pl.Float64),\n",
    "        pl.col(\"high\").cast(pl.Float64),\n",
    "        pl.col(\"low\").cast(pl.Float64),\n",
    "        pl.col(\"close\").cast(pl.Float64),\n",
    "        pl.col(\"volume\").cast(pl.Int64),\n",
    "        pl.col(\"rs_nikkei\").cast(pl.Float64),\n",
    "        pl.col(\"rs_topix\").cast(pl.Float64),\n",
    "    ]\n",
    "    df = df.select(columns)\n",
    "    return df\n",
    "\n",
    "csv_dir = stock.PROJECT_ROOT / \"data\" / \"daily\""
   ]
  },
  {
   "cell_type": "code",
   "execution_count": null,
   "metadata": {},
   "outputs": [],
   "source": [
    "code =\"4463\"\n",
    "date = datetime.datetime(year=2024, month=5, day=1).date()\n",
    "start_date = date - datetime.timedelta(days=365)\n",
    "\n",
    "csv_path = csv_dir / f\"{code}.csv\"\n",
    "df = stock.kabutan.read_data_csv(csv_path)\n",
    "ref_df = stock.kabutan.read_data_csv(csv_dir / \"0010.csv\", exclude_none=False)   # topix\n",
    "#rs = relative_strength(df, ref_df, start_date=start_date, end_date=date)"
   ]
  },
  {
   "cell_type": "code",
   "execution_count": null,
   "metadata": {},
   "outputs": [],
   "source": [
    "def calc_rs(dates, days=30):\n",
    "    min_date = df[\"date\"].min()\n",
    "    res = -np.ones(len(dates))\n",
    "    for idx, date in enumerate(sorted(dates)):\n",
    "        start_date = date - datetime.timedelta(days=days)\n",
    "        if start_date < min_date:\n",
    "            continue\n",
    "        res[idx] = stock.relative_strength.relative_strength_v2(df, ref_df, start_date=start_date, end_date=date)\n",
    "    return pl.Series(res)"
   ]
  },
  {
   "cell_type": "code",
   "execution_count": null,
   "metadata": {},
   "outputs": [],
   "source": [
    "ref_df = stock.kabutan.read_data_csv(csv_dir / \"0010.csv\", exclude_none=False)   # topix\n",
    "for csv_path in tqdm(sorted(csv_dir.glob(\"*.csv\"))):\n",
    "    df = stock.kabutan.read_data_csv(csv_path, exclude_none=True)\n",
    "    df = df.with_columns(pl.col(\"date\").map_batches(calc_rs).alias(\"rs\"))\n",
    "    stock.kabutan.write_data_csv(df, csv_path)"
   ]
  },
  {
   "cell_type": "code",
   "execution_count": null,
   "metadata": {},
   "outputs": [],
   "source": [
    "csv_path = csv_dir / \"0000.csv\"\n",
    "df = read_csv(csv_path)   # topix\n",
    "df = df.with_columns(pl.col(\"date\").map_batches(calc_rs).alias(\"rs\"))\n",
    "ref_df = df\n",
    "stock.kabutan.write_data_csv(df, csv_path)"
   ]
  },
  {
   "cell_type": "code",
   "execution_count": null,
   "metadata": {},
   "outputs": [],
   "source": []
  }
 ],
 "metadata": {
  "kernelspec": {
   "display_name": ".venv",
   "language": "python",
   "name": "python3"
  },
  "language_info": {
   "codemirror_mode": {
    "name": "ipython",
    "version": 3
   },
   "file_extension": ".py",
   "mimetype": "text/x-python",
   "name": "python",
   "nbconvert_exporter": "python",
   "pygments_lexer": "ipython3",
   "version": "3.10.12"
  }
 },
 "nbformat": 4,
 "nbformat_minor": 2
}
