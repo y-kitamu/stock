{
 "cells": [
  {
   "cell_type": "code",
   "execution_count": 22,
   "metadata": {},
   "outputs": [],
   "source": [
    "from pathlib import Path\n",
    "\n",
    "import xlwings as xw\n",
    "\n",
    "import stock\n",
    "import stock.marketspeed.constants as mc"
   ]
  },
  {
   "cell_type": "code",
   "execution_count": 20,
   "metadata": {},
   "outputs": [],
   "source": [
    "excel_path = Path(\"./tmp/test_xlwings.xlsx\")\n",
    "\n",
    "wb = xw.Book(excel_path)\n",
    "sheet = wb.sheets[0]"
   ]
  },
  {
   "cell_type": "code",
   "execution_count": 24,
   "metadata": {},
   "outputs": [],
   "source": [
    "unique_id = 20\n",
    "order = stock.marketspeed.RssStockOrder(\n",
    "    unique_id=unique_id,\n",
    "    trigger=mc.OrderTrigger.Order,\n",
    "    code=1305,\n",
    "    market=mc.Market.TOSHO,\n",
    "    trading_type=mc.TradingType.Buy,\n",
    "    order_type=mc.OrderType.Normal,\n",
    "    sor_type=mc.SORType.SOR,\n",
    "    quantity=10,\n",
    "    price_type=mc.PriceType.Limit,\n",
    "    price=2000,\n",
    "    order_condition=mc.OrderCondition.Today,\n",
    "    account_type=mc.AccountType.Specific,\n",
    ")"
   ]
  },
  {
   "cell_type": "code",
   "execution_count": 29,
   "metadata": {},
   "outputs": [],
   "source": [
    "unique_id += 1\n",
    "order_number = sheet.range(\"A15\").value\n",
    "cancel_order = stock.marketspeed.RssCancelOrder(\n",
    "    unique_id=unique_id,\n",
    "    trigger=mc.OrderTrigger.Order,\n",
    "    order_number=order_number\n",
    ")"
   ]
  },
  {
   "cell_type": "code",
   "execution_count": 21,
   "metadata": {},
   "outputs": [],
   "source": [
    "sheet.range(\"A11\").value = \"=RssOrderList()\""
   ]
  },
  {
   "cell_type": "code",
   "execution_count": 26,
   "metadata": {},
   "outputs": [],
   "source": [
    "sheet.range(\"A8\").value = order.get_formula_str()\n"
   ]
  },
  {
   "cell_type": "code",
   "execution_count": 30,
   "metadata": {},
   "outputs": [],
   "source": [
    "sheet.range(\"A9\").value = cancel_order.get_formula_str()"
   ]
  },
  {
   "cell_type": "code",
   "execution_count": null,
   "metadata": {},
   "outputs": [],
   "source": []
  }
 ],
 "metadata": {
  "kernelspec": {
   "display_name": "stock-KAjeMbA1-py3.11",
   "language": "python",
   "name": "python3"
  },
  "language_info": {
   "codemirror_mode": {
    "name": "ipython",
    "version": 3
   },
   "file_extension": ".py",
   "mimetype": "text/x-python",
   "name": "python",
   "nbconvert_exporter": "python",
   "pygments_lexer": "ipython3",
   "version": "3.11.1"
  },
  "orig_nbformat": 4,
  "vscode": {
   "interpreter": {
    "hash": "c2129137bca07ecf69a57b2bc4613c1be45a4ba2bd56b99ff1e3fe91ec2962bf"
   }
  }
 },
 "nbformat": 4,
 "nbformat_minor": 2
}
