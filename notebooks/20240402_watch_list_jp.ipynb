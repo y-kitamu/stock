{
 "cells": [
  {
   "cell_type": "code",
   "execution_count": null,
   "metadata": {},
   "outputs": [],
   "source": [
    "from pathlib import Path\n",
    "import datetime\n",
    "import csv\n",
    "\n",
    "import numpy as np\n",
    "#import pandas as pd\n",
    "import polars as pl\n",
    "\n",
    "import stock\n",
    "from stock.kabutan.financial import FinancialStatement"
   ]
  },
  {
   "cell_type": "code",
   "execution_count": null,
   "metadata": {},
   "outputs": [],
   "source": [
    "csv_dir = stock.PROJECT_ROOT / \"data\" /\"financial\"\n",
    "csv_list = sorted(csv_dir.glob(\"*.csv\"))"
   ]
  },
  {
   "cell_type": "code",
   "execution_count": null,
   "metadata": {},
   "outputs": [],
   "source": [
    "def calc_mean_average(array: np.ndarray, days: int):\n",
    "    \"\"\"\n",
    "    \"\"\"\n",
    "    mean_average = np.convolve(array, np.ones(days), mode=\"valid\") / days\n",
    "    return mean_average\n",
    "\n",
    "def check_growing(\n",
    "        q_data: list[FinancialStatement], \n",
    "        key: str, \n",
    "        min_growth_rate: float, \n",
    "        min_duration: int, \n",
    "        current_date: datetime.datetime = datetime.datetime.today(),\n",
    "        num_average: int = 1\n",
    "        ):\n",
    "    \"\"\"\n",
    "    Args:\n",
    "        q_data (List[FinancialStatement]) : quarterly data\n",
    "    \"\"\"\n",
    "    assert num_average > 0, \"num_average must be greater than 0.\"\n",
    "    target_data = sorted([d for d in q_data if d.announce_date is not None and d.announce_date < current_date])[::-1]\n",
    "    if len(target_data) < min_duration + 1 + num_average - 1:\n",
    "        return False\n",
    "    \n",
    "    def check_is_last_year_data(cur_data: FinancialStatement, prev_data: FinancialStatement):\n",
    "        is_last_year = prev_data.year == cur_data.year - 1\n",
    "        is_last_year &= prev_data.month == cur_data.month\n",
    "        is_last_year &= prev_data.duration == cur_data.duration\n",
    "        is_last_year &= prev_data.is_prediction == False\n",
    "        return is_last_year\n",
    "    \n",
    "    is_growing = True\n",
    "    for i in range(min_duration):\n",
    "        cur_data = target_data[i:i + num_average]\n",
    "        prev_data = [next((d for d in target_data if check_is_last_year_data(data, d)), None) for data in cur_data]\n",
    "        if any([d is None for d in prev_data]):\n",
    "            is_growing = False\n",
    "            break\n",
    "\n",
    "        if any([d.__dict__[key] is None for d in cur_data])  or any([d.__dict__[key] is None for d in prev_data]):\n",
    "            is_growing = False\n",
    "            break\n",
    "        \n",
    "        cur_val = sum([d.__dict__[key] for d in cur_data])\n",
    "        prev_val = sum([d.__dict__[key] for d in prev_data])\n",
    "        if prev_val > -1e-5:\n",
    "            is_growing &= cur_val / (prev_val + 1e-5) > (1.0 + min_growth_rate)\n",
    "        else:\n",
    "            is_growing &= cur_val / (prev_val - 1e-5) < 0\n",
    "        if not is_growing:\n",
    "            break\n",
    "    return is_growing"
   ]
  },
  {
   "cell_type": "code",
   "execution_count": null,
   "metadata": {},
   "outputs": [],
   "source": [
    "growing_list = []\n",
    "for csv_path in csv_list:\n",
    "    data = stock.kabutan.read_financial_csv(csv_path)\n",
    "    quarterly_data = [d for d in data if d.duration == 3]\n",
    "    yearly_data = [d for d in data if d.duration == 12]\n",
    "\n",
    "    if check_growing(quarterly_data, \"eps\", 0.2, 2) or check_growing(quarterly_data, \"eps\", 0.2, 2, num_average=2):\n",
    "        growing_list.append(csv_path)"
   ]
  },
  {
   "cell_type": "code",
   "execution_count": null,
   "metadata": {},
   "outputs": [],
   "source": [
    "# def check_trend_template(code: str, current_date: datetime.datetime = datetime.datetime.today()):\n",
    "code = \"1301\"\n",
    "current_date = datetime.datetime.today()\n",
    "\n",
    "daily_csv_path = stock.PROJECT_ROOT / \"data\" / \"daily\" / f\"{code}.csv\"\n",
    "financial_csv_path = stock.PROJECT_ROOT / \"data\" / \"financial\" / f\"{code}.csv\"\n",
    "\n",
    "df = pl.read_csv(daily_csv_path)\n",
    "df = df.sort(\"date\")\n",
    "\n",
    "days = 10\n",
    "close_values = df.get_column(\"close\").to_numpy()\n",
    "avg200 = calc_mean_average(close_values[-200 - days:], days=200)\n",
    "avg150 = calc_mean_average(close_values[-150 - days:], days=150)\n",
    "avg50 = calc_mean_average(close_values[-50 - days:], days=50)\n",
    "\n",
    "prev_date = current_date - datetime.timedelta(days=365)\n",
    "datetime_series = df.get_column(\"date\").str.to_datetime(\"%Y/%m/%d\")\n",
    "wk52_data = df.filter(prev_date < datetime_series & datetime_series <= current_date)\n",
    "wk52_close = wk52_data.close.to_numpy()\n",
    "\n",
    "flag = True\n",
    "# 株価が150日移動平均線と200日移動平均線を上回っている\n",
    "flag &= np.all(close_values[-days:] > avg200) and np.all(close_values[-days:] > avg150)\n",
    "# 150日移動平均線が200日移動平均線を上回っている\n",
    "flag &= np.all(avg150 > avg200)\n",
    "# 200日移動平均線が上向き\n",
    "flag &= np.all(avg200[1:] - avg200[:-1] > 0) \n",
    "# 52週安値から少なくとも30%高い\n",
    "flag &= wk52_close.min() * 1.3 < wk52_close[-1]\n",
    "# 52週高値から少なくとも25%以内にある\n",
    "flag &= wk52_close.max() * 0.75 < wk52_close[-1]\n",
    "\n",
    "# return flag"
   ]
  },
  {
   "cell_type": "code",
   "execution_count": null,
   "metadata": {},
   "outputs": [],
   "source": []
  },
  {
   "cell_type": "code",
   "execution_count": null,
   "metadata": {},
   "outputs": [],
   "source": []
  },
  {
   "cell_type": "code",
   "execution_count": null,
   "metadata": {},
   "outputs": [],
   "source": [
    "len(growing_list)"
   ]
  },
  {
   "cell_type": "code",
   "execution_count": null,
   "metadata": {},
   "outputs": [],
   "source": [
    "check_growing(quarterly_data, \"eps\", -10.0, 16, num_average=3)"
   ]
  },
  {
   "cell_type": "code",
   "execution_count": null,
   "metadata": {},
   "outputs": [],
   "source": []
  }
 ],
 "metadata": {
  "kernelspec": {
   "display_name": ".venv",
   "language": "python",
   "name": "python3"
  },
  "language_info": {
   "codemirror_mode": {
    "name": "ipython",
    "version": 3
   },
   "file_extension": ".py",
   "mimetype": "text/x-python",
   "name": "python",
   "nbconvert_exporter": "python",
   "pygments_lexer": "ipython3",
   "version": "3.10.12"
  }
 },
 "nbformat": 4,
 "nbformat_minor": 2
}
