{
 "cells": [
  {
   "cell_type": "code",
   "execution_count": null,
   "metadata": {},
   "outputs": [],
   "source": [
    "from pathlib import Path\n",
    "from datetime import datetime, timedelta\n",
    "\n",
    "import polars as pl\n",
    "\n",
    "import stock"
   ]
  },
  {
   "cell_type": "code",
   "execution_count": null,
   "metadata": {},
   "outputs": [],
   "source": [
    "csv_dir = stock.PROJECT_ROOT / \"data\" / \"daily\"\n",
    "csv_list = sorted(csv_dir.glob(\"*.csv\"))"
   ]
  },
  {
   "cell_type": "code",
   "execution_count": null,
   "metadata": {},
   "outputs": [],
   "source": [
    "nikkei_df = stock.kabutan.read_data_csv(csv_list[0], exclude_none=False)\n",
    "topix_df = stock.kabutan.read_data_csv(csv_list[1], exclude_none=False)\n",
    "df = stock.kabutan.read_data_csv(csv_dir / \"6254.csv\", exclude_none=False)"
   ]
  },
  {
   "cell_type": "code",
   "execution_count": null,
   "metadata": {},
   "outputs": [],
   "source": [
    "def calc_relative_strength(target_df: pl.DataFrame, reference_df: pl.DataFrame, start_date: datetime, end_date: datetime):\n",
    "    target_df = target_df.filter((start_date < pl.col(\"date\")) & (pl.col(\"date\") <= end_date))\n",
    "    reference_df = reference_df.filter((start_date < pl.col(\"date\")) & (pl.col(\"date\") <= end_date))\n",
    "\n",
    "    if len(target_df) != len(reference_df):\n",
    "        return -1\n",
    "    \n",
    "    return stock.relative_strength.relative_strength(target_df[\"close\"].to_numpy(), reference_df[\"close\"].to_numpy())"
   ]
  },
  {
   "cell_type": "code",
   "execution_count": null,
   "metadata": {},
   "outputs": [],
   "source": [
    "df.filter((start_date < pl.col(\"date\")) & (pl.col(\"date\") <= end_date))\n",
    "\n",
    "for i in range(len(nikkei_df)):\n",
    "    date = nikkei_df[\"date\"][i]\n",
    "    if len(df.filter(pl.col(\"date\") == date)) == 0:\n",
    "        print(f\"Data not found : {date}\")"
   ]
  },
  {
   "cell_type": "code",
   "execution_count": null,
   "metadata": {},
   "outputs": [],
   "source": [
    "cur_date = datetime.today()\n",
    "start_date  = cur_date - timedelta(days=365)\n",
    "end_date = cur_date\n",
    "\n",
    "results = []\n",
    "for csv_path in csv_list:\n",
    "    df = stock.kabutan.read_data_csv(csv_path, exclude_none=True)\n",
    "    results.append([csv_path.stem, calc_relative_strength(df, topix_df, start_date, end_date)])"
   ]
  },
  {
   "cell_type": "code",
   "execution_count": null,
   "metadata": {},
   "outputs": [],
   "source": [
    "valid_res = [res for res in results if res[1] > 0]\n",
    "sorted_res = sorted(valid_res, key=lambda x: x[1])[::-1]\n",
    "target_codes = [res[0] for res in sorted_res if res[1] > 105]"
   ]
  },
  {
   "cell_type": "code",
   "execution_count": null,
   "metadata": {},
   "outputs": [],
   "source": []
  },
  {
   "cell_type": "code",
   "execution_count": null,
   "metadata": {},
   "outputs": [],
   "source": [
    "# code = \"4687\"\n",
    "# date = datetime.strptime(\"24/03/28\", \"%y/%m/%d\")\n",
    "# rate = 2\n",
    "\n",
    "def divide_stock(code: str, date: datetime, rate: float):\n",
    "    csv_path = stock.PROJECT_ROOT / \"data\" / \"daily\" / f\"{code}.csv\"\n",
    "    df = stock.kabutan.read_data_csv(csv_path, exclude_none=False)\n",
    "    def _get_expression(key: str, date: datetime, rate):\n",
    "        return pl.when(pl.col(\"date\") < date).then(pl.col(key) / rate).otherwise(pl.col(key))\n",
    "\n",
    "    target_df = df.with_columns(\n",
    "        pl.col(\"date\").dt.strftime(\"%Y/%m/%d\"),\n",
    "        _get_expression(\"open\", date, rate),\n",
    "        _get_expression(\"high\", date, rate),\n",
    "        _get_expression(\"low\", date, rate),\n",
    "        _get_expression(\"close\", date, rate),\n",
    "        _get_expression(\"volume\", date, 1.0 / rate),\n",
    "    )\n",
    "    target_df.write_csv(csv_path)"
   ]
  },
  {
   "cell_type": "code",
   "execution_count": null,
   "metadata": {},
   "outputs": [],
   "source": [
    "divide_stock(\"2652\", datetime(year=2024, month=3, day=23), rate=0.2)"
   ]
  },
  {
   "cell_type": "code",
   "execution_count": null,
   "metadata": {},
   "outputs": [],
   "source": [
    "for row in targets:\n",
    "    date = datetime.strptime(row[0], \"%y/%m/%d\")\n",
    "    code = row[1].split(\" \")[1]\n",
    "    splits = row[3].split(\" \")\n",
    "    rate = float(splits[-1]) / float(splits[1])\n",
    "    print(date, code, rate, row[3])\n",
    "    divide_stock(code, date, rate)"
   ]
  },
  {
   "cell_type": "code",
   "execution_count": null,
   "metadata": {},
   "outputs": [],
   "source": [
    "import re\n",
    "\n",
    "import requests\n",
    "from bs4 import BeautifulSoup"
   ]
  },
  {
   "cell_type": "code",
   "execution_count": null,
   "metadata": {},
   "outputs": [],
   "source": [
    "target_date = datetime.today()\n",
    "target_date = datetime(year=2024, month=3, day=28)\n",
    "res = requests.get(f\"https://www.sbisec.co.jp/ETGate/WPLETmgR001Control?OutSide=on&getFlg=on&burl=search_domestic&cat1=domestic&cat2=corporate&dir=corporate&file=stock_ca_bunkatsu.html\")\n",
    "soup = BeautifulSoup(res.content)"
   ]
  },
  {
   "cell_type": "code",
   "execution_count": null,
   "metadata": {},
   "outputs": [],
   "source": [
    "re_date = re.compile(\"\\d\\d/\\d\\d/\\d\\d\")\n",
    "main = soup.find(\"div\", {\"id\": \"main\"})\n",
    "if main is not None:\n",
    "    for tr in main.find_all(\"tr\", {\"align\": \"center\"}):\n",
    "        tds = tr.find_all(\"td\")\n",
    "        if len(tds) != 4:\n",
    "            continue\n",
    "        res = re_date.search(tds[0].text)\n",
    "        if res is None:\n",
    "            continue\n",
    "        date = datetime.strptime(res.group(0), \"%y/%m/%d\")\n",
    "        if date == target_date:\n",
    "            code = tds[1].text.split(\"\\xa0\")[1]\n",
    "            splits = tds[3].text.split(\"\\xa0\")\n",
    "            rate = float(splits[3]) / float(splits[1])\n",
    "            print(code, rate)\n",
    "        "
   ]
  },
  {
   "cell_type": "code",
   "execution_count": null,
   "metadata": {},
   "outputs": [],
   "source": []
  },
  {
   "cell_type": "code",
   "execution_count": null,
   "metadata": {},
   "outputs": [],
   "source": [
    "res.content"
   ]
  },
  {
   "cell_type": "code",
   "execution_count": null,
   "metadata": {},
   "outputs": [],
   "source": [
    "https://jp.kabumap.com/servlets/kabumap/Action?SRC=splitSch/base\n",
    "https://jp.kabumap.com/servlets/kabumap/Action?SRC=chgSch/base"
   ]
  }
 ],
 "metadata": {
  "kernelspec": {
   "display_name": ".venv",
   "language": "python",
   "name": "python3"
  },
  "language_info": {
   "codemirror_mode": {
    "name": "ipython",
    "version": 3
   },
   "file_extension": ".py",
   "mimetype": "text/x-python",
   "name": "python",
   "nbconvert_exporter": "python",
   "pygments_lexer": "ipython3",
   "version": "3.10.12"
  }
 },
 "nbformat": 4,
 "nbformat_minor": 2
}
