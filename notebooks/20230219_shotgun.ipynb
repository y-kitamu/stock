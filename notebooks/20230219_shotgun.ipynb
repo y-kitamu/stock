{
 "cells": [
  {
   "cell_type": "markdown",
   "metadata": {},
   "source": [
    "# 銘柄のスクリーニング\n",
    "- 買う条件：以下をすべてみたすとき\n",
    "  - 短期、中期、長期のすべての移動平均線が上向き\n",
    "  - グランビルの法則が成立したとき（株価が中期または長期の移動平均線まで下がって反発したとき）\n",
    "  - 上昇トレンドが3ヶ月以下\n",
    "  - 移動平均線が上から短期、中期、長期の順\n",
    "- 売る条件:\n",
    "  - 株価が中期の移動平均線を下回ったとき\n",
    "  - 5%以上下落したとき\n",
    "  - (上昇の起点から)7日経過したとき\n",
    "\n",
    "- 銘柄の選定\n",
    "- 条件を満たすものをプログラムで選別\n",
    "  - 流動性が高いものを選別\n",
    "  -> その後目で見て判定 -> (データ作成もしてAI化?)"
   ]
  },
  {
   "cell_type": "code",
   "execution_count": null,
   "metadata": {},
   "outputs": [],
   "source": [
    "from datetime import datetime\n",
    "from pathlib import Path\n",
    "import csv\n",
    "\n",
    "import pandas as pd\n",
    "import numpy as np\n",
    "from tqdm import tqdm\n",
    "import matplotlib.pyplot as plt\n",
    "\n",
    "import plotly.graph_objects as go\n",
    "import plotly.io as pio\n",
    "from plotly.subplots import make_subplots\n",
    "\n",
    "import stock\n",
    "\n",
    "pio.renderers.default = \"notebook\""
   ]
  },
  {
   "cell_type": "code",
   "execution_count": null,
   "metadata": {},
   "outputs": [],
   "source": [
    "DAILY_DATA_DIR = Path.home() / \"remote/gdrive/stock/data/daily/\"\n",
    "TARGET_LIST_CSV = stock.DATA_DIR / \"margin_trade_target_list.csv\"\n",
    "daily_data_files = sorted(DAILY_DATA_DIR.glob(\"20220218_*.csv\"))"
   ]
  },
  {
   "cell_type": "code",
   "execution_count": null,
   "metadata": {},
   "outputs": [],
   "source": [
    "dfs = {}\n",
    "for path in tqdm(daily_data_files):\n",
    "    code = path.stem.split(\"_\")[1]\n",
    "    dfs[code] = pd.read_csv(path)"
   ]
  },
  {
   "cell_type": "code",
   "execution_count": null,
   "metadata": {},
   "outputs": [],
   "source": [
    "with open(TARGET_LIST_CSV) as f:\n",
    "    csv_reader = csv.reader(f)\n",
    "    next(csv_reader)\n",
    "    target_list = [row[0] for row in csv_reader]"
   ]
  },
  {
   "cell_type": "markdown",
   "metadata": {},
   "source": [
    "### まずは過去1年間でショットガンのチャンスがどれくらいあるか検証する"
   ]
  },
  {
   "cell_type": "code",
   "execution_count": null,
   "metadata": {},
   "outputs": [],
   "source": [
    "def calc_granville_points(close_prices, short=5, mid=20, long=60):\n",
    "    short_ma = stock.chart.trend.moving_average(close_prices, window_size=short)\n",
    "    mid_ma = stock.chart.trend.moving_average(close_prices, window_size=mid)\n",
    "    long_ma = stock.chart.trend.moving_average(close_prices, window_size=long)\n",
    "\n",
    "    max_idx = len(close_prices) - 1\n",
    "    # 買いシグナルの探索\n",
    "    buy_signals = []\n",
    "    i = long + long\n",
    "    while i < max_idx:\n",
    "            # 移動平均線が下向きの場合は除外\n",
    "        if short_ma[i] < 0 or mid_ma[i] < 0 or long_ma[i] < 0:\n",
    "            i += 1\n",
    "            continue\n",
    "\n",
    "        # 移動平均線が短期 > 中期 順になっているか\n",
    "        if short_ma[i] <= mid_ma[i]: # or mid_ma[i] <= long_ma[i]:\n",
    "            i += 1\n",
    "            continue\n",
    "\n",
    "        buy_signals.append(i)\n",
    "        while i <max_idx and short_ma[i] > mid_ma[i] and short_ma[i] >= 0 and mid_ma[i] >= 0 and long_ma[i] >= 0:\n",
    "            i += 1\n",
    "        # # 短期移動平均線が中期移動平均線で反発しているか\n",
    "        # if short_ma[i - 2] >= short_ma[i - 1] and short_ma[i - 1] <= short_ma[i]:\n",
    "        #     buy_signals.append(i)\n",
    "        #     continue\n",
    "\n",
    "        # # 短期移動線が中期移動線を上抜けしているか\n",
    "        # if short_ma[i - 1] <= mid_ma[i - 1] and short_ma[i] >= mid_ma[i]:\n",
    "        #     buy_signals.append(i)\n",
    "        #     continue\n",
    "        i += 1\n",
    "\n",
    "    return buy_signals, short_ma, mid_ma, long_ma"
   ]
  },
  {
   "cell_type": "code",
   "execution_count": null,
   "metadata": {},
   "outputs": [],
   "source": [
    "def calc_sell_point(buy_point_idx, close_prices, short_ma, mid_ma, long_ma, max_hold_days=9):\n",
    "    \"\"\"\n",
    "    \"\"\"\n",
    "    # 上昇の起点の算出\n",
    "    start_idx = buy_point_idx\n",
    "    while close_prices[start_idx] > close_prices[start_idx - 1]:\n",
    "        start_idx -= 1\n",
    "    max_sell_idx = min(start_idx + max_hold_days, len(close_prices) - 1)\n",
    "\n",
    "    if max_sell_idx <= buy_point_idx:\n",
    "        return buy_point_idx\n",
    "\n",
    "    # 買いポイントからの経過日数\n",
    "    sell_point_idx = buy_point_idx + 1\n",
    "    while sell_point_idx < max_sell_idx:\n",
    "        # 売り条件を満たしている場合は売り\n",
    "        # 移動平均線が下向き\n",
    "        if short_ma[sell_point_idx] < 0 or mid_ma[sell_point_idx] < 0 or long_ma[sell_point_idx] < 0:\n",
    "            break\n",
    "        # 株価が短期移動線を下抜け\n",
    "        if close_prices[sell_point_idx] < short_ma[sell_point_idx]:\n",
    "            break\n",
    "        sell_point_idx += 1\n",
    "    return sell_point_idx"
   ]
  },
  {
   "cell_type": "code",
   "execution_count": null,
   "metadata": {},
   "outputs": [],
   "source": [
    "def plot_shotgun(df, buy_pt_xs, buy_pt_ys, sell_pt_xs, sell_pt_ys, short, mid, long, short_ma, mid_ma, long_ma):\n",
    "    fig = make_subplots(rows=2, cols=1, shared_xaxes=True, vertical_spacing=0.0, row_heights=[0.7, 0.3])\n",
    "    xdata = [datetime.strptime(dt, \"%Y/%m/%d\") for dt in df[\"day\"].to_numpy()] # np.arange(len(df))\n",
    "    fig.add_trace(go.Candlestick(x=xdata, open=df[\"open\"], high=df[\"high\"], low=df[\"low\"], close=df[\"close\"], name=\"candle\"), row=1, col=1)\n",
    "    fig.add_trace(go.Scatter(x=buy_pt_xs, y=buy_pt_ys, mode=\"markers\", name=\"buy\", marker=dict(size=10, color=\"blue\")), row=1, col=1)\n",
    "    fig.add_trace(go.Scatter(x=sell_pt_xs, y=sell_pt_ys, mode=\"markers\", name=\"sell\", marker=dict(size=10, color=\"yellow\")), row=1, col=1)\n",
    "    # fig.add_trace(go.Scatter(x=xdata, y=df[\"close\"], name=\"close\"), row=1, col=1)\n",
    "    fig.add_trace(go.Scatter(x=xdata[short:], y=short_ma[short:], name=\"short_ma\"), row=1, col=1)\n",
    "    fig.add_trace(go.Scatter(x=xdata[mid:], y=mid_ma[mid:], name=\"mid_ma\"), row=1, col=1)\n",
    "    fig.add_trace(go.Scatter(x=xdata[long:], y=long_ma[long:], name=\"long_ma\"), row=1, col=1)\n",
    "\n",
    "    fig.add_trace(go.Bar(x=xdata, y=df[\"volume\"], name=\"volume\"), row=2, col=1)\n",
    "\n",
    "    fig.update_layout(xaxis_rangeslider_visible=False, \n",
    "                    xaxis2_rangeslider_visible=True,\n",
    "                    margin=go.layout.Margin(l=5, r=5, t=5, b=5, autoexpand=True),\n",
    "                    )\n",
    "    #fig.update_traces(mode=\"markers+lines\", hovertemplate=None)\n",
    "    fig.update_layout(hovermode=\"x unified\")                  \n",
    "    fig.update_traces(xaxis='x2')\n",
    "    fig.update_xaxes(rangebreaks=[dict(bounds=[\"sat\", \"mon\"])])  # 土日を除外\n",
    "    fig.show()"
   ]
  },
  {
   "cell_type": "code",
   "execution_count": null,
   "metadata": {},
   "outputs": [],
   "source": [
    "def shotgun(df, short=5, mid=20, long=60, with_plot=False):\n",
    "    open_column_key=\"open\"\n",
    "    close_column_key=\"close\"\n",
    "    df = df.dropna(how=\"all\", axis=1)\n",
    "    if df.isnull().any().any():\n",
    "        return np.array([])\n",
    "    # 買いシグナルの探索\n",
    "    buy_signals, short_ma, mid_ma, long_ma = calc_granville_points(df[close_column_key], short=short, mid=mid, long=long)\n",
    "    buy_pt_ys = [df[open_column_key][idx + 1] for idx in buy_signals]  # 買いシグナルの次の日の始値で買う\n",
    "    # 売りシグナルの探索\n",
    "    sell_points = [calc_sell_point(buy_point_idx, df[close_column_key].to_numpy(), short_ma, mid_ma, long_ma) for buy_point_idx in buy_signals]\n",
    "    sell_pt_ys = [df[close_column_key][idx] for idx in sell_points]\n",
    "\n",
    "    if with_plot:\n",
    "        buy_pt_xs = [datetime.strptime(df[\"day\"][idx + 1], \"%Y/%m/%d\") for idx in buy_signals]\n",
    "        sell_pt_xs = [datetime.strptime(df[\"day\"][idx], \"%Y/%m/%d\") for idx in sell_points]\n",
    "        plot_shotgun(df, buy_pt_xs, buy_pt_ys, sell_pt_xs, sell_pt_ys, short, mid, long, short_ma, mid_ma, long_ma)\n",
    "\n",
    "    profit = np.array(sell_pt_ys) - np.array(buy_pt_ys)\n",
    "    return profit"
   ]
  },
  {
   "cell_type": "code",
   "execution_count": null,
   "metadata": {},
   "outputs": [],
   "source": [
    "short = 5\n",
    "mid = 20\n",
    "long = 100\n",
    "targets = target_list[:10]  # 上位100銘柄のみ\n",
    "\n",
    "profit_num = 0\n",
    "profit_total = 0\n",
    "profits = []\n",
    "change = []\n",
    "for i, code in enumerate(targets):\n",
    "    #profit = shotgun(dfs, code, short=short, mid=mid, long=long, with_plot=i < 4)\n",
    "    profit = shotgun(dfs[code], short=short, mid=mid, long=long, with_plot=False)\n",
    "    if len(profit) > 0:\n",
    "        profit_norm = profit.sum()  / dfs[code][\"close\"].mean()\n",
    "        profits.append(profit_norm)\n",
    "        change.append((dfs[code][\"close\"][len(dfs[code]) - 1] - dfs[code][\"open\"][0]) / dfs[code][\"close\"].mean())\n",
    "        # print(code, profit_norm)\n",
    "        if not np.isnan(profit_norm):\n",
    "            profit_num += len(profit)\n",
    "            profit_total += profit_norm\n",
    "\n",
    "codes = targets\n",
    "profits = np.array(profits)\n",
    "change = np.array(change)\n",
    "print(\"profit mean : {}, min : {} ({}), max : {} ({})\".format(\n",
    "    profit_total / profit_num, profits.min(), codes[profits.argmin()], profits.max(), codes[profits.argmax()]))\n",
    "print(\"change mean : {}, min : {} ({}), max : {} ({})\".format(\n",
    "    change.mean(), change.min(), codes[change.argmin()], change.max(), codes[change.argmax()]))"
   ]
  },
  {
   "cell_type": "code",
   "execution_count": null,
   "metadata": {},
   "outputs": [],
   "source": [
    "code = codes[0]\n",
    "df = dfs[code]\n",
    "profit = shotgun(df, short=short, mid=mid, long=long, with_plot=True)\n",
    "profit = np.array(profit)\n",
    "\n",
    "print(\"code = {}, profit = {}\".format(code, profit.sum()))\n",
    "\n",
    "plt.plot(np.cumsum(profit) / df[\"close\"].mean())\n",
    "plt.grid()"
   ]
  },
  {
   "cell_type": "code",
   "execution_count": null,
   "metadata": {},
   "outputs": [],
   "source": [
    "code = codes[3]\n",
    "csv_path = stock.DATA_DIR / \"etfs\"/ f\"{code}.csv\"\n",
    "if not csv_path.exists():\n",
    "    csv_path = stock.DATA_DIR / \"nikkei225\"/ f\"{code}.csv\"\n",
    "df = pd.read_csv(csv_path)\n",
    "df[\"day\"] = df[\"timestamp\"].map(lambda x: datetime.fromtimestamp(x).strftime(\"%Y/%m/%d\"))\n",
    "df[\"open\"] = df[\"start\"]\n",
    "df[\"close\"] = df[\"end\"]\n",
    "\n",
    "profit = shotgun(df, short=short, mid=mid, long=long, with_plot=True)\n",
    "profit = np.array(profit)\n",
    "\n",
    "print(\"code = {}, profit = {}, change {}\".format(code, profit.sum(), df[\"close\"][len(df) - 1] - df[\"open\"][0]))\n",
    "\n",
    "plt.plot(np.cumsum(profit) / df[\"close\"].mean())\n",
    "plt.grid()"
   ]
  },
  {
   "cell_type": "code",
   "execution_count": null,
   "metadata": {},
   "outputs": [],
   "source": []
  }
 ],
 "metadata": {
  "kernelspec": {
   "display_name": "Python 3.10.6 ('.venv': poetry)",
   "language": "python",
   "name": "python3"
  },
  "language_info": {
   "codemirror_mode": {
    "name": "ipython",
    "version": 3
   },
   "file_extension": ".py",
   "mimetype": "text/x-python",
   "name": "python",
   "nbconvert_exporter": "python",
   "pygments_lexer": "ipython3",
   "version": "3.10.6"
  },
  "vscode": {
   "interpreter": {
    "hash": "0925d657e30d00cf1a4f19c1b7a91cf3b3559e9055505eaa2fd1b9771cefd6bc"
   }
  }
 },
 "nbformat": 4,
 "nbformat_minor": 2
}
