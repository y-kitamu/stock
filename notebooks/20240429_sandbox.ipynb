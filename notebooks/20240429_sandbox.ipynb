{
 "cells": [
  {
   "cell_type": "code",
   "execution_count": null,
   "metadata": {},
   "outputs": [],
   "source": [
    "from datetime import datetime\n",
    "\n",
    "import polars as pl\n",
    "\n",
    "import stock"
   ]
  },
  {
   "cell_type": "code",
   "execution_count": null,
   "metadata": {},
   "outputs": [],
   "source": [
    "current_date = datetime.today()\n",
    "\n",
    "df = stock.kabutan.read_financial_csv(\n",
    "    stock.PROJECT_ROOT / \"data\" / \"financial\" / \"9960.csv\"\n",
    ")\n",
    "df = df.filter(pl.col(\"annoounce_date\") <= current_date)\n",
    "quarter_df = df.filter(pl.col(\"duration\") == 3).sort(\"annoounce_date\")\n",
    "year_df = df.filter((pl.col(\"duration\") == 12) & (pl.col(\"is_prediction\") == False)).sort(\n",
    "    \"annoounce_date\"\n",
    ")\n",
    "pred_df = df.filter(\n",
    "    (pl.col(\"is_prediction\") is True)\n",
    "    & (pl.col(\"duration\") == 12)\n",
    "    & (pl.col(\"year\") >= current_date.year)\n",
    ").sort(\"annoounce_date\")\n"
   ]
  },
  {
   "cell_type": "code",
   "execution_count": null,
   "metadata": {},
   "outputs": [],
   "source": [
    "year_df"
   ]
  },
  {
   "cell_type": "code",
   "execution_count": null,
   "metadata": {},
   "outputs": [],
   "source": [
    "def _check_growing(\n",
    "    df: pl.DataFrame,\n",
    "    key: str,\n",
    "    min_growth_rate: float,\n",
    "    min_duration: int,\n",
    "    current_date: datetime = datetime.today(),\n",
    "    num_average: int = 1,\n",
    "):\n",
    "    if len(df) < min_duration + num_average:\n",
    "        return False\n",
    "    df = df.filter(pl.col(\"annoounce_date\") < current_date).sort(\n",
    "        \"annoounce_date\", descending=True, nulls_last=True\n",
    "    )\n",
    "    is_growing = True\n",
    "    for i in range(min_duration):\n",
    "        cur_data = df[i : i + num_average]\n",
    "        prev_data = pl.concat(\n",
    "            [\n",
    "                df.filter(\n",
    "                    (pl.col(\"year\") == cur_data[\"year\"][i] - 1)\n",
    "                    & (pl.col(\"month\") == cur_data[\"month\"][i])\n",
    "                    & (pl.col(\"duration\") == cur_data[\"duration\"][i])\n",
    "                )\n",
    "                for i in range(len(cur_data))\n",
    "            ]\n",
    "        )\n",
    "\n",
    "        print(cur_data)\n",
    "        print(prev_data)\n",
    "        if len(cur_data) != len(prev_data):\n",
    "            print(\"cur_data != prev_data\")\n",
    "            is_growing = False\n",
    "            break\n",
    "\n",
    "        if (not cur_data[key].is_not_null().all()) or (not prev_data[key].is_not_null().all()):\n",
    "            print(\"data is null\")\n",
    "            is_growing = False\n",
    "            break\n",
    "\n",
    "        cur_val = cur_data[key].sum()\n",
    "        prev_val = prev_data[key].sum()\n",
    "        if prev_val > 0:\n",
    "            is_growing &= cur_val > (1.0 + min_growth_rate) * prev_val\n",
    "        else:\n",
    "            is_growing &= cur_val > prev_val * (1.0 - min_growth_rate)\n",
    "        if not is_growing:\n",
    "            break\n",
    "    return is_growing\n"
   ]
  },
  {
   "cell_type": "code",
   "execution_count": null,
   "metadata": {},
   "outputs": [],
   "source": [
    "_check_growing(\n",
    "    year_df, \"total_revenue\", 0.05, 1\n",
    ")"
   ]
  },
  {
   "cell_type": "code",
   "execution_count": null,
   "metadata": {},
   "outputs": [],
   "source": [
    "year_df"
   ]
  },
  {
   "cell_type": "code",
   "execution_count": null,
   "metadata": {},
   "outputs": [],
   "source": []
  }
 ],
 "metadata": {
  "kernelspec": {
   "display_name": ".venv",
   "language": "python",
   "name": "python3"
  },
  "language_info": {
   "codemirror_mode": {
    "name": "ipython",
    "version": 3
   },
   "file_extension": ".py",
   "mimetype": "text/x-python",
   "name": "python",
   "nbconvert_exporter": "python",
   "pygments_lexer": "ipython3",
   "version": "3.10.12"
  }
 },
 "nbformat": 4,
 "nbformat_minor": 2
}
