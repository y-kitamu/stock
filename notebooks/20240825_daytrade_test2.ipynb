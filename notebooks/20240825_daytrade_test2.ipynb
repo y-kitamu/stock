{
 "cells": [
  {
   "cell_type": "code",
   "execution_count": null,
   "metadata": {},
   "outputs": [],
   "source": [
    "from pathlib import Path\n",
    "\n",
    "import yfinance as yf\n",
    "import polars as pl\n",
    "\n",
    "import stock"
   ]
  },
  {
   "cell_type": "code",
   "execution_count": null,
   "metadata": {},
   "outputs": [],
   "source": [
    "filepath = stock.DATA_DIR / \"minutes\" / \"20240823/1301_20240823.arrow\"\n",
    "df = pl.read_ipc(filepath)"
   ]
  },
  {
   "cell_type": "code",
   "execution_count": null,
   "metadata": {},
   "outputs": [],
   "source": [
    "data_dir  = stock.DATA_DIR / \"minutes\"\n",
    "\n",
    "for filepath in data_dir.glob(\"*.arrow\"):\n",
    "    df = pl.read_ipc(filepath)\n",
    "    if len(df) == 300:\n",
    "        print(filepath)"
   ]
  },
  {
   "cell_type": "code",
   "execution_count": null,
   "metadata": {},
   "outputs": [],
   "source": [
    "filepath"
   ]
  },
  {
   "cell_type": "code",
   "execution_count": null,
   "metadata": {},
   "outputs": [],
   "source": [
    "df"
   ]
  },
  {
   "cell_type": "code",
   "execution_count": null,
   "metadata": {},
   "outputs": [],
   "source": [
    "df.group_by_dynamic(\"datetime\", every=\"5m\", closed=\"left\").agg(\n",
    "    pl.col(\"open\").first().alias(\"open\"),\n",
    "    pl.col(\"high\").max().alias(\"high\"),\n",
    "    pl.col(\"low\").min().alias(\"low\"),\n",
    "    pl.col(\"close\").last().alias(\"close\"),\n",
    "    pl.col(\"volume\").sum().alias(\"volume\"),\n",
    ")\n"
   ]
  },
  {
   "cell_type": "code",
   "execution_count": null,
   "metadata": {},
   "outputs": [],
   "source": []
  }
 ],
 "metadata": {
  "kernelspec": {
   "display_name": ".venv",
   "language": "python",
   "name": "python3"
  },
  "language_info": {
   "codemirror_mode": {
    "name": "ipython",
    "version": 3
   },
   "file_extension": ".py",
   "mimetype": "text/x-python",
   "name": "python",
   "nbconvert_exporter": "python",
   "pygments_lexer": "ipython3",
   "version": "3.12.3"
  }
 },
 "nbformat": 4,
 "nbformat_minor": 2
}
