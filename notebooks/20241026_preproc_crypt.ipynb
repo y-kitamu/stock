{
 "cells": [
  {
   "cell_type": "code",
   "execution_count": null,
   "metadata": {},
   "outputs": [],
   "source": [
    "# cryptoデータの前処理をする\n",
    "import datetime\n",
    "\n",
    "import polars as pl\n",
    "import matplotlib.pyplot as plt\n",
    "import talib\n",
    "import joblib\n",
    "import numpy as np\n",
    "import lightgbm as lgb\n",
    "from sklearn.model_selection import cross_val_score, KFold, TimeSeriesSplit\n",
    "\n",
    "import stock"
   ]
  },
  {
   "cell_type": "code",
   "execution_count": null,
   "metadata": {},
   "outputs": [],
   "source": [
    "fetcher = stock.io.gmo.GMOFethcer()\n",
    "df = fetcher.fetch_ohlc(\"BTC_JPY\", datetime.timedelta(minutes=15))"
   ]
  },
  {
   "cell_type": "code",
   "execution_count": null,
   "metadata": {},
   "outputs": [],
   "source": [
    "df = df.with_columns(\n",
    "    pl.when(pl.col(\"datetime\") < datetime.datetime(2020, 8, 5, 6, 0, 0))\n",
    "    .then(0.0)\n",
    "    .when(pl.col(\"datetime\") < datetime.datetime(2020, 9, 9, 6, 0, 0))\n",
    "    .then(-0.00035)\n",
    "    .when(pl.col(\"datetime\") < datetime.datetime(2020, 11, 4, 6, 0, 0))\n",
    "    .then(-0.00025)\n",
    "    .otherwise(0.0).alias(\"maker_fee\"),\n",
    ")\n",
    "df = stock.crypto.feature.calc_features(df)"
   ]
  },
  {
   "cell_type": "code",
   "execution_count": null,
   "metadata": {},
   "outputs": [],
   "source": [
    "pips = 0.0001\n",
    "df = df.with_columns(\n",
    "    ((pl.col(\"ATR\") * 0.5 / pips).round().clip(lower_bound=1.0) * pips).alias(\"limit_price_dist\"),\n",
    ").with_columns(\n",
    "    (pl.col(\"close\") - pl.col(\"limit_price_dist\")).alias(\"buy_price\"),\n",
    "    (pl.col(\"close\") + pl.col(\"limit_price_dist\")).alias(\"sell_price\")\n",
    ")"
   ]
  },
  {
   "cell_type": "code",
   "execution_count": null,
   "metadata": {},
   "outputs": [],
   "source": [
    "df"
   ]
  },
  {
   "cell_type": "code",
   "execution_count": null,
   "metadata": {},
   "outputs": [],
   "source": [
    "def calc_force_entry_price(entry_price: np.ndarray, low: np.ndarray, pips: float):\n",
    "    fep = np.zeros(entry_price.shape)\n",
    "    fet = np.zeros(entry_price.shape)\n",
    "    fep[:] = np.nan\n",
    "\n",
    "    is_executable = np.round(low[1:] / pips) < np.round(entry_price[:-1] / pips)\n",
    "\n",
    "    start_i = 0\n",
    "    for i in range(len(is_executable)):\n",
    "        fet[start_i:i + 1] += 1\n",
    "        if is_executable[i]:\n",
    "            fep[start_i:i + 1] = entry_price[i]\n",
    "            start_i = i + 1\n",
    "    return fep, fet"
   ]
  },
  {
   "cell_type": "code",
   "execution_count": null,
   "metadata": {},
   "outputs": [],
   "source": [
    "df = df.filter(\n",
    "    pl.col(\"datetime\").is_between(datetime.datetime(2018, 9, 5), datetime.datetime(2021, 3, 31))\n",
    ")"
   ]
  },
  {
   "cell_type": "code",
   "execution_count": null,
   "metadata": {},
   "outputs": [],
   "source": [
    "buy_price = df[\"buy_price\"].to_numpy()\n",
    "sell_price = df[\"sell_price\"].to_numpy()\n",
    "low = df[\"low\"].to_numpy()\n",
    "high = df[\"high\"].to_numpy()\n",
    "\n",
    "buy_fep, buy_fet = calc_force_entry_price(buy_price, low, pips)\n",
    "sell_fep, sell_fet = calc_force_entry_price(-sell_price, -high, pips)\n",
    "\n",
    "horizon = 1\n",
    "\n",
    "df = df.with_columns(\n",
    "    pl.Series(\"buy_fep\", buy_fep),\n",
    "    pl.Series(\"buy_fet\", buy_fet),\n",
    "    pl.Series(\"sell_fep\", -sell_fep),\n",
    "    pl.Series(\"sell_fet\", sell_fet)\n",
    ").with_columns(\n",
    "    pl.when(pl.col(\"buy_price\").is_not_nan()).then(((pl.col(\"buy_price\")  / pips).round() > (pl.col(\"low\").shift(-1) / pips).round())).otherwise(0).cast(pl.Float32).alias(\"buy_executed\"),\n",
    "    ((pl.col(\"sell_price\")  / pips).round() < (pl.col(\"high\").shift(-1) / pips).round()).cast(pl.Float32).alias(\"sell_executed\"),\n",
    ").with_columns(\n",
    "    pl.when(pl.col(\"buy_executed\") > 0.5).then(pl.col(\"sell_fep\").shift(-1) / pl.col(\"buy_price\") - 1 - 2 * pl.col(\"maker_fee\")).otherwise(0).alias(\"y_buy\"),\n",
    "    pl.when(pl.col(\"sell_executed\") > 0.5).then(-(pl.col(\"buy_fep\").shift(-1) / pl.col(\"sell_price\") - 1) - 2 * pl.col(\"maker_fee\")).otherwise(0).alias(\"y_sell\"),\n",
    "    pl.when(pl.col(\"buy_executed\") > 0.5).then(pl.col(\"buy_price\") / pl.col(\"close\") - 1 + pl.col(\"maker_fee\")).alias(\"buy_cost\"),\n",
    "    pl.when(pl.col(\"sell_executed\") > 0.5).then(-(pl.col(\"sell_price\") / pl.col(\"close\") - 1) + pl.col(\"maker_fee\")).alias(\"sell_cost\"),\n",
    ")"
   ]
  },
  {
   "cell_type": "code",
   "execution_count": null,
   "metadata": {},
   "outputs": [],
   "source": [
    "df.select(\n",
    "    pl.col(\"buy_executed\").rolling_mean(1000),\n",
    "    pl.col(\"sell_executed\").rolling_mean(1000),\n",
    ").plot()"
   ]
  },
  {
   "cell_type": "code",
   "execution_count": null,
   "metadata": {},
   "outputs": [],
   "source": [
    "df.select(\n",
    "    pl.col(\"buy_fet\"),\n",
    "    pl.col(\"sell_fet\")\n",
    ").plot.hist()"
   ]
  },
  {
   "cell_type": "code",
   "execution_count": null,
   "metadata": {},
   "outputs": [],
   "source": [
    "df.select(\n",
    "    pl.col(\"y_buy\").cum_sum(),\n",
    "    pl.col(\"y_sell\").cum_sum()\n",
    ").plot()"
   ]
  },
  {
   "cell_type": "code",
   "execution_count": null,
   "metadata": {},
   "outputs": [],
   "source": []
  },
  {
   "cell_type": "code",
   "execution_count": null,
   "metadata": {},
   "outputs": [],
   "source": [
    "train_features = sorted([\n",
    "    'ADX',\n",
    "    'ADXR',\n",
    "    'APO',\n",
    "    'AROON_aroondown',\n",
    "    'AROON_aroonup',\n",
    "    'AROONOSC',\n",
    "    'CCI',\n",
    "    'DX',\n",
    "    'MACD_macd',\n",
    "    'MACD_macdsignal',\n",
    "    'MACD_macdhist',\n",
    "    'MFI',\n",
    "#     'MINUS_DI',\n",
    "#     'MINUS_DM',\n",
    "    'MOM',\n",
    "#     'PLUS_DI',\n",
    "#     'PLUS_DM',\n",
    "    'RSI',\n",
    "    'STOCH_slowk',\n",
    "    'STOCH_slowd',\n",
    "    'STOCHF_fastk',\n",
    "#     'STOCHRSI_fastd',\n",
    "    'ULTOSC',\n",
    "    'WILLR',\n",
    "#     'ADOSC',\n",
    "#     'NATR',\n",
    "    'HT_DCPERIOD',\n",
    "    'HT_DCPHASE',\n",
    "    'HT_PHASOR_inphase',\n",
    "    'HT_PHASOR_quadrature',\n",
    "    'HT_TRENDMODE',\n",
    "    'BETA',\n",
    "    'LINEARREG',\n",
    "    'LINEARREG_ANGLE',\n",
    "    'LINEARREG_INTERCEPT',\n",
    "    'LINEARREG_SLOPE',\n",
    "    'STDDEV',\n",
    "    'BBANDS_upperband',\n",
    "    'BBANDS_middleband',\n",
    "    'BBANDS_lowerband',\n",
    "    'DEMA',\n",
    "    'EMA',\n",
    "    'HT_TRENDLINE',\n",
    "    'KAMA',\n",
    "    'MA',\n",
    "    'MIDPOINT',\n",
    "    'T3',\n",
    "    'TEMA',\n",
    "    'TRIMA',\n",
    "    'WMA',\n",
    "])\n"
   ]
  },
  {
   "cell_type": "code",
   "execution_count": null,
   "metadata": {},
   "outputs": [],
   "source": [
    "train_df[\"y_buy\"].to_numpy()[cv_indices[0][0]]"
   ]
  },
  {
   "cell_type": "code",
   "execution_count": null,
   "metadata": {},
   "outputs": [],
   "source": [
    "train_df = df.filter(\n",
    "   pl.all_horizontal(pl.col(pl.Float32, pl.Float64).is_not_nan())\n",
    ")\n",
    "\n",
    "# model = lgb.LGBMRegressor(n_jobs=1, random_state=1)\n",
    "# model.fit(train_df.select(train_features), df[\"y_buy\"])\n",
    "# joblib.dump(model, \"model_y_buy.xz\", compress=True)\n",
    "# model.fit(train_df.select(train_features), df[\"y_sell\"])\n",
    "# joblib.dump(model, \"model_y_sell.xz\", compress=True)\n",
    "\n",
    "cv_indices = list(KFold().split(train_df))\n",
    "\n",
    "def cross_val_predict(x, y, cv):\n",
    "   estimator = lgb.LGBMRegressor(n_jobs=1, random_state=1)\n",
    "   y_pred = y.copy()\n",
    "   y_pred[:] = np.nan\n",
    "   for train_idx, val_idx in cv:\n",
    "      estimator.fit(x[train_idx], y[train_idx])\n",
    "      y_pred[val_idx] = estimator.predict(x[val_idx])\n",
    "   return y_pred\n",
    "\n",
    "train_df = train_df.with_columns(\n",
    "    pl.Series(\"y_pred_buy\", cross_val_predict(train_df.select(train_features).to_numpy(), train_df[\"y_buy\"].to_numpy(), cv=cv_indices)),\n",
    "    pl.Series(\"y_pred_sell\", cross_val_predict(train_df.select(train_features).to_numpy(), train_df[\"y_sell\"].to_numpy(), cv=cv_indices))\n",
    ")\n",
    "train_df = train_df.filter(\n",
    "   pl.all_horizontal(pl.col(pl.Float32, pl.Float64).is_not_nan())\n",
    ")\n",
    "train_df.select(\n",
    "   pl.when(pl.col(\"y_pred_buy\") > 0).then(pl.col(\"y_buy\")).otherwise(0.0).cumsum().alias(\"buy\"),\n",
    "   pl.when(pl.col(\"y_pred_sell\") > 0).then(pl.col(\"y_sell\")).otherwise(0.0).cumsum().alias(\"sell\"),\n",
    ").with_columns(\n",
    "   (pl.col(\"buy\") + pl.col(\"sell\")).alias(\"total\")\n",
    ").plot()\n"
   ]
  },
  {
   "cell_type": "code",
   "execution_count": null,
   "metadata": {},
   "outputs": [],
   "source": []
  }
 ],
 "metadata": {
  "kernelspec": {
   "display_name": ".venv",
   "language": "python",
   "name": "python3"
  },
  "language_info": {
   "codemirror_mode": {
    "name": "ipython",
    "version": 3
   },
   "file_extension": ".py",
   "mimetype": "text/x-python",
   "name": "python",
   "nbconvert_exporter": "python",
   "pygments_lexer": "ipython3",
   "version": "3.13.0"
  }
 },
 "nbformat": 4,
 "nbformat_minor": 2
}
