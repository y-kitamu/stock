{
 "cells": [
  {
   "cell_type": "code",
   "execution_count": null,
   "metadata": {},
   "outputs": [],
   "source": [
    "# cryptoデータの前処理をする\n",
    "import polars as pl\n",
    "\n",
    "import matplotlib.pyplot as plt\n",
    "\n",
    "import stock"
   ]
  },
  {
   "cell_type": "code",
   "execution_count": null,
   "metadata": {},
   "outputs": [],
   "source": [
    "# voluem barのcsvを作る\n",
    "ticker = \"BTC\"\n",
    "volume_size = 0.5\n",
    "\n",
    "csv_lists = sorted((stock.PROJECT_ROOT / \"data/tick_data\").rglob(\"*_BTC.csv.gz\"))\n",
    "output_root_dir = stock.PROJECT_ROOT / \"data/preprocessed/volume_bar/{}\".format(str(volume_size).replace(\".\", \"_\"))\n",
    "output_root_dir.mkdir(exist_ok=True)\n",
    "\n",
    "last_row = None\n",
    "for i in range(len(csv_lists)):\n",
    "    csv_path = csv_lists[i]\n",
    "    df = pl.read_csv(csv_path)\n",
    "    volume_df = stock.io.volume_bar.convert_ticker_to_volume_bar(df, volume_size, last_row)\n",
    "\n",
    "    if len(volume_df) == 0:\n",
    "        continue\n",
    "\n",
    "    if i < len(csv_lists) - 1:\n",
    "        if volume_df[\"volume\"][-1] < volume_size:\n",
    "            last_row = volume_df[-1].to_numpy()[0]\n",
    "            volume_df = volume_df[:-1]\n",
    "        else:\n",
    "            last_row = None\n",
    "    output_path = output_root_dir / csv_path.name.replace(\".csv.gz\", \"_{}.csv\".format(str(volume_size).replace(\".\", \"_\")))\n",
    "    volume_df.write_csv(output_path)"
   ]
  },
  {
   "cell_type": "code",
   "execution_count": null,
   "metadata": {},
   "outputs": [],
   "source": []
  }
 ],
 "metadata": {
  "kernelspec": {
   "display_name": ".venv",
   "language": "python",
   "name": "python3"
  },
  "language_info": {
   "codemirror_mode": {
    "name": "ipython",
    "version": 3
   },
   "file_extension": ".py",
   "mimetype": "text/x-python",
   "name": "python",
   "nbconvert_exporter": "python",
   "pygments_lexer": "ipython3",
   "version": "3.12.3"
  }
 },
 "nbformat": 4,
 "nbformat_minor": 2
}
