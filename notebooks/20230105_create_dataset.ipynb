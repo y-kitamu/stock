{
 "cells": [
  {
   "cell_type": "markdown",
   "metadata": {},
   "source": [
    "## データセットを作成し直す\n",
    "- 前日比を前日の終値ベースで計算し直す"
   ]
  },
  {
   "cell_type": "code",
   "execution_count": null,
   "metadata": {},
   "outputs": [],
   "source": [
    "import numpy as np\n",
    "import matplotlib.pyplot as plt\n",
    "\n",
    "import stock"
   ]
  },
  {
   "cell_type": "code",
   "execution_count": null,
   "metadata": {},
   "outputs": [],
   "source": [
    "dataset_params = stock.dl.dataset.DatasetParams()\n",
    "dataset = stock.dl.dataset.Dataset(dataset_params)"
   ]
  },
  {
   "cell_type": "code",
   "execution_count": null,
   "metadata": {},
   "outputs": [],
   "source": [
    "us_starts = dataset.data[:, dataset._us_data_indices][:, 0::5]\n",
    "jp_starts = dataset.data[:, dataset._jp_data_indices][:, 0::2]\n",
    "\n",
    "us_start_mean = us_starts.mean(axis=1)\n",
    "jp_start_mean = jp_starts.mean(axis=1)\n",
    "\n",
    "fig, ax = plt.subplots(1, 1)\n",
    "ax.plot(us_start_mean)\n",
    "ax.plot(jp_start_mean)"
   ]
  },
  {
   "cell_type": "code",
   "execution_count": null,
   "metadata": {},
   "outputs": [],
   "source": [
    "# 相関の計算\n",
    "us_mean = dataset.data[:, dataset._us_data_indices][:, 2::5].mean(axis=1)\n",
    "jp_mean = dataset.data[:, dataset._jp_data_indices][:, 1::2].mean(axis=1)\n",
    "print(np.corrcoef(us_mean, jp_mean))\n",
    "plt.scatter(us_mean, jp_mean, s=1)"
   ]
  },
  {
   "cell_type": "code",
   "execution_count": null,
   "metadata": {},
   "outputs": [],
   "source": []
  },
  {
   "cell_type": "markdown",
   "metadata": {},
   "source": [
    "## 生データの相関チェック"
   ]
  },
  {
   "cell_type": "code",
   "execution_count": null,
   "metadata": {},
   "outputs": [],
   "source": [
    "us_data = np.load(\"/home/kitamura/work/Projects/stock/data/dataset/dataset_20230105_113651_us.npy\")\n",
    "us_mean = us_data[:, 1::5].mean(axis=1)\n",
    "plt.plot(us_mean)"
   ]
  },
  {
   "cell_type": "code",
   "execution_count": null,
   "metadata": {},
   "outputs": [],
   "source": [
    "jp_data = np.load(\"/home/kitamura/work/Projects/stock/data/dataset/dataset_20230105_113651_jp.npy\")\n",
    "jp_mean = jp_data[:, 1::5].mean(axis=1)\n",
    "plt.plot(jp_mean)"
   ]
  },
  {
   "cell_type": "code",
   "execution_count": null,
   "metadata": {},
   "outputs": [],
   "source": [
    "merged_data, _ = dataset._merge_data(us_data, jp_data)\n",
    "merged_data.shape, us_data.shape, jp_data.shape"
   ]
  },
  {
   "cell_type": "code",
   "execution_count": null,
   "metadata": {},
   "outputs": [],
   "source": [
    "us_mean = merged_data[:, :us_data.shape[1] - 1][:, 1::5].mean(axis=1)\n",
    "jp_mean = merged_data[:, us_data.shape[1] - 1:][:, 1::5].mean(axis=1)\n",
    "\n",
    "print(np.corrcoef(us_mean, jp_mean))\n",
    "plt.scatter(us_mean, jp_mean)\n",
    "plt.plot()\n",
    "\n",
    "fig, ax = plt.subplots(1, 1)\n",
    "ax.plot(us_mean)\n",
    "ax.plot(jp_mean)"
   ]
  },
  {
   "cell_type": "code",
   "execution_count": null,
   "metadata": {},
   "outputs": [],
   "source": []
  }
 ],
 "metadata": {
  "kernelspec": {
   "display_name": "Python 3.10.6 ('.venv': poetry)",
   "language": "python",
   "name": "python3"
  },
  "language_info": {
   "codemirror_mode": {
    "name": "ipython",
    "version": 3
   },
   "file_extension": ".py",
   "mimetype": "text/x-python",
   "name": "python",
   "nbconvert_exporter": "python",
   "pygments_lexer": "ipython3",
   "version": "3.10.6"
  },
  "vscode": {
   "interpreter": {
    "hash": "0925d657e30d00cf1a4f19c1b7a91cf3b3559e9055505eaa2fd1b9771cefd6bc"
   }
  }
 },
 "nbformat": 4,
 "nbformat_minor": 2
}
