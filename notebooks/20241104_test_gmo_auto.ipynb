{
 "cells": [
  {
   "cell_type": "code",
   "execution_count": null,
   "metadata": {},
   "outputs": [],
   "source": [
    "from pathlib import Path\n",
    "import datetime\n",
    "import hmac\n",
    "import hashlib\n",
    "import json\n",
    "import time\n",
    "import threading\n",
    "import queue\n",
    "import asyncio\n",
    "\n",
    "import numpy as np\n",
    "import websocket\n",
    "import polars as pl\n",
    "import requests\n",
    "from pydantic import BaseModel\n",
    "\n",
    "import stock"
   ]
  },
  {
   "cell_type": "code",
   "execution_count": null,
   "metadata": {},
   "outputs": [],
   "source": [
    "class APICert(BaseModel):\n",
    "    api_key: str\n",
    "    api_secret: str"
   ]
  },
  {
   "cell_type": "code",
   "execution_count": null,
   "metadata": {},
   "outputs": [],
   "source": [
    "cert_file = stock.PROJECT_ROOT / \"cert/gmo_api.json\"\n",
    "with open(cert_file, \"r\") as f:\n",
    "    cert = APICert.model_validate_json(f.read())"
   ]
  },
  {
   "cell_type": "code",
   "execution_count": null,
   "metadata": {},
   "outputs": [],
   "source": [
    "cert.api_key"
   ]
  },
  {
   "cell_type": "code",
   "execution_count": null,
   "metadata": {},
   "outputs": [],
   "source": [
    "apiKey    = cert.api_key\n",
    "secretKey = cert.api_secret\n",
    "\n",
    "timestamp = '{0}000'.format(int(time.mktime(datetime.now().timetuple())))\n",
    "method    = 'GET'\n",
    "endPoint  = 'https://api.coin.z.com/private'\n",
    "path      = '/v1/account/margin'\n",
    "\n",
    "text = timestamp + method + path\n",
    "sign = hmac.new(bytes(secretKey.encode('ascii')), bytes(text.encode('ascii')), hashlib.sha256).hexdigest()\n",
    "\n",
    "headers = {\n",
    "    \"API-KEY\": apiKey,\n",
    "    \"API-TIMESTAMP\": timestamp,\n",
    "    \"API-SIGN\": sign\n",
    "}\n",
    "\n",
    "res = requests.get(endPoint + path, headers=headers)\n",
    "print (json.dumps(res.json(), indent=2))"
   ]
  },
  {
   "cell_type": "code",
   "execution_count": null,
   "metadata": {},
   "outputs": [],
   "source": [
    "endPoint = 'https://api.coin.z.com/public'\n",
    "path     = '/v1/klines?symbol=BTC&interval=1min&date=20210417'\n",
    "\n",
    "response = requests.get(endPoint + path)\n",
    "data = response.json()[\"data\"]"
   ]
  },
  {
   "cell_type": "code",
   "execution_count": null,
   "metadata": {},
   "outputs": [],
   "source": []
  }
 ],
 "metadata": {
  "kernelspec": {
   "display_name": "Python 3",
   "language": "python",
   "name": "python3"
  },
  "language_info": {
   "codemirror_mode": {
    "name": "ipython",
    "version": 3
   },
   "file_extension": ".py",
   "mimetype": "text/x-python",
   "name": "python",
   "nbconvert_exporter": "python",
   "pygments_lexer": "ipython3",
   "version": "3.13.0"
  }
 },
 "nbformat": 4,
 "nbformat_minor": 2
}
