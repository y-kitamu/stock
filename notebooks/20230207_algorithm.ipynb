{
 "cells": [
  {
   "cell_type": "markdown",
   "metadata": {},
   "source": [
    "アルゴリズムの検討\n",
    "\n",
    "- 上がりそうな銘柄を買いポジションで持つための銘柄選別"
   ]
  },
  {
   "cell_type": "code",
   "execution_count": null,
   "metadata": {},
   "outputs": [],
   "source": [
    "from pathlib import Path\n",
    "import csv\n",
    "from typing import List\n",
    "import datetime\n",
    "\n",
    "import numpy as np\n",
    "import matplotlib.pyplot as plt\n",
    "\n",
    "import stock"
   ]
  },
  {
   "cell_type": "code",
   "execution_count": null,
   "metadata": {},
   "outputs": [],
   "source": [
    "code_list_csv = stock.constants.DATA_DIR / \"margin_trade_target_list.csv\"\n",
    "daily_data_dir = Path.home() / \"remote/gdrive/stock/data/daily\"\n",
    "one_minute_data_dir = Path.home() / \"remote/gdrive/stock/data/one_minute\"\n",
    "\n",
    "assert code_list_csv.exists()\n",
    "assert daily_data_dir.exists()\n",
    "assert one_minute_data_dir.exists()\n",
    "\n",
    "with open(code_list_csv) as f:\n",
    "    csv_reader = csv.reader(f)\n",
    "    header = next(csv_reader)\n",
    "    codes = [row[0] for row in csv_reader]"
   ]
  },
  {
   "cell_type": "code",
   "execution_count": null,
   "metadata": {},
   "outputs": [],
   "source": [
    "def get_daily_data(code, data_dir=daily_data_dir) -> List:\n",
    "    csvs = sorted(data_dir.glob(f\"*{code}.csv\"))\n",
    "    if len(csvs) == 0:\n",
    "        stock.logger.warning(f\"No csv files of `{code}` in the directory.\")\n",
    "        return []\n",
    "    daily_data_csv = csvs[0]\n",
    "    assert daily_data_csv.exists()\n",
    "    with open(daily_data_csv) as f:\n",
    "        csv_reader = csv.reader(f)\n",
    "        header = next(csv_reader)\n",
    "        data = [\n",
    "            [\n",
    "                datetime.datetime.strptime(row[0], \"%Y/%m/%d\").timestamp() + 60 * 60 * 9,  # utcで0時になるように変換\n",
    "                float(row[2]),\n",
    "                float(row[3]),\n",
    "                float(row[4]),\n",
    "                float(row[5]),\n",
    "                float(row[6])\n",
    "            ]\n",
    "            for row in csv_reader\n",
    "        ]\n",
    "    return np.array(data)"
   ]
  },
  {
   "cell_type": "code",
   "execution_count": null,
   "metadata": {},
   "outputs": [],
   "source": [
    "data = get_daily_data(codes[0])"
   ]
  },
  {
   "cell_type": "code",
   "execution_count": null,
   "metadata": {},
   "outputs": [],
   "source": [
    "window_sizes = [5, 20]\n",
    "\n",
    "fig, ax = stock.visualize.boxplot(data[:, 1], data[:, 2], data[:, 3], data[:, 4])\n",
    "\n",
    "for window_size in window_sizes:\n",
    "    ma_start = stock.chart.trend.moving_average(data[:, 1], window_size=window_size)\n",
    "    ma_end = stock.chart.trend.moving_average(data[:, 4], window_size=window_size)\n",
    "    ma_diff = ma_end[1:] - ma_end[:-1]\n",
    "\n",
    "    ax.plot(np.arange(1, len(ma_end) + 1), ma_end)"
   ]
  },
  {
   "cell_type": "code",
   "execution_count": null,
   "metadata": {},
   "outputs": [],
   "source": [
    "raw_diff = data[:, 4] - data[:, 1]\n",
    "print(\"Number of start < end  : {} / {} ({:.2f} %)\".format(\n",
    "    (raw_diff > 0).sum(), len(raw_diff), (raw_diff > 0).sum() / len(raw_diff) * 100\n",
    "))"
   ]
  },
  {
   "cell_type": "code",
   "execution_count": null,
   "metadata": {},
   "outputs": [],
   "source": []
  }
 ],
 "metadata": {
  "kernelspec": {
   "display_name": "Python 3.10.6 ('.venv': poetry)",
   "language": "python",
   "name": "python3"
  },
  "language_info": {
   "codemirror_mode": {
    "name": "ipython",
    "version": 3
   },
   "file_extension": ".py",
   "mimetype": "text/x-python",
   "name": "python",
   "nbconvert_exporter": "python",
   "pygments_lexer": "ipython3",
   "version": "3.10.6"
  },
  "vscode": {
   "interpreter": {
    "hash": "0925d657e30d00cf1a4f19c1b7a91cf3b3559e9055505eaa2fd1b9771cefd6bc"
   }
  }
 },
 "nbformat": 4,
 "nbformat_minor": 2
}
