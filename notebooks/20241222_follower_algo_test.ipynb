{
 "cells": [
  {
   "cell_type": "code",
   "execution_count": null,
   "metadata": {},
   "outputs": [],
   "source": [
    "# 順張り戦略のお試し\n",
    "# スリッページが発生しない売買戦略を試す"
   ]
  },
  {
   "cell_type": "code",
   "execution_count": null,
   "metadata": {},
   "outputs": [],
   "source": [
    "from pathlib import Path\n",
    "import datetime\n",
    "\n",
    "import matplotlib.pyplot as plt\n",
    "import polars as pl\n",
    "import numpy as np\n",
    "\n",
    "import crypto\n",
    "import data_fetcher"
   ]
  },
  {
   "cell_type": "code",
   "execution_count": null,
   "metadata": {},
   "outputs": [],
   "source": [
    "start_date = datetime.datetime(2024, 1, 1)\n",
    "end_date = datetime.datetime(2024, 1, 31)\n",
    "symbol = \"BTC_JPY\"\n",
    "interval = 1"
   ]
  },
  {
   "cell_type": "code",
   "execution_count": null,
   "metadata": {},
   "outputs": [],
   "source": [
    "fetcher = data_fetcher.gmo.GMOFethcer()\n",
    "df = fetcher.fetch_ohlc(\n",
    "    symbol, interval=datetime.timedelta(minutes=interval), start_date=start_date, end_date=end_date\n",
    ")\n",
    "df = crypto.features.calc_features(df)"
   ]
  },
  {
   "cell_type": "code",
   "execution_count": null,
   "metadata": {},
   "outputs": [],
   "source": [
    "# 移動平均線ストレッチ\n",
    "window_size = 10\n",
    "col_key = f\"MA_{window_size}\"\n",
    "deviation_rate = 0.001\n",
    "df = df.with_columns(\n",
    "    pl.col(\"close\").rolling_mean(window_size=window_size).alias(col_key)\n",
    ").with_columns(\n",
    "    ((pl.col(\"close\") - pl.col(col_key)) / pl.col(\"close\") > deviation_rate).shift().alias(\"sell_point\"),\n",
    "    ((pl.col(col_key) - pl.col(\"close\")) / pl.col(\"close\") > deviation_rate).shift().alias(\"buy_point\"),\n",
    "    pl.col(\"close\").shift().alias(\"target_price\"),\n",
    ").with_columns(\n",
    "    ((pl.col(\"target_price\") > pl.col(\"low\")) & pl.col(\"buy_point\")).alias(\"buy_executed\"),\n",
    "    ((pl.col(\"target_price\") < pl.col(\"high\")) & pl.col(\"sell_point\")).alias(\"sell_executed\")\n",
    ")"
   ]
  },
  {
   "cell_type": "code",
   "execution_count": null,
   "metadata": {},
   "outputs": [],
   "source": [
    "profits = crypto.simulate.simulate_long_trade(\n",
    "    df, \"sell_executed\", \"buy_executed\", \"target_price\", \"target_price\", 100\n",
    ")\n",
    "plt.plot(profits.cumsum())"
   ]
  },
  {
   "cell_type": "code",
   "execution_count": null,
   "metadata": {},
   "outputs": [],
   "source": [
    "# ブレイクアウト\n",
    "window_size = 30\n",
    "df = df.with_columns(\n",
    "    ((pl.col(\"close\").rolling_max(window_size=window_size) - pl.col(\"close\")) < 1e-5).shift().alias(\"buy_point\"),\n",
    "    ((pl.col(\"close\") - pl.col(\"close\").rolling_min(window_size=window_size)) < 1e-5).shift().alias(\"sell_point\"),\n",
    "    pl.col(\"close\").shift().alias(\"target_price\"),\n",
    ").with_columns(\n",
    "    ((pl.col(\"target_price\") > pl.col(\"low\")) & pl.col(\"buy_point\")).alias(\"buy_executed\"),\n",
    "    ((pl.col(\"target_price\") < pl.col(\"high\")) & pl.col(\"sell_point\")).alias(\"sell_executed\")\n",
    ")"
   ]
  },
  {
   "cell_type": "code",
   "execution_count": null,
   "metadata": {},
   "outputs": [],
   "source": [
    "profits = crypto.simulate.simulate_long_trade(\n",
    "    df, \"sell_executed\", \"buy_executed\", \"target_price\", \"target_price\", 100\n",
    ")\n",
    "plt.plot(profits.cumsum())"
   ]
  },
  {
   "cell_type": "code",
   "execution_count": null,
   "metadata": {},
   "outputs": [],
   "source": [
    "# 連続上昇\n"
   ]
  },
  {
   "cell_type": "code",
   "execution_count": null,
   "metadata": {},
   "outputs": [],
   "source": []
  }
 ],
 "metadata": {
  "kernelspec": {
   "display_name": "Python 3",
   "language": "python",
   "name": "python3"
  },
  "language_info": {
   "codemirror_mode": {
    "name": "ipython",
    "version": 3
   },
   "file_extension": ".py",
   "mimetype": "text/x-python",
   "name": "python",
   "nbconvert_exporter": "python",
   "pygments_lexer": "ipython3",
   "version": "3.13.0"
  }
 },
 "nbformat": 4,
 "nbformat_minor": 2
}
