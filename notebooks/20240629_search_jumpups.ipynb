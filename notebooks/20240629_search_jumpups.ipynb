{
 "cells": [
  {
   "cell_type": "code",
   "execution_count": null,
   "metadata": {},
   "outputs": [],
   "source": [
    "# 急騰銘柄をリストアップしてその特徴を分析する\n",
    "# 一週間とかで株価が2倍になるような銘柄"
   ]
  },
  {
   "cell_type": "code",
   "execution_count": null,
   "metadata": {},
   "outputs": [],
   "source": [
    "from pathlib import Path\n",
    "import datetime\n",
    "\n",
    "import polars as pl\n",
    "\n",
    "import stock"
   ]
  },
  {
   "cell_type": "code",
   "execution_count": null,
   "metadata": {},
   "outputs": [],
   "source": [
    "code_list = stock.kabutan.get_code_list()\n",
    "current_date = datetime.date.today()\n",
    "start_date = current_date - datetime.timedelta(days=365)"
   ]
  },
  {
   "cell_type": "code",
   "execution_count": null,
   "metadata": {},
   "outputs": [],
   "source": [
    "# 直近一年間の中で、数日で大きく値上がりした銘柄のリストを取得\n",
    "target_dict = {}\n",
    "for code in code_list:\n",
    "    df = stock.kabutan.read_data_csv(code, start_date=start_date)\n",
    "    df = df.with_columns(\n",
    "        pl.col(\"close\").rolling_max(window_size=5).shift(-5).interpolate(\"nearest\").alias(\"maximum\"),\n",
    "        pl.col(\"close\").rolling_min(window_size=5).alias(\"minimum\"),\n",
    "    )\n",
    "    df = df.with_columns(\n",
    "        (pl.col(\"maximum\") > pl.col(\"minimum\") * 1.5).alias(\"flag\")\n",
    "    )\n",
    "    if len(df.filter(pl.col(\"flag\") == True)) > 0:\n",
    "        target_dict[code] = df.filter(pl.col(\"flag\") == True)"
   ]
  },
  {
   "cell_type": "code",
   "execution_count": null,
   "metadata": {},
   "outputs": [],
   "source": [
    "# 買い戦略を考える\n",
    "## 逆指値で前日より高い場合は買い\n",
    "## 損切りは前日安値 or 8%下の安い方\n",
    "\n",
    "# 売却戦略を考える\n",
    "## 50%上昇したら半分売却、20%下落したら売り、3週間以上経過したら売り\n"
   ]
  },
  {
   "cell_type": "code",
   "execution_count": null,
   "metadata": {},
   "outputs": [],
   "source": [
    "def is_watch_list(code, current_date, with_df = False):\n",
    "    start_date = current_date - datetime.timedelta(days=365)\n",
    "    df = stock.kabutan.read_data_csv(code, start_date=start_date, end_date=current_date)\n",
    "    fdf = (\n",
    "        stock.kabutan.read_financial_csv(code)\n",
    "        .filter(pl.col(\"annoounce_date\") <= current_date)\n",
    "        .sort(pl.col(\"annoounce_date\"))\n",
    "    )\n",
    "    if len(fdf) > 0 and current_date - fdf[\"annoounce_date\"][-1] < datetime.timedelta(days=1):\n",
    "        #print(\"Near financial result announcement date\")\n",
    "        return False\n",
    "\n",
    "    # 過去10日の値動きの大きさを計算\n",
    "    window_size = 10\n",
    "    avg_key = \"avg{}\".format(window_size)\n",
    "    stddev_key = \"stddev{}\".format(window_size)\n",
    "    df = df.with_columns(\n",
    "        pl.col(\"close\").rolling_mean(window_size=window_size).alias(avg_key),\n",
    "        pl.col(\"close\").rolling_std(window_size=window_size).alias(stddev_key),\n",
    "    )\n",
    "\n",
    "    # ギャップアップしている\n",
    "    df = df.with_columns(\n",
    "        (pl.col(\"close\") > pl.col(avg_key) + pl.col(stddev_key)).alias(\"breakpoint\")\n",
    "    )\n",
    "\n",
    "    # 出来高が増加（急増）\n",
    "    df = df.with_columns(\n",
    "        pl.col(\"volume\").rolling_mean(window_size=window_size).shift().alias(\"max_volume\")\n",
    "    )\n",
    "    df = df.with_columns((pl.col(\"volume\") > pl.col(\"max_volume\") * 2).alias(\"volume_increase\"))\n",
    "\n",
    "    if len(df) > 0 and df[\"breakpoint\"][-1] and df[\"volume_increase\"][-1]:\n",
    "        # 高値で引けている\n",
    "        flag = False\n",
    "        # if (df[\"close\"][-1] - df[\"low\"][-1]) / max(df[\"high\"][-1] - df[\"low\"][-1], 1e-5) > 0.8:\n",
    "        #     flag = True\n",
    "        if df[\"close\"][-1] >= df[\"open\"][-1]:\n",
    "            flag = True\n",
    "        # 出来高が急増\n",
    "        if df[\"volume\"][-1] > df[\"max_volume\"][-1] * 20:\n",
    "            flag = True\n",
    "        # if df[\"close\"][-1] > df[\"open\"][-1]: \n",
    "        # 小型株\n",
    "        market_cap = stock.kabutan.data.get_market_capitalization(code)\n",
    "        if flag and market_cap is not None and market_cap < 1000:\n",
    "            return True\n",
    "    \n",
    "    if with_df:\n",
    "        return False, df\n",
    "    return False"
   ]
  },
  {
   "cell_type": "code",
   "execution_count": null,
   "metadata": {},
   "outputs": [],
   "source": [
    "target_in_watchlist = {}\n",
    "for code, df in target_dict.items():\n",
    "    df = df.with_columns(\n",
    "        pl.col(\"date\").map_elements(lambda x: is_watch_list(code, x), return_dtype=bool).alias(\"is_watch_list\")\n",
    "    ).filter(pl.col(\"is_watch_list\"))\n",
    "    if len(df) > 0:\n",
    "        target_in_watchlist[code] = df"
   ]
  },
  {
   "cell_type": "code",
   "execution_count": null,
   "metadata": {},
   "outputs": [],
   "source": []
  },
  {
   "cell_type": "code",
   "execution_count": null,
   "metadata": {},
   "outputs": [],
   "source": [
    "num_target = len(target_dict)\n",
    "num_target_in_wl = len(target_in_watchlist)\n",
    "print(\"num_target = {}, num_target_in_wl = {}, {}\".format(num_target, num_target_in_wl, num_target_in_wl / num_target))"
   ]
  },
  {
   "cell_type": "code",
   "execution_count": null,
   "metadata": {},
   "outputs": [],
   "source": [
    "pl.Config.set_tbl_cols(-1)\n",
    "is_watch_list(\"4011\", current_date=datetime.date(2024, 2, 14), with_df=True)"
   ]
  },
  {
   "cell_type": "code",
   "execution_count": null,
   "metadata": {},
   "outputs": [],
   "source": [
    "for code, df in target_in_watchlist.items():\n",
    "    print(code, df[\"date\"].to_list())"
   ]
  },
  {
   "cell_type": "code",
   "execution_count": null,
   "metadata": {},
   "outputs": [],
   "source": []
  }
 ],
 "metadata": {
  "language_info": {
   "name": "python"
  }
 },
 "nbformat": 4,
 "nbformat_minor": 2
}
