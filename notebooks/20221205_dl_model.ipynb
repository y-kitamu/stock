{
 "cells": [
  {
   "cell_type": "markdown",
   "metadata": {},
   "source": [
    "## かんたんなモデルで動作確認"
   ]
  },
  {
   "cell_type": "code",
   "execution_count": null,
   "metadata": {},
   "outputs": [],
   "source": [
    "from pathlib import Path\n",
    "\n",
    "import tensorflow as tf\n",
    "\n",
    "import stock"
   ]
  },
  {
   "cell_type": "code",
   "execution_count": null,
   "metadata": {},
   "outputs": [],
   "source": [
    "dataset_params = stock.dl.dataset.DatasetParams(\n",
    "    symbols_csv_path=Path(\"~/work/Projects/stock/data/sp500_companies.csv\"),\n",
    "    data_dir=stock.DATA_DIR / \"sp500\",\n",
    "    dataset_path=stock.DATA_DIR / \"dataset\" / \"sp500_20221203.npy\",\n",
    "    input_width=30,\n",
    "    shift=30,\n",
    "    output_width=1,\n",
    ")\n",
    "dataset = stock.dl.dataset.Dataset(dataset_params)\n",
    "ds = dataset.make_dataset(is_train=True)"
   ]
  },
  {
   "cell_type": "code",
   "execution_count": null,
   "metadata": {},
   "outputs": [],
   "source": [
    "for x in ds.take(1):\n",
    "    print(x[0].shape, x[1].shape)"
   ]
  },
  {
   "cell_type": "code",
   "execution_count": null,
   "metadata": {},
   "outputs": [],
   "source": [
    "model = tf.keras.Sequential([\n",
    "    tf.keras.layers.LSTM(128),\n",
    "    tf.keras.layers.Dense(dataset.data.shape[1])\n",
    "])\n",
    "model.compile(loss=tf.keras.losses.MeanSquaredError(),\n",
    "        optimizer=tf.keras.optimizers.Adam(),\n",
    "        metrics=[tf.keras.metrics.MeanAbsoluteError()])\n",
    "model.build(input_shape=[dataset.params.batch_size, dataset.params.input_width, dataset.data.shape[1]])\n",
    "model.summary()"
   ]
  },
  {
   "cell_type": "code",
   "execution_count": null,
   "metadata": {},
   "outputs": [],
   "source": [
    "history = model.fit(ds.as_numpy_iterator(), epochs=10)"
   ]
  },
  {
   "cell_type": "code",
   "execution_count": null,
   "metadata": {},
   "outputs": [],
   "source": []
  }
 ],
 "metadata": {
  "kernelspec": {
   "display_name": "Python 3.10.6 ('.venv': poetry)",
   "language": "python",
   "name": "python3"
  },
  "language_info": {
   "codemirror_mode": {
    "name": "ipython",
    "version": 3
   },
   "file_extension": ".py",
   "mimetype": "text/x-python",
   "name": "python",
   "nbconvert_exporter": "python",
   "pygments_lexer": "ipython3",
   "version": "3.10.6"
  },
  "vscode": {
   "interpreter": {
    "hash": "0925d657e30d00cf1a4f19c1b7a91cf3b3559e9055505eaa2fd1b9771cefd6bc"
   }
  }
 },
 "nbformat": 4,
 "nbformat_minor": 2
}
