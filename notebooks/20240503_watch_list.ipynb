{
 "cells": [
  {
   "cell_type": "code",
   "execution_count": null,
   "metadata": {},
   "outputs": [],
   "source": [
    "# 新しいrelative strengthを基準としたwatch listを作成する\n",
    "import datetime\n",
    "from pathlib import Path\n",
    "\n",
    "import numpy as np\n",
    "import polars as pl\n",
    "import matplotlib.pyplot as plt\n",
    "\n",
    "import stock"
   ]
  },
  {
   "cell_type": "code",
   "execution_count": null,
   "metadata": {},
   "outputs": [],
   "source": [
    "csv_dir = stock.PROJECT_ROOT / \"data/daily\""
   ]
  },
  {
   "cell_type": "code",
   "execution_count": null,
   "metadata": {},
   "outputs": [],
   "source": [
    "def get_relative_strength_codes(target_date: datetime.date, csv_list: list[Path] | None = None) -> list[Path]:\n",
    "    # relative strengthが100を超えた銘柄を取得\n",
    "    target_list = []\n",
    "    csv_list = sorted(csv_dir.glob(\"*.csv\")) if csv_list is None else csv_list\n",
    "    for csv_path in csv_list:\n",
    "        df = stock.kabutan.read_data_csv(csv_path, end_date=target_date)\n",
    "        if len(df) < 2:\n",
    "            continue\n",
    "        target_rs, prev_rs = df[\"rs\"][-1], df[\"rs\"][-2]\n",
    "        if target_rs < 0 or prev_rs < 0:\n",
    "            continue\n",
    "        if prev_rs < 1.0 and 1.0 < target_rs:\n",
    "            target_list.append(csv_path)\n",
    "    return target_list"
   ]
  },
  {
   "cell_type": "code",
   "execution_count": null,
   "metadata": {},
   "outputs": [],
   "source": [
    "def get_near_high_codes(target_date: datetime.date, csv_list: list[Path] | None = None) -> list[Path]:\n",
    "    # 過去の高値（52高値？）付近に株価\n",
    "    min_rate_from_low = 0.2  # 安値から何割以上高くなっているか\n",
    "    near_from_high = 0.2  # 高値からどれくらい近くにいるか\n",
    "    target_list = []\n",
    "    csv_list = sorted(csv_dir.glob(\"*.csv\")) if csv_list is None else csv_list\n",
    "    for csv_path in csv_list:\n",
    "        df = stock.kabutan.read_data_csv(csv_path, start_date=target_date - datetime.timedelta(days=365), end_date=target_date)\n",
    "        min_val = df[\"low\"].min()\n",
    "        max_val = df[\"high\"].max()\n",
    "        cur_val = df[\"close\"][-1]\n",
    "        if cur_val > min_val * (1 + min_rate_from_low) and cur_val > max_val * (1 - near_from_high):\n",
    "            target_list.append(csv_path)\n",
    "    return target_list"
   ]
  },
  {
   "cell_type": "code",
   "execution_count": null,
   "metadata": {},
   "outputs": [],
   "source": [
    "def get_uptrend_codes(target_date: datetime.date, csv_list: list[Path] | None = None) -> list[Path]:\n",
    "    csv_list = sorted(csv_dir.glob(\"*.csv\")) if csv_list is None else csv_list\n",
    "    target_list = []\n",
    "    higher_price_weeks = [10, 30, 40]\n",
    "    up_trend_weeks = [40]\n",
    "    for csv_path in csv_list:\n",
    "        df = stock.kabutan.read_data_csv(csv_path, end_date=target_date)\n",
    "        \n",
    "        flag = True\n",
    "        # 移動平均線より株価が高いか\n",
    "        avgs = stock.trend_template.technical.calc_mean_average(df, weeks=higher_price_weeks, cur_day=target_date, target_days=1)\n",
    "        flag &= all([avg[0] < df[\"close\"][-1] for avg in avgs])\n",
    "        # 移動平均線が上昇トレンドかチェック\n",
    "        avgs = stock.trend_template.technical.calc_mean_average(df, weeks=up_trend_weeks, cur_day=target_date, target_days=10)\n",
    "        flag &= all([avg[0] < avg[-1] for avg in avgs])\n",
    "            \n",
    "        if flag:\n",
    "            target_list.append(csv_path)\n",
    "    return target_list"
   ]
  },
  {
   "cell_type": "code",
   "execution_count": null,
   "metadata": {},
   "outputs": [],
   "source": [
    "target_date = datetime.date(year=2024, month=4, day=1)\n",
    "\n",
    "target_list = get_relative_strength_codes(target_date)\n",
    "target_list = get_near_high_codes(target_date, target_list)\n",
    "target_list = get_uptrend_codes(target_date, target_list)"
   ]
  },
  {
   "cell_type": "code",
   "execution_count": null,
   "metadata": {},
   "outputs": [],
   "source": [
    "len(target_list)"
   ]
  },
  {
   "cell_type": "code",
   "execution_count": null,
   "metadata": {},
   "outputs": [],
   "source": []
  },
  {
   "cell_type": "code",
   "execution_count": null,
   "metadata": {},
   "outputs": [],
   "source": [
    "def plot_with_rs(df, start_date, end_date=datetime.datetime.today()):\n",
    "    fig = plt.figure()\n",
    "    df = df.filter((pl.col(\"date\") >= start_date) & (pl.col(\"date\") <= end_date))\n",
    "    ax1 = fig.add_subplot(111)\n",
    "    ax1.plot(df[\"date\"], df[\"close\"], \"red\", label=\"close\")\n",
    "\n",
    "    ax2 = ax1.twinx()\n",
    "    ax2.plot(df[\"date\"], df[\"rs\"], \"blue\", label=\"rs\")\n",
    "    ax2.grid(\"both\")\n",
    "    ax2.tick_params(axis='x', labelrotation=90)\n",
    "\n",
    "    plt.legend()"
   ]
  },
  {
   "cell_type": "code",
   "execution_count": null,
   "metadata": {},
   "outputs": [],
   "source": [
    "def calc_rs(dates, df, ref_df, days=30, use_weight=True):\n",
    "    min_date = df[\"date\"].min()\n",
    "    res = -np.ones(len(dates))\n",
    "    for idx, date in enumerate(sorted(dates)):\n",
    "        start_date = date - datetime.timedelta(days=days)\n",
    "        if start_date < min_date:\n",
    "            continue\n",
    "        res[idx] = stock.relative_strength.relative_strength_v2(\n",
    "            df, ref_df, start_date=start_date, end_date=date, use_weight=use_weight)\n",
    "    return pl.Series(res)"
   ]
  },
  {
   "cell_type": "code",
   "execution_count": null,
   "metadata": {},
   "outputs": [],
   "source": [
    "code = \"6254\"\n",
    "csv_path = csv_dir / f\"{code}.csv\"\n",
    "df = stock.kabutan.read_data_csv(csv_path)\n",
    "ref_df = stock.kabutan.read_data_csv(csv_dir / \"0010.csv\")\n",
    "end_date = datetime.date.today()\n",
    "start_date = end_date - datetime.timedelta(days=365)"
   ]
  },
  {
   "cell_type": "code",
   "execution_count": null,
   "metadata": {},
   "outputs": [],
   "source": [
    "df = df.with_columns(pl.col(\"date\").map_batches(lambda val : calc_rs(val, df, ref_df, use_weight=False)).alias(\"rs\"))\n",
    "plot_with_rs(df, start_date=start_date, end_date=end_date)"
   ]
  },
  {
   "cell_type": "code",
   "execution_count": null,
   "metadata": {},
   "outputs": [],
   "source": [
    "df = df.with_columns(pl.col(\"date\").map_batches(lambda val : calc_rs(val, df, ref_df, use_weight=True)).alias(\"rs\"))\n",
    "plot_with_rs(df, start_date=start_date, end_date=end_date)"
   ]
  },
  {
   "cell_type": "code",
   "execution_count": null,
   "metadata": {},
   "outputs": [],
   "source": []
  },
  {
   "cell_type": "code",
   "execution_count": null,
   "metadata": {},
   "outputs": [],
   "source": []
  }
 ],
 "metadata": {
  "kernelspec": {
   "display_name": ".venv",
   "language": "python",
   "name": "python3"
  },
  "language_info": {
   "codemirror_mode": {
    "name": "ipython",
    "version": 3
   },
   "file_extension": ".py",
   "mimetype": "text/x-python",
   "name": "python",
   "nbconvert_exporter": "python",
   "pygments_lexer": "ipython3",
   "version": "3.10.12"
  }
 },
 "nbformat": 4,
 "nbformat_minor": 2
}
