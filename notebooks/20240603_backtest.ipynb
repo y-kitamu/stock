{
 "cells": [
  {
   "cell_type": "code",
   "execution_count": null,
   "metadata": {},
   "outputs": [],
   "source": [
    "from pathlib import Path\n",
    "import datetime\n",
    "\n",
    "import matplotlib.pyplot as plt\n",
    "from matplotlib import gridspec\n",
    "import polars as pl\n",
    "import plotly.graph_objects as go\n",
    "from plotly.subplots import make_subplots\n",
    "import requests\n",
    "from bs4 import BeautifulSoup\n",
    "\n",
    "import stock"
   ]
  },
  {
   "cell_type": "code",
   "execution_count": null,
   "metadata": {},
   "outputs": [],
   "source": [
    "def get_simulation_results(\n",
    "    watch_list: list[str], target_date: datetime.date = datetime.date.today()\n",
    "):\n",
    "    results = []\n",
    "    for idx, code in enumerate(watch_list):\n",
    "        stop_condition = stock.simulation.OnielStopCondition()\n",
    "        res = stock.simulation.run(code, target_date, stop_condition)\n",
    "        if res.buying_price > 0:\n",
    "            results.append(\n",
    "                {\"code\": code, \"duration\": res.duration, \"profit\": round(res.profit * 100)}\n",
    "            )\n",
    "    return results\n"
   ]
  },
  {
   "cell_type": "code",
   "execution_count": null,
   "metadata": {},
   "outputs": [],
   "source": [
    "original_date = datetime.date(year=2022, month=6, day=8)\n",
    "for i in range(0, 365, 5):\n",
    "    target_date = original_date + datetime.timedelta(days=i)\n",
    "    watch_list = stock.trend_template.get_watch_list_v3(target_date)\n",
    "    results = get_simulation_results(watch_list, target_date)\n",
    "    success = [res for res in results if res[\"profit\"] == 20]\n",
    "    print(\"date = {}, success / total = {} / {}\".format(target_date, len(success), len(results)))\n"
   ]
  },
  {
   "cell_type": "code",
   "execution_count": null,
   "metadata": {},
   "outputs": [],
   "source": [
    "stock.kabutan.data.get_number_of_shares(\"8142\")"
   ]
  },
  {
   "cell_type": "code",
   "execution_count": null,
   "metadata": {},
   "outputs": [],
   "source": [
    "code = \"8142\"\n",
    "base_url = \"https://kabutan.jp/stock/?code={}\"\n",
    "res = requests.get(base_url.format(code))\n",
    "soup = BeautifulSoup(res.text, features=\"lxml\")"
   ]
  },
  {
   "cell_type": "code",
   "execution_count": null,
   "metadata": {},
   "outputs": [],
   "source": [
    "for table in soup.find(\"div\", {\"id\": \"kobetsu_left\"}).findAll(\"table\"):\n",
    "    for table_row in table.find_all(\"tr\"):\n",
    "        th = table_row.find(\"th\")\n",
    "        if th is not None and th.text == \"発行済株式数\":\n",
    "            td = table_row.find(\"td\")\n",
    "            print(td.text)\n",
    "            #convert_to_number(td.text)\n",
    "            break\n",
    "    "
   ]
  },
  {
   "cell_type": "code",
   "execution_count": null,
   "metadata": {},
   "outputs": [],
   "source": [
    "stock.util.convert_to_number(td.text)"
   ]
  },
  {
   "cell_type": "code",
   "execution_count": null,
   "metadata": {},
   "outputs": [],
   "source": []
  },
  {
   "cell_type": "code",
   "execution_count": null,
   "metadata": {},
   "outputs": [],
   "source": [
    "code_list = stock.get_code_list()\n",
    "target_date = datetime.date(2022, 6, 8)\n",
    "\n",
    "stop_condition =stock.simulation.OnielStopCondition()\n",
    "results = [stock.simulation.run(code, target_date, stop_condition) for code in code_list]"
   ]
  },
  {
   "cell_type": "code",
   "execution_count": null,
   "metadata": {},
   "outputs": [],
   "source": [
    "res = stock.simulation.run(\"5032\", target_date, stop_condition)"
   ]
  },
  {
   "cell_type": "code",
   "execution_count": null,
   "metadata": {},
   "outputs": [],
   "source": [
    "res"
   ]
  },
  {
   "cell_type": "code",
   "execution_count": null,
   "metadata": {},
   "outputs": [],
   "source": [
    "profit_results = [res for res in results if round(res.profit * 100) >= 20]"
   ]
  },
  {
   "cell_type": "code",
   "execution_count": null,
   "metadata": {},
   "outputs": [],
   "source": [
    "len(profit_results)"
   ]
  },
  {
   "cell_type": "code",
   "execution_count": null,
   "metadata": {},
   "outputs": [],
   "source": [
    "\n"
   ]
  },
  {
   "cell_type": "code",
   "execution_count": null,
   "metadata": {},
   "outputs": [],
   "source": []
  },
  {
   "cell_type": "code",
   "execution_count": null,
   "metadata": {},
   "outputs": [],
   "source": [
    "# 新高値銘柄のバックテスト\n",
    "code_df = stock.get_code_df()\n",
    "code_list = code_df[\"コード\"].to_list()\n",
    "\n",
    "target_date = datetime.date(year=2023, month=6, day=1)\n",
    "highest_codes = []\n",
    "for code in code_list:\n",
    "    df = stock.kabutan.read_data_csv(stock.DATA_DIR / \"daily\" / f\"{code}.csv\")\n",
    "    df = df.filter((pl.col(\"date\") <= target_date) & (pl.col(\"date\") >= target_date - datetime.timedelta(days=365)))\n",
    "    if len(df) == 0:\n",
    "        continue\n",
    "    if df[\"high\"].max() * 0.998 < df[\"high\"][-1]:\n",
    "        highest_codes.append(code)\n",
    "    break"
   ]
  }
 ],
 "metadata": {
  "kernelspec": {
   "display_name": ".venv",
   "language": "python",
   "name": "python3"
  },
  "language_info": {
   "codemirror_mode": {
    "name": "ipython",
    "version": 3
   },
   "file_extension": ".py",
   "mimetype": "text/x-python",
   "name": "python",
   "nbconvert_exporter": "python",
   "pygments_lexer": "ipython3",
   "version": "3.10.12"
  }
 },
 "nbformat": 4,
 "nbformat_minor": 2
}
