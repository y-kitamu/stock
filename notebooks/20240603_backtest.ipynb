{
 "cells": [
  {
   "cell_type": "code",
   "execution_count": null,
   "metadata": {},
   "outputs": [],
   "source": [
    "from pathlib import Path\n",
    "import datetime\n",
    "\n",
    "import matplotlib.pyplot as plt\n",
    "from matplotlib import gridspec\n",
    "import polars as pl\n",
    "import plotly.graph_objects as go\n",
    "from plotly.subplots import make_subplots\n",
    "\n",
    "import stock"
   ]
  },
  {
   "cell_type": "code",
   "execution_count": null,
   "metadata": {},
   "outputs": [],
   "source": [
    "# 新高値銘柄のバックテスト\n",
    "code_df = stock.get_code_df()\n",
    "code_list = code_df[\"コード\"].to_list()\n",
    "\n",
    "target_date = datetime.date(year=2023, month=6, day=1)\n",
    "highest_codes = []\n",
    "for code in code_list:\n",
    "    df = stock.kabutan.read_data_csv(stock.DATA_DIR / \"daily\" / f\"{code}.csv\")\n",
    "    df = df.filter((pl.col(\"date\") <= target_date) & (pl.col(\"date\") >= target_date - datetime.timedelta(days=365)))\n",
    "    if len(df) == 0:\n",
    "        continue\n",
    "    if df[\"high\"].max() * 0.998 < df[\"high\"][-1]:\n",
    "        highest_codes.append(code)"
   ]
  },
  {
   "cell_type": "code",
   "execution_count": null,
   "metadata": {},
   "outputs": [],
   "source": [
    "len(highest_codes)"
   ]
  },
  {
   "cell_type": "code",
   "execution_count": null,
   "metadata": {},
   "outputs": [],
   "source": [
    "idx = 0\n",
    "code = highest_codes[idx]\n",
    "df = stock.kabutan.read_data_csv(stock.DATA_DIR / \"daily\" / f\"{code}.csv\")\n",
    "df = df.filter((pl.col(\"date\") <= target_date) & (pl.col(\"date\") >= target_date - datetime.timedelta(days=365 * 2)))\n",
    "# Create subplots and mention plot grid size\n",
    "fig = make_subplots(rows=2, cols=1, shared_xaxes=True, vertical_spacing=0.03, subplot_titles=('OHLC', 'Volume'), row_width=[0.2, 0.7])\n",
    "# Plot OHLC on 1st row\n",
    "fig.add_trace(go.Candlestick(x=df[\"date\"], open=df[\"open\"], high=df[\"high\"], low=df[\"low\"], close=df[\"close\"], name=\"OHLC\"),  row=1, col=1)\n",
    "# Bar trace for volumes on 2nd row without legend\n",
    "fig.add_trace(go.Bar(x=df['date'], y=df['volume'], showlegend=False), row=2, col=1)\n",
    "fig.update_xaxes(rangebreaks=[dict(bounds=[\"sat\", \"mon\"])])\n",
    "fig.update_layout(width=1500, height=1000)\n",
    "fig.show()"
   ]
  },
  {
   "cell_type": "code",
   "execution_count": null,
   "metadata": {},
   "outputs": [],
   "source": [
    "# 値動きと出来高から候補を抽出\n",
    "\n",
    "gs = gridspec.GridSpec(3, 2)\n",
    "fig = plt.figure(figsize=(40, 8))\n",
    "ax1 = plt.subplot(gs[:2, 0])\n",
    "ax2 = plt.subplot(gs[2, 0], sharex=ax1)\n",
    "ax1.plot(df[\"date\"], df[\"close\"])\n",
    "ax2.bar(df[\"date\"], df[\"volume\"])\n",
    "ax2.set_ylim(0, df[\"volume\"].max())\n",
    "ax1.set_yscale(\"log\")\n",
    "ax1.grid()\n",
    "ax2.grid()\n",
    "\n",
    "recent_df = df.filter(pl.col(\"date\") >= target_date - datetime.timedelta(120))\n",
    "ax3 = plt.subplot(gs[:2, 1])\n",
    "ax4 = plt.subplot(gs[2:, 1], sharex=ax3)\n",
    "ax3.plot(recent_df[\"date\"], recent_df[\"close\"])\n",
    "ax4.bar(recent_df[\"date\"], recent_df[\"volume\"])\n",
    "ax4.set_ylim(0, df[\"volume\"].mean() * 2)\n",
    "ax3.set_yscale(\"log\")\n",
    "ax3.grid()\n",
    "ax4.grid()\n",
    "\n",
    "fig.show()"
   ]
  },
  {
   "cell_type": "code",
   "execution_count": null,
   "metadata": {},
   "outputs": [],
   "source": []
  }
 ],
 "metadata": {
  "kernelspec": {
   "display_name": ".venv",
   "language": "python",
   "name": "python3"
  },
  "language_info": {
   "codemirror_mode": {
    "name": "ipython",
    "version": 3
   },
   "file_extension": ".py",
   "mimetype": "text/x-python",
   "name": "python",
   "nbconvert_exporter": "python",
   "pygments_lexer": "ipython3",
   "version": "3.10.12"
  }
 },
 "nbformat": 4,
 "nbformat_minor": 2
}
