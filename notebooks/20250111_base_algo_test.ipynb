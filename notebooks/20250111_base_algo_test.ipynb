{
 "cells": [
  {
   "cell_type": "markdown",
   "metadata": {},
   "source": [
    "既存の特徴量を使って売買タイミングを図る（ベースのアルゴリズムをつくる）のではなく、  \n",
    "機械学習アルゴリズムで売買タイミングの判定まで一気に行う手法を検討する。"
   ]
  },
  {
   "cell_type": "code",
   "execution_count": null,
   "metadata": {},
   "outputs": [],
   "source": [
    "from pathlib import Path\n",
    "import datetime\n",
    "\n",
    "import talib\n",
    "import matplotlib.pyplot as plt\n",
    "import polars as pl\n",
    "import numpy as np\n",
    "import lightgbm as lgb\n",
    "from sklearn import svm, neural_network\n",
    "\n",
    "import crypto\n",
    "import data_fetcher"
   ]
  },
  {
   "cell_type": "code",
   "execution_count": null,
   "metadata": {},
   "outputs": [],
   "source": [
    "def get_df(symbol, start_date, end_date, interval):\n",
    "    fetcher = data_fetcher.gmo.GMOFethcer()\n",
    "    df = fetcher.fetch_ohlc(\n",
    "        symbol, interval=datetime.timedelta(minutes=interval), start_date=start_date, end_date=end_date\n",
    "    )\n",
    "    df = crypto.features.calc_features(df)\n",
    "    df = df.filter(\n",
    "        pl.all_horizontal(pl.col(pl.Float32, pl.Float64).is_not_nan())\n",
    "    )\n",
    "    return df\n",
    "\n",
    "def calc_profits(df, suffix):\n",
    "    df = df.with_columns(\n",
    "        pl.Series(\n",
    "            crypto.simulate.simulate_long_trade(\n",
    "                df, f\"sell_executed{suffix}\", f\"buy_executed{suffix}\", f\"target_price{suffix}\", f\"target_price{suffix}\", wall_timestep=100\n",
    "            )\n",
    "        ).alias(f\"profits{suffix}\")\n",
    "    )    \n",
    "    return df"
   ]
  },
  {
   "cell_type": "code",
   "execution_count": null,
   "metadata": {},
   "outputs": [],
   "source": [
    "symbol = \"BTC_JPY\"\n",
    "interval = 1\n",
    "start_date = datetime.datetime(2024, 1, 1)\n",
    "end_date = start_date + datetime.timedelta(days=60)\n",
    "df = get_df(symbol, start_date=start_date, end_date=end_date, interval=interval)"
   ]
  },
  {
   "cell_type": "code",
   "execution_count": null,
   "metadata": {},
   "outputs": [],
   "source": [
    "# 値動きをスコア化\n",
    "# 現在の価格が最大保有期間の値幅の中でどの位置にいるかをスコア化\n",
    "# （高値付近 -> -1.0、安値付近 -> 1.0になるように）\n",
    "window_size = 60  # 最大保有期間\n",
    "pl.Config.set_tbl_rows(100)\n",
    "df = df.with_columns(\n",
    "    pl.col(\"close\").rolling_max(window_size=window_size).shift(-window_size + 1).alias(\"rolling_max\"),\n",
    "    pl.col(\"close\").rolling_min(window_size=window_size).shift(-window_size + 1).alias(\"rolling_min\"),\n",
    ").with_columns(\n",
    "    (1.0 - (pl.col(\"close\") - pl.col(\"rolling_min\")) / (pl.col(\"rolling_max\") - pl.col(\"rolling_min\")) * 2.0).alias(\"score\")\n",
    ")"
   ]
  },
  {
   "cell_type": "code",
   "execution_count": null,
   "metadata": {},
   "outputs": [],
   "source": [
    "start_idx = 100\n",
    "end_idx = 200\n",
    "plt.plot(df[\"close\"][start_idx:end_idx] / df[\"close\"][0] - 1)\n",
    "plt.plot(df[\"rolling_max\"][start_idx:end_idx] / df[\"close\"][0] - 1)\n",
    "plt.plot(df[\"rolling_min\"][start_idx:end_idx] / df[\"close\"][0] - 1)\n",
    "plt.plot(df[\"score\"][start_idx:end_idx] * 0.01)"
   ]
  },
  {
   "cell_type": "code",
   "execution_count": null,
   "metadata": {},
   "outputs": [],
   "source": [
    "# 機械学習に使う特徴量を選択"
   ]
  },
  {
   "cell_type": "code",
   "execution_count": null,
   "metadata": {},
   "outputs": [],
   "source": [
    "start_idx = 100\n",
    "end_idx = 200\n",
    "\n",
    "plt.plot(df[\"close\"][start_idx:end_idx] / df[\"close\"][0] - 1.0)\n",
    "# plt.plot(df[\"DEMA\"][start_idx:end_idx], label=\"dema\")\n",
    "# plt.plot(df[\"HT_TRENDLINE\"][start_idx:end_idx], label=\"ht\")\n",
    "# plt.plot(df[\"KAMA\"][start_idx:end_idx], label=\"kama\")\n",
    "# plt.plot(df[\"MA\"][start_idx:end_idx], label=\"ma\")\n",
    "# plt.plot(df[\"MIDPOINT\"][start_idx:end_idx], label=\"mid\")\n",
    "# plt.plot(df[\"SMA\"][start_idx:end_idx], label=\"sma\")\n",
    "# plt.plot(df[\"T3\"][start_idx:end_idx], label=\"T3\")\n",
    "#plt.plot((df[\"ADOSC\"] * df[\"close\"])[start_idx:end_idx] * 0.01, label=\"ad\")\n",
    "labels = [\n",
    "    # DEMA\n",
    "    # \"BBANDS_upperband\",\n",
    "    # \"BBANDS_lowerband\",\n",
    "    # \"DEMA\",\n",
    "    # \"LINEARREG\",\n",
    "    # \"LINEARREG_SLOPE\",\n",
    "    # \"LINEARREG_INTERCEPT\",\n",
    "    # \"ADOSC\"\n",
    "    # \"APO\",\n",
    "    # \"MACD_macd\",\n",
    "    # \"MACD_macdhist\",\n",
    "    # \"MINUS_DM\",\n",
    "    # \"PLUS_DM\",\n",
    "    #\"ADX\",\n",
    "    # \"MOM\",\n",
    "    # \"OBV\",\n",
    "    # \"AROOONOSC\"\n",
    "]\n",
    "for label in labels:\n",
    "    plt.plot(df[label][start_idx:end_idx], label=label)\n",
    "\n",
    "plt.legend()\n",
    "plt.grid()"
   ]
  },
  {
   "cell_type": "code",
   "execution_count": null,
   "metadata": {},
   "outputs": [],
   "source": [
    "# res = talib.STDDEV(df[\"close\"])\n",
    "# res1 = talib.OBV(df[\"close\"], df[\"volume\"])\n",
    "#res1, res2 = talib.AROON(high=df[\"high\"], low=df[\"low\"], timeperiod=14)\n",
    "res = talib.BOP(open=df[\"open\"], high=df[\"high\"], low=df[\"low\"], close=df[\"close\"])\n",
    "\n",
    "# start_idx = 0\n",
    "# end_idx = 200 #len(df)\n",
    "#plt.plot(df[\"close\"][start_idx:end_idx], label=\"close\")\n",
    "plt.plot(res[start_idx:end_idx] * 100, label=\"feat\")\n",
    "# plt.plot(res1[start_idx:end_idx], label=\"feat1\")\n",
    "# plt.plot(res2[start_idx:end_idx], label=\"feat2\")\n",
    "plt.legend()\n",
    "plt.grid()"
   ]
  },
  {
   "cell_type": "code",
   "execution_count": null,
   "metadata": {},
   "outputs": [],
   "source": []
  }
 ],
 "metadata": {
  "kernelspec": {
   "display_name": "Python 3",
   "language": "python",
   "name": "python3"
  },
  "language_info": {
   "codemirror_mode": {
    "name": "ipython",
    "version": 3
   },
   "file_extension": ".py",
   "mimetype": "text/x-python",
   "name": "python",
   "nbconvert_exporter": "python",
   "pygments_lexer": "ipython3",
   "version": "3.13.0"
  }
 },
 "nbformat": 4,
 "nbformat_minor": 2
}
