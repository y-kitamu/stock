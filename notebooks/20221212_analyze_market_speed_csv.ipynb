{
 "cells": [
  {
   "cell_type": "markdown",
   "metadata": {},
   "source": [
    "# market speedから取得した株価のcsvを解析、使えるようにする "
   ]
  },
  {
   "cell_type": "code",
   "execution_count": null,
   "metadata": {},
   "outputs": [],
   "source": [
    "from pathlib import Path\n",
    "from datetime import datetime\n",
    "import csv\n",
    "\n",
    "import pandas as pd"
   ]
  },
  {
   "cell_type": "code",
   "execution_count": null,
   "metadata": {},
   "outputs": [],
   "source": [
    "\n",
    "output_dir = Path.home() / \"work/Projects/stock/data/nikkei225/\"\n",
    "csv_path = Path.home() / \"work/Projects/stock/data/nikkei225/raw/1332.csv\"\n",
    "\n",
    "df = pd.read_csv(csv_path)"
   ]
  },
  {
   "cell_type": "code",
   "execution_count": null,
   "metadata": {},
   "outputs": [],
   "source": [
    "df = df.sort_values(\"日付\")\n",
    "df = df[df[\"始値\"] != \"-\"]  # remove rows with no data"
   ]
  },
  {
   "cell_type": "markdown",
   "metadata": {},
   "source": [
    "## まずはs&p500と同じ形式で保存する"
   ]
  },
  {
   "cell_type": "code",
   "execution_count": null,
   "metadata": {},
   "outputs": [],
   "source": [
    "rows = [[\"timestamp\", \"start\", \"high\", \"low\", \"end\", \"volume\"]]\n",
    "for idx, row in df.iterrows():\n",
    "    date = datetime.strptime(row[\"日付\"], \"%Y/%m/%d\")\n",
    "    date = datetime(year=date.year, month=date.month, day=date.day, tzinfo=datetime.now().astimezone().tzinfo)\n",
    "    timestamp = date.timestamp() - date.utcoffset().seconds\n",
    "    rows.append(\n",
    "        [(int)(timestamp), row[\"始値\"], row[\"高値\"], row[\"安値\"], row[\"終値\"], row[\"出来高\"].replace(\",\", \"\")]\n",
    "    )\n",
    "\n",
    "output_path = output_dir / csv_path.name\n",
    "with open(output_path, \"w\", encoding=\"utf8\") as f:\n",
    "    csv_writer = csv.writer(f)\n",
    "    csv_writer.writerows(rows)"
   ]
  },
  {
   "cell_type": "code",
   "execution_count": null,
   "metadata": {},
   "outputs": [],
   "source": []
  }
 ],
 "metadata": {
  "kernelspec": {
   "display_name": "Python 3.10.6 ('.venv': poetry)",
   "language": "python",
   "name": "python3"
  },
  "language_info": {
   "codemirror_mode": {
    "name": "ipython",
    "version": 3
   },
   "file_extension": ".py",
   "mimetype": "text/x-python",
   "name": "python",
   "nbconvert_exporter": "python",
   "pygments_lexer": "ipython3",
   "version": "3.10.6"
  },
  "vscode": {
   "interpreter": {
    "hash": "0925d657e30d00cf1a4f19c1b7a91cf3b3559e9055505eaa2fd1b9771cefd6bc"
   }
  }
 },
 "nbformat": 4,
 "nbformat_minor": 2
}
