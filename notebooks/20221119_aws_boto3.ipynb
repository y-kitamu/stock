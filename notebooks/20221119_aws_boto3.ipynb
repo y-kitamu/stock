{
 "cells": [
  {
   "cell_type": "markdown",
   "metadata": {},
   "source": [
    "# boto3のテスト"
   ]
  },
  {
   "cell_type": "code",
   "execution_count": null,
   "metadata": {},
   "outputs": [],
   "source": [
    "import boto3"
   ]
  },
  {
   "cell_type": "code",
   "execution_count": null,
   "metadata": {},
   "outputs": [],
   "source": [
    "s3 = boto3.client(\"s3\", region_name=\"ap-notrheast-1\")"
   ]
  },
  {
   "cell_type": "code",
   "execution_count": null,
   "metadata": {},
   "outputs": [],
   "source": [
    "client = boto3.client(\"dynamodb\", region_name=\"ap-notrheast-1\")\n",
    "client.create_table(\n",
    "    TableName=\"test\",\n",
    "    KeySchema=[\n",
    "        {\n",
    "            \"AttributeName\": \"code\",\n",
    "            \"KeyType\": \"HASH\"\n",
    "        },\n",
    "        {\n",
    "            \"AttributeName\": \"date\",\n",
    "            \"KeyType\": \"RANGE\"  \n",
    "        }\n",
    "    ],\n",
    "    AttributeDefinitions=[\n",
    "        {\n",
    "            \"AttributeName\": \"code\",\n",
    "            \"AttributeType\": \"S\"\n",
    "        },\n",
    "        {\n",
    "            \"AttributeName\": \"date\",\n",
    "            \"AttributeType\": \"S\"\n",
    "        }\n",
    "    ],\n",
    "    ProvisionedThroughput={\n",
    "        \"ReadCapacityUnits\": 5,\n",
    "        \"WriteCapacityUnits\": 5\n",
    "    }\n",
    ")"
   ]
  }
 ],
 "metadata": {
  "kernelspec": {
   "display_name": "Python 3.8.10 ('.venv': poetry)",
   "language": "python",
   "name": "python3"
  },
  "language_info": {
   "codemirror_mode": {
    "name": "ipython",
    "version": 3
   },
   "file_extension": ".py",
   "mimetype": "text/x-python",
   "name": "python",
   "nbconvert_exporter": "python",
   "pygments_lexer": "ipython3",
   "version": "3.8.10"
  },
  "vscode": {
   "interpreter": {
    "hash": "0925d657e30d00cf1a4f19c1b7a91cf3b3559e9055505eaa2fd1b9771cefd6bc"
   }
  }
 },
 "nbformat": 4,
 "nbformat_minor": 2
}
