{
 "cells": [
  {
   "cell_type": "markdown",
   "metadata": {},
   "source": [
    "# boto3のテスト"
   ]
  },
  {
   "cell_type": "code",
   "execution_count": null,
   "metadata": {},
   "outputs": [],
   "source": [
    "import boto3"
   ]
  },
  {
   "cell_type": "code",
   "execution_count": null,
   "metadata": {},
   "outputs": [],
   "source": [
    "s3 = boto3.client(\"s3\", region_name=\"ap-notrheast-1\")"
   ]
  },
  {
   "cell_type": "code",
   "execution_count": null,
   "metadata": {},
   "outputs": [],
   "source": [
    "client = boto3.client(\"dynamodb\", region_name=\"ap-northeast-1\")\n",
    "# resp = client.create_table(\n",
    "#     TableName=\"test\",\n",
    "#     KeySchema=[\n",
    "#         {\n",
    "#             \"AttributeName\": \"code\",\n",
    "#             \"KeyType\": \"HASH\"\n",
    "#         },\n",
    "#         {\n",
    "#             \"AttributeName\": \"date\",\n",
    "#             \"KeyType\": \"RANGE\"  \n",
    "#         }\n",
    "#     ],\n",
    "#     AttributeDefinitions=[\n",
    "#         {\n",
    "#             \"AttributeName\": \"code\",\n",
    "#             \"AttributeType\": \"S\"\n",
    "#         },\n",
    "#         {\n",
    "#             \"AttributeName\": \"date\",\n",
    "#             \"AttributeType\": \"S\"\n",
    "#         }\n",
    "#     ],\n",
    "#     ProvisionedThroughput={\n",
    "#         \"ReadCapacityUnits\": 5,\n",
    "#         \"WriteCapacityUnits\": 5\n",
    "#     }\n",
    "# )"
   ]
  },
  {
   "cell_type": "code",
   "execution_count": null,
   "metadata": {},
   "outputs": [],
   "source": [
    "client.list_tables()"
   ]
  },
  {
   "cell_type": "code",
   "execution_count": null,
   "metadata": {},
   "outputs": [],
   "source": [
    "dynamodb = boto3.resource(\"dynamodb\", region_name=\"ap-northeast-1\")"
   ]
  },
  {
   "cell_type": "code",
   "execution_count": null,
   "metadata": {},
   "outputs": [],
   "source": [
    "table_name = \"stock_data\"\n",
    "\n",
    "is_table_exist = len([\n",
    "        tbl for tbl in dynamodb.tables.all() if tbl.name == table_name\n",
    "    ]) > 0  "
   ]
  },
  {
   "cell_type": "code",
   "execution_count": null,
   "metadata": {},
   "outputs": [],
   "source": [
    "if not is_table_exist:\n",
    "    table = dynamodb.create_table(\n",
    "        TableName=table_name,\n",
    "        KeySchema=[\n",
    "            {\n",
    "                \"AttributeName\": \"code\",\n",
    "                \"KeyType\": \"HASH\"\n",
    "            },\n",
    "            {\n",
    "                \"AttributeName\": \"date\",\n",
    "                \"KeyType\": \"RANGE\"\n",
    "            }\n",
    "        ],\n",
    "        AttributeDefinitions=[\n",
    "            {\n",
    "                \"AttributeName\": \"code\",\n",
    "                \"AttributeType\": \"S\"\n",
    "            },\n",
    "            {\n",
    "                \"AttributeName\": \"date\",\n",
    "                \"AttributeType\": \"S\"\n",
    "            }\n",
    "        ],\n",
    "        ProvisionedThroughput={\n",
    "            \"ReadCapacityUnits\": 5,\n",
    "            \"WriteCapacityUnits\": 5\n",
    "        }\n",
    "    )\n",
    "    table.wait_until_exists()\n",
    "else:\n",
    "    table = dynamodb.Table(table_name)\n",
    "\n",
    "print(table.item_count)"
   ]
  },
  {
   "cell_type": "code",
   "execution_count": null,
   "metadata": {},
   "outputs": [],
   "source": [
    "table.put_item(\n",
    "    Item={\n",
    "        \"code\": \"foo\",\n",
    "        \"date\": \"20221124\",\n",
    "        \"timestamps\": [1, 2, 3, 4, 5, 6,]\n",
    "    }\n",
    ")\n"
   ]
  },
  {
   "cell_type": "code",
   "execution_count": null,
   "metadata": {},
   "outputs": [],
   "source": [
    "response = table.get_item(Key={\n",
    "    \"code\": \"foo\",\n",
    "    \"date\": \"20221124\"\n",
    "})\n",
    "\n",
    "item = response[\"Item\"]\n",
    "print(item[\"timestamps\"])"
   ]
  },
  {
   "cell_type": "code",
   "execution_count": null,
   "metadata": {},
   "outputs": [],
   "source": [
    "## yahoo financeからデータ取得 -> dynamodbに保存\n",
    "import decimal\n",
    "from datetime import datetime\n",
    "import stock\n",
    "\n",
    "code = \"META\"\n",
    "\n",
    "data = stock.scraping.yahoo_finance.get_stock_time_series(code, \"1m\", \"1d\", include_pre_post=True)\n",
    "date = datetime.fromtimestamp(data.timestamp[-1]).strftime(\"%Y%m%d\")\n",
    "    \n",
    "def to_decimal(arr):\n",
    "    return [decimal.Decimal(str(val)) for val in arr]\n",
    "\n",
    "# table.put_item(Item={\n",
    "#     \"code\": code,\n",
    "#     \"date\": date,\n",
    "#     \"timestamp\": data.timestamp,\n",
    "#     \"open\": to_decimal(data.open),\n",
    "#     \"high\": to_decimal(data.high),\n",
    "#     \"low\": to_decimal(data.low),\n",
    "#     \"close\": to_decimal(data.close),\n",
    "#     \"volume\": to_decimal(data.volume),\n",
    "# })"
   ]
  },
  {
   "cell_type": "code",
   "execution_count": null,
   "metadata": {},
   "outputs": [],
   "source": [
    "import json\n",
    "\n",
    "with open(\"./tmp.json\", \"w\") as f:\n",
    "    json.dump(data, f)"
   ]
  },
  {
   "cell_type": "code",
   "execution_count": null,
   "metadata": {},
   "outputs": [],
   "source": []
  }
 ],
 "metadata": {
  "kernelspec": {
   "display_name": "Python 3.9.5 64-bit",
   "language": "python",
   "name": "python3"
  },
  "language_info": {
   "codemirror_mode": {
    "name": "ipython",
    "version": 3
   },
   "file_extension": ".py",
   "mimetype": "text/x-python",
   "name": "python",
   "nbconvert_exporter": "python",
   "pygments_lexer": "ipython3",
   "version": "3.9.5"
  },
  "vscode": {
   "interpreter": {
    "hash": "f9f85f796d01129d0dd105a088854619f454435301f6ffec2fea96ecbd9be4ac"
   }
  }
 },
 "nbformat": 4,
 "nbformat_minor": 2
}
