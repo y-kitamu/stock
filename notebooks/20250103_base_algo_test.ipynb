{
 "cells": [
  {
   "cell_type": "code",
   "execution_count": null,
   "metadata": {},
   "outputs": [],
   "source": [
    "from pathlib import Path\n",
    "import datetime\n",
    "\n",
    "import talib\n",
    "import matplotlib.pyplot as plt\n",
    "import polars as pl\n",
    "import numpy as np\n",
    "import lightgbm as lgb\n",
    "from sklearn import svm, neural_network\n",
    "\n",
    "import crypto\n",
    "import data_fetcher"
   ]
  },
  {
   "cell_type": "code",
   "execution_count": null,
   "metadata": {},
   "outputs": [],
   "source": [
    "def get_df(symbol, start_date, end_date, interval):\n",
    "    fetcher = data_fetcher.gmo.GMOFethcer()\n",
    "    df = fetcher.fetch_ohlc(\n",
    "        symbol, interval=datetime.timedelta(minutes=interval), start_date=start_date, end_date=end_date\n",
    "    )\n",
    "    df = crypto.features.calc_features(df)\n",
    "    df = df.filter(\n",
    "        pl.all_horizontal(pl.col(pl.Float32, pl.Float64).is_not_nan())\n",
    "    )\n",
    "    return df\n",
    "\n",
    "def calc_profits(df, suffix):\n",
    "    df = df.with_columns(\n",
    "        pl.Series(\n",
    "            crypto.simulate.simulate_long_trade(\n",
    "                df, f\"sell_executed{suffix}\", f\"buy_executed{suffix}\", f\"target_price{suffix}\", f\"target_price{suffix}\", wall_timestep=100\n",
    "            )\n",
    "        ).alias(f\"profits{suffix}\")\n",
    "    )    \n",
    "    return df"
   ]
  },
  {
   "cell_type": "code",
   "execution_count": null,
   "metadata": {},
   "outputs": [],
   "source": [
    "symbol = \"BTC_JPY\"\n",
    "interval = 1\n",
    "start_date = datetime.datetime(2024, 1, 1)\n",
    "end_date = start_date + datetime.timedelta(days=60)\n",
    "df = get_df(symbol, start_date=start_date, end_date=end_date, interval=interval)"
   ]
  },
  {
   "cell_type": "code",
   "execution_count": null,
   "metadata": {},
   "outputs": [],
   "source": [
    "# 決まった値幅で利確・損切りする戦略\n",
    "range_rate = 0.2\n",
    "wall_timestep = 10\n",
    "suffix = \"_atr\"\n",
    "df = df.with_columns(\n",
    "    (pl.col(\"close\") + pl.col(\"ATR\") * range_rate).shift().alias(f\"target_high_price{suffix}\"),\n",
    "    (pl.col(\"close\") - pl.col(\"ATR\") * range_rate).shift().alias(f\"target_low_price{suffix}\"),\n",
    "    (pl.col(\"close\") + pl.col(\"ATR\") * range_rate * 2).shift().alias(f\"losscut_high_price{suffix}\"),\n",
    "    (pl.col(\"close\") - pl.col(\"ATR\") * range_rate * 2).shift().alias(f\"losscut_low_price{suffix}\"),\n",
    "    (pl.col(\"close\").shift() < pl.col(\"low\")).alias(f\"buy_executed{suffix}\"),\n",
    "    ((pl.col(\"high\") - pl.col(\"close\")) < (pl.col(\"close\") - pl.col(\"low\"))).alias(\"near_high\"),\n",
    "    (pl.col(\"close\").shift() > pl.col(\"high\")).alias(f\"sell_executed{suffix}\"),\n",
    "    (pl.col(\"close\").rolling_max(window_size=10) == pl.col(\"close\")).alias(\"rolling_max\"),\n",
    "    (pl.col(\"close\").rolling_min(window_size=10) == pl.col(\"close\")).alias(\"rolling_min\"),\n",
    ")\n",
    "\n",
    "profits_buy = np.zeros(len(df))\n",
    "profits_sell = np.zeros(len(df))\n",
    "for i in range(1, len(df) - wall_timestep): #len(df) - wall_timestep):\n",
    "    if df[\"near_high\"][i] and df[\"near_high\"][i - 1] and df[\"rolling_max\"][i]:\n",
    "        #if df[f\"buy_executed{suffix}\"][i + 1] and df[f\"near_high\"][i + 1]:\n",
    "        buy_price = df[\"close\"][i + 1]\n",
    "        sell_price = df[\"close\"][i + wall_timestep]\n",
    "        profits_buy[i] = (sell_price - buy_price) / buy_price\n",
    "\n",
    "    if not df[\"near_high\"][i] and not df[\"near_high\"][i - 1] and df[\"rolling_min\"][i]:\n",
    "        #if df[f\"sell_executed{suffix}\"][i + 1]:\n",
    "        sell_price = df[\"close\"][i + 1]\n",
    "        buy_price = df[\"close\"][i + wall_timestep]\n",
    "        profits_sell[i] = (sell_price - buy_price) / buy_price\n",
    "        #print(i, sell_price, buy_price, profits_sell[i])"
   ]
  },
  {
   "cell_type": "code",
   "execution_count": null,
   "metadata": {},
   "outputs": [],
   "source": [
    "start_idx = 0\n",
    "end_idx = len(df)\n",
    "plt.plot(profits_buy.cumsum()[start_idx:end_idx], label=\"profits_buy\")\n",
    "plt.plot(profits_sell.cumsum()[start_idx:end_idx], label=\"profits_sell\")\n",
    "plt.plot((df[\"close\"] / df[\"close\"][0] - 1.0)[start_idx:end_idx], label=\"close\")\n",
    "plt.legend()\n",
    "plt.grid()"
   ]
  },
  {
   "cell_type": "code",
   "execution_count": null,
   "metadata": {},
   "outputs": [],
   "source": []
  },
  {
   "cell_type": "code",
   "execution_count": null,
   "metadata": {},
   "outputs": [],
   "source": [
    "# volume barで試してみる\n",
    "fetcher = data_fetcher.gmo.GMOFethcer()\n",
    "vb_df = fetcher.fetch_volume_bar(symbol, volume_size=0.5, start_date=start_date, end_date=end_date)\n",
    "vb_df = crypto.features.calc_features(vb_df)\n",
    "vb_df = vb_df.filter(\n",
    "    pl.all_horizontal(pl.col(pl.Float32, pl.Float64).is_not_nan())\n",
    ")"
   ]
  },
  {
   "cell_type": "code",
   "execution_count": null,
   "metadata": {},
   "outputs": [],
   "source": [
    "# 決まった値幅で利確・損切りする戦略\n",
    "def calc_algorighm(df):\n",
    "    range_rate = 0.2\n",
    "    wall_timestep = 10\n",
    "    suffix = \"_atr\"\n",
    "    df = df.with_columns(\n",
    "        (pl.col(\"close\") + pl.col(\"ATR\") * range_rate).shift().alias(f\"target_high_price{suffix}\"),\n",
    "        (pl.col(\"close\") - pl.col(\"ATR\") * range_rate).shift().alias(f\"target_low_price{suffix}\"),\n",
    "        (pl.col(\"close\") + pl.col(\"ATR\") * range_rate * 2).shift().alias(f\"losscut_high_price{suffix}\"),\n",
    "        (pl.col(\"close\") - pl.col(\"ATR\") * range_rate * 2).shift().alias(f\"losscut_low_price{suffix}\"),\n",
    "        (pl.col(\"close\").shift() < pl.col(\"low\")).alias(f\"buy_executed{suffix}\"),\n",
    "        ((pl.col(\"high\") - pl.col(\"close\")) < (pl.col(\"close\") - pl.col(\"low\"))).alias(\"near_high\"),\n",
    "        (pl.col(\"close\").shift() > pl.col(\"high\")).alias(f\"sell_executed{suffix}\"),\n",
    "        (pl.col(\"close\").rolling_max(window_size=10) == pl.col(\"close\")).alias(\"rolling_max\"),\n",
    "        (pl.col(\"close\").rolling_min(window_size=10) == pl.col(\"close\")).alias(\"rolling_min\"),\n",
    "    )\n",
    "\n",
    "    profits_buy = np.zeros(len(df))\n",
    "    profits_sell = np.zeros(len(df))\n",
    "    for i in range(1, len(df) - wall_timestep): #len(df) - wall_timestep):\n",
    "        if df[\"near_high\"][i] and df[\"near_high\"][i - 1] and df[\"rolling_max\"][i]:\n",
    "            #if df[f\"buy_executed{suffix}\"][i + 1] and df[f\"near_high\"][i + 1]:\n",
    "            buy_price = df[\"close\"][i + 1]\n",
    "            sell_price = df[\"close\"][i + wall_timestep]\n",
    "            profits_buy[i] = (sell_price - buy_price) / buy_price\n",
    "\n",
    "        if not df[\"near_high\"][i] and not df[\"near_high\"][i - 1] and df[\"rolling_min\"][i]:\n",
    "            #if df[f\"sell_executed{suffix}\"][i + 1]:\n",
    "            sell_price = df[\"close\"][i + 1]\n",
    "            buy_price = df[\"close\"][i + wall_timestep]\n",
    "            profits_sell[i] = (sell_price - buy_price) / buy_price\n",
    "    return profits_buy, profits_sell"
   ]
  },
  {
   "cell_type": "code",
   "execution_count": null,
   "metadata": {},
   "outputs": [],
   "source": [
    "profits_buy, profits_sell = calc_algorighm(vb_df)"
   ]
  },
  {
   "cell_type": "code",
   "execution_count": null,
   "metadata": {},
   "outputs": [],
   "source": [
    "plt.plot(profits_buy.cumsum(), label=\"profits_buy\")\n",
    "plt.plot(profits_sell.cumsum(), label=\"profits_sell\")\n",
    "plt.plot(vb_df[\"close\"] / vb_df[\"close\"][0] - 1.0, label=\"close\")\n",
    "plt.grid()\n",
    "plt.legend()"
   ]
  },
  {
   "cell_type": "code",
   "execution_count": null,
   "metadata": {},
   "outputs": [],
   "source": [
    "(vb_df[\"start_date\"][1:] - vb_df[\"start_date\"][:-1]).mean()"
   ]
  },
  {
   "cell_type": "code",
   "execution_count": null,
   "metadata": {},
   "outputs": [],
   "source": []
  }
 ],
 "metadata": {
  "kernelspec": {
   "display_name": "Python 3",
   "language": "python",
   "name": "python3"
  },
  "language_info": {
   "codemirror_mode": {
    "name": "ipython",
    "version": 3
   },
   "file_extension": ".py",
   "mimetype": "text/x-python",
   "name": "python",
   "nbconvert_exporter": "python",
   "pygments_lexer": "ipython3",
   "version": "3.13.0"
  }
 },
 "nbformat": 4,
 "nbformat_minor": 2
}
