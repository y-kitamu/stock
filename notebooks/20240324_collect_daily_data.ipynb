{
 "cells": [
  {
   "cell_type": "code",
   "execution_count": null,
   "metadata": {},
   "outputs": [],
   "source": [
    "from pathlib import Path\n",
    "import re\n",
    "import csv\n",
    "import datetime\n",
    "import time\n",
    "import io\n",
    "\n",
    "import requests\n",
    "from bs4 import BeautifulSoup\n",
    "\n",
    "from stock.util import convert_to_number"
   ]
  },
  {
   "cell_type": "code",
   "execution_count": null,
   "metadata": {},
   "outputs": [],
   "source": [
    "def get_stock_data(code: str, base_url: str = \"https://kabutan.jp/stock/kabuka?code={}&ashi=day\"):\n",
    "    res = requests.get(base_url.format(code))\n",
    "    soup = BeautifulSoup(res.text)\n",
    "\n",
    "    daily_data = []\n",
    "    stock_tables = soup.find(\"div\", {\"id\": \"stock_kabuka_table\"})\n",
    "    if stock_tables is None:\n",
    "        return daily_data\n",
    "    for table in stock_tables.find_all(\"table\"):\n",
    "        tbody = table.find(\"tbody\")\n",
    "        if tbody is None:\n",
    "            continue\n",
    "        for table_row in tbody.find_all(\"tr\"):\n",
    "            thead = table_row.find(\"th\")\n",
    "            tdata = table_row.find_all(\"td\")\n",
    "            if thead is None or len(tdata) < 7:\n",
    "                break\n",
    "            date = datetime.datetime.strptime(thead.text, \"%y/%m/%d\")\n",
    "            start = convert_to_number(tdata[0].text)\n",
    "            high = convert_to_number(tdata[1].text)\n",
    "            low = convert_to_number(tdata[2].text)\n",
    "            end = convert_to_number(tdata[3].text)\n",
    "            volume = convert_to_number(tdata[6].text)\n",
    "            daily_data.append([date, start, high, low, end, volume])\n",
    "    return daily_data"
   ]
  },
  {
   "cell_type": "code",
   "execution_count": null,
   "metadata": {},
   "outputs": [],
   "source": [
    "def update_csv(csv_path: Path, data: list):\n"
   ]
  },
  {
   "cell_type": "code",
   "execution_count": null,
   "metadata": {},
   "outputs": [],
   "source": []
  }
 ],
 "metadata": {
  "kernelspec": {
   "display_name": ".venv",
   "language": "python",
   "name": "python3"
  },
  "language_info": {
   "codemirror_mode": {
    "name": "ipython",
    "version": 3
   },
   "file_extension": ".py",
   "mimetype": "text/x-python",
   "name": "python",
   "nbconvert_exporter": "python",
   "pygments_lexer": "ipython3",
   "version": "3.10.12"
  }
 },
 "nbformat": 4,
 "nbformat_minor": 2
}
