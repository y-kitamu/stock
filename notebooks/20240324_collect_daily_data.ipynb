{
 "cells": [
  {
   "cell_type": "code",
   "execution_count": null,
   "metadata": {},
   "outputs": [],
   "source": [
    "from pathlib import Path\n",
    "import csv\n",
    "import datetime\n",
    "import bisect\n",
    "import time\n",
    "\n",
    "import requests\n",
    "from bs4 import BeautifulSoup\n",
    "\n",
    "from stock.util import convert_to_number\n",
    "import stock"
   ]
  },
  {
   "cell_type": "code",
   "execution_count": null,
   "metadata": {},
   "outputs": [],
   "source": [
    "def get_stock_data(code: str, base_url: str = \"https://kabutan.jp/stock/kabuka?code={}&ashi=day\"):\n",
    "    res = requests.get(base_url.format(code))\n",
    "    soup = BeautifulSoup(res.text)\n",
    "\n",
    "    daily_data = []\n",
    "    stock_tables = soup.find(\"div\", {\"id\": \"stock_kabuka_table\"})\n",
    "    if stock_tables is None:\n",
    "        return daily_data\n",
    "    for table in stock_tables.find_all(\"table\"):\n",
    "        tbody = table.find(\"tbody\")\n",
    "        if tbody is None:\n",
    "            continue\n",
    "        for table_row in tbody.find_all(\"tr\"):\n",
    "            thead = table_row.find(\"th\")\n",
    "            tdata = table_row.find_all(\"td\")\n",
    "            if thead is None or len(tdata) < 7:\n",
    "                break\n",
    "            date = datetime.datetime.strptime(thead.text, \"%y/%m/%d\")\n",
    "            start = convert_to_number(tdata[0].text)\n",
    "            high = convert_to_number(tdata[1].text)\n",
    "            low = convert_to_number(tdata[2].text)\n",
    "            end = convert_to_number(tdata[3].text)\n",
    "            volume = convert_to_number(tdata[6].text)\n",
    "            daily_data.append([date, start, high, low, end, volume])\n",
    "    return daily_data"
   ]
  },
  {
   "cell_type": "code",
   "execution_count": null,
   "metadata": {},
   "outputs": [],
   "source": []
  },
  {
   "cell_type": "code",
   "execution_count": null,
   "metadata": {},
   "outputs": [],
   "source": [
    "def update_csv(code: str = \"1301\"):\n",
    "    csv_path = Path(\"../data/daily/{}.csv\".format(code))\n",
    "    data = []\n",
    "    if csv_path.exists():\n",
    "        with open(csv_path, \"r\") as f:\n",
    "            csv_reader = csv.reader(f)\n",
    "            next(csv_reader)\n",
    "            data += [[row[0]] + [convert_to_number(col) for col in row[1:]] for row in csv_reader] \n",
    "    data = sorted(data, key=lambda x : x[0])\n",
    "    num_data = len(data)\n",
    "\n",
    "    new_data = get_stock_data(code)\n",
    "    for d in new_data:\n",
    "        if bisect.bisect_left(data, d[0].strftime(\"%Y/%m/%d\"), key=lambda x: x[0]) == len(data):\n",
    "            data.append([d[0].strftime(\"%Y/%m/%d\")] + d[1:])\n",
    "\n",
    "    if num_data < len(data):\n",
    "        header = [\"date\", \"open\", \"high\", \"low\", \"close\", \"volume\"]\n",
    "        with open(csv_path, \"w\", encoding=\"utf-8\") as f:\n",
    "            csv_writer = csv.writer(f)\n",
    "            csv_writer.writerow(header)\n",
    "            csv_writer.writerows(data)\n",
    "        stock.logger.info(f\"Update csv : {csv_path}\")"
   ]
  },
  {
   "cell_type": "code",
   "execution_count": null,
   "metadata": {},
   "outputs": [],
   "source": []
  },
  {
   "cell_type": "code",
   "execution_count": null,
   "metadata": {},
   "outputs": [],
   "source": []
  },
  {
   "cell_type": "code",
   "execution_count": null,
   "metadata": {},
   "outputs": [],
   "source": []
  }
 ],
 "metadata": {
  "kernelspec": {
   "display_name": ".venv",
   "language": "python",
   "name": "python3"
  },
  "language_info": {
   "codemirror_mode": {
    "name": "ipython",
    "version": 3
   },
   "file_extension": ".py",
   "mimetype": "text/x-python",
   "name": "python",
   "nbconvert_exporter": "python",
   "pygments_lexer": "ipython3",
   "version": "3.10.12"
  }
 },
 "nbformat": 4,
 "nbformat_minor": 2
}
