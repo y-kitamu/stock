{
 "cells": [
  {
   "cell_type": "code",
   "execution_count": null,
   "metadata": {},
   "outputs": [],
   "source": [
    "# botter本を参考に学習を自前実装\n",
    "import datetime\n",
    "\n",
    "import lightgbm as lgb\n",
    "import numpy as np\n",
    "import polars as pl\n",
    "import matplotlib.pyplot as plt\n",
    "import talib\n",
    "\n",
    "import stock"
   ]
  },
  {
   "cell_type": "code",
   "execution_count": null,
   "metadata": {},
   "outputs": [],
   "source": [
    "symbol = \"BTC_JPY\"\n",
    "interval_minutes = 15\n",
    "train_ratio = 0.7\n",
    "pips = 1\n",
    "\n",
    "# 損切り戦略\n",
    "max_loss_rate = 0.1\n",
    "max_hold_timesteps = 10"
   ]
  },
  {
   "cell_type": "code",
   "execution_count": null,
   "metadata": {},
   "outputs": [],
   "source": [
    "fetcher = stock.io.gmo.GMOFethcer()\n",
    "df = fetcher.fetch_ohlc(symbol, interval=datetime.timedelta(minutes=interval_minutes))"
   ]
  },
  {
   "cell_type": "code",
   "execution_count": null,
   "metadata": {},
   "outputs": [],
   "source": [
    "df = stock.crypto.feature.calc_features(df).filter(\n",
    "    pl.all_horizontal(pl.col(pl.Float32, pl.Float64).is_not_nan())\n",
    ")\n",
    "\n",
    "train_data_num = (int)(len(df) * train_ratio)\n",
    "train_df = df[:train_data_num]\n",
    "test_df = df[train_data_num:]"
   ]
  },
  {
   "cell_type": "code",
   "execution_count": null,
   "metadata": {},
   "outputs": [],
   "source": [
    "# botter本に従った逆張り戦略\n",
    "def calc_force_entry_price(entry_price: np.ndarray, low: np.ndarray, pips: float):\n",
    "    fep = np.zeros(entry_price.shape)\n",
    "    fet = np.zeros(entry_price.shape)\n",
    "    fep[:] = np.nan\n",
    "\n",
    "    is_executable = np.round(low[1:] / pips) < np.round(entry_price[:-1] / pips)\n",
    "\n",
    "    start_i = 0\n",
    "    for i in range(len(is_executable)):\n",
    "        fet[start_i:i + 1] += 1\n",
    "        if is_executable[i]:\n",
    "            fep[start_i:i + 1] = entry_price[i]\n",
    "            start_i = i + 1\n",
    "    return fep, fet\n",
    "\n",
    "\n",
    "def calc_return(\n",
    "    df, max_loss_rate=max_loss_rate, max_hold_timesteps=max_hold_timesteps\n",
    "):\n",
    "    df = df.with_columns(\n",
    "        (((pl.col(\"close\") - pl.col(\"ATR\") *0.5) / pips).round()  * pips).alias(\"buy_point\"),\n",
    "        (((pl.col(\"close\") + pl.col(\"ATR\") * 0.5) / pips).round() * pips).alias(\"sell_point\"),\n",
    "    ).with_columns(\n",
    "        (pl.col(\"buy_point\") > pl.col(\"low\").shift(-1)).alias(\"buy_executed\"),    \n",
    "        (pl.col(\"sell_point\") < pl.col(\"high\").shift(-1)).alias(\"sell_executed\"),\n",
    "    )\n",
    "    \n",
    "    buy_fep, buy_fet = calc_force_entry_price(df[\"buy_point\"].to_numpy(), df[\"low\"].to_numpy(), pips=1.0)\n",
    "    sell_fep, sell_fet = calc_force_entry_price(-df[\"sell_point\"].to_numpy(), -df[\"high\"].to_numpy(), pips=1.0)\n",
    "    sell_fep *= -1.0\n",
    "\n",
    "    def calc_profits(start, low, close, is_executed, buy, sell, sell_time, max_loss_rate):\n",
    "        profits = np.zeros(len(df))\n",
    "        for i in range(len(df)):\n",
    "            if not is_executed[i]:\n",
    "                continue\n",
    "            sell_price = sell[i + 1]\n",
    "            duration = int(min(sell_time[i + 1], max_hold_timesteps))\n",
    "            if sell_time[i + 1] > max_hold_timesteps:\n",
    "                sell_price = close[i + 1 + max_hold_timesteps]\n",
    "\n",
    "            loss_cut_price = np.round(buy[i] * (1.0 - max_loss_rate) / pips) * pips\n",
    "            for j in range(duration):\n",
    "                if low[i + 1 + j] < loss_cut_price:\n",
    "                    sell_price = min(start[i + 1 + j], loss_cut_price)\n",
    "                    break\n",
    "            profits[i] = sell_price / buy[i] - 1.0\n",
    "        return profits\n",
    "    \n",
    "    buy_profit = calc_profits(\n",
    "        df[\"open\"].to_numpy(), df[\"low\"].to_numpy(), df[\"close\"].to_numpy(), \n",
    "        is_executed=df[\"buy_executed\"].to_numpy(), \n",
    "        buy=buy_fep,\n",
    "        sell=sell_fep,\n",
    "        sell_time=sell_fet,\n",
    "        max_loss_rate=max_loss_rate\n",
    "    )\n",
    "\n",
    "    sell_profit = 1.0 / (calc_profits(\n",
    "        -df[\"open\"].to_numpy(), -df[\"high\"].to_numpy(), -df[\"close\"].to_numpy(), \n",
    "        is_executed=df[\"sell_executed\"].to_numpy(), \n",
    "        buy=-sell_fep,\n",
    "        sell=-buy_fep,\n",
    "        sell_time=buy_fet,\n",
    "        max_loss_rate=-max_loss_rate\n",
    "    ) + 1.0) - 1.0\n",
    "    return buy_profit, sell_profit"
   ]
  },
  {
   "cell_type": "code",
   "execution_count": null,
   "metadata": {},
   "outputs": [],
   "source": [
    "buy_profit, sell_profit = calc_return(df)\n",
    "plt.plot(buy_profit.cumsum())\n",
    "plt.plot(sell_profit.cumsum())\n",
    "plt.plot(df[\"close\"] / df[\"close\"][-1] * 10)"
   ]
  },
  {
   "cell_type": "code",
   "execution_count": null,
   "metadata": {},
   "outputs": [],
   "source": []
  },
  {
   "cell_type": "code",
   "execution_count": null,
   "metadata": {},
   "outputs": [],
   "source": [
    "train_features = [\n",
    "    'ADX',\n",
    "    'ADXR',\n",
    "    'APO',\n",
    "    'AROON_aroondown',\n",
    "    'AROON_aroonup',\n",
    "    'AROONOSC',\n",
    "    'CCI',\n",
    "    'DX',\n",
    "    'MACD_macd',\n",
    "    'MACD_macdsignal',\n",
    "    'MACD_macdhist',\n",
    "    'MFI',\n",
    "#     'MINUS_DI',\n",
    "#     'MINUS_DM',\n",
    "    'MOM',\n",
    "#     'PLUS_DI',\n",
    "#     'PLUS_DM',\n",
    "    'RSI',\n",
    "    'STOCH_slowk',\n",
    "    'STOCH_slowd',\n",
    "    'STOCHF_fastk',\n",
    "#     'STOCHRSI_fastd',\n",
    "    'ULTOSC',\n",
    "    'WILLR',\n",
    "#     'ADOSC',\n",
    "#     'NATR',\n",
    "    'HT_DCPERIOD',\n",
    "    'HT_DCPHASE',\n",
    "    'HT_PHASOR_inphase',\n",
    "    'HT_PHASOR_quadrature',\n",
    "    'HT_TRENDMODE',\n",
    "    'BETA',\n",
    "    'LINEARREG',\n",
    "    'LINEARREG_ANGLE',\n",
    "    'LINEARREG_INTERCEPT',\n",
    "    'LINEARREG_SLOPE',\n",
    "    'STDDEV',\n",
    "    'BBANDS_upperband',\n",
    "    'BBANDS_middleband',\n",
    "    'BBANDS_lowerband',\n",
    "    'DEMA',\n",
    "    'EMA',\n",
    "    'HT_TRENDLINE',\n",
    "    'KAMA',\n",
    "    'MA',\n",
    "    'MIDPOINT',\n",
    "    'T3',\n",
    "    'TEMA',\n",
    "    'TRIMA',\n",
    "    'WMA',\n",
    "]"
   ]
  },
  {
   "cell_type": "code",
   "execution_count": null,
   "metadata": {},
   "outputs": [],
   "source": [
    "train_x = df.select(*train_features).to_numpy()\n",
    "estimator = lgb.LGBMRegressor(n_jobs=1, random_state=1)\n",
    "estimator.fit(train_x, buy_profit)"
   ]
  },
  {
   "cell_type": "code",
   "execution_count": null,
   "metadata": {},
   "outputs": [],
   "source": [
    "test_df = stock.crypto.feature.calc_features(test_df).filter()\n",
    "test_buy_profit, test_sell_profit = calc_return(test_df)"
   ]
  },
  {
   "cell_type": "code",
   "execution_count": null,
   "metadata": {},
   "outputs": [],
   "source": [
    "test_pred = estimator.predict(test_df.select(*train_features).to_numpy())"
   ]
  },
  {
   "cell_type": "code",
   "execution_count": null,
   "metadata": {},
   "outputs": [],
   "source": []
  }
 ],
 "metadata": {
  "kernelspec": {
   "display_name": "Python 3",
   "language": "python",
   "name": "python3"
  },
  "language_info": {
   "codemirror_mode": {
    "name": "ipython",
    "version": 3
   },
   "file_extension": ".py",
   "mimetype": "text/x-python",
   "name": "python",
   "nbconvert_exporter": "python",
   "pygments_lexer": "ipython3",
   "version": "3.13.0"
  }
 },
 "nbformat": 4,
 "nbformat_minor": 2
}
