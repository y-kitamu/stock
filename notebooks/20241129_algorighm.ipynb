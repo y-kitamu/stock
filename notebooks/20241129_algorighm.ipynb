{
 "cells": [
  {
   "cell_type": "code",
   "execution_count": null,
   "metadata": {},
   "outputs": [],
   "source": [
    "# 順張り戦略・逆張り戦略の検討"
   ]
  },
  {
   "cell_type": "code",
   "execution_count": null,
   "metadata": {},
   "outputs": [],
   "source": [
    "from pathlib import Path\n",
    "import csv\n",
    "import datetime\n",
    "import pickle\n",
    "from itertools import product\n",
    "\n",
    "import numpy as np\n",
    "import polars as pl\n",
    "import matplotlib.pyplot as plt\n",
    "import tqdm\n",
    "\n",
    "import data_fetcher\n",
    "import stock"
   ]
  },
  {
   "cell_type": "code",
   "execution_count": null,
   "metadata": {},
   "outputs": [],
   "source": [
    "def short_trade(df, sell_key, buy_key, sell_price_key, buy_price_key, wall_timestep, slipage=0.0):\n",
    "    profits = np.zeros(len(df))\n",
    "    for i in range(len(df)):\n",
    "        if not df[sell_key][i]:\n",
    "            continue\n",
    "\n",
    "        sell_price = df[sell_price_key][i] * (1.0 - slipage)\n",
    "        buy_price = df[\"close\"][min(len(df) - 1, i + wall_timestep)]\n",
    "        for j in range(i + 1, min(len(df) - 1, i + wall_timestep)):\n",
    "            if df[buy_key][j]:\n",
    "                buy_price = df[buy_price_key][j] * (1.0 + slipage) \n",
    "                break\n",
    "        profits[i] = sell_price / buy_price - 1.0\n",
    "    return profits\n",
    "\n",
    "def long_trade(df, sell_key, buy_key, sell_price_key, buy_price_key, wall_timestep, slipage=0.0):\n",
    "    profits = np.zeros(len(df))\n",
    "    for i in range(len(df)):\n",
    "        if not df[buy_key][i]:\n",
    "            continue\n",
    "\n",
    "        buy_price = df[buy_price_key][i] * (1.0 + slipage)\n",
    "        sell_price = df[\"close\"][min(len(df) - 1, i + wall_timestep)]\n",
    "        for j in range(i + 1, min(len(df) - 1, i + wall_timestep)):\n",
    "            if df[sell_key][j]:\n",
    "                sell_price = df[sell_price_key][j] * (1.0 - slipage)\n",
    "                break\n",
    "        profits[i] = sell_price / buy_price - 1.0    \n",
    "    return profits"
   ]
  },
  {
   "cell_type": "code",
   "execution_count": null,
   "metadata": {},
   "outputs": [],
   "source": [
    "def simulate(df, rate, slipage, wall_timestep, pips):\n",
    "    df = df.with_columns(\n",
    "        (pl.col(\"close\") + pl.col(\"ATR\") * rate).shift().alias(\"target_price_high\"),\n",
    "        (pl.col(\"close\") - pl.col(\"ATR\") * rate).shift().alias(\"target_price_low\"),\n",
    "    ).with_columns(\n",
    "        ((pl.col(\"target_price_high\") / pips).round() * pips).alias(\"target_price_high\"),\n",
    "        ((pl.col(\"target_price_low\") / pips).round() * pips).alias(\"target_price_low\"),\n",
    "    ).with_columns(\n",
    "        (pl.col(\"target_price_high\") < pl.col(\"high\")).alias(\"reach_high_target\"),\n",
    "        (pl.col(\"target_price_low\") > pl.col(\"low\")).alias(\"reach_low_target\")\n",
    "    )    \n",
    "\n",
    "    # 順張り戦略\n",
    "    follower_long_profit = long_trade(\n",
    "        df, \n",
    "        sell_key=\"reach_low_target\", \n",
    "        buy_key=\"reach_high_target\", \n",
    "        sell_price_key=\"target_price_low\",\n",
    "        buy_price_key=\"target_price_high\",\n",
    "        slipage=slipage,\n",
    "        wall_timestep=wall_timestep\n",
    "    )\n",
    "    follower_short_profit = short_trade(\n",
    "        df, \n",
    "        sell_key=\"reach_low_target\", \n",
    "        buy_key=\"reach_high_target\", \n",
    "        sell_price_key=\"target_price_low\",\n",
    "        buy_price_key=\"target_price_high\",\n",
    "        slipage=slipage,\n",
    "        wall_timestep=wall_timestep\n",
    "    )\n",
    "    # 逆張り戦略\n",
    "    contrarian_long_profit = long_trade(\n",
    "        df, \n",
    "        sell_key=\"reach_high_target\", \n",
    "        buy_key=\"reach_low_target\", \n",
    "        sell_price_key=\"target_price_high\",\n",
    "        buy_price_key=\"target_price_low\",\n",
    "        slipage=slipage,\n",
    "        wall_timestep=wall_timestep\n",
    "    )\n",
    "    contrarian_short_profit = short_trade(\n",
    "        df, \n",
    "        sell_key=\"reach_high_target\", \n",
    "        buy_key=\"reach_low_target\", \n",
    "        sell_price_key=\"target_price_high\",\n",
    "        buy_price_key=\"target_price_low\",\n",
    "        slipage=slipage,\n",
    "        wall_timestep=wall_timestep\n",
    "    )\n",
    "    return follower_long_profit, follower_short_profit, contrarian_long_profit, contrarian_short_profit"
   ]
  },
  {
   "cell_type": "code",
   "execution_count": null,
   "metadata": {},
   "outputs": [],
   "source": [
    "# slipageの計算\n",
    "# tickの値動きの差分の標準偏差から求める\n",
    "def calc_average_slipage():\n",
    "    tick_df = data_fetcher.gmo.GMOFethcer().fetch_ticker(\"BTC_JPY\")\n",
    "    prices = tick_df[\"price\"].to_numpy()\n",
    "    diff = np.abs(prices[:-1] - prices[1:]) / prices[:-1]\n",
    "    slip_mean = diff.mean()\n",
    "    slip_std = diff.std()\n",
    "    print(slip_mean, slip_std)\n",
    "    return slip_mean, slip_std\n",
    "\n",
    "slip_mean, slip_std = calc_average_slipage()"
   ]
  },
  {
   "cell_type": "code",
   "execution_count": null,
   "metadata": {},
   "outputs": [],
   "source": [
    "def run(output_path = None, start_date=datetime.datetime(2024, 1, 1), end_date=datetime.datetime(2024, 1, 31)):\n",
    "    symbols = [\"BTC_JPY\"]\n",
    "    intervals = [1, 5, 15, 60, 180]\n",
    "    slipages = [0, slip_mean, slip_mean + slip_std]\n",
    "    rates = [0.1, 0.2, 0.5, 0.7, 1.0]\n",
    "    wall_timestep = 100\n",
    "    pips = 1\n",
    "\n",
    "    results = []\n",
    "    for symbol, interval in product(symbols, intervals):\n",
    "        fetcher = data_fetcher.gmo.GMOFethcer()\n",
    "        df = fetcher.fetch_ohlc(symbol, interval=datetime.timedelta(minutes=interval), start_date=start_date, end_date=end_date)\n",
    "        df = stock.crypto.feature.calc_features(df).filter(\n",
    "            pl.all_horizontal(pl.col(pl.Float32, pl.Float64).is_not_nan())\n",
    "        )\n",
    "        for slipage, rate in product(slipages, rates):\n",
    "            flp, fsp, clp, csp = simulate(df, rate=rate, slipage=slipage, wall_timestep=wall_timestep, pips=pips)\n",
    "            # print(\"symbol = {}, interval = {}, slipage = {}, rate = {}, follower long = {}, follower short = {}, cont long = {}, cont short = {}\".format(\n",
    "            #     symbol, interval, slipage, rate, flp.sum(), fsp.sum(), clp.sum(), csp.sum()\n",
    "            # ))\n",
    "            results.append([symbol, interval, slipage, rate, flp, fsp, clp, csp])\n",
    "\n",
    "    if output_path is not None:\n",
    "        header = [\"symbol\", \"interval\", \"slipage\", \"rate\"] + sum([\n",
    "            [f\"{prefix}_profit\", f\"{prefix}_num_tick\", f\"{prefix}_est_num_trade\", f\"{prefix}_avg_profit_per_trade\", f\"{prefix}_profit_std\", f\"{prefix}_max_drawdown\"] \n",
    "            for prefix in [\"follower_long\", \"follower_short\", \"contrarian_long\", \"contrarian_short\"]], [])\n",
    "        rows = []\n",
    "        for res in results:\n",
    "            row = res[:4]\n",
    "            for profit_arr in res[4:]:\n",
    "                profit = profit_arr.sum()\n",
    "                num_tick = len(profit_arr)\n",
    "                est_num_trade = (np.abs(profit_arr) >  1e-9).sum()\n",
    "                avg_profit_per_trade = profit / est_num_trade\n",
    "                profit_std = profit_arr[np.abs(profit_arr) > 1e-9].std()\n",
    "                max_drawdown = profit_arr.min()\n",
    "                row += [profit, num_tick, est_num_trade, avg_profit_per_trade, profit_std, max_drawdown]\n",
    "            rows.append(row)\n",
    "                \n",
    "        with open(output_path, \"w\") as f:\n",
    "            csv_writer = csv.writer(f)\n",
    "            csv_writer.writerow(header)\n",
    "            csv_writer.writerows(rows)\n",
    "\n",
    "    return results\n",
    "\n",
    "start_date = datetime.datetime(2021, 9, 5)\n",
    "delta = datetime.timedelta(days=90)\n",
    "outputs = []\n",
    "while start_date < datetime.datetime.now() - delta:\n",
    "    print(\"start date = {}\".format(start_date))\n",
    "    end_date = start_date + delta\n",
    "    output_path = \"./test_{}_{}.csv\".format(start_date.strftime(\"%Y%m%d\"), end_date.strftime(\"%Y%m%d\"))\n",
    "    outputs.append(output_path)\n",
    "    results = run(output_path=output_path, start_date=start_date, end_date=end_date)\n",
    "    start_date += delta"
   ]
  },
  {
   "cell_type": "code",
   "execution_count": null,
   "metadata": {},
   "outputs": [],
   "source": [
    "dfs = [pl.read_csv(path) for path in outputs]"
   ]
  },
  {
   "cell_type": "code",
   "execution_count": null,
   "metadata": {},
   "outputs": [],
   "source": [
    "df = pl.concat([df.with_columns(pl.lit(Path(outputs[idx]).stem).alias(\"stem\")) for idx, df in enumerate(dfs)])"
   ]
  },
  {
   "cell_type": "code",
   "execution_count": null,
   "metadata": {},
   "outputs": [],
   "source": [
    "# 結果の比較"
   ]
  },
  {
   "cell_type": "code",
   "execution_count": null,
   "metadata": {},
   "outputs": [],
   "source": [
    "# 順張り戦略と逆張り戦略の比較\n",
    "def plot(df, intervals=[1], rates=[0.1, 0.2, 0.5, 0.7, 1.0], slipages=[0.0, 0.0000838, 0.00031], cont_keys=[\"contrarian_long_profit\"], follow_keys=[\"follower_long_profit\"]):\n",
    "    flp = {}\n",
    "    clp = {}\n",
    "    for interval in intervals:\n",
    "        for rate in rates:\n",
    "            filtered = df.filter((pl.col(\"interval\") == interval) & ((pl.col(\"rate\") - rate).abs() < 1e-5) & (pl.col(\"slipage\") < 1e-5))\n",
    "            for key in cont_keys:\n",
    "                clp[f\"{key}_{interval}_{rate}\"] = filtered[key]\n",
    "\n",
    "            for slipage in slipages:\n",
    "                filtered = df.filter((pl.col(\"interval\") == interval) & ((pl.col(\"rate\") - rate).abs() < 1e-5) & ((pl.col(\"slipage\") - slipage).abs() < 1e-5))\n",
    "                for key in follow_keys:\n",
    "                    flp[f\"{key}_{interval}_{rate}_{slipage}\"] = filtered[key]\n",
    "\n",
    "    for key, val in flp.items():\n",
    "        plt.plot(val, label=key)\n",
    "    for key, val in clp.items():\n",
    "        plt.plot(val, label=key)\n",
    "\n",
    "    plt.legend()\n",
    "    plt.show()"
   ]
  },
  {
   "cell_type": "code",
   "execution_count": null,
   "metadata": {},
   "outputs": [],
   "source": [
    "# 1分足\n",
    "plot(df, intervals=[1], rates=[0.5], slipages=[0.0000838, 0.00031])\n",
    "plot(df, intervals=[1], rates=[0.2], slipages=[0.0000838, 0.00031])"
   ]
  },
  {
   "cell_type": "code",
   "execution_count": null,
   "metadata": {},
   "outputs": [],
   "source": [
    "# 5分足\n",
    "plot(df, intervals=[5], rates=[0.5], slipages=[0.0000838, 0.00031])\n",
    "#plot(df, interval=[5], rates=[0.2], slipages=[0.0000838, 0.00031])"
   ]
  },
  {
   "cell_type": "code",
   "execution_count": null,
   "metadata": {},
   "outputs": [],
   "source": [
    "# 15分足\n",
    "plot(df, intervals=[15], rates=[0.5], slipages=[0.0000838, 0.00031])\n",
    "#plot(df, interval=[5], rates=[0.2], slipages=[0.0000838, 0.00031])"
   ]
  },
  {
   "cell_type": "code",
   "execution_count": null,
   "metadata": {},
   "outputs": [],
   "source": [
    "# 60分足\n",
    "plot(df, intervals=[60], rates=[0.5], slipages=[0.0000838, 0.00031])\n",
    "#plot(df, interval=[5], rates=[0.2], slipages=[0.0000838, 0.00031])"
   ]
  },
  {
   "cell_type": "code",
   "execution_count": null,
   "metadata": {},
   "outputs": [],
   "source": [
    "# 180分足\n",
    "plot(df, intervals=[180], rates=[0.5], slipages=[0.0000838, 0.00031])\n",
    "#plot(df, interval=[5], rates=[0.2], slipages=[0.0000838, 0.00031])"
   ]
  },
  {
   "cell_type": "code",
   "execution_count": null,
   "metadata": {},
   "outputs": [],
   "source": []
  },
  {
   "cell_type": "code",
   "execution_count": null,
   "metadata": {},
   "outputs": [],
   "source": [
    "# 60分足\n",
    "plot(df, intervals=[60], slipages=[0.00031], cont_keys=[])\n",
    "#plot(df, interval=[5], rates=[0.2], slipages=[0.0000838, 0.00031])"
   ]
  },
  {
   "cell_type": "code",
   "execution_count": null,
   "metadata": {},
   "outputs": [],
   "source": [
    "# 60分足\n",
    "plot(df, intervals=[1, 5, 15, 60, 180], rates=[0.7], slipages=[0.00031], cont_keys=[])\n",
    "#plot(df, interval=[5], rates=[0.2], slipages=[0.0000838, 0.00031])"
   ]
  },
  {
   "cell_type": "code",
   "execution_count": null,
   "metadata": {},
   "outputs": [],
   "source": [
    "dfs[0].filter(pl.col(\"slipage\") > 1e-4)"
   ]
  },
  {
   "cell_type": "code",
   "execution_count": null,
   "metadata": {},
   "outputs": [],
   "source": []
  },
  {
   "cell_type": "code",
   "execution_count": null,
   "metadata": {},
   "outputs": [],
   "source": [
    "plt.plot(buy_profits.cumsum(), label=\"buy\")\n",
    "plt.plot(sell_reverse_profits.cumsum(), label=\"sell_reverse\")\n",
    "plt.plot(sell_profits.cumsum(), label=\"sell\")\n",
    "plt.plot(buy_reverse_profits.cumsum(), label=\"buy_reverse\")\n",
    "plt.plot(df[\"close\"] / df[\"close\"][0] - 1.0, label=\"close\")\n",
    "plt.legend()"
   ]
  },
  {
   "cell_type": "code",
   "execution_count": null,
   "metadata": {},
   "outputs": [],
   "source": []
  }
 ],
 "metadata": {
  "kernelspec": {
   "display_name": "Python 3",
   "language": "python",
   "name": "python3"
  },
  "language_info": {
   "codemirror_mode": {
    "name": "ipython",
    "version": 3
   },
   "file_extension": ".py",
   "mimetype": "text/x-python",
   "name": "python",
   "nbconvert_exporter": "python",
   "pygments_lexer": "ipython3",
   "version": "3.13.0"
  }
 },
 "nbformat": 4,
 "nbformat_minor": 2
}
