{
 "cells": [
  {
   "cell_type": "code",
   "execution_count": null,
   "metadata": {},
   "outputs": [],
   "source": [
    "from pathlib import Path\n",
    "import csv\n",
    "from datetime import datetime, timezone"
   ]
  },
  {
   "cell_type": "markdown",
   "metadata": {},
   "source": [
    "## s&p 500のデータのタイムスタンプを修正\n",
    "データのタイムスタンプはUTCのYYYY/MM/DD 00:00:00にする"
   ]
  },
  {
   "cell_type": "code",
   "execution_count": null,
   "metadata": {},
   "outputs": [],
   "source": [
    "def convert_timestamp_to_day(timestamp: int):\n",
    "    \"\"\"取得したTimestampをUTCでYYYY/MM/DD 00:00:00のものに変換する\"\"\"\n",
    "    dt = datetime.fromtimestamp(timestamp)\n",
    "    return int(datetime(dt.year, dt.month, dt.day, tzinfo=timezone.utc).timestamp())"
   ]
  },
  {
   "cell_type": "code",
   "execution_count": null,
   "metadata": {},
   "outputs": [],
   "source": [
    "raw_sp500_dir = Path.home() / Path(\"work/Projects/stock/data/sp500/raw/\")\n",
    "\n",
    "#for file in raw_sp500_dir.glob(\"*.csv\"):\n",
    "files = sorted(raw_sp500_dir.glob(\"*.csv\"))\n",
    "\n",
    "def convert_file(filepath):\n",
    "    with open(filepath, \"r\")  as f:\n",
    "        reader = csv.DictReader(f)\n",
    "        header = next(reader)\n",
    "        data = [row for row in reader]\n",
    "\n",
    "    for row in data:\n",
    "        row[\"timestamp\"] = convert_timestamp_to_day(int(row[\"timestamp\"]))\n",
    "\n",
    "    with open(filepath, \"w\") as f:\n",
    "         writer = csv.writer(f)\n",
    "         writer.writerow(header)\n",
    "         writer.writerows([[row[col] for col in header] for row in data])        \n",
    "    return data"
   ]
  },
  {
   "cell_type": "code",
   "execution_count": null,
   "metadata": {},
   "outputs": [],
   "source": [
    "for fpath in files:\n",
    "    print(fpath)\n",
    "    convert_file(fpath)"
   ]
  },
  {
   "cell_type": "markdown",
   "metadata": {},
   "source": [
    "## nikkei225のデータのタイムスタンプを修正\n",
    "データのタイムスタンプはUTCのYYYY/MM/DD 00:00:00にする"
   ]
  },
  {
   "cell_type": "code",
   "execution_count": null,
   "metadata": {},
   "outputs": [],
   "source": [
    "raw_nikkei225_dir = Path.home() / Path(\"work/Projects/stock/data/nikkei225/\")\n",
    "\n",
    "#for file in raw_sp500_dir.glob(\"*.csv\"):\n",
    "files = sorted(raw_nikkei225_dir.glob(\"*.csv\"))\n",
    "\n",
    "def convert(timestamp: int):\n",
    "    return timestamp + 9 * 60 * 60 * 1000\n",
    "\n",
    "def convert_file(filepath):\n",
    "    with open(filepath, \"r\")  as f:\n",
    "        reader = csv.DictReader(f)\n",
    "        header = next(reader)\n",
    "        data = [row for row in reader]\n",
    "\n",
    "    for row in data:\n",
    "        row[\"timestamp\"] = convert_timestamp_to_day(int(row[\"timestamp\"]))\n",
    "\n",
    "    with open(filepath, \"w\") as f:\n",
    "         writer = csv.writer(f)\n",
    "         writer.writerow(header)\n",
    "         writer.writerows([[row[col] for col in header] for row in data])        \n",
    "    return data"
   ]
  },
  {
   "cell_type": "code",
   "execution_count": null,
   "metadata": {},
   "outputs": [],
   "source": [
    "for fpath in files[1:]:\n",
    "    convert_file(fpath)"
   ]
  },
  {
   "cell_type": "code",
   "execution_count": null,
   "metadata": {},
   "outputs": [],
   "source": []
  }
 ],
 "metadata": {
  "kernelspec": {
   "display_name": "Python 3.10.6 ('.venv': poetry)",
   "language": "python",
   "name": "python3"
  },
  "language_info": {
   "codemirror_mode": {
    "name": "ipython",
    "version": 3
   },
   "file_extension": ".py",
   "mimetype": "text/x-python",
   "name": "python",
   "nbconvert_exporter": "python",
   "pygments_lexer": "ipython3",
   "version": "3.10.6"
  },
  "vscode": {
   "interpreter": {
    "hash": "0925d657e30d00cf1a4f19c1b7a91cf3b3559e9055505eaa2fd1b9771cefd6bc"
   }
  }
 },
 "nbformat": 4,
 "nbformat_minor": 2
}
