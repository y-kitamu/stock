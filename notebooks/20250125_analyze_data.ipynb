{
 "cells": [
  {
   "cell_type": "code",
   "execution_count": null,
   "metadata": {},
   "outputs": [],
   "source": [
    "from pathlib import Path\n",
    "import datetime\n",
    "import shutil\n",
    "import gzip\n",
    "\n",
    "import matplotlib.pyplot as plt\n",
    "import polars as pl\n",
    "import numpy as np\n",
    "\n",
    "import stock\n",
    "import crypto\n",
    "import data_fetcher"
   ]
  },
  {
   "cell_type": "code",
   "execution_count": null,
   "metadata": {},
   "outputs": [],
   "source": [
    "# monthly -> dailyに変換\n",
    "# とりあえずbtcusdt\n",
    "symbol = \"BTCUSDT\"\n",
    "monthly_csv_dir = Path(\"../../data_fetcher/data/binance/tick/monthly\")\n",
    "output_root_dir = Path(\"../../data_fetcher/data/binance/tick/\")\n",
    "\n",
    "for csv_path in sorted(monthly_csv_dir.rglob(f\"{symbol}*-trades*.csv.gz\")):\n",
    "    try:\n",
    "        df = pl.read_csv(csv_path)\n",
    "    except:\n",
    "        print(csv_path)\n",
    "    split_dfs = df.with_columns(\n",
    "        pl.from_epoch(pl.col(\"time\"), \"ms\").cast(pl.Date).alias(\"date\")\n",
    "    ).partition_by(\"date\")\n",
    "\n",
    "    for df in split_dfs:\n",
    "        date = df[0][\"date\"][0].strftime(\"%Y%m%d\")\n",
    "        output_path = output_root_dir / date / f\"{symbol}-trades-{date}.csv.gz\"\n",
    "        output_path.parent.mkdir(exist_ok=True, parents=False)\n",
    "        if output_path.exists():\n",
    "            continue\n",
    "        with gzip.open(output_path, \"wb\") as f:\n",
    "            df.write_csv(f)\n",
    "        print(output_path)    "
   ]
  },
  {
   "cell_type": "code",
   "execution_count": null,
   "metadata": {},
   "outputs": [],
   "source": []
  },
  {
   "cell_type": "code",
   "execution_count": null,
   "metadata": {},
   "outputs": [],
   "source": [
    "# base strategy\n",
    "\n",
    "# boxの判定 : MAEの傾きが小さい"
   ]
  },
  {
   "cell_type": "code",
   "execution_count": null,
   "metadata": {},
   "outputs": [],
   "source": [
    "start_date = datetime.datetime(2024, 12, 1)\n",
    "end_date = datetime.datetime(2024, 12, 31)\n",
    "\n",
    "# fetcher = data_fetcher.gmo.GMOFethcer()\n",
    "# gmo_df = fetcher.fetch_ticker(\"BTC_JPY\", start_date=start_date, end_date=end_date)"
   ]
  },
  {
   "cell_type": "code",
   "execution_count": null,
   "metadata": {},
   "outputs": [],
   "source": [
    "df = pl.read_csv(\"/home/kitamura/work/data_fetcher/data/binance/tick/202412/BTCUSDT-trades-2024-12.csv.gz\")"
   ]
  },
  {
   "cell_type": "code",
   "execution_count": null,
   "metadata": {},
   "outputs": [],
   "source": [
    "fetcher = data_fetcher.binance.BinanceFetcher()\n",
    "bin_df = fetcher.fetch_ticker(\"BTCUSDT\", start_date=start_date, end_date=end_date)"
   ]
  },
  {
   "cell_type": "code",
   "execution_count": null,
   "metadata": {},
   "outputs": [],
   "source": []
  },
  {
   "cell_type": "code",
   "execution_count": null,
   "metadata": {},
   "outputs": [],
   "source": [
    "df"
   ]
  },
  {
   "cell_type": "code",
   "execution_count": null,
   "metadata": {},
   "outputs": [],
   "source": [
    "df = df.select(\n",
    "    pl.lit(\"BTCUSDT\").alias(\"symbol\"),\n",
    "    pl.when(pl.col(\"isBuyerMaker\"))\n",
    "    .then(pl.lit(\"BUY\"))\n",
    "    .otherwise(pl.lit(\"SELL\"))\n",
    "    .alias(\"side\"),\n",
    "    pl.col(\"price\"),\n",
    "    pl.col(\"quantity\").alias(\"size\"),\n",
    "    pl.from_epoch(pl.col(\"Timestamp\"), \"ms\").alias(\"datetime\")\n",
    ")\n"
   ]
  },
  {
   "cell_type": "code",
   "execution_count": null,
   "metadata": {},
   "outputs": [],
   "source": [
    "df"
   ]
  },
  {
   "cell_type": "code",
   "execution_count": null,
   "metadata": {},
   "outputs": [],
   "source": []
  },
  {
   "cell_type": "code",
   "execution_count": null,
   "metadata": {},
   "outputs": [],
   "source": [
    "start = datetime.datetime(2024, 12, 2, 2, 0, 0)\n",
    "end = start + datetime.timedelta(minutes=60)\n",
    "gmo_target = gmo_df.filter(pl.col(\"datetime\").is_between(start, end))\n",
    "bin_target = bin_df.filter(pl.col(\"datetime\").is_between(start, end))"
   ]
  },
  {
   "cell_type": "code",
   "execution_count": null,
   "metadata": {},
   "outputs": [],
   "source": [
    "plt.plot(gmo_target[\"datetime\"], gmo_target[\"price\"])\n",
    "plt.plot(bin_target[\"datetime\"], bin_target[\"price\"])"
   ]
  },
  {
   "cell_type": "code",
   "execution_count": null,
   "metadata": {},
   "outputs": [],
   "source": [
    "plt.plot(df[\"price\"])"
   ]
  },
  {
   "cell_type": "code",
   "execution_count": null,
   "metadata": {},
   "outputs": [],
   "source": [
    "plt.figure(figsize=(20, 5))\n",
    "si, ei = 250, 350\n",
    "plt.plot(df[\"datetime\"][si:ei], df[\"price\"][si:ei], marker=\"o\", markersize=7)\n",
    "plt.grid()"
   ]
  },
  {
   "cell_type": "code",
   "execution_count": null,
   "metadata": {},
   "outputs": [],
   "source": [
    "plt.plot(df[\"price\"])"
   ]
  },
  {
   "cell_type": "code",
   "execution_count": null,
   "metadata": {},
   "outputs": [],
   "source": []
  }
 ],
 "metadata": {
  "kernelspec": {
   "display_name": "Python 3",
   "language": "python",
   "name": "python3"
  },
  "language_info": {
   "codemirror_mode": {
    "name": "ipython",
    "version": 3
   },
   "file_extension": ".py",
   "mimetype": "text/x-python",
   "name": "python",
   "nbconvert_exporter": "python",
   "pygments_lexer": "ipython3",
   "version": "3.12.3"
  }
 },
 "nbformat": 4,
 "nbformat_minor": 2
}
