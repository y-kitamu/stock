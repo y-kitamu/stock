{
 "cells": [
  {
   "cell_type": "code",
   "execution_count": null,
   "metadata": {},
   "outputs": [],
   "source": [
    "from pathlib import Path\n",
    "\n",
    "import matplotlib.pyplot as plt\n",
    "from pydantic import BaseModel\n",
    "import numpy as np\n",
    "\n",
    "from stock import kabutan"
   ]
  },
  {
   "cell_type": "code",
   "execution_count": null,
   "metadata": {},
   "outputs": [],
   "source": [
    "json_dir = Path(\"../data/catalyst\")\n",
    "\n",
    "json_file_list = sorted(json_dir.glob(\"*.json\"))\n",
    "\n",
    "data_list = []\n",
    "for json_file in json_file_list:\n",
    "    with open(json_file, \"r\") as f:\n",
    "        data_list.append(kabutan.CatalystStocks.model_validate_json(f.read()))\n",
    "\n",
    "len(data_list) "
   ]
  },
  {
   "cell_type": "code",
   "execution_count": null,
   "metadata": {},
   "outputs": [],
   "source": [
    "class CatalystDailySummary(BaseModel):\n",
    "    day: str\n",
    "    good_up_rates: list[float]\n",
    "    bad_up_rates: list[float]\n",
    "    mid_up_rates: list[float]\n",
    "\n",
    "summary_list = []\n",
    "for data in data_list:\n",
    "    summary = CatalystDailySummary(\n",
    "        day = data.date,\n",
    "        good_up_rates = [stock.up_rate for stock in data.stocks if stock.category==\"good\"],\n",
    "        bad_up_rates = [stock.up_rate for stock in data.stocks if stock.category==\"bad\"],\n",
    "        mid_up_rates = [stock.up_rate for stock in data.stocks if stock.category==\"mid\"],\n",
    "    )\n",
    "    summary_list.append(summary)"
   ]
  },
  {
   "cell_type": "code",
   "execution_count": null,
   "metadata": {},
   "outputs": [],
   "source": [
    "def moving_average(array, cnt):\n",
    "    filter = np.ones(cnt * 2 - 1)\n",
    "    filter[cnt:] = 0.0\n",
    "    return np.convolve(array, filter, \"same\") / cnt\n",
    "\n",
    "\n",
    "def show_mean_summary(summary_list, target_key = \"good_up_rates\"):\n",
    "    ups = []\n",
    "    downs = []\n",
    "    evens = []\n",
    "    for summary in summary_list:\n",
    "        for up_rates in summary.__dict__[target_key]:\n",
    "            if up_rates > 0:\n",
    "                ups.append(up_rates)\n",
    "            elif up_rates < 0:\n",
    "                downs.append(up_rates)\n",
    "            else:\n",
    "                evens.append(up_rates)\n",
    "\n",
    "    total = len(ups) + len(downs) + len(evens)\n",
    "    print(\"{} catalylsts : num up : {}, num down : {}, num even : {}\".format(\n",
    "        target_key.split(\"_\")[0],\n",
    "        len(ups), len(downs), len(evens)\n",
    "    ))\n",
    "    print(\"Up prob : {:.2f}, (mean : {:.3f}), Down prob : {:.2f}, (mean : {:.3f}), Even prob : {:.2f}\".format(\n",
    "        len(ups) / total, sum(ups) / len(ups), \n",
    "        len(downs) / total, sum(downs) / len(downs),\n",
    "        len(evens) / total\n",
    "    ))\n",
    "\n",
    "    mean_list = [sum(d.__dict__[target_key]) / len(d.__dict__[target_key]) if len(d.__dict__[target_key]) > 0 else 0.0 for d in summary_list ]\n",
    "    mv_average5 = moving_average(mean_list, 5)\n",
    "    mv_average10 = moving_average(mean_list, 10)\n",
    "\n",
    "    total = 1.0\n",
    "    for val in mean_list:\n",
    "        total = total * (1.0 + val)\n",
    "    print(f\"Total :: {total}\")\n",
    "    \n",
    "    plt.figure(figsize=(20, 10))\n",
    "    plt.plot(mean_list)\n",
    "    plt.plot(mv_average5)\n",
    "    plt.plot(mv_average10)\n",
    "    plt.grid()\n",
    "    return np.array(mean_list)"
   ]
  },
  {
   "cell_type": "code",
   "execution_count": null,
   "metadata": {},
   "outputs": [],
   "source": [
    "good_mean_list = show_mean_summary(summary_list, \"good_up_rates\")"
   ]
  },
  {
   "cell_type": "code",
   "execution_count": null,
   "metadata": {},
   "outputs": [],
   "source": [
    "bad_mean_list = show_mean_summary(summary_list=summary_list, target_key=\"bad_up_rates\")"
   ]
  },
  {
   "cell_type": "code",
   "execution_count": null,
   "metadata": {},
   "outputs": [],
   "source": [
    "sum(np.logical_and(good_mean_list < 0, -bad_mean_list < 0))"
   ]
  },
  {
   "cell_type": "code",
   "execution_count": null,
   "metadata": {},
   "outputs": [],
   "source": [
    "len(good_mean_list)"
   ]
  },
  {
   "cell_type": "code",
   "execution_count": null,
   "metadata": {},
   "outputs": [],
   "source": []
  }
 ],
 "metadata": {
  "kernelspec": {
   "display_name": ".venv",
   "language": "python",
   "name": "python3"
  },
  "language_info": {
   "codemirror_mode": {
    "name": "ipython",
    "version": 3
   },
   "file_extension": ".py",
   "mimetype": "text/x-python",
   "name": "python",
   "nbconvert_exporter": "python",
   "pygments_lexer": "ipython3",
   "version": "3.10.12"
  }
 },
 "nbformat": 4,
 "nbformat_minor": 2
}
