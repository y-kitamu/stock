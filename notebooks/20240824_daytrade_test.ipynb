{
 "cells": [
  {
   "cell_type": "code",
   "execution_count": null,
   "metadata": {},
   "outputs": [],
   "source": [
    "from pathlib import Path\n",
    "import datetime\n",
    "\n",
    "import numpy as np\n",
    "import yfinance as yf\n",
    "from requests import Session\n",
    "from requests_cache import CacheMixin, SQLiteCache\n",
    "from requests_ratelimiter import LimiterMixin, MemoryQueueBucket\n",
    "from pyrate_limiter import Duration, RequestRate, Limiter\n",
    "\n",
    "import stock"
   ]
  },
  {
   "cell_type": "code",
   "execution_count": null,
   "metadata": {},
   "outputs": [],
   "source": [
    "class CachedLimiterSession(CacheMixin, LimiterMixin, Session):\n",
    "    pass\n",
    "\n",
    "session = CachedLimiterSession(\n",
    "    limiter=Limiter(RequestRate(2, Duration.SECOND * 0.5)),  # max 2 requests per 5 seconds\n",
    "    bucket_class=MemoryQueueBucket,\n",
    "    backend=SQLiteCache(\"yfinance.cache\"),\n",
    ")"
   ]
  },
  {
   "cell_type": "code",
   "execution_count": null,
   "metadata": {},
   "outputs": [],
   "source": [
    "codes = stock.get_code_list()\n",
    "all_codes = stock.get_code_list(include_etf=True)"
   ]
  },
  {
   "cell_type": "code",
   "execution_count": null,
   "metadata": {},
   "outputs": [],
   "source": [
    "#while date > datetime.\n",
    "output_dir = stock.PROJECT_ROOT / \"data\" / \"minutes\"\n",
    "\n",
    "for code in all_codes:\n",
    "    print(\"Start downloading : {}\".format(code))\n",
    "    date = datetime.date(2024, 7, 26)\n",
    "    while date <= datetime.date.today():\n",
    "        output_path = output_dir / date.strftime(\"%Y%m%d\") / f\"{code}_{date.strftime('%Y%m%d')}.arrow\"\n",
    "        if output_path.exists() or date.weekday() >= 5:\n",
    "            date += datetime.timedelta(days=1)\n",
    "            continue\n",
    "        ticker = yf.Ticker(f\"{code}.T\", session=session)\n",
    "        df = stock.util.pd_to_pl(ticker.history(\n",
    "            interval=\"1m\",\n",
    "            start=date.strftime(\"%Y-%m-%d\"),\n",
    "            end=(date + datetime.timedelta(days=1)).strftime(\"%Y-%m-%d\"),\n",
    "        ))\n",
    "        if len(df) > 0:\n",
    "            output_path.parent.mkdir(parents=True, exist_ok=True)\n",
    "            df.write_ipc(output_path)\n",
    "        date += datetime.timedelta(days=1)"
   ]
  },
  {
   "cell_type": "code",
   "execution_count": null,
   "metadata": {},
   "outputs": [],
   "source": []
  }
 ],
 "metadata": {
  "kernelspec": {
   "display_name": ".venv",
   "language": "python",
   "name": "python3"
  },
  "language_info": {
   "codemirror_mode": {
    "name": "ipython",
    "version": 3
   },
   "file_extension": ".py",
   "mimetype": "text/x-python",
   "name": "python",
   "nbconvert_exporter": "python",
   "pygments_lexer": "ipython3",
   "version": "3.12.3"
  }
 },
 "nbformat": 4,
 "nbformat_minor": 2
}
