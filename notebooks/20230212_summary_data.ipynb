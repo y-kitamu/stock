{
 "cells": [
  {
   "cell_type": "code",
   "execution_count": null,
   "metadata": {},
   "outputs": [],
   "source": [
    "from pathlib import Path\n",
    "import json\n",
    "\n",
    "import numpy as np\n",
    "\n",
    "import stock"
   ]
  },
  {
   "cell_type": "code",
   "execution_count": null,
   "metadata": {},
   "outputs": [],
   "source": [
    "code_info_dir = stock.DATA_DIR / \"code_info\"\n",
    "industry_type_json = stock.DATA_DIR / Path(\"industry_type.json\")\n",
    "\n",
    "with open(industry_type_json, \"r\") as f:\n",
    "    industry_types = json.load(f)"
   ]
  },
  {
   "cell_type": "code",
   "execution_count": null,
   "metadata": {},
   "outputs": [],
   "source": [
    "target_industry_type = \"houses_built_for_sale\"\n",
    "target_industry_codes = industry_types[target_industry_type]\n",
    "\n",
    "code_infos = {}\n",
    "for code in target_industry_codes:  \n",
    "    json_path = code_info_dir / Path(f\"{code}.json\")\n",
    "    if json_path.exists():\n",
    "        with open(json_path, \"r\") as f:\n",
    "            code_infos[code] = json.load(f)\n",
    "    else:\n",
    "        stock.logger.warning(f\"File not found : {json_path}\")\n"
   ]
  },
  {
   "cell_type": "code",
   "execution_count": null,
   "metadata": {},
   "outputs": [],
   "source": [
    "# PER\n",
    "pers = {key: value[\"wariyasu\"][\"value\"][0][:-1] for key, value in code_infos.items()}\n",
    "pers = {key: float(value) for key, value in pers.items() if value != \"\"}\n",
    "\n",
    "# PBR\n",
    "pbrs = {key: value[\"wariyasu\"][\"value\"][3][:-1] for key, value in code_infos.items()}\n",
    "pbrs = {key: float(value) for key, value in pbrs.items() if value != \"\"}\n",
    "\n",
    "\n",
    "print(f\"Induatry type: {target_industry_type}\")\n",
    "print(f\"Mean PER : {np.mean(list(pers.values())):.2f} +- {np.std(list(pers.values())):.2f}\")\n",
    "print(f\"Mean PBR : {np.mean(list(pbrs.values())):.2f} +- {np.std(list(pbrs.values())):.2f}\")"
   ]
  },
  {
   "cell_type": "code",
   "execution_count": null,
   "metadata": {},
   "outputs": [],
   "source": [
    "pers"
   ]
  },
  {
   "cell_type": "code",
   "execution_count": null,
   "metadata": {},
   "outputs": [],
   "source": []
  }
 ],
 "metadata": {
  "kernelspec": {
   "display_name": "Python 3.10.6 ('.venv': poetry)",
   "language": "python",
   "name": "python3"
  },
  "language_info": {
   "codemirror_mode": {
    "name": "ipython",
    "version": 3
   },
   "file_extension": ".py",
   "mimetype": "text/x-python",
   "name": "python",
   "nbconvert_exporter": "python",
   "pygments_lexer": "ipython3",
   "version": "3.10.6"
  },
  "vscode": {
   "interpreter": {
    "hash": "0925d657e30d00cf1a4f19c1b7a91cf3b3559e9055505eaa2fd1b9771cefd6bc"
   }
  }
 },
 "nbformat": 4,
 "nbformat_minor": 2
}
