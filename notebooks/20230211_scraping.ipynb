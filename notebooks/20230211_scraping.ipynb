{
 "cells": [
  {
   "cell_type": "code",
   "execution_count": null,
   "metadata": {},
   "outputs": [],
   "source": [
    "import json\n",
    "import asyncio\n",
    "import time\n",
    "\n",
    "import requests\n",
    "from requests_html import HTMLSession\n",
    "from bs4 import BeautifulSoup\n",
    "from fake_useragent import UserAgent\n",
    "\n",
    "from selenium import webdriver\n",
    "from selenium.webdriver.common.by import By\n",
    "from selenium.webdriver.common.keys import Keys\n",
    "\n",
    "import stock"
   ]
  },
  {
   "cell_type": "code",
   "execution_count": null,
   "metadata": {},
   "outputs": [],
   "source": [
    "MANEX_BASE_URL = \"https://mst.monex.co.jp\"\n",
    "MANEX_LOGIN_PAGE_URL = f\"{MANEX_BASE_URL}/pc/ITS/login/LoginIDPassword.jsp\"\n",
    "MANEX_SCOUTER_URL = \"https://monex.ifis.co.jp/index.php\"\n",
    "MANEX_LOGIN_ID_JSON = stock.constants.PROJECT_ROOT / \"cert\" / \"manex_login_id.json\"\n",
    "\n",
    "\n",
    "with open(MANEX_LOGIN_ID_JSON, \"r\") as f:\n",
    "    login_info = json.load(f)"
   ]
  },
  {
   "cell_type": "code",
   "execution_count": null,
   "metadata": {},
   "outputs": [],
   "source": [
    "session = HTMLSession()\n",
    "headers = {\"User-Agent\": UserAgent().chrome}\n",
    "\n",
    "# login pageを取得\n",
    "r = session.get(MANEX_LOGIN_PAGE_URL)\n",
    "soup = BeautifulSoup(r.text, \"html.parser\")\n",
    "\n",
    "# login pageのformからloginに必要な情報を取得\n",
    "form = soup.find(\"form\", id=\"contents\")\n",
    "login_post_url = f\"{MANEX_BASE_URL}{form.attrs['action']}\"\n",
    "login_request_body = {}\n",
    "for input in form.find_all(\"input\", type=\"hidden\"):\n",
    "    login_request_body[input.attrs[\"name\"]] = input.attrs[\"value\"]\n",
    "\n",
    "login_request_body_str = \"&\".join([f\"{key}={val}\" for key, val in login_request_body.items()])\n",
    "print(login_request_body_str)\n",
    "\n",
    "r = session.post(login_post_url, data=login_request_body_str, timeout=5)"
   ]
  },
  {
   "cell_type": "code",
   "execution_count": null,
   "metadata": {},
   "outputs": [],
   "source": []
  },
  {
   "cell_type": "markdown",
   "metadata": {},
   "source": [
    "`requests`ベースだとうまく動かないので、seleniumに変更"
   ]
  },
  {
   "cell_type": "code",
   "execution_count": null,
   "metadata": {},
   "outputs": [],
   "source": [
    "options = webdriver.ChromeOptions()\n",
    "# options.add_argument(\"--headless\")\n",
    "\n",
    "# Selenium Server に接続する\n",
    "driver = webdriver.Remote(\n",
    "    command_executor='http://localhost:4444/wd/hub',\n",
    "    desired_capabilities=options.to_capabilities(),\n",
    "    options=options,\n",
    ")"
   ]
  },
  {
   "cell_type": "code",
   "execution_count": null,
   "metadata": {},
   "outputs": [],
   "source": [
    "# ログイン画面でIDとパスワードを入力してログインする\n",
    "driver.get(MANEX_LOGIN_PAGE_URL)\n",
    "\n",
    "loginid = driver.find_element(By.ID, \"loginid\").send_keys(login_info[\"loginid\"])\n",
    "passwd = driver.find_element(By.ID, \"passwd\").send_keys(login_info[\"passwd\"])\n",
    "\n",
    "for elem in driver.find_elements(By.TAG_NAME, \"input\"):\n",
    "    if elem.get_attribute(\"type\") == \"submit\" and elem.get_attribute(\"value\") == \"ログイン\":\n",
    "        elem.click()\n",
    "        break\n",
    "print(driver.current_url)"
   ]
  },
  {
   "cell_type": "code",
   "execution_count": null,
   "metadata": {},
   "outputs": [],
   "source": [
    "# スカウター画面に遷移する\n",
    "for elem in driver.find_elements(By.TAG_NAME, \"a\"):\n",
    "    if elem.text == \"ツール\":\n",
    "        elem.click()\n",
    "        break\n",
    "print(driver.current_url)\n",
    "\n",
    "for elem in driver.find_elements(By.TAG_NAME, \"td\"):\n",
    "    flag = False\n",
    "    for href in elem.find_elements(By.TAG_NAME, \"a\"):\n",
    "        if href.text == \"マネックス銘柄スカウター\":\n",
    "            flag = True\n",
    "            break\n",
    "    if flag:\n",
    "        for href in elem.find_elements(By.TAG_NAME, \"a\"):\n",
    "            if href.text == \"ログイン\":\n",
    "                href.click()\n",
    "                break\n",
    "        break\n",
    "\n",
    "# 新しいタブに移動する\n",
    "for handle in driver.window_handles:\n",
    "    if handle != driver.current_window_handle:\n",
    "        driver.switch_to.window(handle)\n",
    "        break    \n",
    "print(driver.current_url)"
   ]
  },
  {
   "cell_type": "code",
   "execution_count": null,
   "metadata": {},
   "outputs": [],
   "source": [
    "# 銘柄入力欄を取得\n",
    "form = driver.find_element(By.ID, \"se_word\")\n",
    "for elem in form.find_elements(By.TAG_NAME, \"input\"):\n",
    "    if elem.get_attribute(\"name\") ==\"wd\":\n",
    "        print(elem)\n",
    "        break\n",
    "\n",
    "# 銘柄入力欄に銘柄コードを入力する\n",
    "code = 6099\n",
    "elem.send_keys(str(code))\n",
    "\n",
    "# # 検索ボタンをクリック\n",
    "for elem in form.find_elements(By.TAG_NAME, \"input\"):\n",
    "    if elem.get_attribute(\"type\") == \"image\" and elem.get_attribute(\"class\") == \"search_button\":\n",
    "        print(\"click\")\n",
    "        elem.click()\n",
    "        break\n",
    "\n",
    "print(driver.current_url)"
   ]
  },
  {
   "cell_type": "code",
   "execution_count": null,
   "metadata": {},
   "outputs": [],
   "source": [
    "soup = BeautifulSoup(driver.page_source)"
   ]
  },
  {
   "cell_type": "code",
   "execution_count": null,
   "metadata": {},
   "outputs": [],
   "source": [
    "for table in soup.find_all(\"table\"):\n",
    "    if \"id\" in table.attrs:\n",
    "        print(table.attrs[\"id\"])"
   ]
  },
  {
   "cell_type": "code",
   "execution_count": null,
   "metadata": {},
   "outputs": [],
   "source": [
    "[][1:]"
   ]
  },
  {
   "cell_type": "code",
   "execution_count": null,
   "metadata": {},
   "outputs": [],
   "source": [
    "def get_series_table_data(table):\n",
    "    rows = table.find(\"thead\").find_all(\"tr\")\n",
    "    header = [th.text for th in rows[0].find_all(\"th\")] \n",
    "    for row in rows[1:]:\n",
    "        sub_header = [th.text for th in row.find_all(\"th\")]\n",
    "        hi = 0\n",
    "        for sh in sub_header:\n",
    "            while hi < len(header) and header[hi] != \"\":\n",
    "                hi += 1\n",
    "            if hi < len(header):\n",
    "                header[hi] = sh\n",
    "                hi += 1\n",
    "            else:\n",
    "                header.append(sh)\n",
    "                hi += 1\n",
    "    values = [[td.text for td in tr.find_all(\"td\")] for tr in table.find(\"tbody\").find_all(\"tr\")]\n",
    "    return header, values\n",
    "\n",
    "\n",
    "target_table_ids = [\n",
    "    \"table_fy\",  # 通期業績推移\n",
    "    \"table_4q\",  # 四半期業績推移\n",
    "    \"table_cf\",  # キャッシュフロー推移\n",
    "    \"table_bs_byyear_assets_10yr\",  # 資産\n",
    "    \"table_bs_byyear_liab_10yr\",  # 負債、純資産\n",
    "    \"table_ive_perf_10yr\",  # 設備投資・減価償却費・研究開発費\n",
    "    \"table_itd_perf_10yr\",  # 有利子負債\n",
    "    \"table_turnover_rate_10yr\",  # 各種回転率\n",
    "    \"table_employee_perf_table_10yr\",  # 従業員数・1人当り業績\n",
    "]\n",
    "\n",
    "\n",
    "for tid in target_table_ids:\n",
    "    table = soup.find(\"table\", id=tid)\n",
    "    header, values = get_series_table_data(table)\n",
    "    print(header)"
   ]
  },
  {
   "cell_type": "code",
   "execution_count": null,
   "metadata": {},
   "outputs": [],
   "source": [
    "def get_index_table_data(table):\n",
    "    header = [th.text for th in table.find_all(\"th\")]\n",
    "    value = [td.text for td in table.find_all(\"td\")]\n",
    "    return header, value\n",
    "\n",
    "index_tables = soup.find(\"div\", id=\"index_list_mass\")\n",
    "target_table_classes = [\n",
    "    \"wariyasu\",\n",
    "    \"kouritsu\",\n",
    "    \"kenzen\",\n",
    "    \"kanren\"\n",
    "]\n",
    "\n",
    "for tc in target_table_classes:\n",
    "    table = index_tables.find(\"div\", class_=tc).find(\"table\")\n",
    "    header, value = get_index_table_data(table)\n",
    "    print(header)\n"
   ]
  },
  {
   "cell_type": "code",
   "execution_count": null,
   "metadata": {},
   "outputs": [],
   "source": []
  }
 ],
 "metadata": {
  "kernelspec": {
   "display_name": "Python 3.10.6 ('.venv': poetry)",
   "language": "python",
   "name": "python3"
  },
  "language_info": {
   "codemirror_mode": {
    "name": "ipython",
    "version": 3
   },
   "file_extension": ".py",
   "mimetype": "text/x-python",
   "name": "python",
   "nbconvert_exporter": "python",
   "pygments_lexer": "ipython3",
   "version": "3.10.6"
  },
  "vscode": {
   "interpreter": {
    "hash": "0925d657e30d00cf1a4f19c1b7a91cf3b3559e9055505eaa2fd1b9771cefd6bc"
   }
  }
 },
 "nbformat": 4,
 "nbformat_minor": 2
}
